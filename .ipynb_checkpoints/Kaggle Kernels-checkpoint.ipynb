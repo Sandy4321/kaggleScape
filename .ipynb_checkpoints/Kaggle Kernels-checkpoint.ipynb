{
 "cells": [
  {
   "cell_type": "code",
   "execution_count": 1,
   "metadata": {},
   "outputs": [],
   "source": [
    "from bs4 import BeautifulSoup\n",
    "import requests\n",
    "from urllib.request import urlopen, urlretrieve\n",
    "from selenium import webdriver\n",
    "from tqdm import tqdm\n",
    "import os, re, time, random\n",
    "from multiprocessing.dummy import Pool as ThreadPool\n",
    "import multiprocessing\n",
    "import pandas as pd\n",
    "from functools import reduce\n",
    "import inspect\n",
    "from selenium.webdriver.common.keys import Keys"
   ]
  },
  {
   "cell_type": "markdown",
   "metadata": {},
   "source": [
    "# Analyze Pandas usage in Kaggle Kernels"
   ]
  },
  {
   "cell_type": "markdown",
   "metadata": {},
   "source": [
    "## 1. Get urls of top kernels by vote"
   ]
  },
  {
   "cell_type": "code",
   "execution_count": 89,
   "metadata": {},
   "outputs": [],
   "source": [
    "browser = webdriver.Chrome(os.getcwd() + '/dependencies/chromedriver')\n",
    "\n",
    "browser.get(\"https://www.kaggle.com/kernels?sortBy=votes&group=everyone&pageSize=20&language=Python\")\n",
    "time.sleep(1)\n",
    "\n",
    "elem = browser.find_element_by_tag_name(\"body\")\n",
    "\n",
    "no_of_pagedowns = 150\n",
    "\n",
    "while no_of_pagedowns:\n",
    "    elem.send_keys(Keys.PAGE_DOWN)\n",
    "    time.sleep(1)\n",
    "    no_of_pagedowns-=1\n",
    "\n",
    "soup = BeautifulSoup(browser.page_source, \"html.parser\")"
   ]
  },
  {
   "cell_type": "code",
   "execution_count": 125,
   "metadata": {},
   "outputs": [],
   "source": [
    "kernel_links = ['https://www.kaggle.com' + a['href'] + '/code' for a in soup.find_all(\"a\", class_=\"block-link__anchor\") if ('teaching-notebook-for-total-imaging-newbies' not in a['href'] and 'mentions-of-kaggle-on-hacker-news' not in a['href'])]"
   ]
  },
  {
   "cell_type": "code",
   "execution_count": 131,
   "metadata": {},
   "outputs": [
    {
     "data": {
      "text/plain": [
       "1858"
      ]
     },
     "execution_count": 131,
     "metadata": {},
     "output_type": "execute_result"
    }
   ],
   "source": [
    "len(kernel_links)"
   ]
  },
  {
   "cell_type": "markdown",
   "metadata": {},
   "source": [
    "## 2. Get url of code files from kernels page"
   ]
  },
  {
   "cell_type": "code",
   "execution_count": 171,
   "metadata": {},
   "outputs": [],
   "source": [
    "browser = webdriver.Chrome('/Users/adithya/Documents/university/research/scrapingKaggle/chromedriver')"
   ]
  },
  {
   "cell_type": "code",
   "execution_count": 172,
   "metadata": {},
   "outputs": [],
   "source": [
    "def get_code_from_kernel(kernel_link):\n",
    "    if ('stkbailey' in kernel_link or \n",
    "        'mentions-of-kaggle-on-hacker-news' in kernel_link or \n",
    "        'keras-rcnn-based-overview-wip' in kernel_link or \n",
    "        'why-employees-leave-and-how-to-predict-it' in kernel_link or \n",
    "        'boosting-stacking-and-bayes-searching' in kernel_link or\n",
    "        'resnet50-features-xgboost' in kernel_link or \n",
    "        'github-commit-messages' in kernel_link):\n",
    "        return None\n",
    "    try:\n",
    "        browser.get(kernel_link)\n",
    "        innerHTML = browser.execute_script(\"return document.body.innerHTML\")\n",
    "        soup = BeautifulSoup(innerHTML, 'html.parser')\n",
    "\n",
    "        link = soup.find_all(\"a\", class_=\"script-code-pane__download\")[0]['href']\n",
    "\n",
    "        return link\n",
    "    except Exception as e:\n",
    "        print(\"E\", e)\n",
    "        return None"
   ]
  },
  {
   "cell_type": "code",
   "execution_count": 173,
   "metadata": {
    "scrolled": false
   },
   "outputs": [],
   "source": [
    "def pull_partition(start, end, partition):\n",
    "    code_links_write_part = []\n",
    "    for kl in tqdm(kernel_links[start:end]):\n",
    "        code_links_write_part.append(get_code_from_kernel(kl))\n",
    "        time.sleep(1)\n",
    "\n",
    "    code_file_write_part = open('links/code_links_part' + str(partition) + '.txt', 'w')\n",
    "    for code_link in code_links_write_part:\n",
    "        code_file_write_part.write(\"%s\\n\" % code_link)\n",
    "        \n",
    "    print(\"Finished partition %d\" % partition)"
   ]
  },
  {
   "cell_type": "code",
   "execution_count": null,
   "metadata": {},
   "outputs": [],
   "source": [
    "STEP = 100\n",
    "partitions = [(STEP*i, STEP*(i+1), i) for i in range(len(kernel_links)//STEP + 1)]\n",
    "for p in partitions[17:]:\n",
    "    pull_partition(p[0], p[1], p[2])"
   ]
  },
  {
   "cell_type": "code",
   "execution_count": null,
   "metadata": {},
   "outputs": [],
   "source": [
    "code_links_read = []\n",
    "for i in range(len(partitions)):\n",
    "    with open('links/code_links_part' + str(i) + '.txt', 'r') as code_file_read:\n",
    "        code_links_read += code_file_read.read().splitlines()"
   ]
  },
  {
   "cell_type": "code",
   "execution_count": null,
   "metadata": {},
   "outputs": [],
   "source": [
    "code_links = ['https://www.kaggle.com' + cl for cl in code_links_read]\n",
    "code_links[:5]"
   ]
  },
  {
   "cell_type": "markdown",
   "metadata": {},
   "source": [
    "## 3. Pull raw code file to local dir"
   ]
  },
  {
   "cell_type": "code",
   "execution_count": null,
   "metadata": {
    "scrolled": true
   },
   "outputs": [],
   "source": [
    "for code_link in tqdm(code_links):\n",
    "    !wget --content-disposition $code_link -P data"
   ]
  },
  {
   "cell_type": "markdown",
   "metadata": {},
   "source": [
    "## 4. Clean non-Python files from downloaded"
   ]
  },
  {
   "cell_type": "code",
   "execution_count": null,
   "metadata": {},
   "outputs": [],
   "source": [
    "for filename in os.listdir(\"data\"):\n",
    "    if filename == \".DS_Store\":\n",
    "        pass\n",
    "    \n",
    "    name_parts = filename.split(\".\")\n",
    "    if len(name_parts) == 2:\n",
    "        name_parts.append(\"0\")\n",
    "        \n",
    "    if name_parts[1] in ['ipynb', 'py']:\n",
    "        new_name = name_parts[0] + name_parts[2] + \".\" + name_parts[1]\n",
    "        new_name = 'r' + new_name if name_parts[1] == 'py' else new_name\n",
    "        os.rename('data/' + filename, 'data/' + new_name)\n",
    "\n",
    "    else:\n",
    "        os.remove('data/' + filename)"
   ]
  },
  {
   "cell_type": "markdown",
   "metadata": {},
   "source": [
    "## Tokenize Notebooks and Scripts"
   ]
  },
  {
   "cell_type": "code",
   "execution_count": null,
   "metadata": {},
   "outputs": [],
   "source": [
    "# Analyze python script\n",
    "pd_search_tokens = [\".\" + p[0] for p in inspect.getmembers(pd) if p[1].__class__.__name__ == 'function'] + ['.DataFrame']\n",
    "df_search_tokens = [\".\" + p[0] for p in inspect.getmembers(pd.DataFrame) if p[1].__class__.__name__ == 'function']\n",
    "\n",
    "def parse_script(script_name):\n",
    "    with open(script_name) as script_file:\n",
    "        code = script_file.read().splitlines()\n",
    "\n",
    "    ps = {}\n",
    "    for line in code:\n",
    "        for token in pd_search_tokens:\n",
    "            ct = line.count(token)\n",
    "            if ct > 0 and token not in ps:\n",
    "                ps['pd' + token] = ct\n",
    "            elif ct > 0:\n",
    "                ps['pd' + token] += ct\n",
    "    \n",
    "        for token in df_search_tokens:\n",
    "            ct = line.count(token)\n",
    "            if ct > 0 and token not in ps:\n",
    "                ps['df' + token] = ct\n",
    "            elif ct > 0:\n",
    "                ps['df' + token] += ct\n",
    "    \n",
    "    return ps"
   ]
  },
  {
   "cell_type": "code",
   "execution_count": null,
   "metadata": {
    "scrolled": true
   },
   "outputs": [],
   "source": [
    "all_methods = []\n",
    "for filename in os.listdir(\"data\"):\n",
    "    if filename.split(\".\")[1] == 'py':\n",
    "        all_methods.append(parse_script('data/' + filename))\n",
    "    else:\n",
    "        pfilename = 'data/' + filename\n",
    "        cfilename = filename.split(\".\")[0] + '.py'\n",
    "        if cfilename not in os.listdir(\"data\"):\n",
    "            !jupyter nbconvert --to=python $pfilename\n",
    "            time.sleep(1)\n",
    "        try:\n",
    "            all_methods.append(parse_script('data/' + cfilename))\n",
    "        except:\n",
    "            pass"
   ]
  },
  {
   "cell_type": "code",
   "execution_count": 86,
   "metadata": {},
   "outputs": [],
   "source": [
    "methods_write = open('results/methods.txt', 'w')\n",
    "for method in all_methods:\n",
    "    methods_write.write(\"%s\\n\" % method)"
   ]
  },
  {
   "cell_type": "code",
   "execution_count": 87,
   "metadata": {},
   "outputs": [
    {
     "name": "stdout",
     "output_type": "stream",
     "text": [
      "932\n"
     ]
    }
   ],
   "source": [
    "print(len(all_methods))"
   ]
  },
  {
   "cell_type": "code",
   "execution_count": 84,
   "metadata": {},
   "outputs": [],
   "source": [
    "base = {}\n",
    "for dict_method in all_methods:\n",
    "    for k in dict_method:\n",
    "        if k not in base:\n",
    "            base[k] = 0 \n",
    "        base[k] += dict_method[k]"
   ]
  },
  {
   "cell_type": "code",
   "execution_count": 88,
   "metadata": {},
   "outputs": [
    {
     "data": {
      "text/html": [
       "<div>\n",
       "<style scoped>\n",
       "    .dataframe tbody tr th:only-of-type {\n",
       "        vertical-align: middle;\n",
       "    }\n",
       "\n",
       "    .dataframe tbody tr th {\n",
       "        vertical-align: top;\n",
       "    }\n",
       "\n",
       "    .dataframe thead th {\n",
       "        text-align: right;\n",
       "    }\n",
       "</style>\n",
       "<table border=\"1\" class=\"dataframe\">\n",
       "  <thead>\n",
       "    <tr style=\"text-align: right;\">\n",
       "      <th></th>\n",
       "      <th>Count</th>\n",
       "    </tr>\n",
       "    <tr>\n",
       "      <th>Method</th>\n",
       "      <th></th>\n",
       "    </tr>\n",
       "  </thead>\n",
       "  <tbody>\n",
       "    <tr>\n",
       "      <th>pd.read_csv</th>\n",
       "      <td>756</td>\n",
       "    </tr>\n",
       "    <tr>\n",
       "      <th>pd.DataFrame</th>\n",
       "      <td>469</td>\n",
       "    </tr>\n",
       "    <tr>\n",
       "      <th>df.head</th>\n",
       "      <td>438</td>\n",
       "    </tr>\n",
       "    <tr>\n",
       "      <th>df.append</th>\n",
       "      <td>436</td>\n",
       "    </tr>\n",
       "    <tr>\n",
       "      <th>df.mean</th>\n",
       "      <td>429</td>\n",
       "    </tr>\n",
       "    <tr>\n",
       "      <th>df.drop</th>\n",
       "      <td>422</td>\n",
       "    </tr>\n",
       "    <tr>\n",
       "      <th>df.sum</th>\n",
       "      <td>414</td>\n",
       "    </tr>\n",
       "    <tr>\n",
       "      <th>df.ge</th>\n",
       "      <td>401</td>\n",
       "    </tr>\n",
       "    <tr>\n",
       "      <th>df.to_csv</th>\n",
       "      <td>378</td>\n",
       "    </tr>\n",
       "    <tr>\n",
       "      <th>df.get</th>\n",
       "      <td>376</td>\n",
       "    </tr>\n",
       "  </tbody>\n",
       "</table>\n",
       "</div>"
      ],
      "text/plain": [
       "              Count\n",
       "Method             \n",
       "pd.read_csv     756\n",
       "pd.DataFrame    469\n",
       "df.head         438\n",
       "df.append       436\n",
       "df.mean         429\n",
       "df.drop         422\n",
       "df.sum          414\n",
       "df.ge           401\n",
       "df.to_csv       378\n",
       "df.get          376"
      ]
     },
     "execution_count": 88,
     "metadata": {},
     "output_type": "execute_result"
    }
   ],
   "source": [
    "m, c = [], []\n",
    "for method, count in base.items():\n",
    "    m.append(method)\n",
    "    c.append(count)\n",
    "    \n",
    "mFreq = pd.DataFrame(data = {'Method' : m, 'Count': c}).set_index('Method').sort_values('Count', ascending=False)\n",
    "mFreq.to_csv('results/results.csv')\n",
    "mFreq.head(10)"
   ]
  },
  {
   "cell_type": "code",
   "execution_count": null,
   "metadata": {},
   "outputs": [],
   "source": []
  }
 ],
 "metadata": {
  "kernelspec": {
   "display_name": "Python 3",
   "language": "python",
   "name": "python3"
  },
  "language_info": {
   "codemirror_mode": {
    "name": "ipython",
    "version": 3
   },
   "file_extension": ".py",
   "mimetype": "text/x-python",
   "name": "python",
   "nbconvert_exporter": "python",
   "pygments_lexer": "ipython3",
   "version": "3.6.4"
  }
 },
 "nbformat": 4,
 "nbformat_minor": 2
}
