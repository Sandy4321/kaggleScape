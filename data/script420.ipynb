{"cells":[
 {
  "cell_type": "code",
  "execution_count": null,
  "metadata": {
   "collapsed": true
  },
  "outputs": [],
  "source": "%matplotlib inline"
 },
 {
  "cell_type": "markdown",
  "metadata": {},
  "source": "# How Much Sugar Do We Eat?\n\nAfter watching [That Sugar Film](http://www.imdb.com/title/tt3892434/) and getting more into cooking and food in general, I thought it would be interesting to see how much of particular ingredients the people of certain countries eat in their food.\n\n## Sugar\nThe first check was how much sugar a number of countries take in. Companies have been putting more and more sugar into the products we eat for a number of decades now, particularly in products like soft drinks/sodas, which isn't great for our bodies. There are some stereotypical guesses one could make about the countries that consume the most sugar, but doing some data analysis is generally more informative. "
 },
 {
  "cell_type": "code",
  "execution_count": null,
  "metadata": {
   "collapsed": false
  },
  "outputs": [],
  "source": "import pandas as pd\nimport numpy as np\nimport matplotlib.pyplot as plt\n\nworld_food_facts = pd.read_csv('../input/FoodFacts.csv')\nworld_food_facts.countries = world_food_facts.countries.str.lower()\n    \ndef mean(l):\n    return float(sum(l)) / len(l)\n\nworld_sugars = world_food_facts[world_food_facts.sugars_100g.notnull()]\n\ndef return_sugars(country):\n    return world_sugars[world_sugars.countries == country].sugars_100g.tolist()\n    \n# Get list of sugars per 100g for some countries\nfr_sugars = return_sugars('france') + return_sugars('en:fr')\nza_sugars = return_sugars('south africa')\nuk_sugars = return_sugars('united kingdom') + return_sugars('en:gb')\nus_sugars = return_sugars('united states') + return_sugars('en:us') + return_sugars('us')\nsp_sugars = return_sugars('spain') + return_sugars('españa') + return_sugars('en:es')\nnd_sugars = return_sugars('netherlands') + return_sugars('holland')\nau_sugars = return_sugars('australia') + return_sugars('en:au')\ncn_sugars = return_sugars('canada') + return_sugars('en:cn')\nde_sugars = return_sugars('germany')\n\ncountries = ['FR', 'ZA', 'UK', 'US', 'ES', 'ND', 'AU', 'CN', 'DE']\nsugars_l = [mean(fr_sugars), \n            mean(za_sugars), \n            mean(uk_sugars), \n            mean(us_sugars), \n            mean(sp_sugars), \n            mean(nd_sugars),\n            mean(au_sugars),\n            mean(cn_sugars),\n            mean(de_sugars)]\n            \ny_pos = np.arange(len(countries))\n    \nplt.bar(y_pos, sugars_l, align='center', alpha=0.5)\nplt.title('Average total sugar content per 100g')\nplt.xticks(y_pos, countries)\nplt.ylabel('Sugar/100g')\n    \nplt.show()"
 },
 {
  "cell_type": "markdown",
  "metadata": {},
  "source": "## Which countries eat the most sugar?\n\nInteresting results, although for a number of countries the amount of data is a lot less (particularly countries like South Africa), and thus the data can be skewed. Another interesting note is the lack of any data on total sugars for Asian countries such as Japan and China. There are not many data entries for these countries either, but there are enough to make me wonder why there is no data on their sugar intake.\n\nI'm making an assumption that food in the database, tied to a country, is consumed on a regular basis by its citizens, or at least often enough to keep these products on the shelves. The ranking of the countries analysed was this:\n\n1. **Netherlands**\n2. **Canada**\n3. **UK/USA**\n4. **Australia**\n5. **France**\n6. **Germany**\n7. **Spain**\n8. **South Africa**"
 },
 {
  "cell_type": "markdown",
  "metadata": {},
  "source": "# How Much Salt Do We Eat?\n\nThe other main ingredient that is criticised for its effects on health is salt, contained primarily in the sodium of a product's ingredient list. Here there was data on China and Japan, so I included them in the analysis, although again there is a much smaller dataset for these countries than for France or the UK."
 },
 {
  "cell_type": "code",
  "execution_count": null,
  "metadata": {
   "collapsed": false
  },
  "outputs": [],
  "source": "import pandas as pd\nimport numpy as np\nimport matplotlib.pyplot as plt\n\nworld_food_facts = pd.read_csv('../input/FoodFacts.csv')\nworld_food_facts.countries = world_food_facts.countries.str.lower()\n    \ndef mean(l):\n    return float(sum(l)) / len(l)\n\nworld_sodium = world_food_facts[world_food_facts.sodium_100g.notnull()]\n\ndef return_sodium(country):\n    return world_sodium[world_sodium.countries == country].sodium_100g.tolist()\n    \n# Get list of sodium per 100g for some countries\nfr_sodium = return_sodium('france') + return_sodium('en:fr')\nza_sodium = return_sodium('south africa')\nuk_sodium = return_sodium('united kingdom') + return_sodium('en:gb')\nus_sodium = return_sodium('united states') + return_sodium('en:us') + return_sodium('us')\nsp_sodium = return_sodium('spain') + return_sodium('españa') + return_sodium('en:es')\nch_sodium = return_sodium('china')\nnd_sodium = return_sodium('netherlands') + return_sodium('holland')\nau_sodium = return_sodium('australia') + return_sodium('en:au')\njp_sodium = return_sodium('japan') + return_sodium('en:jp')\nde_sodium = return_sodium('germany')\n\ncountries = ['FR', 'ZA', 'UK', 'USA', 'ES', 'CH', 'ND', 'AU', 'JP', 'DE']\nsodium_l = [mean(fr_sodium), \n            mean(za_sodium), \n            mean(uk_sodium), \n            mean(us_sodium), \n            mean(sp_sodium), \n            mean(ch_sodium),\n            mean(nd_sodium),\n            mean(au_sodium),\n            mean(jp_sodium),\n            mean(de_sodium)]\n\ny_pos = np.arange(len(countries))\n    \nplt.bar(y_pos, sodium_l, align='center', alpha=0.5)\nplt.title('Average sodium content per 100g')\nplt.xticks(y_pos, countries)\nplt.ylabel('Sodium/100g')\n    \nplt.show()"
 },
 {
  "cell_type": "markdown",
  "metadata": {},
  "source": "## Which countries eat the most salt?\n\nSame as before, based on the same assumptions. Also of interest is that the amount of sodium in food, on average per 100g, is far, far less than the amount of sugar. \n\nThe countries analysed were ranked like so:\n\n1. **China**\n2. **Netherlands**\n3. **USA**\n4. **Australia**\n5. **Spain**\n6. **France**\n7. **Germany**\n8. **UK**\n9. **South Africa**\n10. **Japan**"
 },
 {
  "cell_type": "markdown",
  "metadata": {},
  "source": "# How Many Additives Are In Our Food?\n\nNext is how many additives are in our food on average. "
 },
 {
  "cell_type": "code",
  "execution_count": null,
  "metadata": {
   "collapsed": false
  },
  "outputs": [],
  "source": "import pandas as pd\nimport numpy as np\nimport matplotlib.pyplot as plt\n\nworld_food_facts = pd.read_csv('../input/FoodFacts.csv')\nworld_food_facts.countries = world_food_facts.countries.str.lower()\n    \ndef mean(l):\n    return float(sum(l)) / len(l)\n\nworld_additives = world_food_facts[world_food_facts.additives_n.notnull()]\n\ndef return_additives(country):\n    return world_additives[world_additives.countries == country].additives_n.tolist()\n    \n# Get list of additives amounts for some countries\nfr_additives = return_additives('france') + return_additives('en:fr')\nza_additives = return_additives('south africa')\nuk_additives = return_additives('united kingdom') + return_additives('en:gb')\nus_additives = return_additives('united states') + return_additives('en:us') + return_additives('us')\nsp_additives = return_additives('spain') + return_additives('españa') + return_additives('en:es')\nch_additives = return_additives('china')\nnd_additives = return_additives('netherlands') + return_additives('holland')\nau_additives = return_additives('australia') + return_additives('en:au')\njp_additives = return_additives('japan') + return_additives('en:jp')\nde_additives = return_additives('germany')\n\ncountries = ['FR', 'ZA', 'UK', 'US', 'ES', 'CH', 'ND', 'AU', 'JP', 'DE']\nadditives_l = [mean(fr_additives), \n            mean(za_additives), \n            mean(uk_additives), \n            mean(us_additives), \n            mean(sp_additives), \n            mean(ch_additives),\n            mean(nd_additives),\n            mean(au_additives),\n            mean(jp_additives),\n            mean(de_additives)]\n\ny_pos = np.arange(len(countries))\n    \nplt.bar(y_pos, sodium_l, align='center', alpha=0.5)\nplt.title('Average amount of additives')\nplt.xticks(y_pos, countries)\nplt.ylabel('Amount of additives')\n    \nplt.show()"
 },
 {
  "cell_type": "markdown",
  "metadata": {},
  "source": "## Which countries' food contains the most additives?\n\nI don't really worry about how many additives are in my food, but the results here are interesting again, mostly because it seems like there aren't any countries who consistently have the loweset/highest averages for these supposedly unhealthy ingredients.\n\nThe possible exceptions to this would be China, the Netherlands, and the USA. South Africa and Japan consistently have lower amounts, but they also have only a few entries in the dataset in general, which means their results could be biased in relation to other countries.\n\nRanking of countries by the amount of additives in their food:\n\n1. **China**\n2. **Netherlands**\n3. **USA**\n4. **France**\n5. **Australia**\n6. **Spain**\n7. **Germany**\n8. **UK**\n9. **South Africa**\n10. **Japan**"
 }
],"metadata":{"kernelspec":{"display_name":"Python 3","language":"python","name":"python3"}}, "nbformat": 4, "nbformat_minor": 0}