{
  "cells": [
    {
      "cell_type": "markdown",
      "metadata": {
        "_cell_guid": "dadf85e8-5dc9-9ac2-d5c5-2a55c0dfddd2"
      },
      "source": [
        "# Exploraing Tennis competitiveness and surface effect\n",
        "\n",
        "1. How does competitiveness change between Grand Slam and Non-Grand slam tournaments? What causes the difference in competitiveness?\n",
        "2. Is the surface an important factor in the player's performance? which surfaces correlate with each other in terms of player's performance?\n",
        "\n",
        "and more. "
      ]
    },
    {
      "cell_type": "code",
      "execution_count": null,
      "metadata": {
        "_cell_guid": "816f250f-cff2-b168-dd34-763fe7397fd2"
      },
      "outputs": [],
      "source": [
        "# This Python 3 environment comes with many helpful analytics libraries installed\n",
        "# It is defined by the kaggle/python docker image: https://github.com/kaggle/docker-python\n",
        "# For example, here's several helpful packages to load in \n",
        "\n",
        "import numpy as np # linear algebra\n",
        "import pandas as pd # data processing, CSV file I/O (e.g. pd.read_csv)\n",
        "import matplotlib.pyplot as plt # plotting\n",
        "import matplotlib\n",
        "matplotlib.style.use('fivethirtyeight')\n",
        "import os\n",
        "import seaborn as sns ## plotting histograms\n",
        "\n",
        "# Input data files are available in the \"../input/\" directory.\n",
        "# For example, running this (by clicking run or pressing Shift+Enter) will list the files in the input directory\n",
        "from subprocess import check_output\n"
      ]
    },
    {
      "cell_type": "markdown",
      "metadata": {
        "_cell_guid": "4733a472-e702-f4cc-c11b-6bd68cfa3b51"
      },
      "source": [
        "#Read Data, Features Engineering and Data Clean-up"
      ]
    },
    {
      "cell_type": "code",
      "execution_count": null,
      "metadata": {
        "_cell_guid": "17e2511b-1cdf-7e60-7b65-e79711af32e1"
      },
      "outputs": [],
      "source": [
        "tennis_df = pd.read_csv('../input/Data.csv', encoding = 'latin1') # Read Data\n",
        "\n",
        "tennis_df.WRank = pd.to_numeric(tennis_df.WRank, errors = 'coerce') \n",
        "tennis_df.LRank = pd.to_numeric(tennis_df.LRank, errors = 'coerce')\n",
        "# New Feature: Rank difference betweehn the 2 oponents\n",
        "tennis_df['Diff'] =  tennis_df.LRank - tennis_df.WRank \n",
        "# New Feature: Round the rank difference to 10's and 20's\n",
        "tennis_df['Round_10'] = 10*round(np.true_divide(tennis_df.Diff,10))\n",
        "tennis_df['Round_20'] = 20*round(np.true_divide(tennis_df.Diff,20))\n",
        "# New Feature: Total number of sets in the match\n",
        "tennis_df['Total Sets'] = tennis_df.Wsets + tennis_df.Lsets\n",
        "\n",
        "tennis_df.W3 = tennis_df.W3.fillna(0)\n",
        "tennis_df.W4 = tennis_df.W4.fillna(0)\n",
        "tennis_df.W5 = tennis_df.W5.fillna(0)\n",
        "tennis_df.L3 = tennis_df.L3.fillna(0)\n",
        "tennis_df.L4 = tennis_df.L4.fillna(0)\n",
        "tennis_df.L5 = tennis_df.L5.fillna(0)\n",
        "\n",
        "tennis_df['Sets Diff'] = tennis_df.W1+tennis_df.W2+tennis_df.W3+tennis_df.W4+tennis_df.W5 - (tennis_df.L1+tennis_df.L2+tennis_df.L3+tennis_df.L4+tennis_df.L5)\n",
        "new_df = tennis_df\n",
        "\n",
        "# 2 New Data Frames: Grand Slam data frame (GS) and non-Grand Slam data frame (non GS)\n",
        "df_non_GS = new_df[~(new_df.Series == 'Grand Slam')]\n",
        "df_GS = new_df[new_df.Series == 'Grand Slam']\n",
        "\n",
        "#%% Winning probability vs Rank Difference\n",
        "plt.figure(figsize = (10,10))\n",
        "bins = np.arange(10,200,10)\n",
        "Gs_prob = []\n",
        "non_Gs_prob = []\n",
        "\n",
        "for value in bins:\n",
        "    pos = value\n",
        "    neg = -value\n",
        "    \n",
        "    pos_wins = len(df_GS[df_GS.Round_10 == pos])\n",
        "    neg_wins = len(df_GS[df_GS.Round_10 == neg])\n",
        "    Gs_prob.append(np.true_divide(pos_wins,pos_wins + neg_wins))\n",
        "    \n",
        "    pos_wins = len(df_non_GS[df_non_GS.Round_10 == pos])\n",
        "    neg_wins = len(df_non_GS[df_non_GS.Round_10 == neg])\n",
        "    non_Gs_prob.append(np.true_divide(pos_wins,pos_wins + neg_wins))\n",
        "    \n",
        "    \n",
        "plt.bar(bins,Gs_prob,width = 9, color = 'red') \n",
        "plt.bar(bins,non_Gs_prob,width = 8, color = 'blue')\n",
        "plt.title('Winning probability vs Rank difference', fontsize = 30)\n",
        "plt.xlabel('Rank Difference',fontsize = 15)\n",
        "plt.ylabel('Winning Probability',fontsize = 15)\n",
        "plt.xlim([10,200])\n",
        "plt.ylim([0.5,0.9])\n",
        "plt.legend(['Grand Slams', 'Non Grand Slams'], loc = 1, fontsize = 15)\n",
        "plt.show()   "
      ]
    },
    {
      "cell_type": "markdown",
      "metadata": {
        "_cell_guid": "230849ad-a129-473e-4006-502ced1f76f0"
      },
      "source": [
        "# Upsets are rare in Grand Slams\n",
        "\n",
        "several things can be inferred from the above graph:\n",
        "\n",
        "1. The most obvious and trivial conclusion is of course that the chances of winning increase as the rank difference does. \n",
        "2. However - this effect tends to saturate when the rank difference reaches 100 places. This saturation is noticeable in both Grand Slam and \"Regular\" (that is - non Grand Slam) tournaments.\n",
        "3. An upset is less likely in Grand Slam tournaments as it is in regular ones. A favorite player has a ~80% chance of winning when facing an underdog ranked 100 places below in a Grand Slam tournament, but only around 70% winning chances in a regular one.\n",
        "\n",
        "The last conclusion might be merely due to the fact that a Grand Slam match is based on the best of 5 sets method, whereas most (but not all) of the regular tournaments are best of 3. Are regular tournaments more competitive when controlling this effect? Let us look the at winning probability as a function of the rank difference for single sets:"
      ]
    },
    {
      "cell_type": "code",
      "execution_count": null,
      "metadata": {
        "_cell_guid": "fd9359ae-ca3a-90c3-6fc6-dd8400c82e1e"
      },
      "outputs": [],
      "source": [
        "plt.figure(figsize = (10,10))\n",
        "bins = np.arange(10,200,10)\n",
        "\n",
        "temp_df = df_GS\n",
        "prob_gs = []\n",
        "\n",
        "for rank_diff in bins:\n",
        "\n",
        "    pos = rank_diff\n",
        "    neg = -rank_diff\n",
        "    rank_diff_df_pos = temp_df[temp_df.Round_10 == pos]\n",
        "    w1 = np.sum(rank_diff_df_pos.Wsets)\n",
        "    l1 = np.sum(rank_diff_df_pos.Lsets)\n",
        "    \n",
        "    rank_diff_df_neg = temp_df[temp_df.Round_10 == neg]\n",
        "    l2 = np.sum(rank_diff_df_neg.Wsets)\n",
        "    w2 = np.sum(rank_diff_df_pos.Lsets)\n",
        "    \n",
        "    w = w1 + w2\n",
        "    l = l1 + l2\n",
        "    prob_gs.append(np.true_divide(w, l + w))\n",
        "    \n",
        "temp_df = df_non_GS\n",
        "prob_non_gs = []\n",
        "\n",
        "for rank_diff in bins:\n",
        "    \n",
        "    pos = rank_diff\n",
        "    neg = -rank_diff\n",
        "    rank_diff_df_pos = temp_df[temp_df.Round_10 == pos]\n",
        "    w1 = np.sum(rank_diff_df_pos.Wsets)\n",
        "    l1 = np.sum(rank_diff_df_pos.Lsets)\n",
        "    \n",
        "    rank_diff_df_neg = temp_df[temp_df.Round_10 == neg]\n",
        "    l2 = np.sum(rank_diff_df_neg.Wsets)\n",
        "    w2 = np.sum(rank_diff_df_pos.Lsets)\n",
        "    \n",
        "    w = w1 + w2\n",
        "    l = l1 + l2\n",
        "    prob_non_gs.append(np.true_divide(w, l + w))\n",
        "    \n",
        "\n",
        "#plt.hold(True)\n",
        "plt.bar(bins,prob_gs,  width = 9, color = 'red',)\n",
        "plt.bar(bins,prob_non_gs,  width = 8, color = 'blue')\n",
        "plt.title('Winning Probability vs Rank Difference: Single Set')\n",
        "plt.legend(['Grand Slam', 'Non Grand Slam'], loc = 2, fontsize = 20)\n",
        "plt.xlabel('Rank Difference')\n",
        "plt.ylabel('Winning Probability per set')\n",
        "plt.ylim([0.5,0.9])\n",
        "plt.xlim([10,200])\n",
        "plt.show()"
      ]
    },
    {
      "cell_type": "markdown",
      "metadata": {
        "_cell_guid": "0778ffdd-7992-3d6d-c1ee-a9b6a39615ee"
      },
      "source": [
        " - Somewhat surprisingly, even when looking on single sets only, regular\n",
        "   tournaments tend to be more competitive than Grand Slams. \n",
        "   \n",
        " - While most of the difference between Grand Slam and regular   \n",
        "   tournaments is eliminated when only looking at single sets, upsets   \n",
        "   are still more likely in regular tournaments, even in the set level.\n",
        "\n",
        " - It seems possible that better players focus more on Grand Slam   \n",
        "   tournaments, as these are more prestigious. They might train more   \n",
        "   before the tournaments, or play more seriously.\n",
        "\n",
        " - If it is about focus - would we again see a similar effect when   \n",
        "   examining the set level? obviously, the last set is more important   \n",
        "   than the first one, e.g. so does this effect the chances of an upset?\n",
        "\n",
        "   Let's look at the winning probability in different sets for both\n",
        "   kinds of tournaments:"
      ]
    },
    {
      "cell_type": "code",
      "execution_count": null,
      "metadata": {
        "_cell_guid": "d1739738-d1ef-bb90-8fbf-ce0fee435245"
      },
      "outputs": [],
      "source": [
        "def Set_prob(pos_diff,set_num,df,round_factor):\n",
        "       \n",
        "    diff_df = df[df[round_factor] == pos_diff]\n",
        "    diff_df = diff_df[diff_df['Total Sets']>=set_num]\n",
        "    feat1 = \"W\" + str(set_num)\n",
        "    feat2 = \"L\" + str(set_num)\n",
        "    set_df = diff_df[diff_df[feat1]>diff_df[feat2]]\n",
        "    w1 = len(set_df)\n",
        "    l1 = len(diff_df) - w1\n",
        "            \n",
        "    diff_df = df[df[round_factor] == -pos_diff]\n",
        "    diff_df = diff_df[diff_df['Total Sets']>=set_num]\n",
        "    feat1 = \"W\" + str(set_num)\n",
        "    feat2 = \"L\" + str(set_num)\n",
        "    set_df = diff_df[diff_df[feat1]>diff_df[feat2]]\n",
        "    l2 = len(set_df)\n",
        "    w2 = len(diff_df) - l2\n",
        "            \n",
        "    w = w1 + w2\n",
        "    l = l1 + l2\n",
        "            \n",
        "    return np.true_divide(w,l+w)\n",
        "   \n",
        "                \n",
        "bins = np.arange(20,140,20)\n",
        "prob_1 = []\n",
        "prob_2 = []\n",
        "prob_3 = []\n",
        "\n",
        "\n",
        "for rank_diff in bins:\n",
        "    \n",
        "    prob_1.append(Set_prob(rank_diff,1,df_non_GS,\"Round_20\"))\n",
        "    prob_2.append(Set_prob(rank_diff,2,df_non_GS,\"Round_20\"))\n",
        "    prob_3.append(Set_prob(rank_diff,3,df_non_GS,\"Round_20\"))\n",
        "    \n",
        "plt.figure(figsize = (10,10))\n",
        "plt.hold(True)\n",
        "plt.plot(bins,prob_1)\n",
        "plt.plot(bins,prob_2)\n",
        "plt.plot(bins,prob_3) \n",
        "plt.ylim([0.5,0.9])\n",
        "plt.legend(['Set 1', 'Set 2', 'Set 3', 'Set 4','Set 5'], loc = 2, fontsize = 20)  \n",
        "plt.xlabel('Rank Difference')\n",
        "plt.ylabel('Winning Probability')\n",
        "plt.title('Non-Grand Slam Matches')"
      ]
    },
    {
      "cell_type": "markdown",
      "metadata": {
        "_cell_guid": "992fe36b-e2b5-60d4-bf33-12d94822603e"
      },
      "source": [
        "#Winning probability vs Rank difference is the same for all sets in regular tournaments!  what about Grand Slam tournaments? "
      ]
    },
    {
      "cell_type": "code",
      "execution_count": null,
      "metadata": {
        "_cell_guid": "f9c43e9e-f325-57cb-2df7-7e6a0f995a88"
      },
      "outputs": [],
      "source": [
        "bins = np.arange(20,140,20)\n",
        "prob_1 = []\n",
        "prob_2 = []\n",
        "prob_3 = []\n",
        "prob_4 = []\n",
        "prob_5 = []\n",
        "\n",
        "for rank_diff in bins:\n",
        "    \n",
        "    prob_1.append(Set_prob(rank_diff,1,df_GS,\"Round_20\"))\n",
        "    prob_2.append(Set_prob(rank_diff,2,df_GS,\"Round_20\"))\n",
        "    prob_3.append(Set_prob(rank_diff,3,df_GS,\"Round_20\"))\n",
        "    prob_4.append(Set_prob(rank_diff,4,df_GS,\"Round_20\"))\n",
        "    prob_5.append(Set_prob(rank_diff,5,df_GS,\"Round_20\"))\n",
        "    \n",
        "plt.figure(figsize = (10,10))\n",
        "plt.hold(True)\n",
        "plt.plot(bins,prob_1)\n",
        "plt.plot(bins,prob_2)\n",
        "plt.plot(bins,prob_3) \n",
        "plt.plot(bins,prob_4)\n",
        "plt.plot(bins,prob_5) \n",
        "plt.ylim([0.5,0.9])\n",
        "plt.legend(['Set 1', 'Set 2', 'Set 3', 'Set 4','Set 5'], loc = 2, fontsize = 20)  \n",
        "plt.xlabel('Rank Difference')\n",
        "plt.ylabel('Winning Probability')\n",
        "plt.title('Grand Slam Matches')"
      ]
    },
    {
      "cell_type": "markdown",
      "metadata": {
        "_cell_guid": "8367d856-a84b-0ac4-3f43-e17439db2341"
      },
      "source": [
        "# Winning probability for the favorite does not increase as the game moves along. if anything - it decreases "
      ]
    },
    {
      "cell_type": "markdown",
      "metadata": {
        "_cell_guid": "3d7b3ad0-a1a6-b842-40f5-b6297c238a88"
      },
      "source": [
        "# Different surfaces and different players \n",
        "\n",
        " - Are professional tennis players experts when it comes to the court\n",
        "   surface? that is, if a players as a general tremendous record - can\n",
        "   we assume he's good in all courts? or do players tend to become\n",
        "   experts in specific surfaces? Are clay players - if such creatures do\n",
        "   exist - better or worse than grass players, when playing on a hard\n",
        "   surface?\n",
        " - for this purpose, I used created a new players data frame, including\n",
        "   features for performance on different surfaces. Afterwards, I used\n",
        "   K-means clustering and examined the outcome with 3 clusters. If\n",
        "   players are not \"experts\", and are simply good (or bad, relatively),\n",
        "   the cluster means in the surface space (Clay, Grass and Hard) would\n",
        "   be close to the (1,1,1) diagonal line."
      ]
    },
    {
      "cell_type": "code",
      "execution_count": null,
      "metadata": {
        "_cell_guid": "5f773bb9-7620-cce9-9fe8-ca81bf48e620"
      },
      "outputs": [],
      "source": [
        "# Build the Players Data Frame\n",
        "\n",
        "#Append the unique values of the winners and losers columns\n",
        "winners = np.unique(new_df.Winner)\n",
        "losers = np.unique(new_df.Loser)\n",
        "players = np.append(winners,losers)\n",
        "players_un = np.unique(players)\n",
        "record = np.zeros(len(players_un)) # General record of the player\n",
        "GS_record = np.zeros(len(players_un)) # Grand Slam record\n",
        "Clay_record =  np.zeros(len(players_un)) # Clay Record\n",
        "Carpet_record = np.zeros(len(players_un)) # Carpet Record\n",
        "Grass_record = np.zeros(len(players_un)) # Grass Record\n",
        "Hard_record = np.zeros(len(players_un)) #Hard surface record\n",
        "fifth_set_record = np.zeros(len(players_un)) # Fifth Set record \n",
        "the_final_record = np.zeros(len(players_un)) # Fianls Record\n",
        "\n",
        "d = {'Player_name': players_un, 'record':record, 'GS_record': GS_record,'Clay_record': Clay_record, 'Carpet_record': Carpet_record,'Grass_record':Grass_record,'Hard_record':Hard_record,'fifth_set_recrod':fifth_set_record,'the_final_record':the_final_record }\n",
        "players_df = pd.DataFrame(data=d)\n",
        "\n",
        "# Fill in features values for each feature\n",
        "for i,row in enumerate(players_df.iterrows()):\n",
        "    w = len(new_df[new_df.Winner == row[1].Player_name])\n",
        "    l = len(new_df[new_df.Loser == row[1].Player_name])\n",
        "    players_df.loc[i,'Total_Games'] = w + l\n",
        "    players_df.loc[i,'record'] = np.true_divide(w,(w+l))\n",
        "    \n",
        "    temp_df = new_df[new_df.Series == 'Grand Slam']\n",
        "    w = len(temp_df[temp_df.Winner == row[1].Player_name])\n",
        "    l = len(temp_df[temp_df.Loser == row[1].Player_name])\n",
        "    players_df.loc[i,'Total_GS_Games'] = w + l\n",
        "    players_df.loc[i,'GS_record'] = np.true_divide(w,(w+l))\n",
        "    \n",
        "    temp_df = new_df[new_df.Surface == 'Clay']\n",
        "    w = len(temp_df[temp_df.Winner == row[1].Player_name])\n",
        "    l = len(temp_df[temp_df.Loser == row[1].Player_name])\n",
        "    players_df.loc[i,'Total_Clay_Games'] = w + l\n",
        "    players_df.loc[i,'Clay_record'] = np.true_divide(w,(w+l))\n",
        "    \n",
        "    temp_df = new_df[new_df.Surface == 'Carpet']\n",
        "    w = len(temp_df[temp_df.Winner == row[1].Player_name])\n",
        "    l = len(temp_df[temp_df.Loser == row[1].Player_name])\n",
        "    players_df.loc[i,'Total_Carpet_Games'] = w + l\n",
        "    players_df.loc[i,'Carpet_record'] = np.true_divide(w,(w+l))\n",
        "    \n",
        "    temp_df = new_df[new_df.Surface == 'Grass']\n",
        "    w = len(temp_df[temp_df.Winner == row[1].Player_name])\n",
        "    l = len(temp_df[temp_df.Loser == row[1].Player_name])\n",
        "    players_df.loc[i,'Total_Grass_Games'] = w + l\n",
        "    players_df.loc[i,'Grass_record'] = np.true_divide(w,(w+l))\n",
        "    \n",
        "    temp_df = new_df[new_df.Surface == 'Hard']\n",
        "    w = len(temp_df[temp_df.Winner == row[1].Player_name])\n",
        "    l = len(temp_df[temp_df.Loser == row[1].Player_name])\n",
        "    players_df.loc[i,'Total_Hard_Games'] = w + l\n",
        "    players_df.loc[i,'Hard_record'] = np.true_divide(w,(w+l))\n",
        "    \n",
        "    temp_df = new_df[new_df['Total Sets'] == 5]\n",
        "    w = len(temp_df[temp_df.Winner == row[1].Player_name])\n",
        "    l = len(temp_df[temp_df.Loser == row[1].Player_name])\n",
        "    players_df.loc[i,'Total_fifth_set_recrod_Games'] = w + l\n",
        "    players_df.loc[i,'fifth_set_recrod'] = np.true_divide(w,(w+l))\n",
        "    \n",
        "    temp_df = new_df[new_df['Round'] == 'The Final']\n",
        "    w = len(temp_df[temp_df.Winner == row[1].Player_name])\n",
        "    l = len(temp_df[temp_df.Loser == row[1].Player_name])\n",
        "    players_df.loc[i,'Total_final_Games'] = w + l\n",
        "    players_df.loc[i,'the_final_recrod'] = np.true_divide(w,(w+l))\n",
        "\n",
        "#GS Factor represents how well a play performs in Grand Slams compared to regular tournaments\n",
        "players_df['GS_Factor'] = (players_df.GS_record - players_df.record)/(players_df.GS_record + players_df.record)\n",
        "# Final factor represents how well a play performs in finals compared to regular matches\n",
        "players_df['Final_Factor'] = (players_df.the_final_recrod - players_df.record)/(players_df.the_final_recrod + players_df.record)\n",
        "serious_players_df = players_df[players_df.Total_GS_Games > 10]\n",
        "serious_players_df = serious_players_df[serious_players_df.Total_final_Games>10]"
      ]
    },
    {
      "cell_type": "markdown",
      "metadata": {
        "_cell_guid": "296c9d53-4668-2752-656e-5e4d3be6f940"
      },
      "source": [
        "# Perform K-Means"
      ]
    },
    {
      "cell_type": "code",
      "execution_count": null,
      "metadata": {
        "_cell_guid": "0a5ff564-79ba-244d-156e-f27413727579"
      },
      "outputs": [],
      "source": [
        "from sklearn.cluster import KMeans\n",
        "# Semi Serious Players are players who played enough matches on all three major surfaces\n",
        "semi_serious_players_df = players_df[players_df.Total_Games>163]\n",
        "data= {'Clay_record': semi_serious_players_df.Clay_record,'Grass_record' :semi_serious_players_df.Grass_record,'Hard_record':semi_serious_players_df.Hard_record} #'fifth_set_recrod':fifth_set_record,'the_final_record':the_final_record }\n",
        "kmeans_df =  pd.DataFrame(data=data)\n",
        "\n",
        "kmeans = KMeans(n_clusters = 3, random_state = 0).fit(kmeans_df)\n",
        "semi_serious_players_df['label'] = kmeans.labels_"
      ]
    },
    {
      "cell_type": "markdown",
      "metadata": {
        "_cell_guid": "b9da9afc-d6a6-b920-eae1-dca2595daf4d"
      },
      "source": [
        "# Plot K-Means results"
      ]
    },
    {
      "cell_type": "code",
      "execution_count": null,
      "metadata": {
        "_cell_guid": "3e135db5-2be5-4f75-5bfc-3b2e0ac08722"
      },
      "outputs": [],
      "source": [
        "from mpl_toolkits.mplot3d import Axes3D\n",
        "fig = plt.figure(figsize = (12,12))\n",
        "ax = fig.add_subplot(111, projection='3d')\n",
        "x1 = np.array(semi_serious_players_df.Clay_record[semi_serious_players_df.label == 0])\n",
        "y1 = np.array(semi_serious_players_df.Grass_record[semi_serious_players_df.label == 0])\n",
        "z1 = np.array(semi_serious_players_df.Hard_record[semi_serious_players_df.label == 0])\n",
        "\n",
        "x2 = np.array(semi_serious_players_df.Clay_record[semi_serious_players_df.label == 1])\n",
        "y2 = np.array(semi_serious_players_df.Grass_record[semi_serious_players_df.label == 1])\n",
        "z2 = np.array(semi_serious_players_df.Hard_record[semi_serious_players_df.label == 1])\n",
        "\n",
        "x3 = np.array(semi_serious_players_df.Clay_record[semi_serious_players_df.label == 2])\n",
        "y3 = np.array(semi_serious_players_df.Grass_record[semi_serious_players_df.label == 2])\n",
        "z3 = np.array(semi_serious_players_df.Hard_record[semi_serious_players_df.label == 2])\n",
        "\n",
        "plt.hold(True)\n",
        "ax.scatter(x1,y1, zs = z1, zdir='z', s=70, c= 'r',depthshade=True)\n",
        "ax.scatter(x2,y2, zs = z2, zdir='z', s=70, c= 'g',depthshade=True)\n",
        "ax.scatter(x3,y3, zs = z3, zdir='z', s=70, c= 'b',depthshade=True)\n",
        "ax.set_xlabel('Clay record', fontsize = 20)\n",
        "ax.set_ylabel('Grass record', fontsize = 20)\n",
        "ax.set_zlabel('Hard record', fontsize = 20)\n",
        "ax.set_xlim([0,1])\n",
        "ax.set_ylim([0,1])\n",
        "ax.set_zlim([0,1])\n",
        "\n",
        "plt.legend(['Clay Players', 'Grass Players', 'Good Players'], loc = 2, fontsize = 20)"
      ]
    },
    {
      "cell_type": "markdown",
      "metadata": {
        "_cell_guid": "c4e61f84-29c5-b600-9643-4977b29e94a1"
      },
      "source": [
        "#It would probably be easier to understand what is going on with the 3 2D projections of this plot:"
      ]
    },
    {
      "cell_type": "code",
      "execution_count": null,
      "metadata": {
        "_cell_guid": "46b05ee0-78bb-1919-02c0-74c914a408c0"
      },
      "outputs": [],
      "source": [
        "plt.figure(figsize=(10,10))\n",
        "plt.hold(True)\n",
        "plt.plot(x1,y1,'ro')\n",
        "plt.plot(x2,y2,'go')\n",
        "plt.plot(x3,y3,'bo')\n",
        "plt.xlabel('Clay record',fontsize = 20)\n",
        "plt.ylabel('Grass record',fontsize = 20)\n",
        "plt.xlim([0,1])\n",
        "plt.ylim([0,1])\n",
        "plt.legend(['Clay Players', 'Grass Players', 'Good Players'], loc = 2, fontsize = 20)\n",
        "\n",
        "plt.figure(figsize=(10,10))\n",
        "plt.hold(True)\n",
        "plt.plot(y1,z1,'ro')\n",
        "plt.plot(y2,z2,'go')\n",
        "plt.plot(y3,z3,'bo')\n",
        "plt.xlabel('Grass record', fontsize = 20)\n",
        "plt.ylabel('Hard record',fontsize = 20)\n",
        "plt.xlim([0,1])\n",
        "plt.ylim([0,1])\n",
        "plt.legend(['Clay Players', 'Grass Players', 'Good Players'], loc = 2, fontsize = 20)\n",
        "\n",
        "plt.figure(figsize=(10,10))\n",
        "plt.hold(True)\n",
        "plt.plot(z1,x1,'ro')\n",
        "plt.plot(z2,x2,'go')\n",
        "plt.plot(z3,x3,'bo')\n",
        "plt.xlabel('Hard record',fontsize = 20)\n",
        "plt.ylabel('Clay record',fontsize = 20)\n",
        "plt.xlim([0,1])\n",
        "plt.ylim([0,1])\n",
        "plt.legend(['Clay Players', 'Grass Players', 'Good Players'], loc = 2, fontsize = 20)"
      ]
    },
    {
      "cell_type": "markdown",
      "metadata": {
        "_cell_guid": "11b79d4a-15a0-f661-400a-7ea17f940cab"
      },
      "source": [
        "We have divided the players data into 3 clusters. I assigned names to these clusters:\n",
        "\n",
        "1. **the blue cluster** is well above the green and the red cluster in all surfaces, its mean is well balanced (0.62, 0.63, 0.62 in clay, grass and hard respectively). these are the \"**Good Players**\". they are indifferent to the surface type. this group includes famous clay players like Nadal, and grass players like Federer. this of course does not mean that these players don't have a surface preference. However, the surface is not the most significant feature for them - they are simply great players first.\n",
        "\n",
        "2. **The green cluster** with mean at (0.4, 0.48, 0.46) describes **weaker players who have a weak grass preference**. Their general performance is worse compared to the \"Good Players\".\n",
        "\n",
        "3. **The Red Cluster** with mean at 0.5, 0.15,0.35 represents the **Clay Players**. they out perform the grass players in Clay, they are slightly worse on hard surfaces and they are dramatically worse on grass\n",
        "\n",
        "# In General - performance on grass correlates more strongly with performance on hard surfaces than with performance on clay"
      ]
    },
    {
      "cell_type": "markdown",
      "metadata": {
        "_cell_guid": "af8095c5-82cb-62f8-ca4c-ef386bfbf86e"
      },
      "source": [
        "# Let's Zoom in on the big 3"
      ]
    },
    {
      "cell_type": "code",
      "execution_count": null,
      "metadata": {
        "_cell_guid": "67b3c9aa-1567-d886-80a2-8081e753bd54"
      },
      "outputs": [],
      "source": [
        "federer = np.zeros(3)\n",
        "federer[0] = semi_serious_players_df.Clay_record[semi_serious_players_df.Player_name == 'Federer R.']\n",
        "federer[1] = semi_serious_players_df.Grass_record[semi_serious_players_df.Player_name == 'Federer R.']\n",
        "federer[2] = semi_serious_players_df.Hard_record[semi_serious_players_df.Player_name == 'Federer R.']\n",
        "\n",
        "nadal = np.zeros(3)\n",
        "nadal[0] = semi_serious_players_df.Clay_record[semi_serious_players_df.Player_name == 'Nadal R.']\n",
        "nadal[1] = semi_serious_players_df.Grass_record[semi_serious_players_df.Player_name == 'Nadal R.']\n",
        "nadal[2] = semi_serious_players_df.Hard_record[semi_serious_players_df.Player_name == 'Nadal R.']\n",
        "\n",
        "djokovich = np.zeros(3)\n",
        "djokovich[0] = semi_serious_players_df.Clay_record[semi_serious_players_df.Player_name == 'Djokovic N.']\n",
        "djokovich[1] = semi_serious_players_df.Grass_record[semi_serious_players_df.Player_name == 'Djokovic N.']\n",
        "djokovich[2] = semi_serious_players_df.Hard_record[semi_serious_players_df.Player_name == 'Djokovic N.']\n",
        "\n",
        "plt.figure(figsize = (10,10))\n",
        "plt.hold(True)\n",
        "plt.bar([0,2,4],federer, color = 'green' , width = 0.5)\n",
        "plt.bar([0.5,2.5,4.5],nadal, color = 'red', width = 0.5)\n",
        "plt.bar([1,3,5],djokovich, color = 'blue', width = 0.5)\n",
        "plt.xlim(0,5.5)\n",
        "plt.xticks([0.5,2.5,4.5], ['Clay','Grass','Hard'], fontsize = 25)\n",
        "plt.legend(['Federer','Nadal','Djokovic'], fontsize = 15)\n",
        "plt.ylabel('Winning Probability')\n",
        "plt.show()"
      ]
    },
    {
      "cell_type": "markdown",
      "metadata": {
        "_cell_guid": "4d39b294-d6d0-6a4c-49b9-d146abad3851"
      },
      "source": [
        "Nadal's dominance on clay is indisputable. Federer and Djokovich show a more versatile distribution - Federer has a strong grass preference, though not as strong as Nadal's clay preferen. Djokovic is a perfect all around player."
      ]
    },
    {
      "cell_type": "code",
      "execution_count": null,
      "metadata": {
        "_cell_guid": "b1ec18ce-41b2-5774-7afd-ce9ced92dbd6"
      },
      "outputs": [],
      "source": [
        ""
      ]
    }
  ],
  "metadata": {
    "_change_revision": 0,
    "_is_fork": false,
    "kernelspec": {
      "display_name": "Python 3",
      "language": "python",
      "name": "python3"
    },
    "language_info": {
      "codemirror_mode": {
        "name": "ipython",
        "version": 3
      },
      "file_extension": ".py",
      "mimetype": "text/x-python",
      "name": "python",
      "nbconvert_exporter": "python",
      "pygments_lexer": "ipython3",
      "version": "3.6.0"
    }
  },
  "nbformat": 4,
  "nbformat_minor": 0
}