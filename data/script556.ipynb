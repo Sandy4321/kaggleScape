{"cells":[
 {
  "cell_type": "markdown",
  "metadata": {},
  "source": "Let's start by importing the database. \nThe row factory setting allows to use column names instead of integer when exploring a resultset."
 },
 {
  "cell_type": "code",
  "execution_count": null,
  "metadata": {
   "collapsed": false
  },
  "outputs": [],
  "source": "import sqlite3\n\ndatabase = '../input/database.sqlite'\nconn = sqlite3.connect(database)\nconn.row_factory = sqlite3.Row\ncur = conn.cursor()"
 },
 {
  "cell_type": "markdown",
  "metadata": {},
  "source": "Next we query a match. I chose a home game of my favourite team: Olympique Lyonnais!"
 },
 {
  "cell_type": "code",
  "execution_count": null,
  "metadata": {
   "collapsed": false
  },
  "outputs": [],
  "source": "match_api_id = 1989903\nsql = 'SELECT * From MATCH WHERE match_api_id=?'\ncur.execute(sql, (match_api_id,))\nmatch = cur.fetchone()"
 },
 {
  "cell_type": "markdown",
  "metadata": {},
  "source": "We retrieve the x,y coordinates and players api"
 },
 {
  "cell_type": "code",
  "execution_count": null,
  "metadata": {
   "collapsed": false
  },
  "outputs": [],
  "source": "home_players_api_id = list()\naway_players_api_id = list()\nhome_players_x = list()\naway_players_x = list()\nhome_players_y = list()\naway_players_y = list()\n\nfor i in range(1,12):\n    home_players_api_id.append(match['home_player_%d' % i])\n    away_players_api_id.append(match['away_player_%d' % i])\n    home_players_x.append(match['home_player_X%d' % i])\n    away_players_x.append(match['away_player_X%d' % i])\n    home_players_y.append(match['home_player_Y%d' % i])\n    away_players_y.append(match['away_player_Y%d' % i])\n\nprint('Example, home players api id: ')\nprint(home_players_api_id)"
 },
 {
  "cell_type": "markdown",
  "metadata": {},
  "source": "Next, we get the players last names from the table Player. I filter out the None values (if any) from the query and add them back later to the players_names list.\nI try to keep the name in the same order as the other lists, so as to later map the names to the x,y coordinates"
 },
 {
  "cell_type": "code",
  "execution_count": null,
  "metadata": {
   "collapsed": false
  },
  "outputs": [],
  "source": "#Fetch players'names \nplayers_api_id = [home_players_api_id,away_players_api_id]\nplayers_api_id.append(home_players_api_id) # Home\nplayers_api_id.append(away_players_api_id) # Away\nplayers_names = [[None]*11,[None]*11]\n\nfor i in range(2):\n    players_api_id_not_none = [x for x in players_api_id[i] if x is not None]\n    sql = 'SELECT player_api_id,player_name FROM Player'\n    sql += ' WHERE player_api_id IN (' + ','.join(map(str, players_api_id_not_none)) + ')'\n    cur.execute(sql)\n    players = cur.fetchall()\n    for player in players:\n        idx = players_api_id[i].index(player['player_api_id'])\n        name = player['player_name'].split()[-1] # keep only the last name\n        players_names[i][idx] = name\n\nprint('Home team players names:')\nprint(players_names[0])\nprint('Away team players names:')\nprint(players_names[1])"
 },
 {
  "cell_type": "markdown",
  "metadata": {},
  "source": "Next we need to rework the x coordinate a little bit, replacing 1 (the goal keeper) with 5. You will understand why when we do the plot."
 },
 {
  "cell_type": "code",
  "execution_count": null,
  "metadata": {
   "collapsed": false
  },
  "outputs": [],
  "source": "home_players_x = [5 if x==1 else x for x in home_players_x]\naway_players_x = [5 if x==1 else x for x in away_players_x]"
 },
 {
  "cell_type": "markdown",
  "metadata": {},
  "source": "Finally let's plot the lineup with a top-down view of the pitch. \nYou should clearly see the differences between the two squad formations.\nLyon plays in 4-3-1-2 shape while St Etienne (the away team) uses a 4-2-3-1 formation."
 },
 {
  "cell_type": "code",
  "execution_count": null,
  "metadata": {
   "collapsed": false
  },
  "outputs": [],
  "source": "import matplotlib.pyplot as plt\n\n# Home team (in blue)\nplt.subplot(2, 1, 1)\nplt.rc('grid', linestyle=\"-\", color='black')\nplt.rc('figure', figsize=(12,20))\nplt.gca().invert_yaxis() # Invert y axis to start with the goalkeeper at the top\nfor label, x, y in zip(players_names[0], home_players_x, home_players_y):\n    plt.annotate(\n        label, \n        xy = (x, y), xytext = (-20, 20),\n        textcoords = 'offset points', va = 'bottom')\nplt.scatter(home_players_x, home_players_y,s=480,c='blue')\nplt.grid(True)\n\n# Away team (in red)\nplt.subplot(2, 1, 2)\nplt.rc('grid', linestyle=\"-\", color='black')\nplt.rc('figure', figsize=(12,20))\nplt.gca().invert_xaxis() # Invert x axis to have right wingers on the right\nfor label, x, y in zip(players_names[1], away_players_x, away_players_y):\n    plt.annotate(\n        label, \n        xy = (x, y), xytext = (-20, 20),\n        textcoords = 'offset points', va = 'bottom')\nplt.scatter(away_players_x, away_players_y,s=480,c='red')\nplt.grid(True)\n\n\nax = [plt.subplot(2,2,i+1) for i in range(0)]\nfor a in ax:\n    a.set_xticklabels([])\n    a.set_yticklabels([])\nplt.subplots_adjust(wspace=0, hspace=0)\n\n\nplt.show()"
 },
 {
  "cell_type": "markdown",
  "metadata": {},
  "source": "We can also buil a string with the formations and print it:"
 },
 {
  "cell_type": "code",
  "execution_count": null,
  "metadata": {
   "collapsed": false
  },
  "outputs": [],
  "source": "from collections import Counter\n\nplayers_y = [home_players_y,away_players_y]\nformations = [None] * 2\nfor i in range(2):\n    formation_dict=Counter(players_y[i]);\n    sorted_keys = sorted(formation_dict)\n    formation = ''\n    for key in sorted_keys[1:-1]:\n        y = formation_dict[key]\n        formation += '%d-' % y\n    formation += '%d' % formation_dict[sorted_keys[-1]] \n    formations[i] = formation\n\n\nprint('Home team formation: ' + formations[0])\nprint('Away team formation: ' + formations[1])"
 }
],"metadata":{"kernelspec":{"display_name":"Python 3","language":"python","name":"python3"}}, "nbformat": 4, "nbformat_minor": 0}