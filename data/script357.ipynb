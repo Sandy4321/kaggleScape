{
  "cells": [
    {
      "cell_type": "markdown",
      "metadata": {
        "_cell_guid": "3485e04e-94dc-1d7c-e6f6-1a063e6b4827"
      },
      "source": [
        "Visualizing earthquakes (1965-2016)\n",
        "-----------------------------------"
      ]
    },
    {
      "cell_type": "code",
      "execution_count": null,
      "metadata": {
        "_cell_guid": "f92ba129-3101-d207-150c-1fc5047b7ff3"
      },
      "outputs": [],
      "source": [
        "import pandas as pd\n",
        "import numpy as np\n",
        "import matplotlib.pyplot as plt\n",
        "%matplotlib inline\n",
        "from mpl_toolkits.basemap import Basemap\n",
        "import matplotlib.animation as animation\n",
        "from IPython.display import HTML\n",
        "import warnings\n",
        "warnings.filterwarnings('ignore')\n",
        "\n",
        "try:\n",
        "    t_file = pd.read_csv('../input/database.csv', encoding='ISO-8859-1')\n",
        "    print('File load: Success')\n",
        "except:\n",
        "    print('File load: Failed')"
      ]
    },
    {
      "cell_type": "code",
      "execution_count": null,
      "metadata": {
        "_cell_guid": "602ec78e-3280-31b1-6552-dfaa189426f3"
      },
      "outputs": [],
      "source": [
        "t_file['Year']= t_file['Date'].str[6:]"
      ]
    },
    {
      "cell_type": "code",
      "execution_count": null,
      "metadata": {
        "_cell_guid": "0c7f8593-9712-0777-5117-a4f7f54c7860"
      },
      "outputs": [],
      "source": [
        "fig = plt.figure(figsize=(10, 10))\n",
        "fig.text(.8, .3, 'Soumitra', ha='right')\n",
        "cmap = plt.get_cmap('coolwarm')\n",
        "\n",
        "m = Basemap(projection='mill',llcrnrlat=-80,urcrnrlat=80, llcrnrlon=-180,urcrnrlon=180,lat_ts=20,resolution='c')\n",
        "m.drawcoastlines()\n",
        "m.drawcountries()\n",
        "m.fillcontinents(color='burlywood',lake_color='lightblue', zorder = 1)\n",
        "m.drawmapboundary(fill_color='lightblue')\n",
        "\n",
        "\n",
        "START_YEAR = 1965\n",
        "LAST_YEAR = 2016\n",
        "\n",
        "points = t_file[['Date', 'Time', 'Latitude', 'Longitude', 'Depth', 'Magnitude']][t_file['Year']==str(START_YEAR)]\n",
        "\n",
        "x, y= m(list(points['Longitude']), list(points['Latitude']))\n",
        "scat = m.scatter(x, y, s = points['Magnitude']*points['Depth']*0.3, marker='o', alpha=0.3, zorder=10, cmap = cmap)\n",
        "year_text = plt.text(-170, 80, str(START_YEAR),fontsize=15)\n",
        "plt.title(\"Earthquake visualisation (1965 - 2016)\")\n",
        "plt.close()\n",
        "\n",
        "\n",
        "def update(frame_number):\n",
        "    current_year = START_YEAR + (frame_number % (LAST_YEAR - START_YEAR + 1))\n",
        "    year_text.set_text(str(current_year))\n",
        "    points = t_file[['Date', 'Time', 'Latitude', 'Longitude', 'Depth', 'Magnitude']][t_file['Year']==str(current_year)]\n",
        "    x, y= m(list(points['Longitude']), list(points['Latitude']))\n",
        "    color = points['Depth']*points['Magnitude'];\n",
        "    scat.set_offsets(np.dstack((x, y)))\n",
        "    scat.set_sizes(points['Magnitude']*points['Depth']*0.3)\n",
        "    \n",
        "ani = animation.FuncAnimation(fig, update, interval=750, frames=LAST_YEAR - START_YEAR + 1)\n",
        "ani.save('animation.gif', writer='imagemagick', fps=5)"
      ]
    },
    {
      "cell_type": "code",
      "execution_count": null,
      "metadata": {
        "_cell_guid": "8315f89a-a5eb-8d6b-898e-a9d8aa11b1df"
      },
      "outputs": [],
      "source": [
        "import io\n",
        "import base64\n",
        "\n",
        "filename = 'animation.gif'\n",
        "\n",
        "video = io.open(filename, 'r+b').read()\n",
        "encoded = base64.b64encode(video)\n",
        "HTML(data='''<img src=\"data:image/gif;base64,{0}\" type=\"gif\" />'''.format(encoded.decode('ascii')))"
      ]
    },
    {
      "cell_type": "markdown",
      "metadata": {
        "_cell_guid": "63f71826-926f-67b5-1cbc-4668bac376e3"
      },
      "source": [
        "**The points above represent the all the earthquakes in the given timeframe.**\n",
        "<br>\n",
        "The size represents the approximate amount of strength/sensation on the surface, taking in account the depth and magnitude. We can see that the west coast of Southern America and South East Asia experience the worst earthquakes. Most earthquakes near the Sumatran region are underwater thus resulting in frequent tsunamis. "
      ]
    },
    {
      "cell_type": "markdown",
      "metadata": {
        "_cell_guid": "f41d6de9-771d-4e99-167e-d8d2a3c226e5"
      },
      "source": [
        "The script is inspired from Ronald Troncoso's work on the Global terrorist dataset. (https://www.kaggle.com/ronaldtroncoso20/d/START-UMD/gtd/global-terrorism-trends-animation)"
      ]
    }
  ],
  "metadata": {
    "_change_revision": 0,
    "_is_fork": false,
    "kernelspec": {
      "display_name": "Python 3",
      "language": "python",
      "name": "python3"
    },
    "language_info": {
      "codemirror_mode": {
        "name": "ipython",
        "version": 3
      },
      "file_extension": ".py",
      "mimetype": "text/x-python",
      "name": "python",
      "nbconvert_exporter": "python",
      "pygments_lexer": "ipython3",
      "version": "3.5.2"
    }
  },
  "nbformat": 4,
  "nbformat_minor": 0
}