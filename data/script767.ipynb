{
  "cells": [
    {
      "cell_type": "markdown",
      "metadata": {
        "_cell_guid": "9e126ef5-7167-96a9-e3e3-398c6e3b238b"
      },
      "source": [
        "This notebook is a first step to exploring whether it's possible to predict horses races more accurately than the betting markets. It includes feature exploration, feature engineering, a basic XGBoost model, a betting strategy and calculates my profit or loss. \n",
        "\n",
        "This notebook doesn't rigorously test whether the strategy systematically makes money, but my sense is that it probably doesn't. The results change pretty dramatically when I change the test-train split. This could be because of a bug, or could be because the model is ~random because I have very few features (and I'm not using the most interesting features. \n",
        "\n",
        "Hopefully somebody can use this starting point and extend it. I'm happy to answer any questions if you don't understand anything I've done.\n",
        "\n",
        "Ideas for improvements (ordered by priority):\n",
        "\n",
        " - Include additional features: most importantly form.\n",
        " - Create a betting strategy where you don't bet on every race but only those where there's a big discrepancy between your predictions and the odds \n",
        " - Setup a cross validation framework. \n",
        " - Look at feature importance and partial plots to make sure the model is behaving properly.\n",
        " - I'm treating this as a binary prediction problem (predicting the probability that each horse will win). This throws away information. There are probably better ways to setup the problem. \n",
        " - Possibly include a model that also predicts place.\n"
      ]
    },
    {
      "cell_type": "code",
      "execution_count": null,
      "metadata": {
        "_cell_guid": "94bcf5b2-09f7-eada-edf4-48697992061f"
      },
      "outputs": [],
      "source": [
        "import pandas as pd\n",
        "import xgboost as xgb\n",
        "import numpy as np\n",
        "\n",
        "#useful for displaying wide data frames\n",
        "pd.set_option('display.max_columns', 50)"
      ]
    },
    {
      "cell_type": "code",
      "execution_count": null,
      "metadata": {
        "_cell_guid": "7bb48b2c-d20a-ae8e-ef75-6289e6d558dd"
      },
      "outputs": [],
      "source": [
        "#load the data into Pandas dataframes\n",
        "df_market = pd.read_csv(\"../input/markets.csv\")\n",
        "df_runners = pd.read_csv(\"../input/runners.csv\",dtype={'barrier': np.int16,'handicap_weight': np.float16})\n",
        "\n",
        "#for my simple model, I'm ignoring other columns. I recommend starting with form if you're looking to add features\n",
        "#df_odds = pd.read_csv(\"../input/odds.csv\")\n",
        "#df_form = pd.read_csv(\"../input/forms.csv\")\n",
        "#df_condition = pd.read_csv(\"../input/conditions.csv\")\n",
        "#df_weather = (\"../input/weather.csv\")\n",
        "#df_rider = (\"../input/riders.csv\")\n",
        "#df_horse = (\"../input/horses.csv\")\n",
        "#df_horse_sex = (\"../input/horse_sexes.csv\")"
      ]
    },
    {
      "cell_type": "markdown",
      "metadata": {
        "_cell_guid": "81468b4c-bf1a-907d-c3fd-e4ac50cd5c81"
      },
      "source": [
        "#Inital Exploration\n",
        "Looking at the data and some basic relationships"
      ]
    },
    {
      "cell_type": "code",
      "execution_count": null,
      "metadata": {
        "_cell_guid": "d489212c-c218-d80f-12b4-9087f4f0b443"
      },
      "outputs": [],
      "source": [
        "#look at the first fives rows of the market table\n",
        "df_market[0:5]"
      ]
    },
    {
      "cell_type": "code",
      "execution_count": null,
      "metadata": {
        "_cell_guid": "85ff635c-2629-6062-6920-9351c41c6e94"
      },
      "outputs": [],
      "source": [
        "#look at the first fives rows of the runners table\n",
        "df_runners[0:5]"
      ]
    },
    {
      "cell_type": "markdown",
      "metadata": {
        "_cell_guid": "17f3b38b-546a-0291-698a-31219e665b70"
      },
      "source": [
        "##Importance of Barrier\n",
        "Horses that draw barriers 1-6 win more often. Horses that draw 16 or worse rarely win "
      ]
    },
    {
      "cell_type": "code",
      "execution_count": null,
      "metadata": {
        "_cell_guid": "681c18e8-8ec7-7939-a428-ab0b6a048235"
      },
      "outputs": [],
      "source": [
        "#explore the barriers feature: does it look like it impacts chances of victory?\n",
        "winners_by_barrier = df_runners[df_runners['position'] == 1][['id','barrier']].groupby('barrier').agg(['count'])\n",
        "barrier_count = df_runners[['id','barrier']].groupby('barrier').agg(['count'])\n",
        "pct_winner_by_barrier = winners_by_barrier/barrier_count[barrier_count.index.isin(winners_by_barrier.index)]\n",
        "ax = pct_winner_by_barrier.plot(kind='bar')\n",
        "ax.set_ylabel(\"Win Percentage\")\n",
        "\n",
        "#this notebook pushes up against memory limits. So I'm aggressive with garbage collection.\n",
        "del winners_by_barrier, barrier_count, pct_winner_by_barrier"
      ]
    },
    {
      "cell_type": "markdown",
      "metadata": {
        "_cell_guid": "be5f0deb-f4ec-df92-8a54-b05a5d94cd0f"
      },
      "source": [
        "#Handicap\n",
        "Heavier horses win more often, suggesting that weights aren't a sufficient handicap for better horses"
      ]
    },
    {
      "cell_type": "code",
      "execution_count": null,
      "metadata": {
        "_cell_guid": "1b02a2c7-578d-e2cd-3808-787b107a4268"
      },
      "outputs": [],
      "source": [
        "#explore weight: does it looks like it has an impact?\n",
        "winners_by_weight = df_runners[df_runners['position'] == 1][['id','handicap_weight']].groupby('handicap_weight').agg(['count'])\n",
        "winners_by_weight = winners_by_weight[winners_by_weight > 30].dropna()\n",
        "weight_count = df_runners[['id','handicap_weight']].groupby('handicap_weight').agg(['count'])\n",
        "pct_winners_by_weight = winners_by_weight/weight_count[weight_count.index.isin(winners_by_weight.index)]\n",
        "ax = pct_winners_by_weight.plot(kind='bar')\n",
        "ax.set_ylabel(\"Win Percentage\")\n",
        "del winners_by_weight, weight_count, pct_winners_by_weight"
      ]
    },
    {
      "cell_type": "markdown",
      "metadata": {
        "_cell_guid": "72789f9a-1145-09ec-2dbe-c102e1ec8887"
      },
      "source": [
        "#Rider Quality\n",
        "The best riders win ~three times as often as the worst "
      ]
    },
    {
      "cell_type": "code",
      "execution_count": null,
      "metadata": {
        "_cell_guid": "6fd4757b-06af-74db-59b3-1d5c2c6a9f01"
      },
      "outputs": [],
      "source": [
        "#explore weight: does it looks like it has an impact?\n",
        "winners_by_rider = df_runners[df_runners['position'] == 1][['id','rider_id']].groupby('rider_id').agg(['count'])\n",
        "#only inclide riders who have more than 10 races\n",
        "winners_by_rider =winners_by_rider[winners_by_rider > 10].dropna()\n",
        "rider_count = df_runners[['id','rider_id']].groupby('rider_id').agg(['count'])\n",
        "rider_count = rider_count[rider_count.index.isin(winners_by_rider.index)]\n",
        "pct_winners_by_rider = winners_by_rider/rider_count\n",
        "pct_winners_by_rider.columns = ['Win_Percentage']\n",
        "pct_winners_by_rider = pct_winners_by_rider.sort_values(by='Win_Percentage',ascending=False)\n",
        "ax = pct_winners_by_rider.plot(kind='bar')\n",
        "ax.set_ylabel(\"Win Percentage\")\n",
        "del winners_by_rider, rider_count, pct_winners_by_rider"
      ]
    },
    {
      "cell_type": "markdown",
      "metadata": {
        "_cell_guid": "558a5975-0f7d-342a-8ca9-e5e496ca262a"
      },
      "source": [
        "#Create Feature Matrix\n",
        "The exploration above suggests that barrier, weight and rider are valuable features for predicting winners. I've included all those features."
      ]
    },
    {
      "cell_type": "code",
      "execution_count": null,
      "metadata": {
        "_cell_guid": "5cf5d552-dede-df4c-a0ec-dc012957eea4"
      },
      "outputs": [],
      "source": [
        "##merge the runners and markets data frames\n",
        "df_runners_and_market = pd.merge(df_runners,df_market,left_on='market_id',right_on='id',how='outer')\n",
        "df_runners_and_market.index = df_runners_and_market['id_x'] \n"
      ]
    },
    {
      "cell_type": "code",
      "execution_count": null,
      "metadata": {
        "_cell_guid": "1a89f8e2-bb7a-8581-efca-9bdb907d5e91"
      },
      "outputs": [],
      "source": [
        "numeric_features = ['position','market_id','barrier','handicap_weight']\n",
        "categorical_features = ['rider_id']\n",
        "\n",
        "#convert to factors\n",
        "for feature in categorical_features:\n",
        "    df_runners_and_market[feature] = df_runners_and_market[feature].astype(str)\n",
        "    df_runners_and_market[feature] = df_runners_and_market[feature].replace('nan','0') #have to do this because of a weird random forest bug\n",
        "\n",
        "    df_features = df_runners_and_market[numeric_features]\n",
        "\n",
        "for feature in categorical_features:\n",
        "    encoded_features = pd.get_dummies(df_runners_and_market[feature])\n",
        "    encoded_features.columns = feature + encoded_features.columns\n",
        "    df_features = pd.merge(df_features,encoded_features,left_index=True,right_index=True,how='inner') \n",
        "\n",
        "#turn the target variable into a binary feature: did or did not win\n",
        "df_features['win'] = False\n",
        "df_features.loc[df_features['position'] == 1,'win'] = True\n",
        "\n",
        "#del df_runners_and_market, encoded_features, df_features['position']"
      ]
    },
    {
      "cell_type": "markdown",
      "metadata": {
        "_cell_guid": "e81e9d69-5303-0090-61fa-22768da0818d"
      },
      "source": [
        "#Split between training and test\n",
        "Doing a random split"
      ]
    },
    {
      "cell_type": "code",
      "execution_count": null,
      "metadata": {
        "_cell_guid": "2bfd46c5-bb0a-ed8e-9d27-e5e99917f952"
      },
      "outputs": [],
      "source": [
        "training_races = np.random.choice(df_features['market_id'].unique(),size=int(round(0.7*len(df_features['market_id'].unique()),0)),replace=False)\n",
        "df_train = df_features[df_features['market_id'].isin(training_races)]\n",
        "df_test = df_features[~df_features['market_id'].isin(training_races)]\n",
        "\n",
        "#del df_features"
      ]
    },
    {
      "cell_type": "code",
      "execution_count": null,
      "metadata": {
        "_cell_guid": "82ef1282-7adc-7443-3d46-96c70160c06a"
      },
      "outputs": [],
      "source": [
        "gbm = xgb.XGBClassifier(objective='binary:logistic').fit(df_train.drop(df_train[['win','position','market_id']],axis=1)\n",
        ", df_train['win'])\n",
        "predictions = gbm.predict_proba(df_test.drop(df_test[['win','position','market_id']],axis=1))[:,0]\n",
        "df_test['predictions'] = predictions\n",
        "df_test = df_test[['predictions','win','market_id']]\n",
        "#del df_train"
      ]
    },
    {
      "cell_type": "markdown",
      "metadata": {
        "_cell_guid": "ebba34a2-27a0-d7cc-1098-049dfae992e1"
      },
      "source": [
        "#Compare with betting markets"
      ]
    },
    {
      "cell_type": "code",
      "execution_count": null,
      "metadata": {
        "_cell_guid": "52b47b1c-9092-73af-4823-cd5f4559dd9c"
      },
      "outputs": [],
      "source": [
        "df_odds = pd.read_csv(\"../input/odds.csv\")\n",
        "df_odds = df_odds[df_odds['runner_id'].isin(df_test.index)]\n",
        "\n",
        "#I take the mean odds for the horse rather than the odds 1 hour before or 10 mins before. You may want to revisit this.\n",
        "average_win_odds = df_odds.groupby(['runner_id'])['odds_one_win'].mean()\n",
        "\n",
        "#delete when odds are 0 because there is no market for this horse\n",
        "average_win_odds[average_win_odds == 0] = np.nan\n",
        "df_test['odds'] = average_win_odds\n",
        "df_test = df_test.dropna(subset=['odds'])\n",
        "#given that I predict multiple winners, there's leakage if I don't shuffle the test set (winning horse appears first and I put money on the first horse I predict to win)\n",
        "df_test = df_test.iloc[np.random.permutation(len(df_test))]"
      ]
    },
    {
      "cell_type": "code",
      "execution_count": null,
      "metadata": {
        "_cell_guid": "dcd3fdee-566c-2935-68e3-73f94a8280df"
      },
      "outputs": [],
      "source": [
        "\n",
        "#select the horse I picked as most likely to win\n",
        "df_profit = df_test.loc[df_test.groupby(\"market_id\")[\"predictions\"].idxmax()]\n",
        "df_profit\n",
        "investment = 0\n",
        "payout = 0\n",
        "for index, row in df_profit.iterrows():\n",
        "    investment +=1\n",
        "    \n",
        "    if (row['win']):\n",
        "        payout += row['odds']\n",
        "\n",
        "investment_return = round((payout - investment)/investment*100,2)\n",
        "print(\"This algorithm and betting system will generate a \" + str(investment_return) + \"% return\\n\")\n",
        "print(\"Note: you can't read much from a single run. Best to setup a cross validation framework and look at the return over many runs\")"
      ]
    }
  ],
  "metadata": {
    "_change_revision": 0,
    "_is_fork": false,
    "kernelspec": {
      "display_name": "Python 3",
      "language": "python",
      "name": "python3"
    },
    "language_info": {
      "codemirror_mode": {
        "name": "ipython",
        "version": 3
      },
      "file_extension": ".py",
      "mimetype": "text/x-python",
      "name": "python",
      "nbconvert_exporter": "python",
      "pygments_lexer": "ipython3",
      "version": "3.5.2"
    }
  },
  "nbformat": 4,
  "nbformat_minor": 0
}