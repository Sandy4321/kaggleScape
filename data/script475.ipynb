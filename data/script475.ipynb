{
  "cells": [
    {
      "cell_type": "markdown",
      "metadata": {
        "_cell_guid": "e138957c-2566-ba47-3f25-c35f4afd5981"
      },
      "source": [
        "An interesting look at metal bands generated per country and popular genres."
      ]
    },
    {
      "cell_type": "code",
      "execution_count": null,
      "metadata": {
        "_cell_guid": "0952beaf-a8e7-ae38-48fd-34a6bcb1b824"
      },
      "outputs": [],
      "source": [
        "# This Python 3 environment comes with many helpful analytics libraries installed\n",
        "# It is defined by the kaggle/python docker image: https://github.com/kaggle/docker-python\n",
        "# For example, here's several helpful packages to load in \n",
        "\n",
        "import numpy as np # linear algebra\n",
        "import pandas as pd # data processing, CSV file I/O (e.g. pd.read_csv)\n",
        "import seaborn as sns\n",
        "import matplotlib.patches as mpatches\n",
        "import matplotlib.pyplot as plt\n",
        "\n",
        "# Input data files are available in the \"../input/\" directory.\n",
        "# For example, running this (by clicking run or pressing Shift+Enter) will list the files in the input directory\n",
        "\n",
        "from subprocess import check_output\n",
        "print(check_output([\"ls\", \"../input\"]).decode(\"utf8\"))\n",
        "\n",
        "# Any results you write to the current directory are saved as output.\n",
        "world = pd.read_csv('../input/world_population_1960_2015.csv', encoding='latin-1')\n",
        "bands = pd.read_csv('../input/metal_bands_2017.csv', encoding='latin-1')"
      ]
    },
    {
      "cell_type": "markdown",
      "metadata": {
        "_cell_guid": "c06d9205-d83e-7e6c-ddbe-a1ca1e4f73e0"
      },
      "source": [
        "The first question I had is which country produces more metal bands?  This has actually been answered on Kaggle already, but it leads into some slightly different questions."
      ]
    },
    {
      "cell_type": "code",
      "execution_count": null,
      "metadata": {
        "_cell_guid": "6f6229fd-278a-fe79-521e-aca83fc4c0af"
      },
      "outputs": [],
      "source": [
        "bands_country = bands['origin'].value_counts()\n",
        "plt.title('Counts of bands per country')\n",
        "sns.barplot(x=bands_country[:10].keys(), y=bands_country[:10].values)"
      ]
    },
    {
      "cell_type": "markdown",
      "metadata": {
        "_cell_guid": "bb8f0e41-3f30-4c68-229d-3edd0ec05788"
      },
      "source": [
        "Unsurprisingly this yields the same results as other analysis, however I thought it was unfair that the large population of the U.S. would probably mean we generate more of everything.  So to try and see how many bands a country generates per capital I had to pull in the world population information."
      ]
    },
    {
      "cell_type": "code",
      "execution_count": null,
      "metadata": {
        "_cell_guid": "fc3bf35b-f050-fddf-938f-32b8365b1b65"
      },
      "outputs": [],
      "source": [
        "# probably a better way to do this but I couldn't figure it out\n",
        "band_count = [0 for i in range(len(world))]\n",
        "for index, country in world.iterrows():\n",
        "    if country['Country Name'] in bands_country:\n",
        "        band_count[index] = bands_country[country['Country Name']]\n",
        "\n",
        "# per capital = number of bands / population * arbitrary scalar\n",
        "world['metal_pc'] = (pd.Series(band_count) / world['2015']) * 10000\n",
        "world = world.sort_values(by = 'metal_pc', ascending=False)\n",
        "plt.title('Bands created per capita')\n",
        "sns.barplot(x=world[:10]['Country Name'], y=world[:10]['metal_pc'])"
      ]
    },
    {
      "cell_type": "markdown",
      "metadata": {
        "_cell_guid": "d50bc09c-3566-b63f-9787-823c2dd6d130"
      },
      "source": [
        "Ah the Faroe Islands, not exactly the first place I think of when listening to metal, though it is off the coast of Denmark so it is in the right area. \n",
        "\n",
        "Next I was curious about which types of metal were more popular.  After I started digging into this I realized that many bands have multiple genres, due to this I wanted to see the popularity of pure single genre bands vs those of multiple types.  To do this I keep track of of three different values:  any reference to a genre, when a genre is the only type for a band, when a genre is not the only one listed for a band."
      ]
    },
    {
      "cell_type": "code",
      "execution_count": null,
      "metadata": {
        "_cell_guid": "1e786809-5d0d-5f17-18e2-67c34d77b200"
      },
      "outputs": [],
      "source": [
        "mixed_type = {}\n",
        "pure_type = {}\n",
        "all_type = {}\n",
        "# count how many occurences of each genre we find\n",
        "# make a special note if that band has only a single genre\n",
        "for entry in list(bands['style'].to_dict().values()):\n",
        "    subs = entry.split(',')\n",
        "    for indv in subs:\n",
        "        all_type[indv] = all_type.get(indv, 0) + 1\n",
        "    if (len(subs) == 1):\n",
        "        pure_type[subs[0]] = pure_type.get(subs[0], 0) + 1\n",
        "    else:\n",
        "        for indv in subs:\n",
        "            mixed_type[indv] = mixed_type.get(indv, 0) + 1\n",
        "\n",
        "# constructe a new df based on counts\n",
        "type_df = pd.DataFrame()\n",
        "type_df['mixed_counts'] = pd.Series(mixed_type)\n",
        "type_df['pure_counts'] = pd.Series(pure_type)\n",
        "type_df['all_type'] = pd.Series(all_type)\n",
        "type_df = type_df.sort_values(by='mixed_counts', ascending=False)[:10]\n",
        "\n",
        "# let seaborn handle the rest\n",
        "sns.barplot(x=type_df.index, y=type_df['all_type'], color='#D17260')\n",
        "sns.barplot(x=type_df.index, y=type_df['pure_counts'], color='#7FB7E0')\n",
        "sns.plt.title('Counts of the top Metal Genres')\n",
        "mixed_legend = mpatches.Patch(color='#D17260', label='All')\n",
        "pure_legend = mpatches.Patch(color='#7FB7E0', label='Pure')\n",
        "plt.legend(handles=[mixed_legend, pure_legend])"
      ]
    },
    {
      "cell_type": "markdown",
      "metadata": {
        "_cell_guid": "4b07e5b8-e40a-8bc8-cb3f-9631465b8c8b"
      },
      "source": [
        "I didn't have a supposition about what would be highest on the list so I can't say that I was surprised by the results (though I was hoping that melodic death or symphonic would be higher).  I thought it was interesting that 'hard rock' is rarely the only genre listed for a band while most of the others were just under half.\n",
        "\n",
        "As suggested by user wuyanan, another way to look at this information would be to examine the bands that are pure against the ones that are only mixed, in the above graph I drew this slightly different so I could stack the bars instead of group them, here is what the data would look like done slightly different."
      ]
    },
    {
      "cell_type": "code",
      "execution_count": null,
      "metadata": {
        "_cell_guid": "b507ad9d-44c0-c515-6dd4-197dc4a40771"
      },
      "outputs": [],
      "source": [
        "type_df[['pure_counts', 'mixed_counts']].plot(kind='bar', color=['#D17260', '#7FB7E0'])\n",
        "sns.plt.title('Counts of the top Metal Genres')\n",
        "mixed_legend = mpatches.Patch(color='#D17260', label='Pure')\n",
        "pure_legend = mpatches.Patch(color='#7FB7E0', label='Mixed')\n",
        "plt.legend(handles=[mixed_legend, pure_legend])"
      ]
    },
    {
      "cell_type": "markdown",
      "metadata": {
        "_cell_guid": "9c2280e3-4630-cf87-bfcf-954963064705"
      },
      "source": [
        "The final question I had was about where the metal genre is in its life cycle, is it becoming more popular or is it dying out?  I only started listening to metal a few years ago so was I late to the party or not?"
      ]
    },
    {
      "cell_type": "code",
      "execution_count": null,
      "metadata": {
        "_cell_guid": "b02ad108-9cd6-a64a-d1d5-8ed0f2eea649"
      },
      "outputs": [],
      "source": [
        "# find occurences of year start times\n",
        "a = list(bands['formed'].to_dict().values())\n",
        "b = list(bands['split'].to_dict().values())\n",
        "year_counts = {i:a.count(i) for i in a if '-' not in i}\n",
        "split_counts = {i:b.count(i) for i in b if '-' not in i}\n",
        "year_df = pd.DataFrame()\n",
        "year_df['band_counts'] = pd.Series(year_counts)\n",
        "year_df['split_count'] = pd.Series(split_counts)\n",
        "\n",
        "# seaborn\n",
        "sns.plt.title('Bands Started Per Year 1979-2016')\n",
        "ax = sns.barplot(x=year_df.index, y = year_df['band_counts'])\n",
        "ax.set(xlabel='year', ylabel='band_count', xticklabels=[])\n",
        "plt.show()"
      ]
    },
    {
      "cell_type": "markdown",
      "metadata": {
        "_cell_guid": "0d818a04-adbb-9fba-2e00-e1ce041dcc20"
      },
      "source": [
        "When I first saw this I thought it was pretty depressing, looks like metal music is dead, there are hardly any new bands coming out... but then I realized that there are a lot of bands sticking around as well.  So lets take a look at bands starting vs bands quitting."
      ]
    },
    {
      "cell_type": "code",
      "execution_count": null,
      "metadata": {
        "_cell_guid": "677da7b3-c841-944c-629e-4fa78055c3e3"
      },
      "outputs": [],
      "source": [
        "bands['formed'] = pd.to_numeric(bands['formed'], errors='coerce')\n",
        "bands['split'] = pd.to_numeric(bands['split'], errors='coerce')\n",
        "sns.violinplot(data=bands[['formed', 'split']], inner='quartile')"
      ]
    },
    {
      "cell_type": "markdown",
      "metadata": {
        "_cell_guid": "a85d9ed2-6648-39c9-21f7-1ea99bbc56ff"
      },
      "source": [
        "Great!  At least the rate of bands breaking up has dramatically decreased too.  This might mean the eventual heat death of the metal genre however...though maybe a resurgence could inject some new life into the genre (as was encountered in the early 2000s).  So until the eventual heat occurs I wanted to at least see how many bands are currently active, this might give us a better indication of life."
      ]
    },
    {
      "cell_type": "code",
      "execution_count": null,
      "metadata": {
        "_cell_guid": "e11d6299-8e0c-5b16-3daa-bdf64b9f18f3"
      },
      "outputs": [],
      "source": [
        "year_df.fillna(0, inplace=True)\n",
        "bands_alive = {}\n",
        "prev_value = 0\n",
        "for index, row in year_df.iterrows():\n",
        "    new_total = prev_value + row['band_counts'] - row['split_count']\n",
        "    bands_alive[index] = new_total\n",
        "    prev_value = new_total\n",
        "year_df['active_count'] = pd.Series(bands_alive)\n",
        "\n",
        "plt.title('Active Bands Per Year 1970-2016')\n",
        "ax = sns.barplot(x=year_df.index, y = year_df['active_count'])\n",
        "ax.set(xlabel='year', ylabel='active_count', xticklabels=[])"
      ]
    },
    {
      "cell_type": "markdown",
      "metadata": {
        "_cell_guid": "293f9f63-63e1-71fe-c0b2-5bcd397c2ac3"
      },
      "source": [
        "So for now at least the amount of metal bands is hitting a plateau a little over 2500 with a slight decline showing.\n",
        "\n",
        "So this was a pretty fun exercise.  I think I could have used a few dataframe tricks to make the data modeling code smaller, but I just used the first method that came to mind and happened to work."
      ]
    }
  ],
  "metadata": {
    "_change_revision": 0,
    "_is_fork": false,
    "kernelspec": {
      "display_name": "Python 3",
      "language": "python",
      "name": "python3"
    },
    "language_info": {
      "codemirror_mode": {
        "name": "ipython",
        "version": 3
      },
      "file_extension": ".py",
      "mimetype": "text/x-python",
      "name": "python",
      "nbconvert_exporter": "python",
      "pygments_lexer": "ipython3",
      "version": "3.6.0"
    }
  },
  "nbformat": 4,
  "nbformat_minor": 0
}