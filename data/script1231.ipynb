{
  "cells": [
    {
      "cell_type": "markdown",
      "metadata": {
        "_cell_guid": "e29888aa-8eb8-e86c-f7ea-335b3721bcfa"
      },
      "source": [
        "# **Use keras to count Sea Lions**"
      ]
    },
    {
      "cell_type": "code",
      "execution_count": null,
      "metadata": {
        "_cell_guid": "6ebfb9d2-30a4-2a86-ee32-8199c410d84c"
      },
      "outputs": [],
      "source": [
        "import numpy as np\n",
        "import cv2\n",
        "import matplotlib.pyplot as plt\n",
        "import skimage.feature\n",
        "import keras\n",
        "from keras.models import Sequential\n",
        "from keras.layers import Dense, Activation, Flatten, Conv2D, MaxPooling2D"
      ]
    },
    {
      "cell_type": "code",
      "execution_count": null,
      "metadata": {
        "_cell_guid": "f988a32b-f725-3a21-2ae1-64ad6b8b140d"
      },
      "outputs": [],
      "source": [
        "r = 0.4\n",
        "width = 100"
      ]
    },
    {
      "cell_type": "markdown",
      "metadata": {
        "_cell_guid": "155679de-9f9b-5e2b-a0ca-914e65bdea29"
      },
      "source": [
        "**Get dot coordinates and cut image to patches :** (thanks to Radu Stoicescu)"
      ]
    },
    {
      "cell_type": "code",
      "execution_count": null,
      "metadata": {
        "_cell_guid": "6e343a6d-c109-2f3c-10ba-ab218a95c8de"
      },
      "outputs": [],
      "source": [
        "def GetData(filename):\n",
        "    # read the Train and Train Dotted images\n",
        "    image_1 = cv2.imread(\"../input/TrainDotted/\" + filename)\n",
        "    image_2 = cv2.imread(\"../input/Train/\" + filename)\n",
        "    img1 = cv2.GaussianBlur(image_1,(5,5),0)\n",
        "\n",
        "    # absolute difference between Train and Train Dotted\n",
        "    image_3 = cv2.absdiff(image_1,image_2)\n",
        "    mask_1 = cv2.cvtColor(image_1, cv2.COLOR_BGR2GRAY)\n",
        "    mask_1[mask_1 < 50] = 0\n",
        "    mask_1[mask_1 > 0] = 255\n",
        "    image_4 = cv2.bitwise_or(image_3, image_3, mask=mask_1)\n",
        "\n",
        "    # convert to grayscale to be accepted by skimage.feature.blob_log\n",
        "    image_6 = np.max(image_4,axis=2)\n",
        "\n",
        "    # detect blobs\n",
        "    blobs = skimage.feature.blob_log(image_6, min_sigma=3, max_sigma=7, num_sigma=1, threshold=0.05)\n",
        "\n",
        "    h,w,d = image_2.shape\n",
        "\n",
        "    res=np.zeros((int((w*r)//width)+1,int((h*r)//width)+1,5), dtype='int16')\n",
        "\n",
        "    for blob in blobs:\n",
        "        # get the coordinates for each blob\n",
        "        y, x, s = blob\n",
        "        # get the color of the pixel from Train Dotted in the center of the blob\n",
        "        b,g,R = img1[int(y)][int(x)][:]\n",
        "        x1 = int((x*r)//width)\n",
        "        y1 = int((y*r)//width)\n",
        "        # decision tree to pick the class of the blob by looking at the color in Train Dotted\n",
        "        if R > 225 and b < 25 and g < 25: # RED\n",
        "            res[x1,y1,0]+=1\n",
        "        elif R > 225 and b > 225 and g < 25: # MAGENTA\n",
        "            res[x1,y1,1]+=1\n",
        "        elif R < 75 and b < 50 and 150 < g < 200: # GREEN\n",
        "            res[x1,y1,4]+=1\n",
        "        elif R < 75 and  150 < b < 200 and g < 75: # BLUE\n",
        "            res[x1,y1,3]+=1\n",
        "        elif 60 < R < 120 and b < 50 and g < 75:  # BROWN\n",
        "            res[x1,y1,2]+=1\n",
        "\n",
        "    ma = cv2.cvtColor((1*(np.sum(image_1, axis=2)>20)).astype('uint8'), cv2.COLOR_GRAY2BGR)\n",
        "    img = cv2.resize(image_2 * ma, (int(w*r),int(h*r)))\n",
        "    h1,w1,d = img.shape\n",
        "\n",
        "    trainX = []\n",
        "    trainY = []\n",
        "\n",
        "    for i in range(int(w1//width)):\n",
        "        for j in range(int(h1//width)):\n",
        "            trainY.append(res[i,j,:])\n",
        "            trainX.append(img[j*width:j*width+width,i*width:i*width+width,:])\n",
        "\n",
        "    return np.array(trainX), np.array(trainY)\n",
        "\n",
        "def rmse(predictions, targets):\n",
        "    return np.sqrt(((predictions - targets) ** 2).mean())"
      ]
    },
    {
      "cell_type": "markdown",
      "metadata": {
        "_cell_guid": "1233be31-b216-19e3-e61b-9fb6f5cb8e30"
      },
      "source": [
        "**Use only 1 image, split to train/test.**"
      ]
    },
    {
      "cell_type": "code",
      "execution_count": null,
      "metadata": {
        "_cell_guid": "fcf3edc8-c64f-cf4e-d0dd-a58329f6f7b9"
      },
      "outputs": [],
      "source": [
        "trainX, trainY = GetData(\"0.jpg\")\n",
        "\n",
        "np.random.seed(1004)\n",
        "randomize = np.arange(len(trainX))\n",
        "np.random.shuffle(randomize)\n",
        "trainX = trainX[randomize]\n",
        "trainY = trainY[randomize]\n",
        "\n",
        "n_train = int(len(trainX) * 0.7)\n",
        "testX = trainX[n_train:]\n",
        "testY = trainY[n_train:]\n",
        "trainX = trainX[:n_train]\n",
        "trainY = trainY[:n_train]\n",
        "\n",
        "print(trainY.shape, trainY[0])\n",
        "print(testY.shape, testY[0])"
      ]
    },
    {
      "cell_type": "markdown",
      "metadata": {
        "_cell_guid": "8ad7f45a-e8b6-d63d-d781-8499574bf167"
      },
      "source": [
        "**Patches looks like :**"
      ]
    },
    {
      "cell_type": "code",
      "execution_count": null,
      "metadata": {
        "_cell_guid": "2838a615-57f2-6eae-1b75-c80ec3422941"
      },
      "outputs": [],
      "source": [
        "fig = plt.figure(figsize=(12,12))\n",
        "for i in range(4):\n",
        "    ax = fig.add_subplot(1,4,i+1)\n",
        "    plt.imshow(cv2.cvtColor(trainX[i], cv2.COLOR_BGR2RGB))\n",
        "print(trainY[:4])"
      ]
    },
    {
      "cell_type": "markdown",
      "metadata": {
        "_cell_guid": "7dbff9b6-db78-a721-9245-03ceaa7085c0"
      },
      "source": [
        "**Keras CNN model, for example :**"
      ]
    },
    {
      "cell_type": "code",
      "execution_count": null,
      "metadata": {
        "_cell_guid": "15676918-1a5c-3afd-3857-037bd69d1546"
      },
      "outputs": [],
      "source": [
        "model = Sequential()\n",
        "\n",
        "model.add(Conv2D(32, (3, 3), activation='relu', padding='same', input_shape=(width,width,3)))\n",
        "model.add(Conv2D(32, (3, 3), activation='relu', padding='same'))\n",
        "model.add(MaxPooling2D(pool_size=(2,2)))\n",
        "model.add(Conv2D(64, (3, 3), activation='relu', padding='same'))\n",
        "model.add(Conv2D(64, (3, 3), activation='relu', padding='same'))\n",
        "model.add(MaxPooling2D(pool_size=(2,2)))\n",
        "model.add(Conv2D(128, (3, 3), activation='relu', padding='same'))\n",
        "model.add(Conv2D(128, (3, 3), activation='relu', padding='same'))\n",
        "model.add(MaxPooling2D(pool_size=(2,2)))\n",
        "model.add(Flatten())\n",
        "model.add(Dense(256, activation='relu'))\n",
        "model.add(Dense(5, activation='linear'))\n",
        "\n",
        "#model.summary()"
      ]
    },
    {
      "cell_type": "markdown",
      "metadata": {
        "_cell_guid": "be8659b0-304d-c197-b417-5183a81974f7"
      },
      "source": [
        "**Start training slowly :**"
      ]
    },
    {
      "cell_type": "code",
      "execution_count": null,
      "metadata": {
        "_cell_guid": "2048e2d0-f473-cb4f-7525-bbc3075717c2"
      },
      "outputs": [],
      "source": [
        "optim = keras.optimizers.SGD(lr=1e-5, momentum=0.2)\n",
        "model.compile(loss='mean_squared_error', optimizer=optim)\n",
        "model.fit(trainX, trainY, epochs=10, verbose=2)"
      ]
    },
    {
      "cell_type": "markdown",
      "metadata": {
        "_cell_guid": "9c85e582-becd-ed9f-a60d-3528e44911f5"
      },
      "source": [
        "**Then speed up :**"
      ]
    },
    {
      "cell_type": "code",
      "execution_count": null,
      "metadata": {
        "_cell_guid": "470ee712-89e8-3149-6a6a-863a1cb2c1be"
      },
      "outputs": [],
      "source": [
        "optim = keras.optimizers.SGD(lr=1e-4, momentum=0.9)\n",
        "model.compile(loss='mean_squared_error', optimizer=optim)"
      ]
    },
    {
      "cell_type": "markdown",
      "metadata": {
        "_cell_guid": "c039ea44-222e-db2f-5581-9bf807d6fd99"
      },
      "source": [
        "**May execute model.fit() many times, or change parameters for better convergence ...**"
      ]
    },
    {
      "cell_type": "code",
      "execution_count": null,
      "metadata": {
        "_cell_guid": "e561e381-7528-33e4-1c4a-00e2afe53956"
      },
      "outputs": [],
      "source": [
        "model.fit(trainX, trainY, epochs=30, verbose=2)"
      ]
    },
    {
      "cell_type": "markdown",
      "metadata": {
        "_cell_guid": "e26e2efe-0b9d-8aef-6002-b9608acc8fd0"
      },
      "source": [
        "**Test :**"
      ]
    },
    {
      "cell_type": "code",
      "execution_count": null,
      "metadata": {
        "_cell_guid": "1cad34c2-c304-0b45-00f8-b4e892673f0c"
      },
      "outputs": [],
      "source": [
        "result = model.predict(trainX)\n",
        "print('Training set --')\n",
        "print('    ground truth: ', np.sum(trainY, axis=0))\n",
        "print('  evaluate count: ', np.sum(result*(result>0.5), axis=0).astype('int'))\n",
        "\n",
        "result = model.predict(testX)\n",
        "print('Testing set --')\n",
        "print('    ground truth: ', np.sum(testY, axis=0))\n",
        "print('   predict count: ', np.sum(result*(result>0.5), axis=0).astype('int'))"
      ]
    },
    {
      "cell_type": "markdown",
      "metadata": {
        "_cell_guid": "0ff05b53-abbf-cdb7-ea9b-635f1822da22"
      },
      "source": [
        "**Try to expand model and data, run with GPU ...\n",
        "Good luck.** "
      ]
    }
  ],
  "metadata": {
    "_change_revision": 0,
    "_is_fork": false,
    "kernelspec": {
      "display_name": "Python 3",
      "language": "python",
      "name": "python3"
    },
    "language_info": {
      "codemirror_mode": {
        "name": "ipython",
        "version": 3
      },
      "file_extension": ".py",
      "mimetype": "text/x-python",
      "name": "python",
      "nbconvert_exporter": "python",
      "pygments_lexer": "ipython3",
      "version": "3.6.0"
    }
  },
  "nbformat": 4,
  "nbformat_minor": 0
}