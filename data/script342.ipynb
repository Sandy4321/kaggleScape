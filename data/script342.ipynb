{
  "cells": [
    {
      "cell_type": "markdown",
      "metadata": {
        "_cell_guid": "22644edb-0b2a-5c1b-07d4-d38ef1ad9828"
      },
      "source": [
        "This notebook tries to describe the trend of Japan trade statistics and relationship among each world areas. "
      ]
    },
    {
      "cell_type": "code",
      "execution_count": null,
      "metadata": {
        "_cell_guid": "2aad030a-69ba-c800-75ae-bb01f348c1f9"
      },
      "outputs": [],
      "source": [
        "# This Python 3 environment comes with many helpful analytics libraries installed\n",
        "# It is defined by the kaggle/python docker image: https://github.com/kaggle/docker-python\n",
        "# For example, here's several helpful packages to load in \n",
        "\n",
        "import numpy as np # linear algebra\n",
        "import pandas as pd # data processing, CSV file I/O (e.g. pd.read_csv)\n",
        "import matplotlib.pyplot as plt\n",
        "import seaborn\n",
        "\n",
        "# Input data files are available in the \"../input/\" directory.\n",
        "# For example, running this (by clicking run or pressing Shift+Enter) will list the files in the input directory\n",
        "\n",
        "from subprocess import check_output\n",
        "print(check_output([\"ls\", \"../input\"]).decode(\"utf8\"))\n",
        "\n",
        "# Any results you write to the current directory are saved as output."
      ]
    },
    {
      "cell_type": "markdown",
      "metadata": {
        "_cell_guid": "127fbb0a-6b79-22aa-1cb9-144e70ef9259"
      },
      "source": [
        "`year_latest` is a statistics which collects the value of the goods between Japan and the other countries. These records include \n",
        "\n",
        "* `VY` is a value of goods which was traded\n",
        "* `hs2` is a top category which was categorized hierarchically by [HS code](http://www.foreign-trade.com/reference/hscode.htm).\n",
        "* `hs4` is a second categorization as well as hs2\n",
        "* `hs6` is a third one\n",
        "* `Year` specifies a records is a statistics of the year."
      ]
    },
    {
      "cell_type": "code",
      "execution_count": null,
      "metadata": {
        "_cell_guid": "7ab8a71a-9fe8-e4db-5cb0-f5a78482721e"
      },
      "outputs": [],
      "source": [
        "# The trade statistics records for each year from 1988 to 2016\n",
        "df = pd.read_csv('../input/year_latest.csv')\n",
        "\n",
        "df.head()"
      ]
    },
    {
      "cell_type": "code",
      "execution_count": null,
      "metadata": {
        "_cell_guid": "3386607b-d5c2-37f7-fa7b-8d222374093c"
      },
      "outputs": [],
      "source": [
        "# The area and country codes\n",
        "country_df = pd.read_csv('../input/country_eng.csv')\n",
        "\n",
        "country_df.head()"
      ]
    },
    {
      "cell_type": "markdown",
      "metadata": {
        "_cell_guid": "5048d328-c267-6429-8acc-e360865d3fdf"
      },
      "source": [
        "# Trade with each area"
      ]
    },
    {
      "cell_type": "code",
      "execution_count": null,
      "metadata": {
        "_cell_guid": "4b7e6d96-258a-9e6c-9bf5-7b6080517703"
      },
      "outputs": [],
      "source": [
        "# Joined trade records with Country name\n",
        "joined_df = pd.merge(df, country_df, on=['Country'])\n",
        "\n",
        "# Plot VY transition\n",
        "def plot_vys(column_value, column_name):\n",
        "    data = vys[vys[column_name] == column_value]\n",
        "    plt.plot(data['Year'], data['VY'], label=column_value)\n",
        "    \n",
        "areas = np.unique(country_df['Area'].values)\n",
        "    \n",
        "grouped_by_area = joined_df[['Year', 'VY', 'Area']].groupby(['Area', 'Year'], as_index=False)\n",
        "vys = grouped_by_area.aggregate(np.sum)\n",
        "\n",
        "plt.figure(figsize=(7.5, 8))\n",
        "for area in areas:\n",
        "    plot_vys(area, 'Area')\n",
        "    \n",
        "plt.legend(bbox_to_anchor=(1.05, 1), loc=2, borderaxespad=0.)\n",
        "plt.show()"
      ]
    },
    {
      "cell_type": "markdown",
      "metadata": {
        "_cell_guid": "cf5e27ab-af77-834c-70c9-786d98ee41b8"
      },
      "source": [
        "This graph shows Asia area is the biggest trade partner for Japan and the most growing partner. One thing to note here is that the VY is decreasing at 2008 for all areas. This trend was caused by \"Reman Shock\" which hit all around the world. And the VY value does not come back at the same level to before \"Reman Shock\" except for Asia area. \n",
        "\n",
        "In addition there are two time span when trade value was decreased in the plot between Middle East.  Japan depends on the oil imported from mainly Middle East. So the trend was caused by crude oil weaker trend recently. Let's confirm the main goods from Middle East.\n",
        "\n",
        "# Trade with Middle East"
      ]
    },
    {
      "cell_type": "code",
      "execution_count": null,
      "metadata": {
        "_cell_guid": "9b56f157-2851-3ea0-aabc-6c7d664fa535"
      },
      "outputs": [],
      "source": [
        "hs2_df = pd.read_csv('../input/hs2_eng.csv')\n",
        "middle_east_df = joined_df[joined_df['Area'] == 'Middle_East']\n",
        "\n",
        "grouped_by_hs2 = joined_df[['Year', 'VY', 'hs2']].groupby(['hs2','Year'], as_index=False)\n",
        "\n",
        "vys = grouped_by_hs2.aggregate(np.sum)\n",
        "vys = pd.merge(vys, hs2_df, on=['hs2'])\n",
        "\n",
        "main_goods = vys[vys['VY'] >  0.4 * 1e10]\n",
        "hs2_names = np.unique(main_goods['hs2_name'].values)\n",
        "\n",
        "for hs2_name in hs2_names:\n",
        "    plot_vys(hs2_name, 'hs2_name')\n",
        "\n",
        "plt.legend()\n",
        "plt.legend(bbox_to_anchor=(1.0, 1), loc=2, borderaxespad=0.)\n",
        "plt.show()"
      ]
    },
    {
      "cell_type": "markdown",
      "metadata": {
        "_cell_guid": "411f313f-b3e3-1f0d-7943-0b1b2c6ed24e"
      },
      "source": [
        "We can see several goods are traded between Japan and Middle East areas. As expected the most traded goods after 2010 is \"Fuels\". \"Fuels\" is the only good which trade was decreased from 2014's. "
      ]
    },
    {
      "cell_type": "code",
      "execution_count": null,
      "metadata": {
        "_cell_guid": "dd352aad-10a5-d7f9-0d40-3563a1491794"
      },
      "outputs": [],
      "source": [
        "areas = np.unique(country_df['Area'].values)\n",
        "    \n",
        "grouped_by_area = joined_df[['Year', 'VY', 'Area']].groupby(['Area', 'Year'], as_index=False)\n",
        "vys = grouped_by_area.aggregate(np.sum)\n",
        "plt.figure(figsize=(12.0, 8))\n",
        "g = seaborn.boxplot(x=\"Area\", y=\"VY\", data=vys, palette=\"PRGn\")\n",
        "g.set_xticklabels(labels=areas, rotation=45)"
      ]
    },
    {
      "cell_type": "markdown",
      "metadata": {
        "_cell_guid": "e2d57ae2-9787-6417-9489-d33b32f99bf7"
      },
      "source": [
        "We can see the trade growth (the difference between mean value and high deviation) of Asia are is the most. On the other hand the trade between Japan and North America or Western Europe relatively stable though they are ranked as 2nd and 3rd position. The growth of Middle East is relatively high compared with North America and Western Europe.\n",
        "\n",
        "# Trade with Asian countries"
      ]
    },
    {
      "cell_type": "code",
      "execution_count": null,
      "metadata": {
        "_cell_guid": "f67c3582-8866-1cbf-42b9-f8391ec28afb"
      },
      "outputs": [],
      "source": [
        "grouped_by_country = joined_df[['Year', 'VY', 'Country_name']].groupby(['Country_name','Year'], as_index=False)\n",
        "\n",
        "vys = grouped_by_country.aggregate(np.sum)"
      ]
    },
    {
      "cell_type": "code",
      "execution_count": null,
      "metadata": {
        "_cell_guid": "fe4eef6c-3992-9c36-7043-4d4863cf3c93"
      },
      "outputs": [],
      "source": [
        "plt.figure(figsize=(7.5, 8))\n",
        "\n",
        "asia_countries = country_df[country_df['Area'] == 'Asia']['Country_name']\n",
        "    \n",
        "for country in asia_countries:\n",
        "    plot_vys(country, 'Country_name')\n",
        "\n",
        "plt.legend(bbox_to_anchor=(1.05, 1), loc=2, borderaxespad=0.)\n",
        "plt.show()"
      ]
    },
    {
      "cell_type": "markdown",
      "metadata": {
        "_cell_guid": "c8838ef8-523a-a45a-5b91-8cb45736ded6"
      },
      "source": [
        "# Trade with China\n",
        "\n",
        "China is the biggest trade partner for Japan. Let's take a look into detail of trade with this country."
      ]
    },
    {
      "cell_type": "code",
      "execution_count": null,
      "metadata": {
        "_cell_guid": "6bbaf155-0079-7e34-167d-7a66ec9e117d"
      },
      "outputs": [],
      "source": [
        "# Trade values with China\n",
        "china_df = joined_df[joined_df['Country_name'] == 'People\\'s_Republic_of_China']\n",
        "grouped_by_hs2 = china_df[['Year', 'VY', 'hs2']].groupby(['hs2','Year'], as_index=False)\n",
        "\n",
        "vys = grouped_by_hs2.aggregate(np.sum)\n",
        "vys = pd.merge(vys, hs2_df, on=['hs2'])\n",
        "vys.head()"
      ]
    },
    {
      "cell_type": "code",
      "execution_count": null,
      "metadata": {
        "_cell_guid": "57f27327-eb66-5f3d-ef68-890d3c07e1cb"
      },
      "outputs": [],
      "source": [
        "main_goods = vys[vys['VY'] >  0.15 * 1e10]\n",
        "hs2_names = np.unique(main_goods['hs2_name'].values)\n",
        "\n",
        "for hs2_name in hs2_names:\n",
        "    plot_vys(hs2_name, 'hs2_name')\n",
        "\n",
        "plt.legend(bbox_to_anchor=(1., 1), loc=2, borderaxespad=0.)\n",
        "plt.show()"
      ]
    },
    {
      "cell_type": "markdown",
      "metadata": {
        "_cell_guid": "fc62503e-eac5-781f-b106-59a942090016"
      },
      "source": [
        "We can see the biggest goods traded with Chine is machinery type goods."
      ]
    },
    {
      "cell_type": "code",
      "execution_count": null,
      "metadata": {
        "_cell_guid": "cd232738-573c-f977-3622-6b3100fc6ba8"
      },
      "outputs": [],
      "source": [
        "minor_goods = vys[vys['VY'] <  0.1 * 1e6]\n",
        "hs2_names = np.unique(minor_goods['hs2_name'].values)\n",
        "\n",
        "pivotted_vys = vys[vys['hs2_name'].isin(hs2_names)]\n",
        "pivotted_vys = pivotted_vys.pivot('Year' ,'hs2_name', 'VY')\n",
        "plt.figure(figsize=(12.0, 8))\n",
        "g = seaborn.heatmap(pivotted_vys, annot=True, linewidths=.5)\n",
        "g.set_xticklabels(labels=hs2_names, rotation=45)"
      ]
    },
    {
      "cell_type": "markdown",
      "metadata": {
        "_cell_guid": "5246a72b-9d40-2140-76fe-471ce663dd8f"
      },
      "source": [
        "Minor goods traded with China such as Aircraft or Corks are not changing so much."
      ]
    },
    {
      "cell_type": "markdown",
      "metadata": {
        "_cell_guid": "084afe03-88fa-1d8f-1899-216af1f87c83"
      },
      "source": [
        "# Conclusion\n",
        "\n",
        "We can see some interesting points from these data set.\n",
        "\n",
        "* The trade value was decreased at 2008 all over the world.\n",
        "* The main goods traded between Japan and Middle East is crude oil.\n",
        "* The trade value of crude oil was decreasing recently due to low price of oil.\n",
        "* China is the biggest trade partner for Japan.\n",
        "* The main goods traded between Japan and China is machinery."
      ]
    }
  ],
  "metadata": {
    "_change_revision": 0,
    "_is_fork": false,
    "kernelspec": {
      "display_name": "Python 3",
      "language": "python",
      "name": "python3"
    },
    "language_info": {
      "codemirror_mode": {
        "name": "ipython",
        "version": 3
      },
      "file_extension": ".py",
      "mimetype": "text/x-python",
      "name": "python",
      "nbconvert_exporter": "python",
      "pygments_lexer": "ipython3",
      "version": "3.5.2"
    }
  },
  "nbformat": 4,
  "nbformat_minor": 0
}