{
  "cells": [
    {
      "cell_type": "markdown",
      "metadata": {
        "_cell_guid": "29a50f62-5bfa-3d9e-2b90-e0f4d7861b5d"
      },
      "source": [
        "# Global Terrorism (1970 - 2015)"
      ]
    },
    {
      "cell_type": "code",
      "execution_count": null,
      "metadata": {
        "_cell_guid": "b0856edb-f8b0-9459-881f-0799ed38a1fe"
      },
      "outputs": [],
      "source": [
        "import pandas as pd\n",
        "import numpy as np\n",
        "import matplotlib.pyplot as plt\n",
        "%matplotlib inline\n",
        "from mpl_toolkits.basemap import Basemap\n",
        "import matplotlib.animation as animation\n",
        "from IPython.display import HTML\n",
        "import warnings\n",
        "warnings.filterwarnings('ignore')\n",
        "\n",
        "try:\n",
        "    t_file = pd.read_csv('../input/globalterrorismdb_0616dist.csv', encoding='ISO-8859-1')\n",
        "    print('File load: Success')\n",
        "except:\n",
        "    print('File load: Failed')"
      ]
    },
    {
      "cell_type": "code",
      "execution_count": null,
      "metadata": {
        "_cell_guid": "e97282b8-802f-11a3-12b1-e19283e341d6"
      },
      "outputs": [],
      "source": [
        "t_file = t_file[np.isfinite(t_file.latitude)]"
      ]
    },
    {
      "cell_type": "code",
      "execution_count": null,
      "metadata": {
        "_cell_guid": "423caec6-5764-5590-aeec-f33944d14eef"
      },
      "outputs": [],
      "source": [
        "t_file.head()"
      ]
    },
    {
      "cell_type": "code",
      "execution_count": null,
      "metadata": {
        "_cell_guid": "38262292-7e74-6392-a12e-d9408076da82"
      },
      "outputs": [],
      "source": [
        "regions = list(set(t_file.region_txt))\n",
        "colors = ['yellow', 'red', 'lightblue', 'purple', 'green', 'orange', 'brown',\\\n",
        "          'aqua', 'lightpink', 'lightsage', 'lightgray', 'navy']"
      ]
    },
    {
      "cell_type": "code",
      "execution_count": null,
      "metadata": {
        "_cell_guid": "73175d56-562c-176b-3351-060749506735"
      },
      "outputs": [],
      "source": [
        "plt.figure(figsize=(15,8))\n",
        "m = Basemap(projection='mill',llcrnrlat=-80,urcrnrlat=80, llcrnrlon=-180,urcrnrlon=180,lat_ts=20,resolution='c')\n",
        "m.drawcoastlines()\n",
        "m.drawcountries()\n",
        "m.fillcontinents(color='burlywood',lake_color='lightblue', zorder = 1)\n",
        "m.drawmapboundary(fill_color='lightblue')\n",
        "\n",
        "def pltpoints(region, color = None, label = None):\n",
        "    x, y = m(list(t_file.longitude[t_file.region_txt == region].astype(\"float\")),\\\n",
        "            (list(t_file.latitude[t_file.region_txt == region].astype(\"float\"))))\n",
        "    points = m.plot(x, y, \"o\", markersize = 4, color = color, label = label, alpha = .5)\n",
        "    return(points)\n",
        "\n",
        "for i, region in enumerate(regions):\n",
        "    pltpoints(region, color = colors[i], label = region)  \n",
        "    \n",
        "plt.title(\"Global Terrorism (1970 - 2015)\")\n",
        "plt.legend(loc ='lower left', prop= {'size':11})\n",
        "plt.show()    "
      ]
    },
    {
      "cell_type": "markdown",
      "metadata": {
        "_cell_guid": "029c104a-28b9-0f21-9784-af86a32c39f1"
      },
      "source": [
        "**From the graph above, we can see, that terrorism is widespread, but judging by where the points are located, and quite obviously, it mostly affects areas that are more densley populated.**"
      ]
    },
    {
      "cell_type": "code",
      "execution_count": null,
      "metadata": {
        "_cell_guid": "8f76c198-101c-c5bc-10ad-851ea79043e4"
      },
      "outputs": [],
      "source": [
        "count_year = t_file.groupby(['iyear']).count()\n",
        "mean_year = t_file.groupby(['iyear']).mean()\n",
        "\n",
        "fig = plt.figure(figsize = (10,8))\n",
        "ax1 = fig.add_subplot(1,2,1)\n",
        "ax2 = fig.add_subplot(1,2,2)\n",
        "ax1.set(title = 'Total acts of terrorism', ylabel = 'Act Count', xlabel = 'Year')\n",
        "ax1.plot(count_year.index, count_year.eventid)\n",
        "ax2.set(title = 'Average Number of Deaths per Act', ylabel = 'Death Count', xlabel = 'Year')\n",
        "ax2.plot(mean_year.index, mean_year.nkill)\n",
        "fig.autofmt_xdate()"
      ]
    },
    {
      "cell_type": "markdown",
      "metadata": {
        "_cell_guid": "93337957-13ce-06f8-28c3-024ce9c394ce"
      },
      "source": [
        "**As we can see from the above graphs, not only has the number of terroristic acts increased, but also the number of deaths per act hs been on the rise. This could possible be due to there being more densely populated areas over time.**"
      ]
    },
    {
      "cell_type": "code",
      "execution_count": null,
      "metadata": {
        "_cell_guid": "33bcd0ff-dca6-2e94-5795-6014f5f8458a"
      },
      "outputs": [],
      "source": [
        "region_mean_kills = []\n",
        "for region in regions:\n",
        "    region_mean_kills.append(t_file.nkill[t_file.region_txt == region].mean())\n",
        "\n",
        "print('Average number of people killed per attack by Region\\n')\n",
        "for i, region in enumerate(regions):\n",
        "    print('{}:{}'.format(region, round(region_mean_kills[i],2)))"
      ]
    },
    {
      "cell_type": "markdown",
      "metadata": {
        "_cell_guid": "1ab2ac08-61da-1a0b-8183-8753525ea9d7"
      },
      "source": [
        "**We can also note, that on average, every terror attack in Sub-Saharan Africa claims over 5 lives.**\n"
      ]
    },
    {
      "cell_type": "code",
      "execution_count": null,
      "metadata": {
        "_cell_guid": "cc6ba286-d044-321e-87a8-0e98ea49b9a3"
      },
      "outputs": [],
      "source": [
        "def mapmean(row):\n",
        "    for i, region in enumerate(regions):\n",
        "        return region_mean_kills[i]"
      ]
    },
    {
      "cell_type": "code",
      "execution_count": null,
      "metadata": {
        "_cell_guid": "c413e608-5cc6-3d3f-1f98-0208cf96eb3d"
      },
      "outputs": [],
      "source": [
        "t_file['region_mean'] = t_file.apply(mapmean, axis = 1)\n",
        "t_file['nkill-mean'] = t_file['nkill'] - t_file['region_mean']\n",
        "t_file['absnkill-mean'] = abs(t_file['nkill-mean'])"
      ]
    },
    {
      "cell_type": "code",
      "execution_count": null,
      "metadata": {
        "_cell_guid": "76dd9a27-1988-5dbb-b028-0fa227d4d478"
      },
      "outputs": [],
      "source": [
        "def get_points(year, region = regions):\n",
        "    points = t_file[['iyear', 'latitude', 'longitude', 'nkill', 'region_mean', 'nkill-mean', 'absnkill-mean']][t_file.iyear == year]\n",
        "    return(points)"
      ]
    },
    {
      "cell_type": "markdown",
      "metadata": {
        "_cell_guid": "1e6a29ba-52ba-61cb-fa39-d701d4c7f557"
      },
      "source": [
        "# Lastly:\n",
        "    \n",
        "**Here is an animation of how terrorism has progressed from 1970 through 2015**"
      ]
    },
    {
      "cell_type": "code",
      "execution_count": null,
      "metadata": {
        "_cell_guid": "9b607ba2-86d9-bf1d-6905-067ee32f8e04"
      },
      "outputs": [],
      "source": [
        "fig = plt.figure(figsize=(10, 10))\n",
        "fig.text(.8, .3, 'R. Troncoso', ha='right')\n",
        "fig.suptitle('Global Terrorism (1970 - 2015)')\n",
        "cmap = plt.get_cmap('coolwarm')\n",
        "\n",
        "m = Basemap(projection='mill',llcrnrlat=-80,urcrnrlat=80, llcrnrlon=-180,urcrnrlon=180,lat_ts=20,resolution='c')\n",
        "m.drawcoastlines()\n",
        "m.drawcountries()\n",
        "m.fillcontinents(color='burlywood',lake_color='lightblue', zorder = 1)\n",
        "m.drawmapboundary(fill_color='lightblue')\n",
        "\n",
        "START_YEAR = 1970\n",
        "LAST_YEAR = 2015\n",
        "\n",
        "points = get_points(START_YEAR)\n",
        "x, y= m(list(points['longitude']), list(points['latitude']))\n",
        "scat = m.scatter(x, y, s = points['absnkill-mean']*2, marker='o', alpha=0.3, zorder=10, c = points['nkill-mean'], cmap = cmap)\n",
        "year_text = plt.text(-170, 80, str(START_YEAR),fontsize=15)\n",
        "plt.close()\n",
        "\n",
        "def update(frame_number):\n",
        "    current_year = START_YEAR + (frame_number % (LAST_YEAR - START_YEAR + 1))\n",
        "    points = get_points(current_year)\n",
        "    color = list(points['nkill-mean'])\n",
        "    x, y = m(list(points['longitude']), list(points['latitude']))\n",
        "    scat.set_offsets(np.dstack((x, y)))\n",
        "    scat.set_color(cmap(points['nkill-mean']))\n",
        "    scat.set_sizes(points['absnkill-mean']*1.5)\n",
        "    year_text.set_text(str(current_year))\n",
        "    \n",
        "ani = animation.FuncAnimation(fig, update, interval=750, frames=LAST_YEAR - START_YEAR + 1)\n",
        "ani.save('animation.gif', writer='imagemagick', fps=2)"
      ]
    },
    {
      "cell_type": "code",
      "execution_count": null,
      "metadata": {
        "_cell_guid": "88ad0fa1-217f-965d-915f-be678fac4afe"
      },
      "outputs": [],
      "source": [
        "import io\n",
        "import base64\n",
        "\n",
        "filename = 'animation.gif'\n",
        "\n",
        "video = io.open(filename, 'r+b').read()\n",
        "encoded = base64.b64encode(video)\n",
        "HTML(data='''<img src=\"data:image/gif;base64,{0}\" type=\"gif\" />'''.format(encoded.decode('ascii')))"
      ]
    },
    {
      "cell_type": "markdown",
      "metadata": {
        "_cell_guid": "e0f520b2-df03-095b-09d0-5dee5146b652"
      },
      "source": [
        "**The points above represent the all terrorist attacks.**\n",
        "\n",
        "**The color and size represent the number of people killed during that particular attack.**\n",
        "\n",
        "**As you can see, there has been an increase in attacks, as well as the number of deaths per attack has increased, particularly in Sub-Sahararan Africa and the Middle East.**"
      ]
    }
  ],
  "metadata": {
    "_change_revision": 0,
    "_is_fork": false,
    "kernelspec": {
      "display_name": "Python 3",
      "language": "python",
      "name": "python3"
    },
    "language_info": {
      "codemirror_mode": {
        "name": "ipython",
        "version": 3
      },
      "file_extension": ".py",
      "mimetype": "text/x-python",
      "name": "python",
      "nbconvert_exporter": "python",
      "pygments_lexer": "ipython3",
      "version": "3.5.2"
    }
  },
  "nbformat": 4,
  "nbformat_minor": 0
}