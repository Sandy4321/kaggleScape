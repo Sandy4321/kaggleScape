{"cells":[
 {
  "cell_type": "code",
  "execution_count": null,
  "metadata": {
   "collapsed": false
  },
  "outputs": [],
  "source": "import os, sys, email\nimport numpy as np \nimport pandas as pd\n# Plotting\nimport matplotlib.pyplot as plt\n%matplotlib inline\nimport seaborn as sns; sns.set_style('whitegrid')\n#import plotly\n#plotly.offline.init_notebook_mode()\n#import plotly.graph_objs as go\nimport wordcloud\n\n# Network analysis\nimport networkx as nx\n# NLP\nfrom nltk.tokenize.regexp import RegexpTokenizer\n\nfrom subprocess import check_output\nprint(check_output([\"ls\", \"../input\"]).decode(\"utf8\"))"
 },
 {
  "cell_type": "markdown",
  "metadata": {},
  "source": "# 1. Loading and cleaning data"
 },
 {
  "cell_type": "code",
  "execution_count": null,
  "metadata": {
   "collapsed": false
  },
  "outputs": [],
  "source": "# Read the data into a DataFrame\nemails_df = pd.read_csv('../input/emails.csv')\nprint(emails_df.shape)\nemails_df.head()"
 },
 {
  "cell_type": "code",
  "execution_count": null,
  "metadata": {
   "collapsed": false
  },
  "outputs": [],
  "source": "# A single message looks like this\nprint(emails_df['message'][0])"
 },
 {
  "cell_type": "code",
  "execution_count": null,
  "metadata": {
   "collapsed": false
  },
  "outputs": [],
  "source": "## Helper functions\ndef get_text_from_email(msg):\n    '''To get the content from email objects'''\n    parts = []\n    for part in msg.walk():\n        if part.get_content_type() == 'text/plain':\n            parts.append( part.get_payload() )\n    return ''.join(parts)\n\ndef split_email_addresses(line):\n    '''To separate multiple email addresses'''\n    if line:\n        addrs = line.split(',')\n        addrs = frozenset(map(lambda x: x.strip(), addrs))\n    else:\n        addrs = None\n    return addrs\n"
 },
 {
  "cell_type": "code",
  "execution_count": null,
  "metadata": {
   "collapsed": false
  },
  "outputs": [],
  "source": "# Parse the emails into a list email objects\nmessages = list(map(email.message_from_string, emails_df['message']))\nemails_df.drop('message', axis=1, inplace=True)\n# Get fields from parsed email objects\nkeys = messages[0].keys()\nfor key in keys:\n    emails_df[key] = [doc[key] for doc in messages]\n# Parse content from emails\nemails_df['content'] = list(map(get_text_from_email, messages))\n# Split multiple email addresses\nemails_df['From'] = emails_df['From'].map(split_email_addresses)\nemails_df['To'] = emails_df['To'].map(split_email_addresses)\n\n# Extract the root of 'file' as 'user'\nemails_df['user'] = emails_df['file'].map(lambda x:x.split('/')[0])\ndel messages\n\nemails_df.head()"
 },
 {
  "cell_type": "code",
  "execution_count": null,
  "metadata": {
   "collapsed": false
  },
  "outputs": [],
  "source": "print('shape of the dataframe:', emails_df.shape)\n# Find number of unique values in each columns\nfor col in emails_df.columns:\n    print(col, emails_df[col].nunique())"
 },
 {
  "cell_type": "code",
  "execution_count": null,
  "metadata": {
   "collapsed": false
  },
  "outputs": [],
  "source": "# Set index and drop columns with two few values\nemails_df = emails_df.set_index('Message-ID')\\\n    .drop(['file', 'Mime-Version', 'Content-Type', 'Content-Transfer-Encoding'], axis=1)\n# Parse datetime\nemails_df['Date'] = pd.to_datetime(emails_df['Date'], infer_datetime_format=True)\nemails_df.dtypes"
 },
 {
  "cell_type": "markdown",
  "metadata": {},
  "source": "# 2. Exploratory analyses\n## When do people send emails?"
 },
 {
  "cell_type": "code",
  "execution_count": null,
  "metadata": {
   "collapsed": false
  },
  "outputs": [],
  "source": "ax = emails_df.groupby(emails_df['Date'].dt.year)['content'].count().plot()\nax.set_xlabel('Year', fontsize=18)\nax.set_ylabel('N emails', fontsize=18)"
 },
 {
  "cell_type": "code",
  "execution_count": null,
  "metadata": {
   "collapsed": false
  },
  "outputs": [],
  "source": "ax = emails_df.groupby(emails_df['Date'].dt.dayofweek)['content'].count().plot()\nax.set_xlabel('Day of week', fontsize=18)\nax.set_ylabel('N emails', fontsize=18)"
 },
 {
  "cell_type": "code",
  "execution_count": null,
  "metadata": {
   "collapsed": false
  },
  "outputs": [],
  "source": "ax = emails_df.groupby(emails_df['Date'].dt.hour)['content'].count().plot()\nax.set_xlabel('Hour', fontsize=18)\nax.set_ylabel('N emails', fontsize=18)"
 },
 {
  "cell_type": "markdown",
  "metadata": {},
  "source": "## Who sends most emails?"
 },
 {
  "cell_type": "code",
  "execution_count": null,
  "metadata": {
   "collapsed": false
  },
  "outputs": [],
  "source": "# Count words in Subjects and content\ntokenizer = RegexpTokenizer(r'(?u)\\b\\w\\w+\\b')\nemails_df['subject_wc'] = emails_df['Subject'].map(lambda x: len(tokenizer.tokenize(x)))\nemails_df['content_wc'] = emails_df['content'].map(lambda x: len(tokenizer.tokenize(x)))"
 },
 {
  "cell_type": "code",
  "execution_count": null,
  "metadata": {
   "collapsed": false
  },
  "outputs": [],
  "source": "grouped_by_people = emails_df.groupby('user').agg({\n        'content': 'count', \n        'subject_wc': 'mean',\n        'content_wc': 'mean',\n    })\ngrouped_by_people.rename(columns={'content': 'N emails', \n                                  'subject_wc': 'Subject word count', \n                                  'content_wc': 'Content word count'}, inplace=True)\ngrouped_by_people.sort('N emails', ascending=False).head()\n"
 },
 {
  "cell_type": "code",
  "execution_count": null,
  "metadata": {
   "collapsed": false
  },
  "outputs": [],
  "source": "sns.pairplot(grouped_by_people.reset_index(), hue='user')"
 },
 {
  "cell_type": "markdown",
  "metadata": {},
  "source": "## Social network analyses of email senders and recipients\n### Let's see who sends the most emails to whom\nFirst we'll only look at emails sent to single email address, which may be more important personal communications"
 },
 {
  "cell_type": "code",
  "execution_count": null,
  "metadata": {
   "collapsed": false
  },
  "outputs": [],
  "source": "sub_df = emails_df[['From', 'To', 'Date']].dropna()\nprint(sub_df.shape)\n# drop emails sending to multiple addresses\nsub_df = sub_df.loc[sub_df['To'].map(len) == 1]\nprint(sub_df.shape)"
 },
 {
  "cell_type": "code",
  "execution_count": null,
  "metadata": {
   "collapsed": false
  },
  "outputs": [],
  "source": "sub_df = sub_df.groupby(['From', 'To']).count().reset_index()\n# Unpack frozensets\nsub_df['From'] = sub_df['From'].map(lambda x: next(iter(x)))\nsub_df['To'] = sub_df['To'].map(lambda x: next(iter(x)))\n# rename column\nsub_df.rename(columns={'Date': 'count'}, inplace=True)\nsub_df.sort('count', ascending=False).head(10)"
 },
 {
  "cell_type": "markdown",
  "metadata": {},
  "source": "Apparently some people send a lot of emails to themselves. It maybe very interesting to look at the differences between emails sent to selves and to others."
 },
 {
  "cell_type": "code",
  "execution_count": null,
  "metadata": {
   "collapsed": false
  },
  "outputs": [],
  "source": "# Make a network of email sender and receipients\nG = nx.from_pandas_dataframe(sub_df, 'From', 'To', edge_attr='count', create_using=nx.DiGraph())\nprint('Number of nodes: %d, Number of edges: %d' % (G.number_of_nodes(), G.number_of_edges()))"
 },
 {
  "cell_type": "code",
  "execution_count": null,
  "metadata": {
   "collapsed": false
  },
  "outputs": [],
  "source": "fig, (ax1, ax2) = plt.subplots(1,2, figsize=(12, 8))\nax1.hist(list(G.in_degree(weight='count').values()), log=True, bins=20)\nax1.set_xlabel('In-degrees', fontsize=18)\n\nax2.hist(list(G.out_degree(weight='count').values()), log=True, bins=20)\nax2.set_xlabel('Out-degrees', fontsize=18)"
 },
 {
  "cell_type": "markdown",
  "metadata": {},
  "source": "Looks like scale-free degree distribution\n\n---\n### Examine connected components in the network\n"
 },
 {
  "cell_type": "code",
  "execution_count": null,
  "metadata": {
   "collapsed": false
  },
  "outputs": [],
  "source": "n_nodes_in_cc = []\nfor nodes in nx.connected_components(G.to_undirected()):\n    n_nodes_in_cc.append(len(nodes))\n\nplt.hist(n_nodes_in_cc, bins=20, log=True)\nplt.xlabel('# Nodes in connected components', fontsize=18)\nplt.ylim([.1,1e4])"
 },
 {
  "cell_type": "markdown",
  "metadata": {},
  "source": "## What do the emails say?\n\n### In the subjects:"
 },
 {
  "cell_type": "code",
  "execution_count": null,
  "metadata": {
   "collapsed": false
  },
  "outputs": [],
  "source": "from sklearn.feature_extraction.stop_words import ENGLISH_STOP_WORDS\n\nsubjects = ' '.join(emails_df['Subject'])\nfig, ax = plt.subplots(figsize=(16, 12))\nwc = wordcloud.WordCloud(width=800, \n                         height=600, \n                         max_words=200,\n                         stopwords=ENGLISH_STOP_WORDS).generate(subjects)\nax.imshow(wc)\nax.axis(\"off\")"
 },
 {
  "cell_type": "markdown",
  "metadata": {},
  "source": "### In the contents:"
 },
 {
  "cell_type": "code",
  "execution_count": null,
  "metadata": {
   "collapsed": false
  },
  "outputs": [],
  "source": "contents = ' '.join(emails_df.sample(1000)['content'])\nfig, ax = plt.subplots(figsize=(16, 12))\nwc = wordcloud.WordCloud(width=800, \n                         height=600, \n                         max_words=200,\n                         stopwords=ENGLISH_STOP_WORDS).generate(contents)\nax.imshow(wc)\nax.axis(\"off\")"
 }
],"metadata":{"kernelspec":{"display_name":"Python 3","language":"python","name":"python3"}}, "nbformat": 4, "nbformat_minor": 0}