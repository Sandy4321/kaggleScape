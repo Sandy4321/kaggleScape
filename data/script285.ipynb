{
  "cells": [
    {
      "cell_type": "markdown",
      "metadata": {
        "_cell_guid": "85884846-bce6-91db-9e3b-ca14edc678fb"
      },
      "source": [
        "This is an expansion of Robin's notebook ( https://www.kaggle.com/robinkraft/making-tifs-look-normal-using-spectral/ ) to show ways how to use the spectral module to read bands, calculate the NDVI, NDWI and save the image as a high-quality jpeg."
      ]
    },
    {
      "cell_type": "code",
      "execution_count": null,
      "metadata": {
        "_cell_guid": "c54f8fb2-d447-aac1-4c52-abc09e74998c"
      },
      "outputs": [],
      "source": [
        "!ls ../input/train-tif-v2/ | head"
      ]
    },
    {
      "cell_type": "code",
      "execution_count": null,
      "metadata": {
        "_cell_guid": "e8a6cee5-2adb-7191-dd32-77a29a664d83"
      },
      "outputs": [],
      "source": [
        "import os\n",
        "\n",
        "import numpy as np\n",
        "from spectral import *\n",
        "from skimage import io\n",
        "from sklearn.preprocessing import MinMaxScaler\n",
        "from PIL import Image\n",
        "\n",
        "import matplotlib.pyplot as plt\n",
        "%matplotlib inline"
      ]
    },
    {
      "cell_type": "code",
      "execution_count": null,
      "metadata": {
        "_cell_guid": "99220472-9cdd-72eb-805e-72f5f0d429a2"
      },
      "outputs": [],
      "source": [
        "BASEPATH = os.path.abspath('../input/train-tif-v2/')"
      ]
    },
    {
      "cell_type": "code",
      "execution_count": null,
      "metadata": {
        "_cell_guid": "ec6eb84b-b443-8255-8a55-87d3eda275c9"
      },
      "outputs": [],
      "source": [
        "path = os.path.join(BASEPATH, 'train_10.tif')\n",
        "img = io.imread(path)\n",
        "img2 = get_rgb(img, [2, 1, 0]) # RGB\n",
        "img3 = get_rgb(img, [3, 2, 1]) # NIR-R-G\n",
        "img4 = get_rgb(img, [3, 2, 0]) # NIR-R-B\n",
        "\n",
        "# rescaling to 0-255 range - uint8 for display\n",
        "rescaleIMG = np.reshape(img2, (-1, 1))\n",
        "scaler = MinMaxScaler(feature_range=(0, 255))\n",
        "rescaleIMG = scaler.fit_transform(rescaleIMG) # .astype(np.float32)\n",
        "img2_scaled = (np.reshape(rescaleIMG, img2.shape)).astype(np.uint8)\n",
        "\n",
        "rescaleIMG = np.reshape(img3, (-1, 1))\n",
        "scaler = MinMaxScaler(feature_range=(0, 255))\n",
        "rescaleIMG = scaler.fit_transform(rescaleIMG) # .astype(np.float32)\n",
        "img3_scaled = (np.reshape(rescaleIMG, img3.shape)).astype(np.uint8)\n",
        "\n",
        "rescaleIMG = np.reshape(img4, (-1, 1))\n",
        "scaler = MinMaxScaler(feature_range=(0, 255))\n",
        "rescaleIMG = scaler.fit_transform(rescaleIMG) # .astype(np.float32)\n",
        "img4_scaled = (np.reshape(rescaleIMG, img4.shape)).astype(np.uint8)\n",
        "\n",
        "# spectral module ndvi function\n",
        "vi = ndvi(img, 2, 3)\n",
        "\n",
        "# calculate NDVI and NDWI with spectral module adjusted bands\n",
        "np.seterr(all='warn') # divide by zero, NaN values\n",
        "vi2 = (img3[:, :, 0] - img3[:, :, 1]) / (img3[:, :, 0] + img3[:, :, 1]) # (NIR - RED) / (NIR + RED)\n",
        "vi3 = (img3[:, :, 2] - img3[:, :, 0]) / (img3[:, :, 2] + img3[:, :, 0]) # (GREEN - NIR) / (GREEN + NIR)"
      ]
    },
    {
      "cell_type": "code",
      "execution_count": null,
      "metadata": {
        "_cell_guid": "08f593de-2921-3c84-7953-f214469689ca"
      },
      "outputs": [],
      "source": [
        "plt.style.use('ggplot')\n",
        "fig, axes = plt.subplots(nrows=2, ncols=3, figsize=(10, 10))\n",
        "ax = axes.ravel()\n",
        "ax[0] = plt.subplot(2, 3, 1, adjustable='box-forced')\n",
        "ax[1] = plt.subplot(2, 3, 2, sharex=ax[0], sharey=ax[0], adjustable='box-forced')\n",
        "ax[2] = plt.subplot(2, 3, 3, sharex=ax[0], sharey=ax[0], adjustable='box-forced')\n",
        "ax[3] = plt.subplot(2, 3, 4, adjustable='box-forced')\n",
        "ax[4] = plt.subplot(2, 3, 5, adjustable='box-forced')\n",
        "ax[5] = plt.subplot(2, 3, 6, adjustable='box-forced')\n",
        "ax[0].imshow(img2_scaled)  # , cmap=plt.cm.gray)\n",
        "ax[0].set_title('RGB')\n",
        "# ax[0].axis('off')\n",
        "ax[1].imshow(img3_scaled)  # , cmap=plt.cm.gray)\n",
        "ax[1].set_title('NIR-RED-GREEN')\n",
        "# ax[1].axis('off')\n",
        "ax[2].imshow(img4_scaled)  # , cmap=plt.cm.gray)\n",
        "ax[2].set_title('NIR-RED-BLUE')\n",
        "\n",
        "# alternative cmaps e.g. nipy_spectral, gist_earth, terrain\n",
        "ax[3].imshow(vi, cmap=plt.get_cmap('nipy_spectral')) \n",
        "ax[3].set_title('NDVI-spectral func')\n",
        "# ax[2].axis('off')\n",
        "ax[4].imshow(vi2, cmap=plt.get_cmap('nipy_spectral'))  # , cmap=plt.cm.gray)\n",
        "ax[4].set_title('NDVI-calculated')\n",
        "# ax[3].axis('off')\n",
        "ax[5].imshow(vi3, cmap=plt.get_cmap('nipy_spectral'))  # , cmap=plt.cm.gray)\n",
        "ax[5].set_title('NDWI GREEN-NIR')\n",
        "plt.show()"
      ]
    },
    {
      "cell_type": "code",
      "execution_count": null,
      "metadata": {
        "_cell_guid": "87059baf-8d0f-f9a8-7612-632caa7e83a1"
      },
      "outputs": [],
      "source": [
        "# note: save spectral module adjusted array as jpeg\n",
        "path_jpg = path.replace('tif','jpg')\n",
        "im = Image.fromarray(img2_scaled)\n",
        "im.save('train_10.jpg', 'JPEG', quality=95)"
      ]
    }
  ],
  "metadata": {
    "_change_revision": 0,
    "_is_fork": false,
    "kernelspec": {
      "display_name": "Python 3",
      "language": "python",
      "name": "python3"
    },
    "language_info": {
      "codemirror_mode": {
        "name": "ipython",
        "version": 3
      },
      "file_extension": ".py",
      "mimetype": "text/x-python",
      "name": "python",
      "nbconvert_exporter": "python",
      "pygments_lexer": "ipython3",
      "version": "3.6.0"
    }
  },
  "nbformat": 4,
  "nbformat_minor": 0
}