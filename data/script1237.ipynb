{
  "cells": [
    {
      "cell_type": "markdown",
      "metadata": {
        "_cell_guid": "fd628c10-375d-4bc5-2325-9cf033bf0825"
      },
      "source": [
        "## The notebook has been divided into three parts\n",
        " 1. EDA\n",
        " 2. Feature Engineering\n",
        " 3. Machine Learning Models\n",
        " \n",
        "** If you like it please up vote it**"
      ]
    },
    {
      "cell_type": "code",
      "execution_count": null,
      "metadata": {
        "_cell_guid": "41fa3d60-8242-8821-5311-3a929280cb82"
      },
      "outputs": [],
      "source": [
        "# This Python 3 environment comes with many helpful analytics libraries installed\n",
        "# It is defined by the kaggle/python docker image: https://github.com/kaggle/docker-python\n",
        "# For example, here's several helpful packages to load in \n",
        "\n",
        "import numpy as np # linear algebra\n",
        "import pandas as pd # data processing, CSV file I/O (e.g. pd.read_csv)\n",
        "\n",
        "from subprocess import check_output\n",
        "print(check_output([\"ls\", \"../input\"]).decode(\"utf8\"))"
      ]
    },
    {
      "cell_type": "code",
      "execution_count": null,
      "metadata": {
        "_cell_guid": "715ade24-01d5-afb4-c40c-a90a9cca5490"
      },
      "outputs": [],
      "source": [
        "# import the file\n",
        "Data = pd.read_csv('../input/HR_comma_sep.csv')"
      ]
    },
    {
      "cell_type": "code",
      "execution_count": null,
      "metadata": {
        "_cell_guid": "1f4fe417-08d9-81d1-1b02-acfc9cd20cd0"
      },
      "outputs": [],
      "source": [
        "Data.info() # information about data"
      ]
    },
    {
      "cell_type": "code",
      "execution_count": null,
      "metadata": {
        "_cell_guid": "e7cae13c-2a9c-5fdf-7024-e7eae19342a2"
      },
      "outputs": [],
      "source": [
        "columns= Data.columns.tolist() # Make a list of name of columns\n",
        "columns"
      ]
    },
    {
      "cell_type": "markdown",
      "metadata": {
        "_cell_guid": "d5380e98-e764-f838-b64c-65d9934a0e98"
      },
      "source": [
        "## EDA"
      ]
    },
    {
      "cell_type": "code",
      "execution_count": null,
      "metadata": {
        "_cell_guid": "8d04cb76-51ba-7aa2-70b2-6d6fa0f79a90"
      },
      "outputs": [],
      "source": [
        "import seaborn as sns # for Interactive plots\n",
        "import matplotlib.pyplot as plt # for plots\n",
        "% matplotlib inline\n",
        "import itertools"
      ]
    },
    {
      "cell_type": "code",
      "execution_count": null,
      "metadata": {
        "_cell_guid": "08c07a0d-4ed1-0b1d-5c59-e110d3912af5"
      },
      "outputs": [],
      "source": [
        "#let count no of of different categories in catgorical variables\n",
        "#categorical variables are left, promotion_last_5years,sal,salary,work_accident\n",
        "#more than two or three categories are number_project,time spend_company\n",
        "categorical=['number_project','time_spend_company','Work_accident','left', 'promotion_last_5years','sales','salary']\n",
        "fig=plt.subplots(figsize=(10,15))\n",
        "length=len(categorical)\n",
        "for i,j in itertools.zip_longest(categorical,range(length)): # itertools.zip_longest for to execute the longest loop\n",
        "    plt.subplot(np.ceil(length/2),2,j+1)\n",
        "    plt.subplots_adjust(hspace=.5)\n",
        "    sns.countplot(x=i,data = Data)\n",
        "    plt.xticks(rotation=90)\n",
        "    plt.title(\"No. of employee\")"
      ]
    },
    {
      "cell_type": "markdown",
      "metadata": {
        "_cell_guid": "152ae4bd-ec03-bd4d-f903-7501b9bbc5b1"
      },
      "source": [
        " **Observations from graphs**\n",
        "\n",
        "1. the maximum employee are doing project between 3-5\n",
        "\n",
        "2. There is a lot number of employees who are working in company for last three years but after that there is huge drop for 4 year\n",
        "\n",
        "3. The no of employee left are 20 % of total data\n",
        "\n",
        "4. A very less number of employee get the promotion in last 5 year\n",
        "\n",
        "5. Sales department is having maximum no.of employee followed by technical and support\n",
        "\n",
        "6. The maximum employees are getting salary either medium or low"
      ]
    },
    {
      "cell_type": "markdown",
      "metadata": {
        "_cell_guid": "76fcbda3-ebad-4bc7-4861-479a9f8a9c8c"
      },
      "source": [
        "**Let's see who is leaving the company**"
      ]
    },
    {
      "cell_type": "code",
      "execution_count": null,
      "metadata": {
        "_cell_guid": "2b0a4582-a4c7-6123-7751-7e486e8a2137"
      },
      "outputs": [],
      "source": [
        "# no of employee who left the company \n",
        "print(\"The Number of employee who left the company :\",len(Data[Data['left']==1]))\n",
        "print(\"The Number of employee who didn't left the company\",len(Data[Data['left']==0]))\n",
        "print(\"The proportion of employee who left\",len(Data[Data['left']==1])/len(Data))"
      ]
    },
    {
      "cell_type": "markdown",
      "metadata": {
        "_cell_guid": "26f33dba-853a-a064-8b25-05c615b40495"
      },
      "source": [
        "1. 23 % of employee left the company which is nearby 1/4 it is huge number"
      ]
    },
    {
      "cell_type": "code",
      "execution_count": null,
      "metadata": {
        "_cell_guid": "40c77346-e063-378f-aea4-5db1fbbed857"
      },
      "outputs": [],
      "source": [
        "####let's Analysis the Categorical and ordinal Variable"
      ]
    },
    {
      "cell_type": "code",
      "execution_count": null,
      "metadata": {
        "_cell_guid": "fdc3f615-b7f9-a6e3-4b02-0f65b3db50bb"
      },
      "outputs": [],
      "source": [
        "# here we will do it only for categorical variable\n",
        "categorical=['number_project','time_spend_company','Work_accident','promotion_last_5years','sales','salary'] # here I have removed left to see who is leaving cpmpany\n",
        "fig=plt.subplots(figsize=(12,15))# to define the size of figure\n",
        "length=len(categorical) # no of categorical and ordinal variable\n",
        "for i,j in itertools.zip_longest(categorical,range(length)): # itertools.zip_longest for to execute the longest loop\n",
        "    plt.subplot(np.ceil(length/2),2,j+1) # this is to plot the subplots like as 2,2,1 it means 2x2 matrix and graph at 1 \n",
        "    plt.subplots_adjust(hspace=.5) # to adjust the distance between subplots\n",
        "    sns.countplot(x=i,data = Data,hue=\"left\") # To plot the countplot of variable with hue left\n",
        "    plt.xticks(rotation=90) # to rotate the xticks by 90 such that no xtixks overlap each other\n",
        "    plt.title(\"No.of employee who left\") # to plot the title of graph"
      ]
    },
    {
      "cell_type": "markdown",
      "metadata": {
        "_cell_guid": "ec318c7d-d86b-0a25-aa68-9c48a3d7058a"
      },
      "source": [
        "#### observations\n",
        "\n",
        "1. Some interesting observations are here :\n",
        "\n",
        "2. Those who promotion in last 5 years they didn't leave i.e All those left they didn't get the promotion in last 5 years\n",
        "\n",
        "3. from these graphs we can't make so much interpenetration because it is like that sales department have more number of employees so more number of employees left so for this we need the calculation of proportions.\n",
        "\n",
        "4. But one point interesting to note that those who have spent 5 years in company are leaving more in proportion.it may be because they didn't get the promotion in last 5 years\n",
        "\n",
        "5. And who have spent more than 6 years they are not leaving it may be because affection to the company \n",
        "\n",
        "6. and more interesting point here those all who have done 7 projects have left the company it seems to like that the person for more than 6 years they are not leaving the company so it means those have done more number of projects in less year they are leaving the company\n",
        "\n",
        "7. So here we are talking about in may be to get the full detail we will do further analysis\n",
        "\n",
        "8. Now I will go ahead with analysis of proportion"
      ]
    },
    {
      "cell_type": "code",
      "execution_count": null,
      "metadata": {
        "_cell_guid": "a6c37a4a-c015-1274-16ab-d0f4d5c028f9"
      },
      "outputs": [],
      "source": [
        "# Lets Calcualte proportion for above same\n",
        "fig=plt.subplots(figsize=(12,15))\n",
        "for i,j in itertools.zip_longest(categorical,range(length)):# itertools.zip_longest for to execute the longest loop\n",
        "    Proportion_of_data = Data.groupby([i])['left'].agg(lambda x: (x==1).sum()).reset_index()# only counting the number who left \n",
        "    Proportion_of_data1=Data.groupby([i])['left'].count().reset_index() # Counting the total number \n",
        "    Proportion_of_data2 = pd.merge(Proportion_of_data,Proportion_of_data1,on=i) # mergeing two data frames\n",
        "    # Now we will calculate the % of employee who left category wise\n",
        "    Proportion_of_data2[\"Proportion\"]=(Proportion_of_data2['left_x']/Proportion_of_data2['left_y'])*100 \n",
        "    Proportion_of_data2=Proportion_of_data2.sort_values(by=\"Proportion\",ascending=False).reset_index(drop=True)#sorting by percentage\n",
        "    plt.subplot(np.ceil(length/2),2,j+1)\n",
        "    plt.subplots_adjust(hspace=.5)\n",
        "    sns.barplot(x=i,y='Proportion',data=Proportion_of_data2)\n",
        "    plt.xticks(rotation=90)\n",
        "    plt.title(\"percentage of employee who left\")\n",
        "    plt.ylabel('Percentage')"
      ]
    },
    {
      "cell_type": "markdown",
      "metadata": {
        "_cell_guid": "7d72ea63-e505-8f37-0597-5150162f1ea1"
      },
      "source": [
        "#### Observations\n",
        "\n",
        "1. First of all try to understand what are these graph showing. These graph are showing the percentage of the employee who left category wise means like that in sales department there were 4100 employee and approx 1000 of them left so the percentage of this will be nearby 25 %\n",
        "\n",
        "2. Now looking at the number of projects the employees who have done 7 project they left the company and then it comes who have done 2 projects 60 % of them have left the company maybe there are fired by company. \n",
        "\n",
        "3. Then coming to time spend in company the top is 5 years followed by 4 and 6 it means the younger(2 or 3) and older ones(more than 6) are leaving less company then the adult ones(4,5,6)\n",
        "\n",
        "4. Now who got promotion in last 5 year it seems to be conflict with previous observation in that we said who got promotion in last 5 year haven't left the but here it is 5 % of them it is because of scale because who left is a very less number so it didn't come in graph \n",
        "\n",
        "5. Now coming to department in previous graphs we saw in sales department more employee left the group but if we talk in percentage then HR department is at the top followed by Accounts and technical. Management peoples are in less percentage it is because may be they are at higher positions\n",
        "\n",
        "6. In case of salary the employee who are getting a low salary are leaving more than the medium and  high. Those who are getting high salary only 5 % of left the company\n",
        "\n",
        "7. I enjoy exploring the data so I will go for another analysis"
      ]
    },
    {
      "cell_type": "code",
      "execution_count": null,
      "metadata": {
        "_cell_guid": "c212a13f-2816-e207-2196-b402f6162f13"
      },
      "outputs": [],
      "source": [
        "# Let see who is getting Promotions proportion wise.\n",
        "fig=plt.subplots(figsize=(12,15))\n",
        "categorical=['number_project','time_spend_company','sales','salary']\n",
        "length=len(categorical)\n",
        "for i,j in itertools.zip_longest(categorical,range(length)):# itertools.zip_longest for to execute the longest loop\n",
        "    Proportion_of_data = Data.groupby([i])['promotion_last_5years'].agg(lambda x: (x==1).sum()).reset_index()# only counting the number who left \n",
        "    Proportion_of_data1=Data.groupby([i])['promotion_last_5years'].count().reset_index() # Counting the total number \n",
        "    Proportion_of_data2 = pd.merge(Proportion_of_data,Proportion_of_data1,on=i) # mergeing two data frames\n",
        "    # Now we will calculate the % of employee who  category wise\n",
        "    Proportion_of_data2[\"Proportion\"]=(Proportion_of_data2['promotion_last_5years_x']/Proportion_of_data2['promotion_last_5years_y'])*100 \n",
        "    Proportion_of_data2=Proportion_of_data2.sort_values(by=\"Proportion\",ascending=False).reset_index(drop=True)#sorting by percentage\n",
        "    plt.subplot(np.ceil(length/2),2,j+1)\n",
        "    plt.subplots_adjust(hspace=.3)\n",
        "    sns.barplot(x=i,y='Proportion',data=Proportion_of_data2)\n",
        "    plt.xticks(rotation=90)\n",
        "    plt.title(\"Pecentage of employee getting promotion\")\n",
        "    plt.ylabel('Percentage')\n"
      ]
    },
    {
      "cell_type": "markdown",
      "metadata": {
        "_cell_guid": "c52a4aa9-1b79-f624-bed1-dc378c056b5f"
      },
      "source": [
        "#### Observations\n",
        "1. what the hell company is this. The employee who have done 7 projects are not getting promotions so why as we saw in previous graph a large number of employee left the company because they are not getting promotions while those have done 3 or 4 projects are getting Promotion. I think it is very unfair.\n",
        "\n",
        "2. The employee getting promotion who are for more time in company. The employee who have spent 7 years at the top followed by 10 years and 8 years. The employee who have spent 5 or 6 years in company have got promotion in very less proportion as we saw in previous graphs the employee who have spent 5 years left the most so it may be due to they are not getting promotion\n",
        "\n",
        "3. Management employee are getting promotion in high proportions followed by marketing. This was expected\n",
        "\n",
        "4. Employee getting high salaries are promoted more"
      ]
    },
    {
      "cell_type": "code",
      "execution_count": null,
      "metadata": {
        "_cell_guid": "e1bf9a39-abbe-10c4-2939-f5b3491abd6b"
      },
      "outputs": [],
      "source": [
        "# I want to have a look at the which department is accident prone\n",
        "\n",
        "Proportion_of_data = Data.groupby([\"sales\"])[\"Work_accident\"].agg(lambda x: (x==1).sum()).reset_index()# only counting the number who left \n",
        "Proportion_of_data1=Data.groupby([\"sales\"])[\"Work_accident\"].count().reset_index() # Counting the total number \n",
        "Proportion_of_data2 = pd.merge(Proportion_of_data,Proportion_of_data1,on='sales') # mergeing two data frames\n",
        "# Now we will calculate the % of employee who  category wise\n",
        "Proportion_of_data2[\"Proportion\"]=(Proportion_of_data2['Work_accident_x']/Proportion_of_data2['Work_accident_y'])*100 \n",
        "Proportion_of_data2=Proportion_of_data2.sort_values(by=\"Proportion\",ascending=False).reset_index(drop=True)#sorting by percentage\n",
        "sns.barplot(x='sales',y='Proportion',data=Proportion_of_data2)\n",
        "plt.xticks(rotation=90)\n",
        "plt.title('Department wise accident')\n",
        "plt.ylabel('Percentage')\n",
        "\n"
      ]
    },
    {
      "cell_type": "markdown",
      "metadata": {
        "_cell_guid": "89b50bbe-465c-1671-9fb3-37d67218cd5b"
      },
      "source": [
        "1. The management department seems to be accident prone and Random.It is surprising me. why management is the accident prone ? I don't know !"
      ]
    },
    {
      "cell_type": "markdown",
      "metadata": {
        "_cell_guid": "1e791d17-3b51-9830-6110-2b22e8495e5f"
      },
      "source": [
        "###### Let's Start with continues variable"
      ]
    },
    {
      "cell_type": "code",
      "execution_count": null,
      "metadata": {
        "_cell_guid": "3adcc627-f0ee-0be6-517a-52c7f4d481fa"
      },
      "outputs": [],
      "source": [
        "continues_variable=['satisfaction_level','last_evaluation','average_montly_hours']\n",
        "categorical_variable=['promotion_last_5years','sales','salary','left','time_spend_company','number_project']\n",
        "Data['Impact']=(Data['number_project']/Data[\"average_montly_hours\"])*100"
      ]
    },
    {
      "cell_type": "code",
      "execution_count": null,
      "metadata": {
        "_cell_guid": "36127bcb-c01d-5979-2d97-0e8065ae3c99"
      },
      "outputs": [],
      "source": [
        "def pointplot(x, y, **kwargs): # making a function to plot point plot\n",
        "    sns.pointplot(x=x, y=y)      \n",
        "    x=plt.xticks(rotation=90)"
      ]
    },
    {
      "cell_type": "code",
      "execution_count": null,
      "metadata": {
        "_cell_guid": "6e840248-dc11-552e-7dc1-f9d0aa4f8d99"
      },
      "outputs": [],
      "source": [
        "# Start with Satisfaction Level\n",
        "categorical_variable=['promotion_last_5years','sales','salary','left','time_spend_company','number_project']\n",
        "f = pd.melt(Data, id_vars=[\"satisfaction_level\"], value_vars=categorical_variable)\n",
        "g=sns.FacetGrid(f,col='variable',col_wrap=2,sharex=False,sharey=False,size=5)\n",
        "\n",
        "g.map(pointplot,\"value\",\"satisfaction_level\")"
      ]
    },
    {
      "cell_type": "markdown",
      "metadata": {
        "_cell_guid": "4e174b1d-b91d-f775-d608-ea67333993a7"
      },
      "source": [
        "##### Observations\n",
        "\n",
        "1. The point plot represent the mean of quantity the point show the mean of the satisfaction_level for that category and the vertical line show the variation of the data for that category. For details [Pointplot](http://seaborn.pydata.org/tutorial/categorical.html)\n",
        "\n",
        "2. by observing it who got promotions are more satisfied then the who didn't. It is a obvious fact but those who got promotion are very differ in there opinions as we can see a long vertical line indicating this while for who didn't get promotion are matching in their opinions\n",
        "\n",
        "3. same is for who left were less satisfied then the who didn't. If I think as a business Analyst my first question will be why were they not satisfied ? There are many answers we will try to get correct one in next analysis.\n",
        "\n",
        "4. looking at salary one obvious fact is there who is getting higher salary are more satisfied than others.\n",
        "\n",
        "5. by looking at department wise it seems the accounting and hr employee are very less satisfied compare to others.by looking at previous graph we can see that the department which get less promotion are less satisfied.\n",
        "\n",
        "6. now looking at the time spend at company there is sharp drop for the people who had spent 4 years in company.we can say it is due to promotion but people who have spent 5 years got less promotion too but they are very much satisfied compare to 4 years.\n",
        "\n",
        "7. now for number of projects the employee who have completed 7 projects are very much less satisfied that is only due to promotion because employee who have completed less number of projects are getting more promotions.\n"
      ]
    },
    {
      "cell_type": "code",
      "execution_count": null,
      "metadata": {
        "_cell_guid": "3cfa17f6-5024-3533-9505-328c8d2ff412"
      },
      "outputs": [],
      "source": [
        "# Now with last evaluation\n",
        "f = pd.melt(Data, id_vars=['last_evaluation'], value_vars=categorical_variable)\n",
        "g=sns.FacetGrid(f,col='variable',col_wrap=2,sharex=False,sharey=False,size=5)\n",
        "\n",
        "g.map(pointplot,\"value\",'last_evaluation')"
      ]
    },
    {
      "cell_type": "markdown",
      "metadata": {
        "_cell_guid": "bd66b69c-e090-c229-c569-261dfd963897"
      },
      "source": [
        "##### Observations\n",
        "\n",
        "1. This data is for Last evaluation from last evaluation it means the evaluation done by company\n",
        "\n",
        "2. Now look at the promotion graph the employee with less last evaluation are getting the promotion as it for who didn't get a promotion have a very high mean.\n",
        "\n",
        "3. By looking at department wise it seems management employee have a good  last evaluation compare to others.\n",
        "\n",
        "4. The high paid employee have a very bad last evolution and they are getting promotion too (as we can see from previous analysis)\n",
        "\n",
        "5. By looking at the employee who left have a good mean last evaluation then who haven't.But the range of employee is spread it may be because who have very less last evaluation may be fired by the company. and those who have very good last evaluation left because they didn't get promotion as we can see from promotion graph\n",
        "\n",
        "6. Coming to time spend the employee who have spend 5 years have a very good last evaluation followed by 4 years and 6 years.\n",
        "\n",
        "7. Looking at the number of projects the employee who have completed 7 projects have a very good last evaluation.\n",
        "\n",
        "8. By looking above two observation why the left have employee who have good last evaluation it is due to employee who have done 7 project have very good last evaluation and they didn't get promotion also so why they left the company."
      ]
    },
    {
      "cell_type": "code",
      "execution_count": null,
      "metadata": {
        "_cell_guid": "1e2f0189-26d7-2bee-f29a-b72c2ba2bfe9"
      },
      "outputs": [],
      "source": [
        "# Now let's explore the variable average_monthly_hours\n",
        "# With a new type of plot violin plot\n",
        "Categorical_variable= ['sales','salary','time_spend_company','number_project']\n",
        "fig=plt.subplots(figsize=(12,15))\n",
        "length=len(Categorical_variable)\n",
        "for i,j in itertools.zip_longest(Categorical_variable,range(length)): # itertools.zip_longest for to execute the longest loop\n",
        "    plt.subplot(np.ceil(length/2),2,j+1) # here j repersent the number of graphs like as subplot 221\n",
        "    plt.subplots_adjust(hspace=.5) # to get the space between subplots\n",
        "    sns.violinplot(x=i,y=\"average_montly_hours\", data = Data,hue=\"left\",split=True,scale=\"count\")#here count scales the width of violin\n",
        "    plt.xticks(rotation=90)"
      ]
    },
    {
      "cell_type": "markdown",
      "metadata": {
        "_cell_guid": "f49e487b-b8ab-2f0d-b139-9c3cc8d77a07"
      },
      "source": [
        "###### Observation\n",
        "\n",
        "1. From above graphs it is clear two type of people left the company one who are working hard and other who are working very less. From this we can conclude that who are working less are may be fired by company and other one leave because they didn't get progress.\n",
        "\n",
        "2. For the different departments the pattern is same means all the departments are same in their opinions.\n",
        "\n",
        "3. in The time spent graph we can see that who have spent only 2 years a less number of employee left the company but for 3 years the employee who has left were working less than 160 hours from it we can conclude that they were fired by company but for 4 ,5, 6 the employee who left were working nearly more than 250 hours so it suggest that after this much of hard work they didn't get progress so why they left.\n",
        "\n",
        "4. for number of projects who have done only 2 projects and working very less are fired by company ( we can see in left) and the employee who have completed 7 projects they were wotking really hard but all of them left the company it os only because they didn't get promotion same is for who have done 6 projects"
      ]
    },
    {
      "cell_type": "markdown",
      "metadata": {
        "_cell_guid": "a4675f44-76c4-373b-d194-432cb15f5210"
      },
      "source": [
        "## 2. Feature Engineering"
      ]
    },
    {
      "cell_type": "markdown",
      "metadata": {
        "_cell_guid": "d51505dd-504c-0bf4-44cb-e603f9473995"
      },
      "source": [
        "1. Now we have to predict who will left the company before going ahead lets do a part of feature engineering means selecting important features for the prediction.\n",
        "\n",
        "2. This can be done in many ways :-\n",
        "\n",
        "3. First of all remove all correlated variables \n",
        "4. We can use Randomforest to find important features\n"
      ]
    },
    {
      "cell_type": "code",
      "execution_count": null,
      "metadata": {
        "_cell_guid": "9e14c644-38fc-0569-fcc9-b12d2bf4f95d"
      },
      "outputs": [],
      "source": [
        "# Now we have to predict who will left the company beofore going ahead lets do a part of feature engineering selecting import\n",
        "\n",
        "# Let's plot the correlation Matrix\n",
        "Data.drop('Impact',axis=1,inplace=True)\n",
        "corr= Data.corr()\n"
      ]
    },
    {
      "cell_type": "code",
      "execution_count": null,
      "metadata": {
        "_cell_guid": "93ae8c35-53ad-7825-4d9d-827a81c6f4a0"
      },
      "outputs": [],
      "source": [
        "plt.figure(figsize=(12,10))\n",
        "sns.heatmap(corr,annot=True,cbar=True,cmap=\"coolwarm\")\n",
        "plt.xticks(rotation=90)"
      ]
    },
    {
      "cell_type": "markdown",
      "metadata": {
        "_cell_guid": "5ad84e06-0f7f-749c-e200-c2768555b4e4"
      },
      "source": [
        "1. Here no variables are so much correlated so that we can say that all variables are uncorrelated\n",
        "2. so no need to remove any features lets get important features by using Randomforestclassifier"
      ]
    },
    {
      "cell_type": "code",
      "execution_count": null,
      "metadata": {
        "_cell_guid": "94e65dd4-dac3-c586-00cd-0626e6a2dd73"
      },
      "outputs": [],
      "source": [
        "from sklearn.preprocessing import LabelEncoder # For change categorical variable into int\n",
        "from sklearn.metrics import accuracy_score \n",
        "le=LabelEncoder()\n",
        "Data['salary']=le.fit_transform(Data['salary'])\n",
        "Data['sales']=le.fit_transform(Data['sales'])\n"
      ]
    },
    {
      "cell_type": "code",
      "execution_count": null,
      "metadata": {
        "_cell_guid": "091d20c0-3e84-09e3-b4a1-d5c4d4dec669"
      },
      "outputs": [],
      "source": [
        "# we can select importance features by using Randomforest Classifier\n",
        "from sklearn.ensemble import RandomForestClassifier \n",
        "model= RandomForestClassifier(n_estimators=100)\n",
        "feature_var = Data.ix[:,Data.columns != \"left\"]\n",
        "pred_var = Data.ix[:,Data.columns=='left']\n",
        "model.fit(feature_var,pred_var.values.ravel())"
      ]
    },
    {
      "cell_type": "code",
      "execution_count": null,
      "metadata": {
        "_cell_guid": "24a0075d-4e2a-a256-bb39-b73335d8d658"
      },
      "outputs": [],
      "source": [
        "featimp = pd.Series(model.feature_importances_,index=feature_var.columns).sort_values(ascending=False)\n",
        "print(featimp)"
      ]
    },
    {
      "cell_type": "markdown",
      "metadata": {
        "_cell_guid": "0a581ca7-ebac-af14-c135-a29f75210245"
      },
      "source": [
        "### 3.1 Machine Learning Models\n",
        "\n",
        "1. In this part we are going to use different machine learning models with all features variable and also top 5 important features given by Random forest Classifier\n",
        "\n",
        "2. In this part we will use simple models "
      ]
    },
    {
      "cell_type": "code",
      "execution_count": null,
      "metadata": {
        "_cell_guid": "cd3fbf9e-624c-e4e5-9103-6b48dc4f5b30"
      },
      "outputs": [],
      "source": [
        "# Importing Machine learning models library used for classification\n",
        "from sklearn.linear_model import LogisticRegression\n",
        "from sklearn.model_selection import train_test_split\n",
        "from sklearn.cross_validation import KFold\n",
        "from sklearn.ensemble import RandomForestClassifier\n",
        "from sklearn.neighbors import KNeighborsClassifier as knn\n",
        "from sklearn.naive_bayes import GaussianNB as GB\n",
        "from sklearn.svm import SVC"
      ]
    },
    {
      "cell_type": "code",
      "execution_count": null,
      "metadata": {
        "_cell_guid": "d7a5cd65-15e9-6451-1839-b6ffc5a3976d"
      },
      "outputs": [],
      "source": [
        "def Classification_model(model,Data,x,y): # here x is the variable which are used for prediction\n",
        "    # y is the prediction variable\n",
        "    train,test = train_test_split(Data,test_size= 0.33)\n",
        "    train_x = Data.ix[train.index,x] # Data for training only with features\n",
        "    train_y = Data.ix[train.index,y] # Data for training only with predcition variable\n",
        "    test_x = Data.ix[test.index,x] # same as for training \n",
        "    test_y = Data.ix[test.index,y]\n",
        "    model.fit(train_x,train_y.values.ravel())\n",
        "    pred=model.predict(test_x)\n",
        "    accuracy=accuracy_score(test_y,pred)\n",
        "    return accuracy"
      ]
    },
    {
      "cell_type": "code",
      "execution_count": null,
      "metadata": {
        "_cell_guid": "1a140fd6-c504-467a-c430-ab645da7c6e1"
      },
      "outputs": [],
      "source": [
        "All_features=['satisfaction_level',\n",
        "'number_project',\n",
        "'time_spend_company',\n",
        "'average_montly_hours',\n",
        "'last_evaluation',\n",
        "'sales',\n",
        "'salary',\n",
        "'Work_accident',       \n",
        "'promotion_last_5years']\n",
        "print(All_features)\n",
        "Important_features = ['satisfaction_level',\n",
        "'number_project',\n",
        "'time_spend_company',\n",
        "'average_montly_hours',\n",
        "'last_evaluation']\n",
        "print(Important_features)\n",
        "Pred_var = [\"left\"]\n",
        "print(Pred_var)"
      ]
    },
    {
      "cell_type": "code",
      "execution_count": null,
      "metadata": {
        "_cell_guid": "03d6dcf4-319b-be19-ef70-fee81966c7a1"
      },
      "outputs": [],
      "source": [
        "# Lets us make a list of models\n",
        "models=[\"RandomForestClassifier\",\"Gaussian Naive Bays\",\"KNN\",\"Logistic_Regression\",\"Support_Vector\"]\n",
        "Classification_models = [RandomForestClassifier(n_estimators=100),GB(),knn(n_neighbors=7),LogisticRegression(),SVC()]\n",
        "Model_Accuracy = []\n",
        "for model in Classification_models:\n",
        "    Accuracy=Classification_model(model,Data,All_features,Pred_var)\n",
        "    Model_Accuracy.append(Accuracy)"
      ]
    },
    {
      "cell_type": "code",
      "execution_count": null,
      "metadata": {
        "_cell_guid": "a34c266b-9d3b-b474-bbb7-ca44705530e5"
      },
      "outputs": [],
      "source": [
        "Accuracy_with_all_features = pd.DataFrame(\n",
        "    { \"Classification Model\" :models,\n",
        "     \"Accuracy with all features\":Model_Accuracy\n",
        "     \n",
        "    })"
      ]
    },
    {
      "cell_type": "code",
      "execution_count": null,
      "metadata": {
        "_cell_guid": "632d33c3-3bda-707f-5734-fdfe5d0b4f83"
      },
      "outputs": [],
      "source": [
        "Accuracy_with_all_features.sort_values(by=\"Accuracy with all features\",ascending=False).reset_index(drop=True)"
      ]
    },
    {
      "cell_type": "markdown",
      "metadata": {
        "_cell_guid": "4265d1e7-5c5a-82b6-89a4-0a3e9b095479"
      },
      "source": [
        "#### Observation \n",
        "\n",
        "1. The Random Forest is at the top followed by Support_vector and KNN\n",
        "\n",
        "2. These all are giving accuracy more than 90% for validation data i.e. test data that is not bad\n",
        "\n",
        "3. In Next we will try same with but only with important features suggested by RandomForest "
      ]
    },
    {
      "cell_type": "code",
      "execution_count": null,
      "metadata": {
        "_cell_guid": "06e41f30-a50d-aa7b-1370-b0581fa7898b"
      },
      "outputs": [],
      "source": [
        "# Lets try with Important features\n",
        "Model_Accuracy = []\n",
        "for model in Classification_models:\n",
        "    Accuracy=Classification_model(model,Data,Important_features,Pred_var) # Just instead of all features give only important features\n",
        "    Model_Accuracy.append(Accuracy)\n"
      ]
    },
    {
      "cell_type": "code",
      "execution_count": null,
      "metadata": {
        "_cell_guid": "39beaf32-4f9f-accc-6727-233e2348be61"
      },
      "outputs": [],
      "source": [
        "Accuracy_with_important_features = pd.DataFrame(\n",
        "    { \"Classification Model\" :models,\n",
        "     \"Accuracy with Important features\":Model_Accuracy\n",
        "     \n",
        "    })\n",
        "Accuracy_with_important_features.sort_values(by=\"Accuracy with Important features\",ascending=False).reset_index(drop=True)"
      ]
    },
    {
      "cell_type": "markdown",
      "metadata": {
        "_cell_guid": "e45ad616-10ad-e483-365e-20f599a4d630"
      },
      "source": [
        "1. By using the important features there is a slight increase in accuracy for all classification models\n",
        "\n",
        "2. The gaussian navie bays and KNN show a increase of 2 % in accuracy"
      ]
    },
    {
      "cell_type": "markdown",
      "metadata": {
        "_cell_guid": "5ad3afe4-075b-84a4-9eef-dd19fab16ef9"
      },
      "source": [
        "### 3.2 Machine Learning Models With Cross Validation\n",
        "\n",
        "1. In this we will do the cross validation with the models to get there mean accuracy\n",
        "\n",
        "2. From 3.1 we came to know that by using important features there is increase in the accuracy for all models so in this we will go only with important features"
      ]
    },
    {
      "cell_type": "code",
      "execution_count": null,
      "metadata": {
        "_cell_guid": "8b4f553d-1248-afe1-959b-34ece82ecfbf"
      },
      "outputs": [],
      "source": [
        "from sklearn.model_selection import cross_val_score # This is used for to caculate the score of cross validation by using Kfold\n",
        "def Classification_model_CV(model,Data,x,y): # here x is the variable which are used for prediction\n",
        "    # y is the prediction variable\n",
        "    data_x = Data.ix[:,x] # Here no need of training and test data because in cross validation it splits data into \n",
        "    \n",
        "    # train and test itself # data_x repersent features\n",
        "    data_y = Data.ix[:,y] # data for predication\n",
        "    data_y=data_y.values.ravel()\n",
        "    scores= cross_val_score(model,data_x,data_y,scoring=\"accuracy\",cv=10)\n",
        "    print(scores) # print the scores\n",
        "    print('')\n",
        "    accuracy=scores.mean()\n",
        "    return accuracy"
      ]
    },
    {
      "cell_type": "code",
      "execution_count": null,
      "metadata": {
        "_cell_guid": "4f7dce87-4a22-c1ad-a943-5d3f4a7e6609"
      },
      "outputs": [],
      "source": [
        "models=[\"RandomForestClassifier\",\"Gaussian Naive Bays\",\"KNN\",\"Logistic_Regression\",\"Support_Vector\"]\n",
        "Classification_models = [RandomForestClassifier(n_estimators=100),GB(),knn(n_neighbors=7),LogisticRegression(),SVC()]\n",
        "Model_Accuracy = []\n",
        "for model,z in zip(Classification_models,models):\n",
        "    print(z) # Print the name of model\n",
        "    print('')\n",
        "    Accuracy=Classification_model_CV(model,Data,Important_features,Pred_var)\n",
        "    \n",
        "    Model_Accuracy.append(Accuracy)"
      ]
    },
    {
      "cell_type": "code",
      "execution_count": null,
      "metadata": {
        "_cell_guid": "feb231ac-10d7-eb72-7d61-ba46de0f50db"
      },
      "outputs": [],
      "source": [
        "Accuracy_with_CV = pd.DataFrame(\n",
        "    { \"Classification Model\" :models,\n",
        "     \"Accuracy with CV\":Model_Accuracy\n",
        "     \n",
        "    })\n",
        "Accuracy_with_CV.sort_values(by=\"Accuracy with CV\",ascending=False).reset_index(drop=True)"
      ]
    },
    {
      "cell_type": "markdown",
      "metadata": {
        "_cell_guid": "634a6822-ebb8-073b-cef5-594615a27b26"
      },
      "source": [
        "### 3.3 Machine Learning Models With Parameter tuning\n",
        "\n",
        "1. In this we will use  Grid SearchCV to find the best parameter for a model \n",
        "\n",
        "2. in this we will use important features too"
      ]
    },
    {
      "cell_type": "code",
      "execution_count": null,
      "metadata": {
        "_cell_guid": "d52749f8-68e1-a44b-569f-a4b8aecfceab"
      },
      "outputs": [],
      "source": [
        "from sklearn.model_selection import GridSearchCV \n",
        "def Classification_model_GridSearchCV(model,Data,x,y,params):\n",
        "    \n",
        "    # here params repersent Parameters\n",
        "    data_x = Data.ix[:,x]  \n",
        "    data_y = Data.ix[:,y] \n",
        "    data_y=data_y.values.ravel()\n",
        "    clf = GridSearchCV(model,params,scoring=\"accuracy\",cv=5)\n",
        "    clf.fit(data_x,data_y)\n",
        "    print(\"best score is :\")\n",
        "    print(clf.best_score_)\n",
        "    print('')\n",
        "    print(\"best estimator is :\")\n",
        "    print(clf.best_estimator_)\n",
        "\n",
        "    return (clf.best_score_)"
      ]
    },
    {
      "cell_type": "code",
      "execution_count": null,
      "metadata": {
        "_cell_guid": "2b7f9772-cd29-45e0-2fac-6b71aff723c2"
      },
      "outputs": [],
      "source": [
        "models=[\"RandomForestClassifier\",\"Gaussian Naive Bays\",\"KNN\",\"Logistic_Regression\",\"Support_Vector\"]\n",
        "Model_Accuracy=[]\n",
        "model = RandomForestClassifier()\n",
        "param_grid = {'n_estimators':(70,80,90,100),'criterion':('gini','entropy'),'max_depth':[25,30]}\n",
        "Accuracy=Classification_model_GridSearchCV(model,Data,Important_features,Pred_var,param_grid)\n",
        "Model_Accuracy.append(Accuracy)"
      ]
    },
    {
      "cell_type": "code",
      "execution_count": null,
      "metadata": {
        "_cell_guid": "36e8f18e-60c3-357b-522c-a8d93c08dc22"
      },
      "outputs": [],
      "source": [
        "model = GB()\n",
        "param_grid={}\n",
        "Accuracy=Classification_model_GridSearchCV(model,Data,Important_features,Pred_var,param_grid)\n",
        "Model_Accuracy.append(Accuracy)"
      ]
    },
    {
      "cell_type": "code",
      "execution_count": null,
      "metadata": {
        "_cell_guid": "919ab0dc-dd3a-0a8e-2324-f9cc9d3fc5e4"
      },
      "outputs": [],
      "source": [
        "model=knn()\n",
        "param_grid={'n_neighbors':[5,15],'weights':('uniform','distance'),'p':[1,5]}\n",
        "Accuracy=Classification_model_GridSearchCV(model,Data,Important_features,Pred_var,param_grid)\n",
        "Model_Accuracy.append(Accuracy)"
      ]
    },
    {
      "cell_type": "code",
      "execution_count": null,
      "metadata": {
        "_cell_guid": "edd7677f-649d-61c9-5ac1-ec56758be244"
      },
      "outputs": [],
      "source": [
        "model=LogisticRegression()\n",
        "param_grid={'C': [0.01,0.1,1,10],'penalty':('l1','l2')}\n",
        "Accuracy=Classification_model_GridSearchCV(model,Data,Important_features,Pred_var,param_grid)\n",
        "Model_Accuracy.append(Accuracy)"
      ]
    },
    {
      "cell_type": "code",
      "execution_count": null,
      "metadata": {
        "_cell_guid": "dde78fe8-a463-bab1-5868-c7234e842cde"
      },
      "outputs": [],
      "source": [
        "model=SVC()\n",
        "param_grid={'C': [1,10,20,100],'gamma':[0.1,1,10]} \n",
        "Accuracy=Classification_model_GridSearchCV(model,Data,Important_features,Pred_var,param_grid)\n",
        "Model_Accuracy.append(Accuracy)"
      ]
    },
    {
      "cell_type": "code",
      "execution_count": null,
      "metadata": {
        "_cell_guid": "324dcc1c-142e-424e-c8ba-89fc6d072ebb"
      },
      "outputs": [],
      "source": [
        "Accuracy_with_GridSearchCV = pd.DataFrame(\n",
        "    { \"Classification Model\" :models,\n",
        "     \"Accuracy with GridSearchCV\":Model_Accuracy\n",
        "     \n",
        "    })\n",
        "Accuracy_with_GridSearchCV.sort_values(by=\"Accuracy with GridSearchCV\",ascending=False).reset_index(drop=True)"
      ]
    },
    {
      "cell_type": "code",
      "execution_count": null,
      "metadata": {
        "_cell_guid": "d4190cce-06ff-5aca-864a-809cbf7e750e"
      },
      "outputs": [],
      "source": [
        "Comparison=pd.merge(pd.merge(pd.merge(Accuracy_with_all_features,Accuracy_with_important_features,on='Classification Model'),Accuracy_with_CV,on='Classification Model'),Accuracy_with_GridSearchCV,on='Classification Model')"
      ]
    },
    {
      "cell_type": "code",
      "execution_count": null,
      "metadata": {
        "_cell_guid": "3543e026-08cb-8994-bb10-14df0a35cbbc"
      },
      "outputs": [],
      "source": [
        "Comparison1=Comparison.ix[:,[\"Classification Model\",\"Accuracy with all features\",\"Accuracy with Important features\",\"Accuracy with CV\",\"Accuracy with GridSearchCV\"]]"
      ]
    },
    {
      "cell_type": "code",
      "execution_count": null,
      "metadata": {
        "_cell_guid": "ed64c251-5e55-82c1-2cc7-fa55e3d29730"
      },
      "outputs": [],
      "source": [
        "Comparison1"
      ]
    },
    {
      "cell_type": "markdown",
      "metadata": {
        "_cell_guid": "abe6ec10-6a47-458a-2133-5e8795ab3f67"
      },
      "source": [
        "**Conclusion**\n",
        "\n",
        " 1. Here we can compare the accuracy obtained by different Classification Models  with different strategy\n",
        " 2. For A quick revision\n",
        " 3. Accuracy with all features means the all features of data were used for prediction of will employee left or not?  this accuracy is obtained on the test data which was not used in training.\n",
        " 4. Accuracy with important features means the same as above but here only 5 most important features were used. The importance of features we got by using Random Forest Classifier.\n",
        " 5. Accuracy with CV means the mean of accuracies which were obtained on iteration of one CV. here 10 iterations were used\n",
        " 6. Accuracy with GridSearchCV means the best score obtained after tuning the model.  Here for CV only 5 folds were used\n",
        "\n",
        " 7. Thank you\n",
        "\n",
        " "
      ]
    },
    {
      "cell_type": "markdown",
      "metadata": {
        "_cell_guid": "3dd64fb8-a125-c52c-80f2-a794aba81128"
      },
      "source": [
        "**Some Links**\n",
        "\n",
        " 1. [Plotting with categorical Variable](http://seaborn.pydata.org/tutorial/categorical.html)\n",
        " 2. [Random Forest Classifier](http://scikit-learn.org/stable/modules/generated/sklearn.ensemble.RandomForestClassifier.html)\n",
        " 3. [Support Vector Machine](http://scikit-learn.org/stable/modules/generated/sklearn.svm.SVC.html)\n",
        " 4. [KNN](http://scikit-learn.org/stable/modules/generated/sklearn.neighbors.KNeighborsClassifier.html)\n",
        " 5. [Logistic Regression](http://scikit-learn.org/stable/modules/generated/sklearn.linear_model.LogisticRegression.html)\n",
        " 6. [Gaussian Naive Bays](http://scikit-learn.org/stable/modules/generated/sklearn.naive_bayes.GaussianNB.html)\n",
        "\n",
        " 7. [Cross validation](http://scikit-learn.org/stable/modules/generated/sklearn.model_selection.cross_val_score.html)\n",
        "\n",
        " 8. [Grid SearchCV](http://scikit-learn.org/stable/modules/generated/sklearn.model_selection.GridSearchCV.html)\n",
        "\n",
        " 9. In comments please share resources from where I can learn other algorithm like as XGboost and other Ensemble methods\n",
        "\n"
      ]
    },
    {
      "cell_type": "markdown",
      "metadata": {
        "_cell_guid": "9161896f-86fd-a2c2-2a86-0b7bb0adbcfe"
      },
      "source": [
        "**Upcoming**\n",
        "\n",
        " 1. I will try to learn about Xgboost "
      ]
    }
  ],
  "metadata": {
    "_change_revision": 0,
    "_is_fork": false,
    "kernelspec": {
      "display_name": "Python 3",
      "language": "python",
      "name": "python3"
    },
    "language_info": {
      "codemirror_mode": {
        "name": "ipython",
        "version": 3
      },
      "file_extension": ".py",
      "mimetype": "text/x-python",
      "name": "python",
      "nbconvert_exporter": "python",
      "pygments_lexer": "ipython3",
      "version": "3.6.0"
    }
  },
  "nbformat": 4,
  "nbformat_minor": 0
}