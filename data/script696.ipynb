{
  "cells": [
    {
      "cell_type": "markdown",
      "metadata": {
        "_cell_guid": "b97da595-27b0-80c0-e8f6-76fa158e43de"
      },
      "source": [
        "This is analysis of \"Cheltenham's Facebook Groups\" dataset. We'll discover if there is any difference in these local FB groups and what posts are bound to be most liked, most shared or most commented. We will use some statistical methods, such as [confidence intervals](https://en.wikipedia.org/wiki/Confidence_interval) and [Mann\u2013Whitney test](https://en.wikipedia.org/wiki/Mann%E2%80%93Whitney_U_test).\n",
        "\n",
        "*Note: for lazy ones, look at the plots in the middle and conclusions at the end.*"
      ]
    },
    {
      "cell_type": "markdown",
      "metadata": {
        "_cell_guid": "24c48678-1c12-0094-ae9f-951619341323"
      },
      "source": [
        "## Data obtaining"
      ]
    },
    {
      "cell_type": "code",
      "execution_count": null,
      "metadata": {
        "_cell_guid": "bffc719d-e68b-37dd-eb72-ad692a455468"
      },
      "outputs": [],
      "source": [
        "import pandas as pd\n",
        "import numpy as np\n",
        "import seaborn as sns\n",
        "from statsmodels.stats.weightstats import zconfint\n",
        "from scipy.stats import mannwhitneyu\n",
        "from statsmodels.sandbox.stats.multicomp import multipletests \n",
        "%matplotlib inline"
      ]
    },
    {
      "cell_type": "markdown",
      "metadata": {
        "_cell_guid": "11b41f84-8d91-7ccc-ca09-dd885643c3af"
      },
      "source": [
        "First, let's read file \"post.csv\" to get information about posts (message, number of likes and shares)."
      ]
    },
    {
      "cell_type": "code",
      "execution_count": null,
      "metadata": {
        "_cell_guid": "713afc73-f4a2-2ac6-58ef-f8625c046a06"
      },
      "outputs": [],
      "source": [
        "posts = pd.read_csv('../input/post.csv', parse_dates=['timeStamp'])"
      ]
    },
    {
      "cell_type": "markdown",
      "metadata": {
        "_cell_guid": "7414ccaf-32fb-75a7-5291-684a29b3921e"
      },
      "source": [
        "Now we are reading \"comments.csv\" to calculate number of comments for each post."
      ]
    },
    {
      "cell_type": "code",
      "execution_count": null,
      "metadata": {
        "_cell_guid": "de19617e-fa13-6ac1-c14a-26b4579b1b38"
      },
      "outputs": [],
      "source": [
        "comments = pd.read_csv('../input/comment.csv')"
      ]
    },
    {
      "cell_type": "markdown",
      "metadata": {
        "_cell_guid": "bc61b719-986b-8543-4336-fd833599c937"
      },
      "source": [
        "Let's make new dataframe with the folowing columns: msg (message text), likes (number of likes for this message), shares (number of shares), comments (number of comments), msg_len (message length), and gid (group id). "
      ]
    },
    {
      "cell_type": "code",
      "execution_count": null,
      "metadata": {
        "_cell_guid": "564e3c45-30ea-6c68-141c-6d23156ee865"
      },
      "outputs": [],
      "source": [
        "com_count = comments.groupby('pid').count()['cid']\n",
        "data = posts.join(com_count,on='pid', rsuffix='c')[['msg', 'likes', 'shares', 'cid', 'gid']]\n",
        "data.columns = ['msg', 'likes', 'shares', 'comments', 'gid']\n",
        "data['msg_len'] = data.msg.apply(len)"
      ]
    },
    {
      "cell_type": "markdown",
      "metadata": {
        "_cell_guid": "87184de7-e979-fcc6-e7b2-4ba8d2d8888d"
      },
      "source": [
        "Group IDs are too long, so we'll replace them with 1 (Elkins Park Happenings, EPH), 2 (Unofficial Cheltenham Township, UCT), 3 (Free Speech Zone, FSZ)."
      ]
    },
    {
      "cell_type": "code",
      "execution_count": null,
      "metadata": {
        "_cell_guid": "c4bb893e-1d02-3338-2e6d-daa5feb4d6ef"
      },
      "outputs": [],
      "source": [
        "#117291968282998 Elkins Park Happenings\n",
        "#25160801076 Unofficial Cheltenham Township\n",
        "#1443890352589739 Free Speech Zone\n",
        "data.gid = data.gid.map({117291968282998: 1, 25160801076: 2, 1443890352589739: 3})"
      ]
    },
    {
      "cell_type": "markdown",
      "metadata": {
        "_cell_guid": "cc63998d-7c7d-fb7a-2ae9-f37b53e1fc94"
      },
      "source": [
        "Finally, let's replace NaN values with zero and look at the resulting dataframe."
      ]
    },
    {
      "cell_type": "code",
      "execution_count": null,
      "metadata": {
        "_cell_guid": "67e9655e-b27b-6e5d-789c-58e510e95708"
      },
      "outputs": [],
      "source": [
        "data.fillna(0,inplace=True)\n",
        "data.head()"
      ]
    },
    {
      "cell_type": "markdown",
      "metadata": {
        "_cell_guid": "5aa8d797-eb91-fecf-1a6e-37f1794f47c2"
      },
      "source": [
        "## Preliminary conclusions"
      ]
    },
    {
      "cell_type": "markdown",
      "metadata": {
        "_cell_guid": "9c17cfcb-fd91-3a94-8c1e-86acefe9f666"
      },
      "source": [
        "Now, let's visualize data obtained and see if we can say something interesting about our data."
      ]
    },
    {
      "cell_type": "code",
      "execution_count": null,
      "metadata": {
        "_cell_guid": "a4217fb4-7671-9bfa-e637-6ab6f219f90d"
      },
      "outputs": [],
      "source": [
        "sns.pairplot(data, hue='gid')"
      ]
    },
    {
      "cell_type": "markdown",
      "metadata": {
        "_cell_guid": "62f9810d-3757-0da9-f5a0-ccaa10e15e7f"
      },
      "source": [
        "Preliminary conclusions are the following:\n",
        " - In groups 1 (EPH) and 2 (UCT) posts get more likes and repost than in group 3 (FSZ). \n",
        " - In group 2 (UCT) posts get more comments than in groups 1 (EPH) and  3 (FSZ)\n",
        " - Message length is equal in all three groups."
      ]
    },
    {
      "cell_type": "markdown",
      "metadata": {
        "_cell_guid": "fe34146c-35cc-3299-34b4-027894824d38"
      },
      "source": [
        "## Hypotheses testing\n",
        "\n",
        "Now let's test these hypotheses. We will calculate [95% confidence interval](https://en.wikipedia.org/wiki/Confidence_interval) for mean values of likes, shares, comments and message length in each group and compare them. "
      ]
    },
    {
      "cell_type": "code",
      "execution_count": null,
      "metadata": {
        "_cell_guid": "ebc94fc8-7d03-138a-c7e9-d316145d04b0"
      },
      "outputs": [],
      "source": [
        "park = data[data.gid == 1]\n",
        "town = data[data.gid == 2]\n",
        "free = data[data.gid == 3]\n",
        "\n",
        "def conf_interval(field):\n",
        "    \"\"\"\"\n",
        "    Calculate confidence interval for given field\n",
        "    \"\"\"\n",
        "    # I've rounded numbers to integers because estimated values (likes, shares, ...) are integers themselves.\n",
        "    print(\"95% confidence interval for the EPH posts mean number of {:s}: ({z[0]:.0f}, {z[1]:.0f})\".format(field, z=zconfint(park[field])))\n",
        "    print(\"95% confidence interval for the UCT posts mean number of {:s}: ({z[0]:.0f}, {z[1]:.0f})\".format(field, z=zconfint(town[field])))\n",
        "    print(\"95% confidence interval for the FSZ posts mean number of {:s}: ({z[0]:.0f}, {z[1]:.0f})\".format(field, z=zconfint(free[field])))"
      ]
    },
    {
      "cell_type": "code",
      "execution_count": null,
      "metadata": {
        "_cell_guid": "c59c2008-0bc0-55bd-99c9-4e29873b66da"
      },
      "outputs": [],
      "source": [
        "conf_interval('likes')"
      ]
    },
    {
      "cell_type": "markdown",
      "metadata": {
        "_cell_guid": "93b2875a-68be-d54e-925c-b7363277b7aa"
      },
      "source": [
        "Confidence intervals for mean number of likes in groups 1 and 2 intersect, but both lower bounds are greater than upper bound in group 3. But to be sure that mean number of likes (shares, comments, ...) is different for each group (or at least in groups 2 and 3)  let's apply [Mann\u2013Whitney test](https://en.wikipedia.org/wiki/Mann%E2%80%93Whitney_U_test) (significance level 0.05, two-sided alternative). We will compare 3 pairs of samples: EPH group vs UCT group, EPH vs FSZ, and UCT vs FSZ. This is multiple test and we will use [holm multiple test correction](https://en.wikipedia.org/wiki/Holm%E2%80%93Bonferroni_method). \n",
        "\n",
        "**Null hypothesis**: mean number of likes is equal in the particular pair of groups, **alternative**: null hypothesis is wrong (mean number of likes is not equal for the pair of groups). If p-value is less than 0.05 we reject null hypothesis."
      ]
    },
    {
      "cell_type": "code",
      "execution_count": null,
      "metadata": {
        "_cell_guid": "a24a9aa1-75c9-929f-fc2a-82c6e7195396"
      },
      "outputs": [],
      "source": [
        "def compare_means(field):\n",
        "    \"\"\"\n",
        "    Mann\u2013Whitney test to compare mean values level\n",
        "    \"\"\"\n",
        "    mapping = {1: 'EPH', 2: 'UCT', 3: 'FSZ'}\n",
        "        \n",
        "    comparison = pd.DataFrame(columns=['group1', 'group2', 'p_value'])\n",
        "    # compare number of <field> in each group \n",
        "    for i in range(1,4):\n",
        "        for j in range(1,4):\n",
        "            if i >= j:\n",
        "                continue\n",
        "            # obtaining p-value after Mann\u2013Whitney U test\n",
        "            p = mannwhitneyu(data[data.gid == i][field], data[data.gid == j][field])[1]\n",
        "            comparison = comparison.append({'group1': mapping[i], 'group2': mapping[j], 'p_value': p},ignore_index=True)\n",
        "    # holm correction\n",
        "    rejected, p_corrected, a1, a2 = multipletests(comparison.p_value, \n",
        "                                            alpha = 0.05, \n",
        "                                            method = 'holm') \n",
        "    comparison['p_value_corrected'] = p_corrected\n",
        "    comparison['rejected'] = rejected\n",
        "    return comparison    "
      ]
    },
    {
      "cell_type": "markdown",
      "metadata": {
        "_cell_guid": "76e5ac7e-9eff-3276-dcef-cea900604a76"
      },
      "source": [
        "Let's compare likes distribution in groups, if it equal or not. **p_value_corrected** here is new **p_value** after holm correction."
      ]
    },
    {
      "cell_type": "code",
      "execution_count": null,
      "metadata": {
        "_cell_guid": "6a9a06cf-7cd4-eb5f-b7e7-971dffa0d2b2"
      },
      "outputs": [],
      "source": [
        "conf_interval('likes')\n",
        "print(compare_means('likes'))\n",
        "# compare number of likes in group1 with number of likes in group2, \n",
        "# and if rejected field is True make a conclusion that \n",
        "# mean number of likes in the first group is different from mean number of likes in the second one.  "
      ]
    },
    {
      "cell_type": "markdown",
      "metadata": {
        "_cell_guid": "6cd555e6-ddae-1104-ac6d-4ccee131e75a"
      },
      "source": [
        "Great, we see that mean number of likes in each group is statistically different. But practically speaking there is no sense because the difference is only 1-2 likes.\n",
        "\n",
        "**So, our conclusion #1: posts get about equal number of likes in all three groups .**"
      ]
    },
    {
      "cell_type": "markdown",
      "metadata": {
        "_cell_guid": "b7aca06b-b7d1-3a48-94a0-ee170ce47e5c"
      },
      "source": [
        "Now, let's do the same test for number of shares."
      ]
    },
    {
      "cell_type": "code",
      "execution_count": null,
      "metadata": {
        "_cell_guid": "dcd82555-b84e-0e03-a31a-08d224ae86a5"
      },
      "outputs": [],
      "source": [
        "conf_interval('shares')\n",
        "print(compare_means('shares'))"
      ]
    },
    {
      "cell_type": "markdown",
      "metadata": {
        "_cell_guid": "21d0ca8f-da1e-4210-a663-983baef065a1"
      },
      "source": [
        "Confidence intervals for groups 1 and 3, 2 and 3 do not intersect, and Mann\u2013Whitney test rejects all null hypotheses, so we can make another conclusion.\n",
        "\n",
        "**Conclusion #2: posts from group 3 are almost never shared, and it has practical significance: if you want your message to be shared, you should choose one of the first two groups.**"
      ]
    },
    {
      "cell_type": "markdown",
      "metadata": {
        "_cell_guid": "08fc85d5-da21-079a-d3cb-b8d3d1030e0d"
      },
      "source": [
        "Let's do the same test for number of comments."
      ]
    },
    {
      "cell_type": "code",
      "execution_count": null,
      "metadata": {
        "_cell_guid": "b848530e-5eca-57f9-071f-0d58e55ed23e"
      },
      "outputs": [],
      "source": [
        "conf_interval('comments')\n",
        "print(compare_means('comments'))"
      ]
    },
    {
      "cell_type": "markdown",
      "metadata": {
        "_cell_guid": "f2ec3649-78d0-ab3c-464b-de93942206fe"
      },
      "source": [
        "In average, posts in each group have about equal number of comments. Yes, statistical test has shown significant difference in mean number of comments, but again there is no practical sense.\n",
        "\n",
        "**Conclusion #3: hypothesis that posts in group 2 (UCT) get more comments is wrong. Posts in each group have about equal number of comments**"
      ]
    },
    {
      "cell_type": "markdown",
      "metadata": {
        "_cell_guid": "528197fa-c151-aa5b-4f95-83d905cc5bd5"
      },
      "source": [
        "Finally, let's do the same test for message length."
      ]
    },
    {
      "cell_type": "code",
      "execution_count": null,
      "metadata": {
        "_cell_guid": "6956c365-2c41-bc92-ab20-ae737a21091a"
      },
      "outputs": [],
      "source": [
        "conf_interval('msg_len')\n",
        "print(compare_means('msg_len'))"
      ]
    },
    {
      "cell_type": "markdown",
      "metadata": {
        "_cell_guid": "0fcd22c0-7e14-6c19-e289-a7f9b55eb51d"
      },
      "source": [
        "Confidence intervals for groups 1 and 2, 1 and 3 do not intersect, and Mann\u2013Whitney test rejects only first null hypothesis. It means that message length in group 2 is significantly longer than in group 1. Probably, messages in the first group have more photos instead.\n",
        "\n",
        "**Conclusion #4: message length in group 2 (UCT) is longer than in group 1 (EPH).**\n"
      ]
    },
    {
      "cell_type": "markdown",
      "metadata": {
        "_cell_guid": "4b902dc7-1f46-00ae-ef33-7443c6d3934f"
      },
      "source": [
        "## What do people like?\n",
        "\n",
        "Some posts in this dataset have exceptional characteristics: some of them have enormous number of shares while having very little likes, and some posts got huge number of likes despite just few people decided to share them, and so on. Let's investigate why this happens, and what such posts contain."
      ]
    },
    {
      "cell_type": "markdown",
      "metadata": {
        "_cell_guid": "3564653d-8532-2fa1-8ae6-d5f26564391c"
      },
      "source": [
        "### Many shares, few likes\n",
        "First of all, we'll look at the posts that have number of shares larger than other 98% posts, and that was shared much more often than liked. I think it's interesting to know why this happened."
      ]
    },
    {
      "cell_type": "code",
      "execution_count": null,
      "metadata": {
        "_cell_guid": "f38cddc5-8d45-7b82-bdb7-b26dfb5fb250"
      },
      "outputs": [],
      "source": [
        "shared = data[data.shares > data.shares.quantile(0.98)][data.shares > data.likes*10][['msg','shares']]\n",
        "\n",
        "top = 10\n",
        "print(\"top %d out of %d\" % (top, shared.shape[0]))\n",
        "sorted_data = shared.sort_values(by='shares', ascending=False)[:top]\n",
        "for i in sorted_data.index.values:\n",
        "    print('shares:',sorted_data.shares[i], '\\n','message:', sorted_data.msg[i][:200], '\\n')"
      ]
    },
    {
      "cell_type": "markdown",
      "metadata": {
        "_cell_guid": "ee0329a7-3c4d-cc2c-99a3-173b55d16479"
      },
      "source": [
        "OK, this was obvious. People try to propagate on the internet information about lost and found pets. There is no need to like such posts, but reposts are very useful."
      ]
    },
    {
      "cell_type": "markdown",
      "metadata": {
        "_cell_guid": "066bc0c9-9085-86cc-4e6e-3bb4c9f5b4f6"
      },
      "source": [
        "### Many likes, few shares\n",
        "Let's go further and consider opposite situation when post has a lot of likes and virtually none shares."
      ]
    },
    {
      "cell_type": "code",
      "execution_count": null,
      "metadata": {
        "_cell_guid": "2b8cc01c-ff84-94a5-b182-c801b8854d12"
      },
      "outputs": [],
      "source": [
        "likes = data[data.likes > data.likes.quantile(0.98)][data.likes > data.shares*100][['msg', 'likes']]\n",
        "print(\"top %d out of %d\" % (top, likes.shape[0]))\n",
        "sorted_data = likes.sort_values(by='likes', ascending=False)[:top]\n",
        "for i in sorted_data.index.values:\n",
        "    print('likes:',sorted_data.likes[i], '\\n','message:', sorted_data.msg[i][:300], '\\n')"
      ]
    },
    {
      "cell_type": "markdown",
      "metadata": {
        "_cell_guid": "45dca0ef-1d97-9aae-44de-024612e19c39"
      },
      "source": [
        "In this cluster we see messages of gratitude or messages from new neighbours wanting to get to know their new town. People try to show that they like such messages or to welcome the newcomers, and there is no need to share such posts outside the groups. This messages do not ask help, just post information about events. Posts have a positive tone mostly."
      ]
    },
    {
      "cell_type": "markdown",
      "metadata": {
        "_cell_guid": "40370feb-50f1-14f1-f06f-1c9ba71df734"
      },
      "source": [
        "### Most commented\n",
        "\n",
        "In this section let's discover what Cheltenham people discuss most willingly. Let's look at most commented posts."
      ]
    },
    {
      "cell_type": "code",
      "execution_count": null,
      "metadata": {
        "_cell_guid": "2b988bae-4748-1cb2-09df-d81005b9ad12"
      },
      "outputs": [],
      "source": [
        "discussed = data[data.comments > data.comments.quantile(0.98)][['msg', 'comments']]\n",
        "\n",
        "print(\"top %d out of %d\\n\" % (top, discussed.shape[0]))\n",
        "sorted_data = discussed.sort_values(by='comments', ascending=False)[:top]\n",
        "for i in sorted_data.index.values:\n",
        "    print('comments:',sorted_data.comments[i], '\\n','message:', sorted_data.msg[i][:300], '\\n')"
      ]
    },
    {
      "cell_type": "markdown",
      "metadata": {
        "_cell_guid": "7d025dd7-da69-991b-f20a-bc5ab2f94d22"
      },
      "source": [
        "We can see that words such as \"please, explain\" or \"do you know\" appeare quite often in these messages. In this cluster we can find posts about local problems (school, sewer,  traffic) causing discussions, or direct questions about local events. And, of course, political posts. People here do not ask help, do not thank. Messages have neutral or negative tone."
      ]
    },
    {
      "cell_type": "markdown",
      "metadata": {
        "_cell_guid": "f5d42c8b-358e-9709-966f-197e39807678"
      },
      "source": [
        "## Conclusions\n",
        "\n",
        "At the beginning we have made some preliminary conclusions and none of them was right. I'm reminding you:\n",
        "\n",
        " * In groups 1 (EPH) and 2 (UCT) posts get more likes and repost than in group 3 (FSZ). \n",
        " * In group 2 (UCT) posts get more comments than in groups 1 (EPH) and  3 (FSZ)\n",
        " * Message length is equal in all three groups.\n",
        "\n",
        "**What we see after testing:**\n",
        "\n",
        "*Comparing Groups*\n",
        "\n",
        " * Posts get about equal number of likes in all three groups\n",
        " * Posts get about equal number of comments in all three groups\n",
        " * Posts from group 3 (FSZ) are almost never shared, and it has practical significance: if you want your message to be shared, you should choose one of the first two groups.\n",
        " * Messages in group 2 (UCT) are longer (~300 symbols) than in group 1 (EPH) (~250 symbols). Probably, messages in the first group have more photos instead.\n",
        " \n",
        "*Likes, shares, and coments*\n",
        "\n",
        " * Posts having large number of shares contain information about lost and found pets or ask for help.\n",
        " * Posts having large number of likes are messages of gratitude or messages from new neighbours wanting to get to know their new town. Such posts have a positive tone mostly.\n",
        " * Posts causing long discussions are posts about local problems such as school, sewer, traffic, messages with direct questions about local events, and political posts."
      ]
    }
  ],
  "metadata": {
    "_change_revision": 0,
    "_is_fork": false,
    "kernelspec": {
      "display_name": "Python 3",
      "language": "python",
      "name": "python3"
    },
    "language_info": {
      "codemirror_mode": {
        "name": "ipython",
        "version": 3
      },
      "file_extension": ".py",
      "mimetype": "text/x-python",
      "name": "python",
      "nbconvert_exporter": "python",
      "pygments_lexer": "ipython3",
      "version": "3.5.2"
    }
  },
  "nbformat": 4,
  "nbformat_minor": 0
}