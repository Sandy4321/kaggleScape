{
  "cells": [
    {
      "cell_type": "code",
      "execution_count": null,
      "metadata": {
        "_cell_guid": "3b30c842-13d8-4fd2-aeeb-5fe4b3e6a8bf"
      },
      "outputs": [],
      "source": [
        "import math\n",
        "import sqlite3\n",
        "import pandas as pd\n",
        "import numpy as np\n",
        "import matplotlib.pyplot as plt\n",
        "%matplotlib inline\n",
        "import datetime as dt\n",
        "import datetime\n",
        "import sqlalchemy\n",
        "from numpy.random import random\n",
        "from sqlalchemy import create_engine\n",
        "import seaborn as sns\n",
        "import warnings\n",
        "warnings.filterwarnings('ignore')"
      ]
    },
    {
      "cell_type": "code",
      "execution_count": null,
      "metadata": {
        "_cell_guid": "fc5fd654-35f6-066e-68b2-01bd1179067a"
      },
      "outputs": [],
      "source": [
        "conn = sqlite3.connect('../input/database.sqlite')\n",
        "c = conn.cursor()"
      ]
    },
    {
      "cell_type": "code",
      "execution_count": null,
      "metadata": {
        "_cell_guid": "790efa41-8bf7-78df-1061-02d270bf3bfa"
      },
      "outputs": [],
      "source": [
        "import datetime\n",
        "def get_zodiac_of_date(date):\n",
        "    zodiacs = [(120, 'Cap'), (218, 'Aqu'), (320, 'Pis'), (420, 'Ari'), (521, 'Tau'),\n",
        "           (621, 'Gem'), (722, 'Can'), (823, 'Leo'), (923, 'Vir'), (1023, 'Lib'),\n",
        "           (1122, 'Sco'), (1222, 'Sag'), (1231, 'Cap')]\n",
        "    date_number = int(\"\".join((str(date.month), '%02d' % date.day)))\n",
        "    for z in zodiacs:\n",
        "        if date_number <= z[0]:\n",
        "            return z[1]\n",
        "def get_zodiac_for_football_players(x):\n",
        "    date  =  x.split(\" \")[0]\n",
        "    date = datetime.datetime.strptime(date, \"%Y-%m-%d\").date()\n",
        "    return get_zodiac_of_date(date)\n",
        "def get_age_for_football_players(x):\n",
        "    date  =  x.split(\" \")[0]\n",
        "    today = datetime.datetime.strptime(\"2015-01-01\", \"%Y-%m-%d\").date()\n",
        "    born = datetime.datetime.strptime(date, \"%Y-%m-%d\").date()\n",
        "    return today.year - born.year - ((today.month, today.day) < (born.month, born.day))\n",
        "def get_overall_rating(x):\n",
        "    global c\n",
        "    all_rating = c.execute(\"\"\"SELECT overall_rating FROM Player_Stats WHERE player_api_id = '%d' \"\"\" % (x)).fetchall()\n",
        "    all_rating = np.array(all_rating,dtype=np.float)[:,0]\n",
        "    mean_rating = np.nanmean(all_rating)\n",
        "    return mean_rating\n",
        "def get_current_team_and_country(x):\n",
        "    global c\n",
        "    all_rating = c.execute(\"\"\"SELECT overall_rating FROM Player_Stats WHERE player_api_id = '%d' \"\"\" % (x)).fetchall()\n",
        "    all_rating = np.array(all_rating,dtype=np.float)[:,0]\n",
        "    rating = np.nanmean(all_rating)\n",
        "    if (rating>1): \n",
        "        all_football_nums = reversed(range(1,12))\n",
        "        for num in all_football_nums:\n",
        "            all_team_id = c.execute(\"\"\"SELECT home_team_api_id, country_id FROM Match WHERE home_player_%d = '%d'\"\"\" % (num,x)).fetchall()\n",
        "            if len(all_team_id) > 0:\n",
        "                number_unique_teams = len(np.unique(np.array(all_team_id)[:,0]))\n",
        "                last_team_id = all_team_id[-1][0]\n",
        "                last_country_id = all_team_id[-1][1]\n",
        "                last_country = c.execute(\"\"\"SELECT name FROM Country WHERE id = '%d'\"\"\" % (last_country_id)).fetchall()[0][0]\n",
        "                last_team = c.execute(\"\"\"SELECT team_long_name FROM Team WHERE team_api_id = '%d'\"\"\" % (last_team_id)).fetchall()[0][0]\n",
        "                return last_team, last_country, number_unique_teams\n",
        "    return None, None, 0\n",
        "def get_position(x):\n",
        "    global c\n",
        "    all_rating = c.execute(\"\"\"SELECT overall_rating FROM Player_Stats WHERE player_api_id = '%d' \"\"\" % (x)).fetchall()\n",
        "    all_rating = np.array(all_rating,dtype=np.float)[:,0]\n",
        "    rating = np.nanmean(all_rating)\n",
        "    if (rating>1): \n",
        "        all_football_nums = reversed(range(1,12))\n",
        "        for num in all_football_nums:\n",
        "            all_y_coord = c.execute(\"\"\"SELECT home_player_Y%d FROM Match WHERE home_player_%d = '%d'\"\"\" % (num,num,x)).fetchall()\n",
        "            if len(all_y_coord) > 0:\n",
        "                Y = np.array(all_y_coord,dtype=np.float)\n",
        "                mean_y = np.nanmean(Y)\n",
        "                if (mean_y >= 10.0):\n",
        "                    return \"for\"\n",
        "                elif (mean_y > 5):\n",
        "                    return \"mid\"\n",
        "                elif (mean_y > 1):\n",
        "                    return \"def\"\n",
        "                elif (mean_y == 1.0):\n",
        "                    return \"gk\"\n",
        "    return None"
      ]
    },
    {
      "cell_type": "code",
      "execution_count": null,
      "metadata": {
        "_cell_guid": "84461254-8f60-2d86-db5b-b2154d063382"
      },
      "outputs": [],
      "source": [
        "with sqlite3.connect('../input/database.sqlite') as con:\n",
        "    sql = \"SELECT * FROM Player\"\n",
        "    max_players_to_analyze = 1000\n",
        "    players_data = pd.read_sql_query(sql, con)\n",
        "    players_data = players_data.iloc[0:max_players_to_analyze]\n",
        "    players_data[\"zodiac\"] = np.vectorize(get_zodiac_for_football_players)(players_data[\"birthday\"])\n",
        "    players_data[\"rating\"] = np.vectorize(get_overall_rating)(players_data[\"player_api_id\"])\n",
        "    players_data[\"age\"] = np.vectorize(get_age_for_football_players)(players_data[\"birthday\"])\n",
        "    players_data[\"team\"], players_data[\"country\"], players_data[\"num_uniq_team\"] = np.vectorize(get_current_team_and_country)(players_data[\"player_api_id\"])\n",
        "    players_data[\"position\"] = np.vectorize(get_position)(players_data[\"player_api_id\"])\n",
        "players_data.head()"
      ]
    },
    {
      "cell_type": "code",
      "execution_count": null,
      "metadata": {
        "_cell_guid": "bf9203c0-5e2c-be12-6ee0-522443eb5cee"
      },
      "outputs": [],
      "source": [
        "countries_rating = players_data.groupby(\"country\")[\"rating\"].mean()\n",
        "del countries_rating[\"None\"]\n",
        "countries_rating= countries_rating.reset_index()\n",
        "countries_rating\n",
        "min_rating = countries_rating[\"rating\"].min()\n",
        "countries_coef = np.vectorize(lambda x :x)(countries_rating[\"rating\"] - min_rating + 5)\n",
        "countries_rating[\"rating\"] = countries_coef\n",
        "countries_rating\n",
        "final_ratings = {}\n",
        "for i in countries_rating.values:\n",
        "    final_ratings[i[0]] = i[1]\n",
        "final_ratings"
      ]
    },
    {
      "cell_type": "code",
      "execution_count": null,
      "metadata": {
        "_cell_guid": "883af274-fbfa-275e-a001-018965d52842"
      },
      "outputs": [],
      "source": [
        "import mpl_toolkits.basemap as bm\n",
        "countries = {}\n",
        "countries[\"England\"] = [-0.12, 51.5, 20.0]\n",
        "countries[\"Belgium\"] = [4.34, 50.85, 20.0]\n",
        "countries[\"France\"] = [2.34, 48.86, 20.0]\n",
        "countries[\"Germany\"] = [13.4, 52.52, 20.0]\n",
        "countries[\"Italy\"] = [12.49, 41.89, 20.0]\n",
        "countries[\"Netherlands\"] =[4.89, 52.37, 20.0]\n",
        "countries[\"Poland\"] = [21.01, 52.23, 20.0]\n",
        "countries[\"Portugal\"] = [-9.14, 38.73, 20.0]\n",
        "countries[\"Scotland\"] = [-4.25, 55.86, 20.0]\n",
        "countries[\"Spain\"] = [-3.70, 40.41, 20.0]\n",
        "countries[\"Switzerland\"] = [6.14, 46.2, 20.0]\n",
        "for i in final_ratings.keys():\n",
        "    countries[i][2] = 3*final_ratings[i]\n",
        "plt.figure(figsize=(12,12))\n",
        "\n",
        "m = bm.Basemap(projection='cyl', llcrnrlat=35, urcrnrlat=58, llcrnrlon=-10, urcrnrlon=22, resolution='f')\n",
        "\n",
        "m.drawcountries(linewidth=0.2)\n",
        "m.fillcontinents(color='lavender', lake_color='#907099')\n",
        "m.drawmapboundary(linewidth=0.2, fill_color='#000040')\n",
        "m.drawparallels(np.arange(-90,90,30),labels=[0,0,0,0], color='white', linewidth=0.5)\n",
        "m.drawmeridians(np.arange(0,360,30),labels=[0,0,0,0], color='white', linewidth=0.5)\n",
        "for i in countries.keys():\n",
        "    m.plot(countries[i][0], countries[i][1], 'bo', markersize = countries[i][2], color='r')\n",
        "for label, xpt, ypt in zip(list(countries.keys()), np.array(list(countries.values()))[:,0],\\\n",
        "                           np.array(list(countries.values()))[:,1]):\n",
        "    plt.text(xpt - 0.85, ypt, label, fontsize = 20, color=\"purple\")\n",
        "plt.show()"
      ]
    },
    {
      "cell_type": "code",
      "execution_count": null,
      "metadata": {
        "_cell_guid": "b08b7cf7-ef40-23cf-1b17-c81903302864"
      },
      "outputs": [],
      "source": [
        "def plot_beatiful_quantiles(players_data):\n",
        "    points = np.linspace(0.00,1.0, 100)\n",
        "    quantiles = []\n",
        "    for i in points:\n",
        "        quantiles.append(players_data[\"rating\"].quantile(i))\n",
        "    fig = plt.figure(num=None, figsize=(10, 10), dpi=80, facecolor='w', edgecolor='k')\n",
        "    subplot = fig.add_subplot(111)\n",
        "    subplot.tick_params(axis='both', which='major', labelsize=22)\n",
        "    subplot.plot(quantiles,points, color=\"red\", linewidth=2.5, linestyle=\"-\")\n",
        "    plt.xlabel('Fifa rating', fontsize=30)\n",
        "    plt.ylabel('Percent of football players', fontsize=30)\n",
        "    plt.show()\n",
        "plot_beatiful_quantiles(players_data)"
      ]
    },
    {
      "cell_type": "code",
      "execution_count": null,
      "metadata": {
        "_cell_guid": "6fabc2bb-7960-a8d7-8cda-daeeeea06ed3"
      },
      "outputs": [],
      "source": [
        "calc_num_by_zodiac = players_data.groupby(\"zodiac\").count()[\"rating\"]\n",
        "football_zodiac = (100.0 * calc_num_by_zodiac/(float(calc_num_by_zodiac.sum()))).to_dict()\n",
        "data_from_statisticbrain = {}\n",
        "data_from_statisticbrain[\"Aqu\"] = 6.3\n",
        "data_from_statisticbrain[\"Ari\"] = 8.1\n",
        "data_from_statisticbrain[\"Cap\"] = 8.2\n",
        "data_from_statisticbrain[\"Can\"] = 8.5\n",
        "data_from_statisticbrain[\"Gem\"] = 9.3\n",
        "data_from_statisticbrain[\"Leo\"] = 7.1\n",
        "data_from_statisticbrain[\"Lib\"] = 8.8\n",
        "data_from_statisticbrain[\"Pis\"] = 9.1\n",
        "data_from_statisticbrain[\"Sag\"] = 7.3\n",
        "data_from_statisticbrain[\"Sco\"] = 9.6\n",
        "data_from_statisticbrain[\"Tau\"] = 8.3\n",
        "data_from_statisticbrain[\"Vir\"] = 9.4\n",
        "def plot_beatiful_bar(football_data, statisticbrain_data):\n",
        "    N = 12              # num of zodiac signs\n",
        "    all_signs = football_data.keys()\n",
        "    football_means = []\n",
        "    statisticbrain_means = []\n",
        "    for sign in all_signs:\n",
        "        football_means.append(football_data[sign])\n",
        "        statisticbrain_means.append(statisticbrain_data[sign])\n",
        "    ind = np.arange(N)  # the x locations for the groups\n",
        "    width = 0.4       # the width of the bars    \n",
        "    fig, ax = plt.subplots(figsize=(12,12))\n",
        "    rects1 = ax.bar(ind, football_means, width, color='r')\n",
        "    rects2 = ax.bar(ind + width,statisticbrain_means, width, color='y')\n",
        "    ax.set_ylabel('Percent', fontsize=25)\n",
        "    ax.set_title('Percentage of population by zodiac sign', fontsize=35)\n",
        "    ax.set_xticks(ind + width)\n",
        "    ax.set_xticklabels(all_signs, fontsize=20)\n",
        "    ax.legend((rects1[0], rects2[0]), ('Football players', 'Ordinary peoples'), fontsize=20)    \n",
        "    plt.show()\n",
        "plot_beatiful_bar(football_zodiac, data_from_statisticbrain)"
      ]
    },
    {
      "cell_type": "code",
      "execution_count": null,
      "metadata": {
        "_cell_guid": "a81c0c63-4877-6174-e997-d7e52f2e1122"
      },
      "outputs": [],
      "source": [
        "def plot_beautiful_scatter_uniq_teams(players_data):\n",
        "    temp = players_data[[\"rating\", \"num_uniq_team\"]][players_data[\"num_uniq_team\"] != 0].values\n",
        "    score = temp[:, 0]\n",
        "    num = temp[:,1]\n",
        "    fig = plt.figure(num=None, figsize=(12, 12), dpi=80, facecolor='w', edgecolor='k')\n",
        "    subplot = fig.add_subplot(111)\n",
        "    subplot.tick_params(axis='both', which='major', labelsize=22)\n",
        "    subplot.scatter(score, num, s=100, c=\"red\", alpha=0.75)\n",
        "    plt.xlabel('Fifa rating', fontsize=30)\n",
        "    plt.ylabel('Count of uniq teams', fontsize=30)\n",
        "    plt.show()\n",
        "plot_beautiful_scatter_uniq_teams(players_data)"
      ]
    },
    {
      "cell_type": "code",
      "execution_count": null,
      "metadata": {
        "_cell_guid": "db975eeb-76ed-c215-bc45-da0bf8658efc"
      },
      "outputs": [],
      "source": [
        "def plot_beautiful_scatter_weight_and_height(players_data):\n",
        "    colors = ['r', 'g', 'b', 'y']\n",
        "    lbs_to_kg = 0.453592\n",
        "    fig = plt.figure(num=None, figsize=(12, 12), dpi=80, facecolor='w', edgecolor='k')\n",
        "    def_data = players_data[players_data[\"position\"] == \"def\"]\n",
        "    forw_data = players_data[players_data[\"position\"] == \"for\"]\n",
        "    gk_data = players_data[players_data[\"position\"] == \"gk\"]\n",
        "    midf_data =  players_data[players_data[\"position\"] == \"mid\"]\n",
        "    def_heigh = (def_data[\"height\"] + np.random.normal(loc=0.0, scale=3.0, size = len(def_data)))\n",
        "    forw_heigh = forw_data[\"height\"] + np.random.normal(loc=0.0, scale=3.0, size = len(forw_data))\n",
        "    gk_heigh = gk_data[\"height\"] + np.random.normal(loc=0.0, scale=3.0, size = len(gk_data))\n",
        "    midf_heigh = midf_data[\"height\"] + np.random.normal(loc=0.0, scale=3.0, size = len(midf_data))\n",
        "    def_weight = (def_data[\"weight\"] + np.random.normal(loc=0.0, scale=3.0, size = len(def_data)))*lbs_to_kg\n",
        "    forw_weight = (forw_data[\"weight\"] + np.random.normal(loc=0.0, scale=3.0, size = len(forw_data)))*lbs_to_kg\n",
        "    gk_weight = (gk_data[\"weight\"] + np.random.normal(loc=0.0, scale=3.0, size = len(gk_data)))*lbs_to_kg\n",
        "    midf_weight = (midf_data[\"weight\"] + np.random.normal(loc=0.0, scale=3.0, size = len(midf_data)))*lbs_to_kg\n",
        "    subplot = fig.add_subplot(111)\n",
        "    subplot.tick_params(axis='both', which='major', labelsize=22)\n",
        "    midf  = subplot.scatter(midf_weight, midf_heigh, marker='o', color=\"r\", alpha = 0.5, s=50)\n",
        "    defend = subplot.scatter(def_weight, def_heigh, marker='o', color=\"g\", alpha = 0.5, s=50)\n",
        "    forw = subplot.scatter(forw_weight, forw_heigh, marker='o', color=\"b\", alpha = 0.5, s=50)\n",
        "    gk  = subplot.scatter(gk_weight, gk_heigh, marker='o', color=\"pink\", alpha = 0.5, s=50)\n",
        "    plt.xlabel('Weight (kilograms)', fontsize=30)\n",
        "    plt.ylabel('Height (centimeters)', fontsize=30)\n",
        "    plt.legend((defend, forw, gk, midf),\n",
        "           ('Defender', 'Forward', 'Goalkeeper', 'Midfielder'),\n",
        "           scatterpoints=1,\n",
        "           loc='upper left',\n",
        "           ncol=1,\n",
        "           fontsize=20)\n",
        "    plt.show()\n",
        "plot_beautiful_scatter_weight_and_height(players_data)"
      ]
    },
    {
      "cell_type": "code",
      "execution_count": null,
      "metadata": {
        "_cell_guid": "e594ffa4-e8cb-a0b1-fbb6-6fce6dcb19d7"
      },
      "outputs": [],
      "source": [
        "def plot_age_dependence(players_data):\n",
        "    def_data = players_data[players_data[\"position\"] == \"def\"]\n",
        "    forw_data = players_data[players_data[\"position\"] == \"for\"]\n",
        "    gk_data = players_data[players_data[\"position\"] == \"gk\"]\n",
        "    midf_data =  players_data[players_data[\"position\"] == \"mid\"]\n",
        "    from scipy.interpolate import interp1d\n",
        "    fig = plt.figure(num=None, figsize=(12, 12), dpi=80, facecolor='w', edgecolor='k')\n",
        "    group = forw_data.groupby(\"age\")[\"rating\"].mean().reset_index()\n",
        "    age_forw = group[\"age\"]\n",
        "    rating_forw = group[\"rating\"]\n",
        "\n",
        "    ff = interp1d(age_forw, rating_forw, kind='cubic')\n",
        "    group = def_data.groupby(\"age\")[\"rating\"].mean().reset_index()\n",
        "    age_def = group[\"age\"]\n",
        "    rating_def = group[\"rating\"]\n",
        "    fd = interp1d(age_def, rating_def, kind='cubic')\n",
        "\n",
        "    group = gk_data.groupby(\"age\")[\"rating\"].mean().reset_index()\n",
        "    age_gk = group[\"age\"]\n",
        "    rating_gk = group[\"rating\"]\n",
        "    fg = interp1d(age_gk, rating_gk, kind='cubic')\n",
        "\n",
        "\n",
        "    group = midf_data.groupby(\"age\")[\"rating\"].mean().reset_index()\n",
        "    age_midf = group[\"age\"]\n",
        "    rating_midf = group[\"rating\"]\n",
        "    fm = interp1d(age_midf, rating_midf, kind='cubic')\n",
        "\n",
        "    agenew = np.linspace(17, 40, num=100, endpoint=True)\n",
        "    subplot = fig.add_subplot(111)\n",
        "    subplot.tick_params(axis='both', which='major', labelsize=22)\n",
        "    plt.xlabel('Age', fontsize=30)\n",
        "    plt.ylabel('Fifa rating', fontsize=30)\n",
        "    plt.plot( agenew, ff(agenew), \"-\", agenew, fd(agenew), \"-\", agenew, fg(agenew), \"-\", agenew, fm(agenew), \"-\")\n",
        "    plt.legend(['Forwards', \"Defenders\", \"Goalkeepers\", \"Midfielders\"], loc='best', fontsize = 20)\n",
        "    plt.show()\n",
        "plot_age_dependence(players_data)"
      ]
    },
    {
      "cell_type": "code",
      "execution_count": null,
      "metadata": {
        "_cell_guid": "48577d6a-b5cf-f735-8f63-ebd90f852666"
      },
      "outputs": [],
      "source": [
        "positions = players_data[\"position\"]\n",
        "x_data = players_data[[\"rating\", \"height\", \"weight\"]]\n",
        "x_data[\"age\"] = np.vectorize(get_age_for_football_players)(players_data[\"birthday\"])\n",
        "x_data.head()"
      ]
    },
    {
      "cell_type": "code",
      "execution_count": null,
      "metadata": {
        "_cell_guid": "946427a5-3aca-ddc5-e1eb-86ec22a79125"
      },
      "outputs": [],
      "source": [
        "def get_potential(x):\n",
        "    global c\n",
        "    all_rating = c.execute(\"\"\"SELECT potential FROM Player_Stats WHERE player_api_id = '%d' \"\"\" % (x)).fetchall()\n",
        "    all_rating = np.array(all_rating,dtype=np.float)[:,0]\n",
        "    mean_rating = np.nanmean(all_rating)\n",
        "    return mean_rating\n",
        "def get_preferred_foot(x):\n",
        "    global c\n",
        "    all_rating = c.execute(\"\"\"SELECT preferred_foot FROM Player_Stats WHERE player_api_id = '%d' \"\"\" % (x)).fetchall()\n",
        "    if all_rating[0][0] == \"right\":\n",
        "        return 0.0\n",
        "    else:\n",
        "        return 1.0\n",
        "    return float(\"nan\")\n",
        "def get_attacking_work_rate(x):\n",
        "    global c\n",
        "    all_rating = c.execute(\"\"\"SELECT attacking_work_rate FROM Player_Stats WHERE player_api_id = '%d' \"\"\" % (x)).fetchall()\n",
        "    if all_rating[0][0] == \"high\":\n",
        "        return 2.0\n",
        "    if all_rating[0][0] == \"medium\":\n",
        "        return 1.0\n",
        "    if all_rating[0][0] == \"low\":\n",
        "        return 0.0\n",
        "    return float(\"nan\")\n",
        "def get_defensive_work_rate(x):\n",
        "    global c\n",
        "    all_rating = c.execute(\"\"\"SELECT defensive_work_rate FROM Player_Stats WHERE player_api_id = '%d' \"\"\" % (x)).fetchall()\n",
        "    if all_rating[0][0] == \"high\":\n",
        "        return 2.0\n",
        "    if all_rating[0][0] == \"medium\":\n",
        "        return 1.0\n",
        "    if all_rating[0][0] == \"low\":\n",
        "        return 0.0\n",
        "    return float(\"nan\")\n",
        "def get_anyone_statistic(x, col_name):\n",
        "    global c\n",
        "    all_rating = c.execute(\"\"\"SELECT %s FROM Player_Stats WHERE player_api_id = '%d' \"\"\" % (col_name, x)).fetchall()\n",
        "    all_rating = np.array(all_rating,dtype=np.float)[:,0]\n",
        "    mean_rating = np.nanmean(all_rating)\n",
        "    return mean_rating"
      ]
    },
    {
      "cell_type": "code",
      "execution_count": null,
      "metadata": {
        "_cell_guid": "f89baaf8-110d-26a2-23ef-7ef7b2e090c7"
      },
      "outputs": [],
      "source": [
        "train_x_data = x_data\n",
        "train_x_data[\"potential\"] = np.vectorize(get_potential)(players_data[\"player_api_id\"])\n",
        "train_x_data[\"defensive_work_rate\"] = np.vectorize(get_defensive_work_rate)(players_data[\"player_api_id\"])\n",
        "train_x_data[\"attacking_work_rate\"] = np.vectorize(get_attacking_work_rate)(players_data[\"player_api_id\"])\n",
        "train_x_data[\"preferred_foot\"] = np.vectorize(get_attacking_work_rate)(players_data[\"player_api_id\"])\n",
        "all_columns = c.execute('PRAGMA TABLE_INFO(Player_stats)').fetchall()\n",
        "for i in all_columns:\n",
        "    if i[0] > 8:\n",
        "        train_x_data[i[1]] = np.vectorize(get_anyone_statistic)(players_data[\"player_api_id\"], i[1])\n",
        "train_x_data.head()    "
      ]
    },
    {
      "cell_type": "code",
      "execution_count": null,
      "metadata": {
        "_cell_guid": "aaa26a06-a408-638d-176e-f25d39ff6597"
      },
      "outputs": [],
      "source": [
        "new_train_x = train_x_data.fillna(train_x_data.median()).values\n",
        "def pos_to_num(x):\n",
        "    if x ==\"for\":\n",
        "        return 4\n",
        "    elif x == \"mid\":\n",
        "        return 3\n",
        "    elif x == \"def\":\n",
        "        return \"2\"\n",
        "    elif x == \"gk\":\n",
        "        return 1\n",
        "positions = pd.DataFrame(positions)\n",
        "positions[\"nums\"] = np.vectorize(pos_to_num)(positions)\n",
        "y_train = positions.fillna(positions.median())\n",
        "y_train.fillna(value=np.nan, inplace=True)\n",
        "temp = pd.to_numeric(y_train[\"nums\"], errors='coerce')\n",
        "temp = temp.fillna(temp.median())\n",
        "y_train = temp.values\n",
        "x_train = new_train_x"
      ]
    },
    {
      "cell_type": "code",
      "execution_count": null,
      "metadata": {
        "_cell_guid": "22bfd69f-fcdf-da01-ef63-da55a53074f4"
      },
      "outputs": [],
      "source": [
        "from sklearn.preprocessing import normalize\n",
        "x_data = normalize(x_train)\n",
        "from sklearn.cross_validation import train_test_split\n",
        "x_train, x_test, y_train, y_test = train_test_split(\n",
        "x_data, y_train, test_size=0.25, random_state=42)"
      ]
    },
    {
      "cell_type": "code",
      "execution_count": null,
      "metadata": {
        "_cell_guid": "f273c7f8-d222-27d2-e71f-b925059f25fe"
      },
      "outputs": [],
      "source": [
        "from keras.layers import Input, Dense\n",
        "from keras.models import Model\n",
        "encoding_dim = 5\n",
        "input_img = Input(shape=(41,))\n",
        "encoded = Dense(encoding_dim, activation='relu')(input_img)\n",
        "decoded = Dense(41, activation='sigmoid')(encoded)\n",
        "autoencoder = Model(input=input_img, output=decoded)\n",
        "encoder = Model(input=input_img, output=encoded)\n",
        "encoded_input = Input(shape=(encoding_dim,))\n",
        "decoder_layer = autoencoder.layers[-1]\n",
        "decoder = Model(input=encoded_input, output=decoder_layer(encoded_input))\n",
        "autoencoder.compile(optimizer='adadelta', loss='binary_crossentropy')\n",
        "autoencoder.fit(x_train, x_train,\n",
        "                nb_epoch=500,\n",
        "                batch_size=10,\n",
        "                shuffle=True,\n",
        "                verbose = 0,\n",
        "                validation_data=(x_test, x_test))"
      ]
    },
    {
      "cell_type": "code",
      "execution_count": null,
      "metadata": {
        "_cell_guid": "6eb766d3-33be-37a5-df2b-4d03c5d7cb6d"
      },
      "outputs": [],
      "source": [
        "from sklearn.manifold import TSNE\n",
        "encoded_data = encoder.predict(x_test)\n",
        "tsne = TSNE(n_components=2, init='pca', random_state=0)\n",
        "two_dims_data = tsne.fit_transform(encoded_data)\n",
        "plt.figure(figsize=(12, 12))\n",
        "plt.scatter(two_dims_data[:, 0],two_dims_data[:, 1], c=y_test + 1.0, cmap=plt.cm.plasma, s=50)\n",
        "cbar =plt.colorbar()\n",
        "cbar.ax.get_yaxis().set_ticks([])\n",
        "for j, lab in enumerate(['$gk$','$def$','$mid$','$forw$']):\n",
        "    cbar.ax.text(.5, (2 * j + 1) / 8.0, lab, ha='center', va='center', fontsize = 30)\n",
        "cbar.ax.get_yaxis().labelpad = 15\n",
        "cbar.ax.set_ylabel('football players positions', rotation=270, fontsize = 20)\n",
        "plt.show()"
      ]
    },
    {
      "cell_type": "code",
      "execution_count": null,
      "metadata": {
        "_cell_guid": "558e19ee-94cd-dffe-1576-4559d5c27c0d"
      },
      "outputs": [],
      "source": [
        "new_train_x = train_x_data.fillna(train_x_data.median()).values\n",
        "def pos_to_num(x):\n",
        "    if x ==\"for\":\n",
        "        return 4\n",
        "    elif x == \"mid\":\n",
        "        return 3\n",
        "    elif x == \"def\":\n",
        "        return \"2\"\n",
        "    elif x == \"gk\":\n",
        "        return 1\n",
        "positions = pd.DataFrame(positions)\n",
        "positions[\"nums\"] = np.vectorize(pos_to_num)(positions)\n",
        "y_train = positions.fillna(positions.median())\n",
        "y_train.fillna(value=np.nan, inplace=True)\n",
        "temp = pd.to_numeric(y_train[\"nums\"], errors='coerce')\n",
        "temp = temp.fillna(temp.median())\n",
        "y_train = temp.values\n",
        "x_train = new_train_x\n",
        "x_data = normalize(x_train)\n",
        "from sklearn.cross_validation import train_test_split\n",
        "x_train, x_test, y_train, y_test = train_test_split(\n",
        "x_data, y_train, test_size=0.25, random_state=42)"
      ]
    },
    {
      "cell_type": "code",
      "execution_count": null,
      "metadata": {
        "_cell_guid": "11575e44-7d04-d3a4-10fc-bebd4daee340"
      },
      "outputs": [],
      "source": [
        "from keras.layers import Input, Dense, Lambda\n",
        "from keras.models import Model\n",
        "from keras import backend as K\n",
        "from keras import objectives\n",
        "from keras.datasets import mnist\n",
        "batch_size = 5\n",
        "original_dim = 41\n",
        "latent_dim = 2\n",
        "intermediate_dim = 15\n",
        "nb_epoch = 150\n",
        "epsilon_std = 0.01\n",
        "x = Input(batch_shape=(batch_size, original_dim))\n",
        "h = Dense(intermediate_dim, activation='relu')(x)\n",
        "z_mean = Dense(latent_dim)(h)\n",
        "z_log_var = Dense(latent_dim)(h)\n",
        "def sampling(args):\n",
        "    z_mean, z_log_var = args\n",
        "    epsilon = K.random_normal(shape=(batch_size, latent_dim), mean=0.,\n",
        "                              std=epsilon_std)\n",
        "    return z_mean + K.exp(z_log_var / 2) * epsilon\n",
        "z = Lambda(sampling, output_shape=(latent_dim,))([z_mean, z_log_var])\n",
        "decoder_h = Dense(intermediate_dim, activation='relu')\n",
        "decoder_mean = Dense(original_dim, activation='sigmoid')\n",
        "h_decoded = decoder_h(z)\n",
        "x_decoded_mean = decoder_mean(h_decoded)\n",
        "def vae_loss(x, x_decoded_mean):\n",
        "    xent_loss = original_dim * objectives.binary_crossentropy(x, x_decoded_mean)\n",
        "    kl_loss = - 0.5 * K.sum(1 + z_log_var - K.square(z_mean) - K.exp(z_log_var), axis=-1)\n",
        "    return xent_loss + kl_loss\n",
        "\n",
        "vae = Model(x, x_decoded_mean)\n",
        "vae.compile(optimizer='rmsprop', loss=vae_loss)\n",
        "\n",
        "vae.fit(x_train, x_train,\n",
        "        shuffle=True,\n",
        "        nb_epoch=nb_epoch,\n",
        "        batch_size=batch_size,\n",
        "        validation_data=(x_test, x_test),\n",
        "        verbose = 0)"
      ]
    },
    {
      "cell_type": "code",
      "execution_count": null,
      "metadata": {
        "_cell_guid": "eb28e093-101c-82b5-7a50-f90c5a8c5844"
      },
      "outputs": [],
      "source": [
        "encoder = Model(x, z_mean)\n",
        "x_test_encoded = encoder.predict(x_test, batch_size=batch_size)\n",
        "plt.figure(figsize=(12, 12))\n",
        "plt.scatter(x_test_encoded[:, 0], x_test_encoded[:, 1], c=y_test, cmap=plt.cm.plasma, s=50)\n",
        "cbar =plt.colorbar()\n",
        "cbar.ax.get_yaxis().set_ticks([])\n",
        "for j, lab in enumerate(['$gk$','$def$','$mid$','$forw$']):\n",
        "    cbar.ax.text(.5, (2 * j + 1) / 8.0, lab, ha='center', va='center', fontsize = 30)\n",
        "cbar.ax.get_yaxis().labelpad = 15\n",
        "cbar.ax.set_ylabel('football players positions', rotation=270, fontsize = 20)\n",
        "plt.show()"
      ]
    },
    {
      "cell_type": "code",
      "execution_count": null,
      "metadata": {
        "_cell_guid": "15439bf0-3f2e-500d-7a07-4803576bff1c"
      },
      "outputs": [],
      "source": [
        "players_data[\"preferred_foot\"] = np.vectorize(get_preferred_foot)(players_data[\"player_api_id\"])\n",
        "def zodiac_to_num(x):\n",
        "    zodiacs = ['Cap', 'Aqu', 'Pis', 'Ari', 'Tau',\n",
        "           'Gem', 'Can', 'Leo', 'Vir', 'Lib',\n",
        "           'Sco', 'Sag', 'Cap']\n",
        "    return zodiacs.index(x)\n",
        "def position_to_num(x):\n",
        "    positions = ['gk', 'def', 'mid', 'for']\n",
        "    if x in positions:\n",
        "        return 1.0*positions.index(x)\n",
        "    else:\n",
        "        return float(\"nan\")\n",
        "    \n",
        "data_for_prediction = players_data[[\"height\", \"weight\", \"zodiac\", \"age\", \"preferred_foot\", \"position\", \"rating\"]]\n",
        "data_for_prediction[\"zodiac\"] = np.vectorize(zodiac_to_num)(data_for_prediction[\"zodiac\"])\n",
        "data_for_prediction[\"position\"] = np.vectorize(position_to_num)(data_for_prediction[\"position\"])\n",
        "data_for_prediction = data_for_prediction.dropna(axis=0, how='any', thresh=None, subset=None, inplace=False)\n",
        "rating = data_for_prediction[\"rating\"]\n",
        "good_players = ((rating > 70)*1).values\n",
        "data_for_prediction = data_for_prediction.drop([\"rating\"], axis=1).values"
      ]
    },
    {
      "cell_type": "code",
      "execution_count": null,
      "metadata": {
        "_cell_guid": "6aefa90e-cfee-9a1f-1860-6b7176dd46bb"
      },
      "outputs": [],
      "source": [
        "\n",
        "from sklearn import tree\n",
        "from sklearn.cross_validation import train_test_split\n",
        "clf = tree.DecisionTreeClassifier(max_depth = 5, min_samples_leaf = 10)\n",
        "x_train, x_test, y_train, y_test = train_test_split(\n",
        "data_for_prediction, good_players, test_size=0.25, random_state=42)\n",
        "clf = clf.fit(x_train ,y_train)\n",
        "from sklearn.metrics import accuracy_score\n",
        "print (accuracy_score(y_test, clf.predict(x_test)))"
      ]
    },
    {
      "cell_type": "markdown",
      "metadata": {
        "_cell_guid": "21a3eb7e-38b8-90b3-a2cf-53947fb5586b"
      },
      "source": [
        "![simpe][1]\n",
        "\n",
        "\n",
        "  [1]: https://pp.vk.me/c604626/v604626285/f24b/-PWxpr_deSw.jpg"
      ]
    },
    {
      "cell_type": "code",
      "execution_count": null,
      "metadata": {
        "_cell_guid": "f370390e-9b9c-91a0-a7d6-440137e926c5"
      },
      "outputs": [],
      "source": [
        ""
      ]
    },
    {
      "cell_type": "code",
      "execution_count": null,
      "metadata": {
        "_cell_guid": "f3cdbb8e-bfe7-b6dd-d73e-c226f0e878dd"
      },
      "outputs": [],
      "source": [
        ""
      ]
    },
    {
      "cell_type": "code",
      "execution_count": null,
      "metadata": {
        "_cell_guid": "704b2822-b2cc-cde6-696f-8f4ced649c3c"
      },
      "outputs": [],
      "source": [
        ""
      ]
    },
    {
      "cell_type": "code",
      "execution_count": null,
      "metadata": {
        "_cell_guid": "8f10bf3d-7a12-0eef-edaa-16f08fb3e25a"
      },
      "outputs": [],
      "source": [
        ""
      ]
    },
    {
      "cell_type": "code",
      "execution_count": null,
      "metadata": {
        "_cell_guid": "ed9c3f16-ecd9-ad10-f0e0-7ea58b7f0f02"
      },
      "outputs": [],
      "source": [
        ""
      ]
    },
    {
      "cell_type": "code",
      "execution_count": null,
      "metadata": {
        "_cell_guid": "b8ea4214-91d0-83ad-d23b-3411d1757359",
        "collapsed": true
      },
      "outputs": [],
      "source": [
        ""
      ]
    }
  ],
  "metadata": {
    "_change_revision": 0,
    "_is_fork": false,
    "kernelspec": {
      "display_name": "Python 3",
      "language": "python",
      "name": "python3"
    },
    "language_info": {
      "codemirror_mode": {
        "name": "ipython",
        "version": 3
      },
      "file_extension": ".py",
      "mimetype": "text/x-python",
      "name": "python",
      "nbconvert_exporter": "python",
      "pygments_lexer": "ipython3",
      "version": "3.5.2"
    }
  },
  "nbformat": 4,
  "nbformat_minor": 0
}