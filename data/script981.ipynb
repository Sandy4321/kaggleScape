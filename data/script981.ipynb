{
  "cells": [
    {
      "cell_type": "markdown",
      "metadata": {
        "_cell_guid": "5467b717-8d58-4b6f-17ea-aa98a5ef957f"
      },
      "source": [
        "In this kernel I have done data visualisation of the IPL datasets using pandas,Matplotlib and seaborn library and plotted some interesting observations."
      ]
    },
    {
      "cell_type": "code",
      "execution_count": null,
      "metadata": {
        "_cell_guid": "0f841378-b2c0-fe8f-b752-df5c40dc5bfb"
      },
      "outputs": [],
      "source": [
        "# This Python 3 environment comes with many helpful analytics libraries installed\n",
        "# It is defined by the kaggle/python docker image: https://github.com/kaggle/docker-python\n",
        "# For example, here's several helpful packages to load in \n",
        "\n",
        "import numpy as np # linear algebra\n",
        "import pandas as pd # data processing, CSV file I/O (e.g. pd.read_csv)\n",
        "\n",
        "# Input data files are available in the \"../input/\" directory.\n",
        "# For example, running this (by clicking run or pressing Shift+Enter) will list the files in the input directory\n",
        "\n",
        "from subprocess import check_output\n",
        "print(check_output([\"ls\", \"../input\"]).decode(\"utf8\"))\n",
        "\n",
        "# Any results you write to the current directory are saved as output."
      ]
    },
    {
      "cell_type": "code",
      "execution_count": null,
      "metadata": {
        "_cell_guid": "a74cae3b-e29f-e46a-9e45-bab88115bc2a"
      },
      "outputs": [],
      "source": [
        "#Loading all the necessary libraries\n",
        "\n",
        "import numpy as np # linear algebra\n",
        "import pandas as pd # data processing, CSV file I/O (e.g. pd.read_csv)\n",
        "import matplotlib.pyplot as plt #for visualisation\n",
        "import seaborn as sns #for visualisation\n",
        "%matplotlib inline"
      ]
    },
    {
      "cell_type": "code",
      "execution_count": null,
      "metadata": {
        "_cell_guid": "a1ea38fe-9af2-8289-0502-8fe47a99d54b"
      },
      "outputs": [],
      "source": [
        "#Reading data from Comma Separated Values files\n",
        "deliveries=pd.read_csv(\"../input/deliveries.csv\")\n",
        "matches=pd.read_csv(\"../input/matches.csv\")"
      ]
    },
    {
      "cell_type": "code",
      "execution_count": null,
      "metadata": {
        "_cell_guid": "c8cb4d6d-1eee-c28b-e0d2-b27c8928976c"
      },
      "outputs": [],
      "source": [
        "col_names=matches.columns.tolist()\n",
        "print(\"column names:\")\n",
        "print(col_names)"
      ]
    },
    {
      "cell_type": "code",
      "execution_count": null,
      "metadata": {
        "_cell_guid": "e5b984c7-b7d8-4a3b-cfc3-639c23a436cc"
      },
      "outputs": [],
      "source": [
        "print(\"Sample data:\")\n",
        "deliveries.head(6)"
      ]
    },
    {
      "cell_type": "code",
      "execution_count": null,
      "metadata": {
        "_cell_guid": "5b3928f9-fb5c-64d4-297b-c3d00dcdd383"
      },
      "outputs": [],
      "source": [
        "matches.head(6)"
      ]
    },
    {
      "cell_type": "code",
      "execution_count": null,
      "metadata": {
        "_cell_guid": "446c774f-32f5-fd6e-6982-8a15c573d7c7"
      },
      "outputs": [],
      "source": [
        "#matches.info()\n",
        "matches.describe()"
      ]
    },
    {
      "cell_type": "code",
      "execution_count": null,
      "metadata": {
        "_cell_guid": "e9cd2f6b-1cb5-52c3-704c-b289fedc4905"
      },
      "outputs": [],
      "source": [
        "#matches['player_of_match'].head()"
      ]
    },
    {
      "cell_type": "code",
      "execution_count": null,
      "metadata": {
        "_cell_guid": "c3845b61-ba78-e7d8-07b7-cdc770586975"
      },
      "outputs": [],
      "source": [
        "player_of_the_match= pd.pivot_table(matches,values=['player_of_match'],index=['season'],columns=['city'],aggfunc='count',margins=False)\n",
        "\n",
        "plt.figure(figsize=(10,10))\n",
        "sns.heatmap(player_of_the_match['player_of_match'],linewidths=.5,annot=True,vmin=0.01,cmap='YlGnBu')\n",
        "plt.title('Number of player of the match in cities for particular year')"
      ]
    },
    {
      "cell_type": "code",
      "execution_count": null,
      "metadata": {
        "_cell_guid": "01cfcefc-77a1-d451-d2ab-7b47ed19b704"
      },
      "outputs": [],
      "source": [
        "big_margin=matches[(matches['win_by_runs']>=50) | (matches['win_by_wickets']>=8)]\n",
        "big_margin\n",
        "big_margin.winner.unique()"
      ]
    },
    {
      "cell_type": "code",
      "execution_count": null,
      "metadata": {
        "_cell_guid": "fe8f897f-31b6-e91f-b603-e0f62f8b6ff0"
      },
      "outputs": [],
      "source": [
        "KKR=big_margin[big_margin['winner']=='Kolkata Knight Riders'].count()\n",
        "MI=big_margin[big_margin['winner']=='Mumbai Indians'].count()\n",
        "KXP=big_margin[big_margin['winner']=='Kings XI Punjab'].count()\n",
        "CSK=big_margin[big_margin['winner']=='Chennai Super Kings'].count()\n",
        "DC=big_margin[big_margin['winner']=='Deccan Chargers'].count()\n",
        "DD=big_margin[big_margin['winner']=='Delhi Daredevils'].count()\n",
        "RC=big_margin[big_margin['winner']=='Royal Challengers Bangalore'].count()\n",
        "KT=big_margin[big_margin['winner']=='Kochi Tuskers Kerala'].count()\n",
        "SH=big_margin[big_margin['winner']=='Sunrisers Hyderabad'].count()\n",
        "RPS=big_margin[big_margin['winner']=='Rising Pune Supergiants'].count()\n",
        "RR=big_margin[big_margin['winner']=='Rajasthan Royals'].count()"
      ]
    },
    {
      "cell_type": "code",
      "execution_count": null,
      "metadata": {
        "_cell_guid": "37cde4c3-b00c-4f2f-6b85-197e6ddbd142"
      },
      "outputs": [],
      "source": [
        "KKR_winner=KKR['winner']\n",
        "MI_winner=MI['winner']\n",
        "KXP_winner=KXP['winner']\n",
        "CSK_winner=CSK['winner']\n",
        "DC_winner=DC['winner']\n",
        "DD_winner=DD['winner']\n",
        "RC_winner=RC['winner']\n",
        "KT_winner=KT['winner']\n",
        "SH_winner=SH['winner']\n",
        "RPS_winner=RPS['winner']\n",
        "RR_winner=RR['winner']"
      ]
    },
    {
      "cell_type": "code",
      "execution_count": null,
      "metadata": {
        "_cell_guid": "b64c2400-90c8-19be-33f7-ee7428559fef"
      },
      "outputs": [],
      "source": [
        "winners=pd.Series([KKR_winner,SH_winner,KXP_winner,RC_winner,DC_winner,DD_winner,CSK_winner,KT_winner,MI_winner,RPS_winner,RR_winner],index=['KKR','SH','KXP','RC','DC','DD','CSK','KT','MI','RPS','RR'])\n",
        "winners_df=pd.DataFrame(winners,columns=['No. of wins by big margin'])\n",
        "winners_df"
      ]
    },
    {
      "cell_type": "code",
      "execution_count": null,
      "metadata": {
        "_cell_guid": "74089619-c108-88d1-17fa-1a1c57c7690b"
      },
      "outputs": [],
      "source": [
        "labels = ['KKR','SH','KXP','RC','DC','DD','CSK','KT','MI','RPS','RR']\n",
        "sizes = [14, 4, 9, 21, 5, 14 , 20 ,2 ,18 ,1 , 17]\n",
        "colors = ['#EEE5DE','#FFC1C1','#FF8247','#FF3030','#FFEC8B','#9AC9CB','#FFFFE0','#C0FF3E','#00FFFF','#FFFF00','#C4C4C4']\n",
        "explode = (0, 0, 0, 0.25, 0, 0, 0, 0, 0, 0, 0)  # only \"explode\" the 7th slice (i.e. 'RC')\n",
        "plt.pie(sizes, explode=explode, labels=labels, colors=colors,\n",
        "        autopct='%1.1f%%', shadow=True, startangle=90,radius=1.5)\n",
        "plt.title(\"Winning percentage of teams by large margin(more than 50 runs or by more than 8 wickets)\",x=0,y=-0.3)\n",
        "\n",
        "#Percentage of wins by team which is greater than or equal to 50 runs or by grater than or equal to 8 wickets"
      ]
    },
    {
      "cell_type": "code",
      "execution_count": null,
      "metadata": {
        "_cell_guid": "0960420b-784e-a8bc-5603-e677e20cbcd7"
      },
      "outputs": [],
      "source": [
        "matches['player_of_match'].unique()\n",
        "player_of_match=[]\n",
        "for p in matches['player_of_match'].unique():\n",
        "    player_of_match.append({'Player': p})\n",
        "    \n",
        "deliveries['batsman'].unique()\n",
        "No_of_batsman=[]\n",
        "for b in deliveries['batsman'].unique():\n",
        "    No_of_batsman.append({'Batsman':b})"
      ]
    },
    {
      "cell_type": "code",
      "execution_count": null,
      "metadata": {
        "_cell_guid": "4e3f83c8-3321-586a-6370-011232a44827"
      },
      "outputs": [],
      "source": [
        "pd.DataFrame(player_of_match)"
      ]
    },
    {
      "cell_type": "code",
      "execution_count": null,
      "metadata": {
        "_cell_guid": "eb87112b-9dd9-baed-56c5-dd227701c2e2"
      },
      "outputs": [],
      "source": [
        "pd.DataFrame(No_of_batsman)"
      ]
    },
    {
      "cell_type": "code",
      "execution_count": null,
      "metadata": {
        "_cell_guid": "1dcb9c44-db61-af25-1db0-9075ef10a8c9"
      },
      "outputs": [],
      "source": [
        "matches_played_KKR=matches[(matches['team1']=='Kolkata Knight Riders') | (matches['team2']=='Kolkata Knight Riders')]\n",
        "matches_played_MI=matches[(matches['team1']=='Mumbai Indians') | (matches['team2']=='Mumbai Indians')]\n",
        "matches_played_KXP=matches[(matches['team1']=='Kings XI Punjab') | (matches['team2']=='Kings XI Punjab')]\n",
        "matches_played_CSK=matches[(matches['team1']=='Chennai Super Kings') | (matches['team2']=='Chennai Super Kings')]\n",
        "matches_played_DC=matches[(matches['team1']=='Deccan Chargers') | (matches['team2']=='Deccan Chargers')]\n",
        "matches_played_DD=matches[(matches['team1']=='Delhi Daredevils') | (matches['team2']=='Delhi Daredevils')]\n",
        "matches_played_RCB=matches[(matches['team1']=='Royal Challengers Bangalore') | (matches['team2']=='Royal Challengers Bangalore')]\n",
        "matches_played_KT=matches[(matches['team1']=='Kochi Tuskers Kerala') | (matches['team2']=='Kochi Tuskers Kerala')]\n",
        "matches_played_SH=matches[(matches['team1']=='Sunrisers Hyderabad') | (matches['team2']=='Sunrisers Hyderabad')]\n",
        "matches_played_RPS=matches[(matches['team1']=='Rising Pune Supergiants') | (matches['team2']=='Rising Pune Supergiants')]\n",
        "matches_played_RR=matches[(matches['team1']=='Rajasthan Royals') | (matches['team2']=='Rajasthan Royals')]\n",
        "\n",
        "A=matches_played_KKR['id'].count()\n",
        "B=matches_played_MI['id'].count()\n",
        "C=matches_played_KXP['id'].count()\n",
        "D=matches_played_CSK['id'].count()\n",
        "E=matches_played_DC['id'].count()\n",
        "F=matches_played_DD['id'].count()\n",
        "G=matches_played_RCB['id'].count()\n",
        "H=matches_played_KT['id'].count()\n",
        "I=matches_played_SH['id'].count()\n",
        "J=matches_played_RPS['id'].count()\n",
        "K=matches_played_RR['id'].count()\n",
        "\n",
        "A"
      ]
    },
    {
      "cell_type": "code",
      "execution_count": null,
      "metadata": {
        "_cell_guid": "d51052d8-57d3-871f-860c-e266ab5e430f"
      },
      "outputs": [],
      "source": [
        "matches_won_KKR=matches[matches['winner']=='Kolkata Knight Riders']\n",
        "matches_won_MI=matches[matches['winner']=='Mumbai Indians']\n",
        "matches_won_KXP=matches[matches['winner']=='Kings XI Punjab']\n",
        "matches_won_CSK=matches[matches['winner']=='Chennai Super Kings']\n",
        "matches_won_DC=matches[matches['winner']=='Deccan Chargers']\n",
        "matches_won_DD=matches[matches['winner']=='Delhi Daredevils']\n",
        "matches_won_RCB=matches[matches['winner']=='Royal Challengers Bangalore']\n",
        "matches_won_KT=matches[matches['winner']=='Kochi Tuskers Kerala']\n",
        "matches_won_SH=matches[matches['winner']=='Sunrisers Hyderabad']\n",
        "matches_won_RPS=matches[matches['winner']=='Rising Pune Supergiants']\n",
        "matches_won_RR=matches[matches['winner']=='Rajasthan Royals']\n",
        "\n",
        "\n",
        "O=matches_won_KKR['id'].count()\n",
        "P=matches_won_MI['id'].count()\n",
        "Q=matches_won_KXP['id'].count()\n",
        "R=matches_won_CSK['id'].count()\n",
        "S=matches_won_DC['id'].count()\n",
        "T=matches_won_DD['id'].count()\n",
        "U=matches_won_RCB['id'].count()\n",
        "V=matches_won_KT['id'].count()\n",
        "W=matches_won_SH['id'].count()\n",
        "X=matches_won_RPS['id'].count()\n",
        "Y=matches_won_RR['id'].count()\n",
        "\n",
        "O"
      ]
    },
    {
      "cell_type": "code",
      "execution_count": null,
      "metadata": {
        "_cell_guid": "43266458-1f76-e411-9194-c637390aade7"
      },
      "outputs": [],
      "source": [
        "n_bins = 11\n",
        "ind = np.arange(n_bins)\n",
        "width = 0.50\n",
        "\n",
        "plt.figure(figsize=(10,10))\n",
        "\n",
        "matches_played=[A,B,C,D,E,F,G,H,I,J,K]\n",
        "matches_won=[O,P,Q,R,S,T,U,V,W,X,Y]\n",
        "\n",
        "p1 = plt.bar(ind, matches_played, width, color='LightSkyBlue')\n",
        "p2 = plt.bar(ind, matches_won, width, color='Lime')\n",
        "\n",
        "plt.ylabel('Number of Matches')\n",
        "plt.xlabel('Teams')\n",
        "plt.title('Overall performance of the team')\n",
        "plt.xticks(ind + width/2., ('KKR', 'MI', 'KXP', 'CSK', 'DC', 'DD', 'RCB', 'KT', 'SH', 'RPS', 'RR'))\n",
        "plt.yticks(np.arange(0, 200, 5))\n",
        "plt.legend((p1[0], p2[0]), ('matches_played', 'matches_won'))"
      ]
    },
    {
      "cell_type": "code",
      "execution_count": null,
      "metadata": {
        "_cell_guid": "be320702-6887-0f94-6d0c-46ed22b10ec9"
      },
      "outputs": [],
      "source": [
        "KKR_toss_won=matches[matches['toss_winner']=='Kolkata Knight Riders'].id.count()\n",
        "MI_toss_won=matches[matches['toss_winner']=='Mumbai Indians'].id.count()\n",
        "KXP_toss_won=matches[matches['toss_winner']=='Kings XI Punjab'].id.count()\n",
        "CSK_toss_won=matches[matches['toss_winner']=='Chennai Super Kings'].id.count()\n",
        "DC_toss_won=matches[matches['toss_winner']=='Deccan Chargers'].id.count()\n",
        "DD_toss_won=matches[matches['toss_winner']=='Delhi Daredevils'].id.count()\n",
        "RCB_toss_won=matches[matches['toss_winner']=='Royal Challengers Bangalore'].id.count()\n",
        "KT_toss_won=matches[matches['toss_winner']=='Kochi Tuskers Kerala'].id.count()\n",
        "SH_toss_won=matches[matches['toss_winner']=='Sunrisers Hyderabad'].id.count()\n",
        "RSP_toss_won=matches[matches['toss_winner']=='Rising Pune Supergiants'].id.count()\n",
        "RR_toss_won=matches[matches['toss_winner']=='Rajasthan Royals'].id.count()\n",
        "\n",
        "\n",
        "KKR_match_won=matches[(matches['toss_winner']=='Kolkata Knight Riders') & (matches['winner']=='Kolkata Knight Riders')].id.count()\n",
        "MI_match_won=matches[(matches['toss_winner']=='Mumbai Indians') & (matches['winner']=='Mumbai Indians')].id.count()\n",
        "KXP_match_won=matches[(matches['toss_winner']=='Kings XI Punjab') & (matches['winner']=='Kings XI Punjab')].id.count()\n",
        "CSK_match_won=matches[(matches['toss_winner']=='Chennai Super Kings') & (matches['winner']=='Chennai Super Kings')].id.count()\n",
        "DC_match_won=matches[(matches['toss_winner']=='Deccan Chargers') & (matches['winner']=='Deccan Chargers')].id.count()\n",
        "DD_match_won=matches[(matches['toss_winner']=='Delhi Daredevils') & (matches['winner']=='Delhi Daredevils')].id.count()\n",
        "RCB_match_won=matches[(matches['toss_winner']=='Royal Challengers Bangalore') & (matches['winner']=='Royal Challengers Bangalore')].id.count()\n",
        "KT_match_won=matches[(matches['toss_winner']=='Kochi Tuskers Kerala') & (matches['winner']=='Kochi Tuskers Kerala')].id.count()\n",
        "SH_match_won=matches[(matches['toss_winner']=='Sunrisers Hyderabad') & (matches['winner']=='Sunrisers Hyderabad')].id.count()\n",
        "RSP_match_won=matches[(matches['toss_winner']=='Rising Pune Supergiants') & (matches['winner']=='Rising Pune Supergiants')].id.count()\n",
        "RR_match_won=matches[(matches['toss_winner']=='Rajasthan Royals') & (matches['winner']=='Rajasthan Royals')].id.count()"
      ]
    },
    {
      "cell_type": "code",
      "execution_count": null,
      "metadata": {
        "_cell_guid": "1bfae477-2eda-bedf-4825-3f2ac08d1809"
      },
      "outputs": [],
      "source": [
        "n_bins = 11\n",
        "ind = np.arange(n_bins)\n",
        "width = 0.50\n",
        "\n",
        "plt.figure(figsize=(10,10))\n",
        "\n",
        "toss_won=[KKR_toss_won,MI_toss_won,KXP_toss_won,CSK_toss_won,DC_toss_won,DD_toss_won,RCB_toss_won,KT_toss_won,SH_toss_won,RSP_toss_won,RR_toss_won]\n",
        "match_won=[KKR_match_won,MI_match_won,KXP_match_won,CSK_match_won,DC_match_won,DD_match_won,RCB_match_won,KT_match_won,SH_match_won,RSP_match_won,RR_match_won]\n",
        "\n",
        "p1 = plt.bar(ind, toss_won, width, color='firebrick')\n",
        "p2 = plt.bar(ind, match_won, width, color='aqua')\n",
        "\n",
        "plt.ylabel('Toss')\n",
        "plt.xlabel('Teams')\n",
        "plt.title('Toss factor')\n",
        "plt.xticks(ind + width/2., ('KKR', 'MI', 'KXP', 'CSK', 'DC', 'DD', 'RCB', 'KT', 'SH', 'RSP', 'RR'))\n",
        "plt.yticks(np.arange(0, 100, 5))\n",
        "plt.legend((p1[0], p2[0]), ('toss_won', 'match_won'))"
      ]
    },
    {
      "cell_type": "code",
      "execution_count": null,
      "metadata": {
        "_cell_guid": "73b89896-86a0-1ff5-c91b-b4bad54d56c6"
      },
      "outputs": [],
      "source": [
        "plt.figure(figsize=(8,10))\n",
        "maximum_runs = deliveries.groupby(['batsman'])['batsman_runs'].sum()\n",
        "maximum_runs\n",
        "maximum_runs.sort_values(ascending = False,inplace='True')\n",
        "maximum_runs[:10].plot(x= 'bowler', y = 'runs', kind = 'bar', colormap = 'Pastel2')\n",
        "plt.xlabel('Batsmen')\n",
        "plt.ylabel('Most Runs in IPL')"
      ]
    }
  ],
  "metadata": {
    "_change_revision": 0,
    "_is_fork": false,
    "kernelspec": {
      "display_name": "Python 3",
      "language": "python",
      "name": "python3"
    },
    "language_info": {
      "codemirror_mode": {
        "name": "ipython",
        "version": 3
      },
      "file_extension": ".py",
      "mimetype": "text/x-python",
      "name": "python",
      "nbconvert_exporter": "python",
      "pygments_lexer": "ipython3",
      "version": "3.5.2"
    }
  },
  "nbformat": 4,
  "nbformat_minor": 0
}