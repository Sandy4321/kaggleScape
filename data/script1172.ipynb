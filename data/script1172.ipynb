{
  "cells": [
    {
      "cell_type": "markdown",
      "metadata": {
        "_cell_guid": "778b9a77-be30-d353-3119-c81b499ba1c7"
      },
      "source": [
        "**This is part two for my Exploratory Data Analysis for the gaming dataset. My part 1 can be found at:<br>**\n",
        "https://www.kaggle.com/etakla/d/rush4ratio/video-game-sales-with-ratings/exploring-the-dataset-univariate-analysis"
      ]
    },
    {
      "cell_type": "code",
      "execution_count": null,
      "metadata": {
        "_cell_guid": "8af6470e-add6-b096-e471-2d5148376430"
      },
      "outputs": [],
      "source": [
        "# This Python 3 environment comes with many helpful analytics libraries installed\n",
        "# It is defined by the kaggle/python docker image: https://github.com/kaggle/docker-python\n",
        "# For example, here's several helpful packages to load in \n",
        "\n",
        "import numpy as np # linear algebra\n",
        "import pandas as pd # data processing, CSV file I/O (e.g. pd.read_csv)\n",
        "\n",
        "# Input data files are available in the \"../input/\" directory.\n",
        "# For example, running this (by clicking run or pressing Shift+Enter) will list the files in the input directory\n",
        "\n",
        "from subprocess import check_output\n",
        "print(check_output([\"ls\", \"../input\"]).decode(\"utf8\"))\n",
        "\n",
        "from IPython.display import display, HTML\n",
        "# Any results you write to the current directory are saved as output.\n",
        "\n",
        "#For plotting\n",
        "from matplotlib import pyplot as plt\n",
        "import matplotlib.patches as mpatches\n",
        "\n",
        "import seaborn as sns\n",
        "%matplotlib inline"
      ]
    },
    {
      "cell_type": "code",
      "execution_count": null,
      "metadata": {
        "_cell_guid": "174967d2-faa3-b3e3-c2ca-f890abe752bc"
      },
      "outputs": [],
      "source": [
        "vg_df = pd.read_csv('../input/Video_Games_Sales_as_at_22_Dec_2016.csv')\n",
        "vg_df.User_Score = vg_df.User_Score.convert_objects(convert_numeric=True)"
      ]
    },
    {
      "cell_type": "markdown",
      "metadata": {
        "_cell_guid": "acfbe3f4-b6f2-aee0-3666-9a73145aea2c"
      },
      "source": [
        "# Bivariate General Overview"
      ]
    },
    {
      "cell_type": "markdown",
      "metadata": {
        "_cell_guid": "c04e34ef-612f-5339-8594-bf8d317e5cc2"
      },
      "source": [
        "## Correlation"
      ]
    },
    {
      "cell_type": "code",
      "execution_count": null,
      "metadata": {
        "_cell_guid": "3197cd3d-caf7-16e2-da22-53c43186d4a6"
      },
      "outputs": [],
      "source": [
        "plt.figure(figsize=(12, 8))\n",
        "\n",
        "vg_corr = vg_df.corr()\n",
        "sns.heatmap(vg_corr, \n",
        "            xticklabels = vg_corr.columns.values,\n",
        "            yticklabels = vg_corr.columns.values,\n",
        "            annot = True);"
      ]
    },
    {
      "cell_type": "markdown",
      "metadata": {
        "_cell_guid": "eab0f01d-888c-8897-b888-ca0d57d3049e"
      },
      "source": [
        "## Crossplots"
      ]
    },
    {
      "cell_type": "code",
      "execution_count": null,
      "metadata": {
        "_cell_guid": "4d1d0591-4385-a868-6d40-d5a2f5d4057e"
      },
      "outputs": [],
      "source": [
        "plt.figure(figsize=(14, 14))\n",
        "\n",
        "sns.pairplot(vg_df, diag_kind='kde');"
      ]
    },
    {
      "cell_type": "markdown",
      "metadata": {
        "_cell_guid": "b07dc3b7-ec89-52dd-c6d5-f16cda94fa45"
      },
      "source": [
        "# Evolution Over Time"
      ]
    },
    {
      "cell_type": "markdown",
      "metadata": {
        "_cell_guid": "61cc5fda-69bb-d64e-f15c-02ac3fa344a4"
      },
      "source": [
        "## Sales vs Number of Releases"
      ]
    },
    {
      "cell_type": "code",
      "execution_count": null,
      "metadata": {
        "_cell_guid": "1545227e-95d5-bd81-c13c-360cb129102b"
      },
      "outputs": [],
      "source": [
        "#Group the entries by year, then get how many entries are there; i.e. the number of releases\n",
        "temp1 = vg_df.groupby(['Year_of_Release']).count()\n",
        "temp1 = temp1.reset_index()\n",
        "\n",
        "#Do the same, but sum the values to get the total values of everything by year.\n",
        "temp2 = vg_df.groupby(['Year_of_Release']).sum()\n",
        "temp2 = temp2.reset_index()\n",
        "\n",
        "#Normalize the data, i.e. zero mean and unit std. I did this to be able to compare the shapes of both graphs, since \n",
        "#they have different ranges\n",
        "normalised_df = pd.DataFrame()\n",
        "\n",
        "normalised_df['release_count'] = temp1['Name']\n",
        "normalised_df['global_sales'] = temp2['Global_Sales']\n",
        "normalised_df = (normalised_df - normalised_df.mean()) / normalised_df.std()#(normalised_df.max() - normalised_df.min()) \n",
        "normalised_df['year'] = temp1['Year_of_Release']\n",
        "\n",
        "\n",
        "#Plot\n",
        "plt.figure(figsize=(15, 9))\n",
        "ax = sns.pointplot(x = normalised_df.year, y = normalised_df.release_count, color = 'blue', label='Release Count')\n",
        "ax = sns.pointplot(x = normalised_df.year, y = normalised_df.global_sales, color = 'red', label='Global Sales')\n",
        "\n",
        "blue_patch = mpatches.Patch(color='blue', label='NUMBER OF RELEASES')\n",
        "red_patch = mpatches.Patch(color='red', label='GLOBAL SALES')\n",
        "plt.legend(handles=[blue_patch, red_patch], loc='upper left', fontsize = 16)\n",
        "\n",
        "plt.xticks(rotation=45);"
      ]
    },
    {
      "cell_type": "markdown",
      "metadata": {
        "_cell_guid": "4e426b93-d9dd-b59d-ff9c-8aa2ef2c8678"
      },
      "source": [
        "The shapes follow each other well, there wasn't any weird too much sales with little releases or vice versa. The other thing to note is that the number of releases is smoother than the sales, which seem to harder to accurately predict."
      ]
    },
    {
      "cell_type": "markdown",
      "metadata": {
        "_cell_guid": "1ccc39b9-4ef9-9401-462a-bdeaacf41348"
      },
      "source": [
        "## Genre Sales Evolution"
      ]
    },
    {
      "cell_type": "markdown",
      "metadata": {
        "_cell_guid": "6f9b6dd6-1f18-eabc-4071-134d5848c8d0"
      },
      "source": [
        "These are two plots, the first is an area plot to see the precentage of sales of each genre over the years. The second is the sales by year (Although still divided by genre). This last one is just for convenience, to remember how the games sales were."
      ]
    },
    {
      "cell_type": "code",
      "execution_count": null,
      "metadata": {
        "_cell_guid": "2bda2ebc-99fc-0b32-95dc-3526127c347a"
      },
      "outputs": [],
      "source": [
        "fig = plt.figure(figsize=(10, 8))\n",
        "\n",
        "genre_sales_percentages_by_year = (vg_df.groupby(['Year_of_Release', 'Genre']).Global_Sales.sum())*(100)/vg_df.groupby(['Year_of_Release']).Global_Sales.sum()\n",
        "genre_sales_percentages_by_year.unstack().plot(kind='area',stacked=True, colormap= 'Spectral', grid=False, figsize=(13, 4))\n",
        "\n",
        "yearlySales = vg_df.groupby(['Year_of_Release','Genre']).Global_Sales.sum()\n",
        "yearlySales.unstack().plot(kind='area',stacked=True, colormap= 'Spectral', figsize=(13, 4) ) ;"
      ]
    },
    {
      "cell_type": "markdown",
      "metadata": {
        "_cell_guid": "fc9e81bd-65e3-34b7-c334-b27f194b92e4"
      },
      "source": [
        "The \"action\" genre is clearly what gamers are inclined to play the most. The interesting trend about it is that when the games sales started their decline around 2009, the \"action\" level remained **almost the same**. So this genre may seem to be resistent to hard-hit markets?  "
      ]
    },
    {
      "cell_type": "markdown",
      "metadata": {
        "_cell_guid": "c5b02b0b-c295-2366-b7ac-4bbc358b0354"
      },
      "source": [
        "## Genre Total Sales"
      ]
    },
    {
      "cell_type": "code",
      "execution_count": null,
      "metadata": {
        "_cell_guid": "afbbedb3-2143-559e-23b0-b36d878e2e6b"
      },
      "outputs": [],
      "source": [
        "x = vg_df.groupby(['Genre']).sum().copy()\n",
        "ax = x.Global_Sales.sort_values(ascending=False).plot(kind='bar', figsize=(13, 5));\n",
        "\n",
        "for p in ax.patches:\n",
        "    ax.annotate(str( round( p.get_height() ) ) + \"\\n\" + str(round( p.get_height() /89.170) )+ \"%\", \n",
        "                (p.get_x() * 1.007, p.get_height() * 0.75),\n",
        "                color='black')"
      ]
    },
    {
      "cell_type": "markdown",
      "metadata": {
        "_cell_guid": "b7f82884-9407-7e9d-73b5-8da9cf2604e9"
      },
      "source": [
        "Although there are changes in ranking, but there are no big surprises (By the number of releases, the rank was Action, Sports, Misc (Rank changed in sales), Role Playing, Shooter (Changed, sells more than it is released)..etc. For more information, refer to the first part, the univariate analysis)"
      ]
    },
    {
      "cell_type": "markdown",
      "metadata": {
        "_cell_guid": "b5801af0-39eb-3dc8-52c3-09f6a2a07d75"
      },
      "source": [
        "But these changes in ranking are interesting to explore more. I want to see how different genres perform according to different metrics. The ones I chose are:<br>\n",
        "1) Number of Releases<br>\n",
        "2) Total Sales<br>\n",
        "3) Average Sales per Game"
      ]
    },
    {
      "cell_type": "code",
      "execution_count": null,
      "metadata": {
        "_cell_guid": "146a808d-4e4a-d6dc-ccb1-d099694e3775"
      },
      "outputs": [],
      "source": [
        "#First is the number of releases per genre, second is the sales per genre, third is the average sales per game per genre\n",
        "genre_difference_metric = [vg_df.Genre.value_counts().index, vg_df.groupby(['Genre']).sum().Global_Sales.sort_values(ascending=False).index, vg_df.groupby(['Genre']).mean().Global_Sales.sort_values(ascending=False).index]\n",
        "\n",
        "#Dataframe to be used for plotting.\n",
        "genre_evolution_df = pd.DataFrame(columns=['genre', 'rank_type', 'rank'])\n",
        "\n",
        "#Populate the dataframe\n",
        "for metric in range(3):\n",
        "    for genre in range(len(genre_difference_metric[metric])):\n",
        "        genre_evolution_df = genre_evolution_df.append({'genre':genre_difference_metric[metric][genre], 'rank_type': metric, 'rank':genre},\n",
        "                                   ignore_index=True)\n",
        "\n",
        "        \n",
        "fig = plt.figure(figsize=(10, 8))\n",
        "ax = fig.add_subplot(111)\n",
        "\n",
        "sns.pointplot(x=genre_evolution_df.rank_type,\n",
        "              y=12-genre_evolution_df['rank'], \n",
        "              hue=genre_evolution_df.genre)\n",
        "\n",
        "for i in range(len(genre_difference_metric[0])):\n",
        "    ax.text(-0.75, 12-i, genre_difference_metric[0][i], fontsize=11)\n",
        "    ax.text(2.1, 12-i, genre_difference_metric[2][i], fontsize=11)\n",
        "    \n",
        "ax.set_xlim([-2,4])\n",
        "\n",
        "xs = [0.0, 1.0, 2.0]\n",
        "x_labels = ['total releases', 'total sales', 'average sales']\n",
        "plt.xticks(xs, x_labels, rotation='vertical')\n",
        "\n",
        "ax.set_xlabel('Sales Metric')\n",
        "\n",
        "ys = range(1,13)\n",
        "y_labels = ['12th', '11th', '10th', '9th', '8th', '7th', '6th', '5th', '4th', '3rd', '2nd', '1st']\n",
        "plt.yticks(ys, y_labels)\n",
        "ax.set_ylabel('Genre Rank')\n",
        "\n",
        "plt.show();"
      ]
    },
    {
      "cell_type": "markdown",
      "metadata": {
        "_cell_guid": "c1258083-9d4d-aa56-cce8-f94cc35c8b6c"
      },
      "source": [
        "I think that the graph is pretty interesting! Lots of interpretations can be made here."
      ]
    },
    {
      "cell_type": "markdown",
      "metadata": {
        "_cell_guid": "d3c4b28c-f457-1136-7933-cc2a9ad4cf92"
      },
      "source": [
        "## Rating Sales Evolution"
      ]
    },
    {
      "cell_type": "code",
      "execution_count": null,
      "metadata": {
        "_cell_guid": "80e1b2b6-bcf8-f112-183b-4eb75b14a636"
      },
      "outputs": [],
      "source": [
        "rating_sales_percentages_by_year = (vg_df.groupby(['Year_of_Release', 'Rating']).Global_Sales.sum())*(100)/vg_df.groupby(['Year_of_Release']).Global_Sales.sum()\n",
        "rating_sales_percentages_by_year.unstack().plot(kind='area',stacked=True, colormap= 'Spectral', figsize=(13, 4));"
      ]
    },
    {
      "cell_type": "markdown",
      "metadata": {
        "_cell_guid": "db33bf56-d2a5-e00c-ef48-fdb521e1a6df"
      },
      "source": [
        "This is a percentage area graph. So, the empty (grey) parts mean that a rating was missing."
      ]
    },
    {
      "cell_type": "markdown",
      "metadata": {
        "_cell_guid": "5447ae9f-19ec-9407-2b99-c518aa8a4a81"
      },
      "source": [
        "# Scores"
      ]
    },
    {
      "cell_type": "markdown",
      "metadata": {
        "_cell_guid": "0115a79c-9a4c-b47c-99d3-2a6938ce38f5"
      },
      "source": [
        "## Critic vs User Scores"
      ]
    },
    {
      "cell_type": "code",
      "execution_count": null,
      "metadata": {
        "_cell_guid": "0cb52312-71ed-485d-dd3c-33ed05b88d7f"
      },
      "outputs": [],
      "source": [
        "g = sns.jointplot(x = 'Critic_Score', \n",
        "              y = 'User_Score',\n",
        "              data = vg_df, \n",
        "              kind = 'hex', \n",
        "              cmap= 'hot', \n",
        "              size=6)\n",
        "\n",
        "#http://stackoverflow.com/questions/33288830/how-to-plot-regression-line-on-hexbins-with-seaborn\n",
        "sns.regplot(vg_df.Critic_Score, vg_df.User_Score, ax=g.ax_joint, scatter=False, color='grey');"
      ]
    },
    {
      "cell_type": "markdown",
      "metadata": {
        "_cell_guid": "7e998044-d83c-0137-1b31-4e249b0ebb76"
      },
      "source": [
        "The user scores appear to be more generous than the critic one. But which one has a better correlation with the sales? From the first graph, we can see that, clearly, the critic score correlates better with the sales. In fact, the user score does **not correlate at all** with the sales, it floats around the zero! (Except for the sales in Japan, but still a lower correlation than the critic's one)"
      ]
    },
    {
      "cell_type": "markdown",
      "metadata": {
        "_cell_guid": "960be789-ec7b-d21d-defe-811dee9a6939"
      },
      "source": [
        "# Regional Sales"
      ]
    },
    {
      "cell_type": "markdown",
      "metadata": {
        "_cell_guid": "d7caf6f8-7e0d-3995-af46-ad16ad35b927"
      },
      "source": [
        "## Scatterplot between Global Sales and Regional Sales"
      ]
    },
    {
      "cell_type": "code",
      "execution_count": null,
      "metadata": {
        "_cell_guid": "45db7534-3588-b0ed-232f-7ce1a3b4852e"
      },
      "outputs": [],
      "source": [
        "sales_cols = ['NA_Sales', 'EU_Sales', 'JP_Sales', 'Other_Sales', 'Global_Sales']\n",
        "sales_normalised_df = vg_df[sales_cols].apply(lambda x: (x - x.mean()) / (x.max() - x.min()))\n",
        "\n",
        "sns.regplot(x = sales_normalised_df.Global_Sales, y = sales_normalised_df.NA_Sales,    marker=\"+\")\n",
        "sns.regplot(x = sales_normalised_df.Global_Sales, y = sales_normalised_df.EU_Sales,    marker=\".\")\n",
        "sns.regplot(x = sales_normalised_df.Global_Sales, y = sales_normalised_df.JP_Sales,    marker=\"x\")\n",
        "sns.regplot(x = sales_normalised_df.Global_Sales, y = sales_normalised_df.Other_Sales, marker=\"o\")\n",
        "\n",
        "plt.xlim(-0.05, 1.05)\n",
        "plt.ylim(-0.05, 1.05)\n",
        "fig.tight_layout();"
      ]
    },
    {
      "cell_type": "markdown",
      "metadata": {
        "_cell_guid": "c7cad6a9-2685-78bc-61af-02e215d6c3c0"
      },
      "source": [
        "## Regional Sales of Genres"
      ]
    },
    {
      "cell_type": "code",
      "execution_count": null,
      "metadata": {
        "_cell_guid": "d5a70ff0-8111-d85c-9a4c-0fa582b3dd22"
      },
      "outputs": [],
      "source": [
        "genre_geo_rankings = [vg_df.groupby('Genre').sum().unstack().NA_Sales.sort_values(ascending=False).index, \n",
        "                      vg_df.groupby('Genre').sum().unstack().EU_Sales.sort_values(ascending=False).index,\n",
        "                      vg_df.groupby('Genre').sum().unstack().Other_Sales.sort_values(ascending=False).index,\n",
        "                      vg_df.groupby('Genre').sum().unstack().JP_Sales.sort_values(ascending=False).index\n",
        "                      ]\n",
        "\n",
        "#First is the number of releases per genre, second is the sales per genre, third is the average sales per game per genre\n",
        "genre_geo_rank_df = pd.DataFrame(columns=['genre', 'rank_type', 'rank'])\n",
        "\n",
        "#for metric in genre_difference_metric:\n",
        "for region in range(4):\n",
        "    for genre in range(len(genre_geo_rankings[region])):\n",
        "        genre_geo_rank_df = genre_geo_rank_df.append({'genre':genre_geo_rankings[region][genre], 'rank_type': region, 'rank':genre},\n",
        "                                   ignore_index=True)\n",
        "\n",
        "fig = plt.figure(figsize=(10, 8))\n",
        "ax = fig.add_subplot(111)\n",
        "\n",
        "sns.pointplot(x=genre_geo_rank_df.rank_type,\n",
        "              y=12-genre_geo_rank_df['rank'], \n",
        "              hue=genre_geo_rank_df.genre)\n",
        "\n",
        "for i in range(len(genre_geo_rankings[0])):\n",
        "    ax.text(-0.9, 12-i, genre_geo_rankings[0][i], fontsize=11)\n",
        "    ax.text(3.2, 12-i, genre_geo_rankings[3][i], fontsize=11)\n",
        "    \n",
        "ax.set_xlim([-2,5])\n",
        "\n",
        "xs = [0.0, 1.0, 2.0, 3.0]\n",
        "x_labels = ['North America', 'E.U.', 'Rest of the World', 'Japan']\n",
        "plt.xticks(xs, x_labels, rotation='vertical')\n",
        "ax.set_xlabel('Region')\n",
        "\n",
        "ys = range(1,13)\n",
        "y_labels = ['12th', '11th', '10th', '9th', '8th', '7th', '6th', '5th', '4th', '3rd', '2nd', '1st']\n",
        "plt.yticks(ys, y_labels)\n",
        "ax.set_ylabel('Genre Rank')\n",
        "\n",
        "plt.show();"
      ]
    },
    {
      "cell_type": "markdown",
      "metadata": {
        "_cell_guid": "77d09ab3-50b2-0571-bb28-c5ef450bfb05"
      },
      "source": [
        "I think there are a lot of insights from this graph. Mainly, the taste of gamers in Japan is really different than that of the three other regions. The remaining three regions are, more or less, similar; with maybe only platform and racing genres moving more than one position between the three regions."
      ]
    },
    {
      "cell_type": "markdown",
      "metadata": {
        "_cell_guid": "b18b16cf-918c-441d-07b3-06b95a40dbae"
      },
      "source": [
        "# Most Selling Platform Each Year"
      ]
    },
    {
      "cell_type": "markdown",
      "metadata": {
        "_cell_guid": "114e9ee4-fa07-fb74-1a58-9967952e166b"
      },
      "source": [
        "I will plot the top selling platform timeline. In the beginning the plot had all the platforms sales, but the result had too much information to digest, it was too clutered. The graph is followed by a table that describes the same thing, just for convenience"
      ]
    },
    {
      "cell_type": "code",
      "execution_count": null,
      "metadata": {
        "_cell_guid": "79f404c7-8a30-9316-9a34-444b4b4e51ef"
      },
      "outputs": [],
      "source": [
        "#temp is the sum of all variables for each platform by year\n",
        "temp = vg_df.groupby(['Year_of_Release', 'Platform']).sum().reset_index().groupby('Year_of_Release')\n",
        "\n",
        "platform_yearly_winner_df = pd.DataFrame()\n",
        "\n",
        "for year, group in temp:\n",
        "    current_year = temp.get_group(year)\n",
        "    this_year_max_sales = 0.0\n",
        "    current_year_winner = \"\"\n",
        "    row = {'year':\"\", 'winner':\"\", 'sales':\"\"}\n",
        "    for index, platform_data in current_year.iterrows():\n",
        "        if platform_data.Global_Sales > this_year_max_sales:\n",
        "            this_year_max_sales = platform_data.Global_Sales\n",
        "            current_year_winner = platform_data.Platform\n",
        "    \n",
        "    row['year'] = year\n",
        "    row['winner'] = current_year_winner\n",
        "    row['sales'] = this_year_max_sales\n",
        "    platform_yearly_winner_df = platform_yearly_winner_df.append(row, ignore_index=True)\n",
        "\n",
        "fig = plt.figure(figsize=(13, 4))\n",
        "\n",
        "g = sns.pointplot(x = platform_yearly_winner_df.year ,\n",
        "              y = platform_yearly_winner_df.sales , \n",
        "              hue = platform_yearly_winner_df.winner);\n",
        "\n",
        "#http://stackoverflow.com/questions/26540035/rotate-label-text-in-seaborn-factorplot\n",
        "g.set_xticklabels(g.get_xticklabels(), rotation=90);"
      ]
    },
    {
      "cell_type": "code",
      "execution_count": null,
      "metadata": {
        "_cell_guid": "1c41f2bf-bfc6-1f2d-bf15-827a1fa5b374"
      },
      "outputs": [],
      "source": [
        "platform_yearly_winner_df.set_index('year', inplace=True)\n",
        "HTML(platform_yearly_winner_df.to_html())"
      ]
    },
    {
      "cell_type": "markdown",
      "metadata": {
        "_cell_guid": "e27671dd-bb4d-7294-5fd1-9f0da09a6734"
      },
      "source": [
        "# Publishers"
      ]
    },
    {
      "cell_type": "markdown",
      "metadata": {
        "_cell_guid": "01079c52-cdf2-514a-fd34-b5db7ba579ce"
      },
      "source": [
        "## Top Publishers of all Time"
      ]
    },
    {
      "cell_type": "markdown",
      "metadata": {
        "_cell_guid": "12a968fb-e486-b936-4327-f116dbd7896e"
      },
      "source": [
        "When thinking about what the term \"top publisher\" means, I think it has no simple answer. So I have decided to explore the matter from different points of view, and see if there are certain names that consistantly appear in all the points of view."
      ]
    },
    {
      "cell_type": "markdown",
      "metadata": {
        "_cell_guid": "351627e7-8482-64de-2ab5-bd803616f7e5"
      },
      "source": [
        "### By Sales"
      ]
    },
    {
      "cell_type": "code",
      "execution_count": null,
      "metadata": {
        "_cell_guid": "5f90adfc-31a2-e581-4fde-62d8d20c24af"
      },
      "outputs": [],
      "source": [
        "x = vg_df.groupby(['Publisher']).sum().Global_Sales.copy()\n",
        "x.sort_values(ascending=False, inplace=True)\n",
        "x.head(10)"
      ]
    },
    {
      "cell_type": "markdown",
      "metadata": {
        "_cell_guid": "4963cc48-424c-c4a1-2ff7-21d0801f2c6f"
      },
      "source": [
        "### By Number of Releases"
      ]
    },
    {
      "cell_type": "code",
      "execution_count": null,
      "metadata": {
        "_cell_guid": "4256160a-7ec7-9a0f-9c64-3c84a4e9033a"
      },
      "outputs": [],
      "source": [
        "x = vg_df.groupby(['Publisher']).count().Name.copy()\n",
        "x.sort_values(ascending=False, inplace=True)\n",
        "x.head(10)"
      ]
    },
    {
      "cell_type": "markdown",
      "metadata": {
        "_cell_guid": "997b86fb-3d6b-30f4-2c74-2e4627cdcc43"
      },
      "source": [
        "The interesting part is that the publishers who made it to the top 10 in both lists are the same, with just a different ordering."
      ]
    },
    {
      "cell_type": "markdown",
      "metadata": {
        "_cell_guid": "0bf0ff91-3a0a-23e3-a3fb-fac55d406d1d"
      },
      "source": [
        "### By Average Yearly Earning"
      ]
    },
    {
      "cell_type": "code",
      "execution_count": null,
      "metadata": {
        "_cell_guid": "347f3e4e-3591-4cd8-f9d1-28fbfcbb7f24"
      },
      "outputs": [],
      "source": [
        "#http://stackoverflow.com/questions/30328646/python-pandas-group-by-in-group-by-and-average\n",
        "vg_df.groupby(['Publisher', 'Year_of_Release'], as_index=False).mean().groupby('Publisher').mean().Global_Sales.sort_values(ascending=False).head(10)"
      ]
    },
    {
      "cell_type": "markdown",
      "metadata": {
        "_cell_guid": "c1f1a100-d254-b15f-f492-c23f43a13515"
      },
      "source": [
        "There was something that intuitively I didn't like about this last list. After some investigation, I found that there were some publishers who did not stay in the market for long, but had made some strong sales. I am not sure if this makes a publisher make it towards the top list of all time, but I have decided to add the condition that a top publisher must have been in the competition for more than 5 years. I am not sure if I am subconsciously pushing some names to reappear into this again, maybe because that makes it clearer who deserves to be on that list."
      ]
    },
    {
      "cell_type": "code",
      "execution_count": null,
      "metadata": {
        "_cell_guid": "1cb3abf7-fc78-eaa1-07b3-13e08adbd02f"
      },
      "outputs": [],
      "source": [
        "vg_df.groupby(['Publisher']).filter(lambda x: len(x) > 5).groupby(['Publisher', 'Year_of_Release'], as_index=False).mean().groupby('Publisher').mean().Global_Sales.sort_values(ascending=False).head(10)"
      ]
    },
    {
      "cell_type": "markdown",
      "metadata": {
        "_cell_guid": "9e2c9224-ccb5-87ef-e511-17a5870394ad"
      },
      "source": [
        "Still, some new names reappeared. But I am satisfied with the 5 years condition, so I am going to continue with this last list."
      ]
    },
    {
      "cell_type": "markdown",
      "metadata": {
        "_cell_guid": "867253ac-3186-2c56-3afd-cf8f61dd6a4e"
      },
      "source": [
        "### By Average Earning per Game"
      ]
    },
    {
      "cell_type": "code",
      "execution_count": null,
      "metadata": {
        "_cell_guid": "6c6ad370-6da7-b72f-1ce1-ef1277a73205"
      },
      "outputs": [],
      "source": [
        "x = vg_df.groupby(['Publisher']).mean().Global_Sales.copy()\n",
        "x.sort_values(ascending=False, inplace=True)\n",
        "x.head(10)"
      ]
    },
    {
      "cell_type": "markdown",
      "metadata": {
        "_cell_guid": "98eb4175-e935-941a-2832-1ae3938a9fab"
      },
      "source": [
        "Again, the same dilemma of publishers with little publishings making great sales and reappearing on the top list. This time, I am setting a condition of having released at least 10 games before competing for the first places. For example, the first place: Palcom. It is very interesting how, by a good margin, they are well ahead of the rest. "
      ]
    },
    {
      "cell_type": "code",
      "execution_count": null,
      "metadata": {
        "_cell_guid": "1975520d-8377-e240-e672-1c1138f0478a"
      },
      "outputs": [],
      "source": [
        "vg_df[vg_df.Publisher == 'Palcom']"
      ]
    },
    {
      "cell_type": "markdown",
      "metadata": {
        "_cell_guid": "dd5b2c99-f717-dac8-9ee2-3f64d6823aba"
      },
      "source": [
        "So it released one game (And this makes sense to have this company on the top of the list). It was a big hit, making over 4 million 1989 dollars! Certainly impressive, but I am not sure if this is enough to make it one of the top publishers of all time. million 1989 dollars! Personally I don't like the fact that the average is topped by a publisher that made a single release, no matter how successful this release was. I will filter out publishers who published less than 10 games and then recompute the average"
      ]
    },
    {
      "cell_type": "code",
      "execution_count": null,
      "metadata": {
        "_cell_guid": "5e88cc72-d092-f30b-90e2-42f731d086e3"
      },
      "outputs": [],
      "source": [
        "vg_df.groupby(['Publisher']).filter(lambda x: len(x) > 10).groupby(['Publisher']).Global_Sales.mean().sort_values(ascending=False).head(10)"
      ]
    },
    {
      "cell_type": "markdown",
      "metadata": {
        "_cell_guid": "d814499a-a36e-5a61-c1f5-d6486f267c01"
      },
      "source": [
        "## Top Publishers Final List"
      ]
    },
    {
      "cell_type": "markdown",
      "metadata": {
        "_cell_guid": "11932ad3-820f-8d80-c463-30df44dbb697"
      },
      "source": [
        "So the list of top publisher is the union of the top 10 highest sales, top 10 highest release, top 10 highest average sales for publishers who have released more than 10 games and top 10 highest average sales for publishers who have been around for over 5 years. The \"over 10 games\" and \"over 5 years\" are just arbitrary values that seem reasonable to me, but feel free to experiment with these values (Change the value inside the lambda function within the filters)"
      ]
    },
    {
      "cell_type": "code",
      "execution_count": null,
      "metadata": {
        "_cell_guid": "513ab35b-acba-a1da-f927-8e4cb1a2af44"
      },
      "outputs": [],
      "source": [
        "top_publishers = ['Electronic Arts', 'Activision', 'Namco Bandai Games', 'Ubisoft', 'Konami Digital Entertainment', \\\n",
        "                  'THQ', 'Nintendo', 'Sony Computer Entertainment', 'Sega', 'Take-Two Interactive',\n",
        "                  'Sony Computer Entertainment Europe', 'Microsoft Game Studios', 'Enix Corporation', 'Bethesda Softworks', 'SquareSoft'\\\n",
        "                  'Take-Two Interactive', 'LucasArts', '989 Studios', 'Hasbro Interactive', 'Universal Interactive']\n",
        "#You can use set to create the list, I just have handtyped them just to be more attentive to the names.\n",
        "\n",
        "top_publisher_df = vg_df[ vg_df['Publisher'].isin(top_publishers) ]"
      ]
    },
    {
      "cell_type": "markdown",
      "metadata": {
        "_cell_guid": "d9e71f53-8d5e-e094-03a5-b9e10996aac8"
      },
      "source": [
        "### How do these top publishers make-up of the gaming market?"
      ]
    },
    {
      "cell_type": "markdown",
      "metadata": {
        "_cell_guid": "ca87eb86-ed86-77a6-69cb-5cccb8116d47"
      },
      "source": [
        "#### Number of releases"
      ]
    },
    {
      "cell_type": "code",
      "execution_count": null,
      "metadata": {
        "_cell_guid": "ad7a8e02-9341-190d-3c1d-9631e94f3bcd"
      },
      "outputs": [],
      "source": [
        "print(\"They make\", 100*top_publisher_df.shape[0]/float(vg_df.shape[0]),\"% of the number of releases in this dataset\")"
      ]
    },
    {
      "cell_type": "markdown",
      "metadata": {
        "_cell_guid": "599d4554-bd14-beeb-7284-33f2d3b15b0b"
      },
      "source": [
        "#### Total Sales"
      ]
    },
    {
      "cell_type": "code",
      "execution_count": null,
      "metadata": {
        "_cell_guid": "3d2603c8-887d-8091-1ca5-132535f393bf"
      },
      "outputs": [],
      "source": [
        "total_games_sales = vg_df.Global_Sales.sum()\n",
        "top_publisher_total_sales = top_publisher_df.Global_Sales.sum()\n",
        "\n",
        "print(\"Total Video Games Sales:\", total_games_sales, \"Million US$\")\n",
        "print(\"Total Top Publishers Sales:\", top_publisher_total_sales, \"Million US$\")\n",
        "print(\"They make \", 100*top_publisher_total_sales/total_games_sales,\"% of the total video games sales\")"
      ]
    },
    {
      "cell_type": "markdown",
      "metadata": {
        "_cell_guid": "199e13d8-66f9-abdf-a860-6b065256022c"
      },
      "source": [
        "### Favorite Genre for Each Top Publisher"
      ]
    },
    {
      "cell_type": "markdown",
      "metadata": {
        "_cell_guid": "90f8a7ad-3f86-897a-710a-53e422711ff5"
      },
      "source": [
        "#### By Number of Releases"
      ]
    },
    {
      "cell_type": "code",
      "execution_count": null,
      "metadata": {
        "_cell_guid": "3b3a3151-36dd-ef10-98d3-8f539307d5e7"
      },
      "outputs": [],
      "source": [
        "x = top_publisher_df.groupby(['Publisher', 'Genre']).count().copy()\n",
        "x.unstack().Name.idxmax(axis=1)"
      ]
    },
    {
      "cell_type": "markdown",
      "metadata": {
        "_cell_guid": "91248414-b1bc-1ea3-4725-725ff6ec0983"
      },
      "source": [
        "#### By Sales"
      ]
    },
    {
      "cell_type": "code",
      "execution_count": null,
      "metadata": {
        "_cell_guid": "1a64d629-f1b9-f4c9-843c-f60c7cff8ad7"
      },
      "outputs": [],
      "source": [
        "x = top_publisher_df.groupby(['Publisher', 'Genre']).sum().copy()\n",
        "x.unstack().Global_Sales.idxmax(axis=1)"
      ]
    },
    {
      "cell_type": "markdown",
      "metadata": {
        "_cell_guid": "16282fed-4770-5600-9c3d-32153072d955"
      },
      "source": [
        "## Top Genre Producer"
      ]
    },
    {
      "cell_type": "markdown",
      "metadata": {
        "_cell_guid": "e0fa185c-5f8e-b33b-2494-e736cd078616"
      },
      "source": [
        "#### By Number of Games Released"
      ]
    },
    {
      "cell_type": "code",
      "execution_count": null,
      "metadata": {
        "_cell_guid": "90a1c299-ccf4-43eb-b43e-22867c484d63"
      },
      "outputs": [],
      "source": [
        "x = top_publisher_df.groupby(['Genre', 'Publisher']).count().copy()\n",
        "x.unstack().Name.idxmax(axis=1)"
      ]
    },
    {
      "cell_type": "markdown",
      "metadata": {
        "_cell_guid": "93584b05-d4a4-8399-47aa-d1a5af1aab3e"
      },
      "source": [
        "#### By Sales"
      ]
    },
    {
      "cell_type": "code",
      "execution_count": null,
      "metadata": {
        "_cell_guid": "b393d247-ddd5-a756-d22f-05c95fc2b3b5"
      },
      "outputs": [],
      "source": [
        "x = top_publisher_df.groupby(['Genre', 'Publisher']).sum().copy()\n",
        "x.unstack().Global_Sales.idxmax(axis=1)"
      ]
    },
    {
      "cell_type": "markdown",
      "metadata": {
        "_cell_guid": "d60da47a-0305-d3b9-7eb3-807818458f79"
      },
      "source": [
        "#### By Average Sales per game"
      ]
    },
    {
      "cell_type": "code",
      "execution_count": null,
      "metadata": {
        "_cell_guid": "fb565c1c-ee2e-cd86-af73-9547d11d04a3"
      },
      "outputs": [],
      "source": [
        "x = top_publisher_df.groupby(['Genre', 'Publisher']).mean().copy()\n",
        "x.unstack().Global_Sales.idxmax(axis=1)"
      ]
    },
    {
      "cell_type": "markdown",
      "metadata": {
        "_cell_guid": "5cf15a59-89d6-5baa-a170-c31837e89bef"
      },
      "source": [
        "# Top Performers by Region"
      ]
    },
    {
      "cell_type": "markdown",
      "metadata": {
        "_cell_guid": "39a49023-19ac-243c-5cb5-c1b8d535533e"
      },
      "source": [
        "## Publishers"
      ]
    },
    {
      "cell_type": "markdown",
      "metadata": {
        "_cell_guid": "e620dd44-b659-6396-976d-494b58dc9998"
      },
      "source": [
        "#### North America"
      ]
    },
    {
      "cell_type": "markdown",
      "metadata": {
        "_cell_guid": "3bbfe3d3-c3b2-5ddc-32b5-9655fe12aa93"
      },
      "source": [
        "Inside the bar, there will be the actual value of the total sales, followed by the publisher's share percentage of the sales in the region."
      ]
    },
    {
      "cell_type": "code",
      "execution_count": null,
      "metadata": {
        "_cell_guid": "8bd11398-3bb7-1413-336f-056ba928b8b0"
      },
      "outputs": [],
      "source": [
        "ax = vg_df.groupby('Publisher').sum().unstack().NA_Sales.sort_values(ascending=False).head(10).plot(kind='bar', figsize=(13, 5));\n",
        "\n",
        "for p in ax.patches:\n",
        "    ax.annotate(str( round( p.get_height() ) ) + \"\\n\" + str(round( 100.0* p.get_height() /vg_df.NA_Sales.sum()) )+ \"%\", \n",
        "                (p.get_x() + 0.13, p.get_height()-85),\n",
        "                color='white', fontsize=12, fontweight='bold')"
      ]
    },
    {
      "cell_type": "markdown",
      "metadata": {
        "_cell_guid": "23ddad65-a3b2-2728-592a-47e03fc7371c"
      },
      "source": [
        "#### European Union"
      ]
    },
    {
      "cell_type": "code",
      "execution_count": null,
      "metadata": {
        "_cell_guid": "b7e90500-4360-a465-61cc-634df39c05c5"
      },
      "outputs": [],
      "source": [
        "vg_df.groupby('Publisher').sum().unstack().EU_Sales.sort_values(ascending=False).head(10).plot(kind='bar');"
      ]
    },
    {
      "cell_type": "markdown",
      "metadata": {
        "_cell_guid": "11c2243e-5614-07e5-b4cb-077910b8488c"
      },
      "source": [
        "#### Japan"
      ]
    },
    {
      "cell_type": "code",
      "execution_count": null,
      "metadata": {
        "_cell_guid": "f62396e6-3fc0-ead4-13a7-7774cf69db6e"
      },
      "outputs": [],
      "source": [
        "vg_df.groupby('Publisher').sum().unstack().JP_Sales.sort_values(ascending=False).head(10).plot(kind='bar');"
      ]
    },
    {
      "cell_type": "markdown",
      "metadata": {
        "_cell_guid": "628c1137-0b05-b0ac-c48b-0dac0c05a8ae"
      },
      "source": [
        "#### Rest of the World"
      ]
    },
    {
      "cell_type": "code",
      "execution_count": null,
      "metadata": {
        "_cell_guid": "2ce01080-50b1-dd05-6851-81ec810741a2"
      },
      "outputs": [],
      "source": [
        "vg_df.groupby('Publisher').sum().unstack().Other_Sales.sort_values(ascending=False).head(10).plot(kind='bar');"
      ]
    },
    {
      "cell_type": "markdown",
      "metadata": {
        "_cell_guid": "bf0af3b4-afe5-7d17-1109-b096ea5fbe30"
      },
      "source": [
        "The pattern is similar in North America, E.U. and rest of the world. Again, Japan stands out as a region with its own peculiarities. "
      ]
    },
    {
      "cell_type": "markdown",
      "metadata": {
        "_cell_guid": "0a20f404-b15c-b7e3-cc54-10b24124b04d"
      },
      "source": [
        "## Genre"
      ]
    },
    {
      "cell_type": "markdown",
      "metadata": {
        "_cell_guid": "eaf58e7a-df60-6604-5fbe-2d705d0791ac"
      },
      "source": [
        "#### North America"
      ]
    },
    {
      "cell_type": "code",
      "execution_count": null,
      "metadata": {
        "_cell_guid": "3ed58817-5c44-4155-a7c7-e1f2e17c1140"
      },
      "outputs": [],
      "source": [
        "vg_df.groupby('Genre').sum().unstack().NA_Sales.sort_values(ascending=False).plot(kind='bar');"
      ]
    },
    {
      "cell_type": "markdown",
      "metadata": {
        "_cell_guid": "8a76aac0-6937-decf-d65e-f593ff4179fe"
      },
      "source": [
        "#### European Union"
      ]
    },
    {
      "cell_type": "code",
      "execution_count": null,
      "metadata": {
        "_cell_guid": "2e220e99-3dba-0c78-4611-37b0eff4822d"
      },
      "outputs": [],
      "source": [
        "vg_df.groupby('Genre').sum().unstack().EU_Sales.sort_values(ascending=False).head(10).plot(kind='bar');"
      ]
    },
    {
      "cell_type": "markdown",
      "metadata": {
        "_cell_guid": "a0b539c2-8a21-dcfc-5212-25c50ec8b8fd"
      },
      "source": [
        "#### Japan"
      ]
    },
    {
      "cell_type": "code",
      "execution_count": null,
      "metadata": {
        "_cell_guid": "bf39a4a2-a310-b465-4998-9c9c5a66d428"
      },
      "outputs": [],
      "source": [
        "vg_df.groupby('Genre').sum().unstack().JP_Sales.sort_values(ascending=False).head(10).plot(kind='bar');"
      ]
    },
    {
      "cell_type": "markdown",
      "metadata": {
        "_cell_guid": "f344d68e-d884-e0e3-539e-d5dc903b3706"
      },
      "source": [
        "We knew already that the Japanese taste for games was already different, but when we quantified the sales it showed an even more interesting insight: their games are dominated by the role-playing genre!"
      ]
    },
    {
      "cell_type": "markdown",
      "metadata": {
        "_cell_guid": "65184d79-8707-08a0-83b2-ebebf61fc107"
      },
      "source": [
        "#### Rest of the World"
      ]
    },
    {
      "cell_type": "code",
      "execution_count": null,
      "metadata": {
        "_cell_guid": "56ddae95-969b-2eab-64ee-844c263d571a"
      },
      "outputs": [],
      "source": [
        "vg_df.groupby('Genre').sum().unstack().Other_Sales.sort_values(ascending=False).head(10).plot(kind='bar');"
      ]
    },
    {
      "cell_type": "markdown",
      "metadata": {
        "_cell_guid": "4c5e5c17-0420-91b5-641d-03aa1d96942c"
      },
      "source": [
        "# Honourable Mentions"
      ]
    },
    {
      "cell_type": "markdown",
      "metadata": {
        "_cell_guid": "bd104d14-9f28-197f-4be2-98c5d6bad260"
      },
      "source": [
        "## Most Profitable Games of all Time"
      ]
    },
    {
      "cell_type": "code",
      "execution_count": null,
      "metadata": {
        "_cell_guid": "93b9f20f-641f-8b5e-2fc5-57c1eebc44bc"
      },
      "outputs": [],
      "source": [
        "vg_df.sort_values('Global_Sales', ascending=False).head(10).Name"
      ]
    },
    {
      "cell_type": "markdown",
      "metadata": {
        "_cell_guid": "d027f1e3-f1c5-8b8d-9639-f52c0e51b260"
      },
      "source": [
        "## Most Profitable Games in each Genre"
      ]
    },
    {
      "cell_type": "code",
      "execution_count": null,
      "metadata": {
        "_cell_guid": "3a1b2a6e-764a-44db-3afe-cce01f854010"
      },
      "outputs": [],
      "source": [
        "#There are games with duplicate names (For each platform for example), so let's deal with this\n",
        "x = vg_df.groupby(['Genre', 'Name']).sum().reset_index().groupby('Genre')\n",
        "\n",
        "#A dataframe that will hold rankings, for nice display\n",
        "best_selling_titles_by_genre_df = pd.DataFrame()\n",
        "\n",
        "for name, group in x:\n",
        "    temp_col = group.sort_values('Global_Sales', ascending=False).head(10).Name.reset_index(drop=True)\n",
        "    best_selling_titles_by_genre_df[name] = temp_col"
      ]
    },
    {
      "cell_type": "code",
      "execution_count": null,
      "metadata": {
        "_cell_guid": "5c6f5ba0-4ade-669f-4260-dd07f861cfc4"
      },
      "outputs": [],
      "source": [
        "best_selling_titles_by_genre_df"
      ]
    },
    {
      "cell_type": "markdown",
      "metadata": {
        "_cell_guid": "f66cf7a9-b6ef-327d-0c3c-b7671a9c6eb1"
      },
      "source": [
        "My take over the best selling titles by genre:<br>\n",
        "1- GTA dominates the action genre<br>\n",
        "2- Wii sports stuff dominate the sports, followed by FIFAs<br>\n",
        "3- Call of Duty dominates the shooting genre.<br>\n",
        "4- The dataset need some cleaning, for example FIFA 2013 is listed as an action game while the rest of the FIFAs are listed as sports. Same for Assassin's Creed, some are listed as Action, others are adventure.<br>"
      ]
    },
    {
      "cell_type": "markdown",
      "metadata": {
        "_cell_guid": "ce784da1-f2bd-ccee-ee39-bd751c165ad1"
      },
      "source": [
        "# Conclusion"
      ]
    },
    {
      "cell_type": "markdown",
      "metadata": {
        "_cell_guid": "0b75d8a1-26f5-3ede-69d7-c05953789b4d"
      },
      "source": [
        "The sales and the number of releases go hand by hand, nothing special\\suspicious.<br><br>\n",
        "\n",
        "The \"Action\" genre seems to be the most resistant to sales decline.<br><br>\n",
        "\n",
        "Genres seem to be reasonably persistent when we compare their number of releases and their revenues. However,  when we add to the picture the average revenue per game, the rankings change a lot:"
      ]
    },
    {
      "cell_type": "code",
      "execution_count": null,
      "metadata": {
        "_cell_guid": "fb8714b1-637c-a9fa-2371-7980b05f60f2"
      },
      "outputs": [],
      "source": [
        "#First is the number of releases per genre, second is the sales per genre, third is the average sales per game per genre\n",
        "genre_difference_metric = [vg_df.Genre.value_counts().index, vg_df.groupby(['Genre']).sum().Global_Sales.sort_values(ascending=False).index, vg_df.groupby(['Genre']).mean().Global_Sales.sort_values(ascending=False).index]\n",
        "\n",
        "#Dataframe to be used for plotting.\n",
        "genre_evolution_df = pd.DataFrame(columns=['genre', 'rank_type', 'rank'])\n",
        "\n",
        "#Populate the dataframe\n",
        "for metric in range(3):\n",
        "    for genre in range(len(genre_difference_metric[metric])):\n",
        "        genre_evolution_df = genre_evolution_df.append({'genre':genre_difference_metric[metric][genre], 'rank_type': metric, 'rank':genre},\n",
        "                                   ignore_index=True)\n",
        "\n",
        "        \n",
        "fig = plt.figure(figsize=(10, 8))\n",
        "ax = fig.add_subplot(111)\n",
        "\n",
        "sns.pointplot(x=genre_evolution_df.rank_type,\n",
        "              y=12-genre_evolution_df['rank'], \n",
        "              hue=genre_evolution_df.genre)\n",
        "\n",
        "for i in range(len(genre_difference_metric[0])):\n",
        "    ax.text(-0.75, 12-i, genre_difference_metric[0][i], fontsize=11)\n",
        "    ax.text(2.1, 12-i, genre_difference_metric[2][i], fontsize=11)\n",
        "    \n",
        "ax.set_xlim([-2,4])\n",
        "\n",
        "xs = [0.0, 1.0, 2.0]\n",
        "x_labels = ['total releases', 'total sales', 'average sales']\n",
        "plt.xticks(xs, x_labels, rotation='vertical')\n",
        "\n",
        "ax.set_xlabel('Sales Metric')\n",
        "\n",
        "ys = range(1,13)\n",
        "y_labels = ['12th', '11th', '10th', '9th', '8th', '7th', '6th', '5th', '4th', '3rd', '2nd', '1st']\n",
        "plt.yticks(ys, y_labels)\n",
        "ax.set_ylabel('Genre Rank')\n",
        "\n",
        "plt.show();"
      ]
    },
    {
      "cell_type": "markdown",
      "metadata": {
        "_cell_guid": "0a18bea4-062d-40e9-2e65-6685dfe31e91"
      },
      "source": [
        "<br><br><br>The critic score is more conservative than the user score, but it correlates much better with the sales. In fact, user score does not correlate at all (coefficient almost equal zero) with the games sales:<br>"
      ]
    },
    {
      "cell_type": "code",
      "execution_count": null,
      "metadata": {
        "_cell_guid": "3cd77ef6-eadf-d219-e6bd-15cccd0e3e10"
      },
      "outputs": [],
      "source": [
        "g = sns.jointplot(x = 'Critic_Score', \n",
        "              y = 'User_Score',\n",
        "              data = vg_df, \n",
        "              kind = 'hex', \n",
        "              cmap= 'hot', \n",
        "              size=6)\n",
        "\n",
        "#http://stackoverflow.com/questions/33288830/how-to-plot-regression-line-on-hexbins-with-seaborn\n",
        "sns.regplot(vg_df.Critic_Score, vg_df.User_Score, ax=g.ax_joint, scatter=False, color='grey');"
      ]
    },
    {
      "cell_type": "markdown",
      "metadata": {
        "_cell_guid": "63fa8475-bb46-b742-86c3-7d33a57f268b"
      },
      "source": [
        "<br><br>Japan is a unique region when it comes to games. The rest of the world is more or less consistent, but Japan is different. For example, this is how the different genres sales ranked within each of the four regions:"
      ]
    },
    {
      "cell_type": "code",
      "execution_count": null,
      "metadata": {
        "_cell_guid": "5c2059ed-0139-9d11-30f0-684f9a9bcead"
      },
      "outputs": [],
      "source": [
        "genre_geo_rankings = [vg_df.groupby('Genre').sum().unstack().NA_Sales.sort_values(ascending=False).index, \n",
        "                      vg_df.groupby('Genre').sum().unstack().EU_Sales.sort_values(ascending=False).index,\n",
        "                      vg_df.groupby('Genre').sum().unstack().Other_Sales.sort_values(ascending=False).index,\n",
        "                      vg_df.groupby('Genre').sum().unstack().JP_Sales.sort_values(ascending=False).index\n",
        "                      ]\n",
        "\n",
        "#First is the number of releases per genre, second is the sales per genre, third is the average sales per game per genre\n",
        "genre_geo_rank_df = pd.DataFrame(columns=['genre', 'rank_type', 'rank'])\n",
        "\n",
        "#for metric in genre_difference_metric:\n",
        "for region in range(4):\n",
        "    for genre in range(len(genre_geo_rankings[region])):\n",
        "        genre_geo_rank_df = genre_geo_rank_df.append({'genre':genre_geo_rankings[region][genre], 'rank_type': region, 'rank':genre},\n",
        "                                   ignore_index=True)\n",
        "\n",
        "fig = plt.figure(figsize=(10, 8))\n",
        "ax = fig.add_subplot(111)\n",
        "\n",
        "sns.pointplot(x=genre_geo_rank_df.rank_type,\n",
        "              y=12-genre_geo_rank_df['rank'], \n",
        "              hue=genre_geo_rank_df.genre)\n",
        "\n",
        "for i in range(len(genre_geo_rankings[0])):\n",
        "    ax.text(-0.9, 12-i, genre_geo_rankings[0][i], fontsize=11)\n",
        "    ax.text(3.2, 12-i, genre_geo_rankings[3][i], fontsize=11)\n",
        "    \n",
        "ax.set_xlim([-2,5])\n",
        "\n",
        "xs = [0.0, 1.0, 2.0, 3.0]\n",
        "x_labels = ['North America', 'E.U.', 'Rest of the World', 'Japan']\n",
        "plt.xticks(xs, x_labels, rotation='vertical')\n",
        "ax.set_xlabel('Region')\n",
        "\n",
        "ys = range(1,13)\n",
        "y_labels = ['12th', '11th', '10th', '9th', '8th', '7th', '6th', '5th', '4th', '3rd', '2nd', '1st']\n",
        "plt.yticks(ys, y_labels)\n",
        "ax.set_ylabel('Genre Rank')\n",
        "\n",
        "plt.show();"
      ]
    },
    {
      "cell_type": "markdown",
      "metadata": {
        "_cell_guid": "cbc45803-f201-1095-87b7-d8004173b9fe"
      },
      "source": [
        "The Japanese also showed a strong inclination to Nintendo as a publisher, and for the \"Role Playing\" genre."
      ]
    },
    {
      "cell_type": "markdown",
      "metadata": {
        "_cell_guid": "b8e9b630-26d2-34a2-127e-333ef5da325d"
      },
      "source": [
        "The top publishers list is a list made of the top 20 publishers that consistently made it to the top 10 lists of different metrics (e.g. top selling games, top total sales..etc)"
      ]
    },
    {
      "cell_type": "markdown",
      "metadata": {
        "_cell_guid": "95e42801-e754-a624-8681-841cf8c3bd4d"
      },
      "source": [
        "<br>The top publishers are:<br>\n",
        "Electronic Arts<br>\n",
        "Activision<br>\n",
        "Namco Bandai Games<br>\n",
        "Ubisoft<br>\n",
        "Konami Digital Entertainment<br>\n",
        "THQ<br>\n",
        "Nintendo<br>\n",
        "Sony Computer Entertainment<br>\n",
        "Sega<br>\n",
        "Take-Two Interactive<br>\n",
        "Sony Computer Entertainment Europe<br>\n",
        "Microsoft Game Studios<br>\n",
        "Enix Corporation<br>\n",
        "Bethesda Softworks<br>\n",
        "SquareSoft<br>\n",
        "Take-Two Interactive<br>\n",
        "LucasArts<br>\n",
        "989 Studios<br>\n",
        "Hasbro Interactive<br>\n",
        "Universal Interactive<br>"
      ]
    },
    {
      "cell_type": "markdown",
      "metadata": {
        "_cell_guid": "9a46cfac-080c-61c1-81fb-b9849c84290d"
      },
      "source": [
        "These 20 companies make up a little over half (51.85%) of all the games produced, and a little over three quarters (76%) of all the global sales. This follows the general pattern found everywhere in this dataset: the exponential decay."
      ]
    }
  ],
  "metadata": {
    "_change_revision": 0,
    "_is_fork": false,
    "kernelspec": {
      "display_name": "Python 3",
      "language": "python",
      "name": "python3"
    },
    "language_info": {
      "codemirror_mode": {
        "name": "ipython",
        "version": 3
      },
      "file_extension": ".py",
      "mimetype": "text/x-python",
      "name": "python",
      "nbconvert_exporter": "python",
      "pygments_lexer": "ipython3",
      "version": "3.6.0"
    }
  },
  "nbformat": 4,
  "nbformat_minor": 0
}