{"cells":[
 {
  "cell_type": "markdown",
  "metadata": {},
  "source": "# The Chinese Zodiac and Aircraft Fatalities\n\n![](http://www.artic.edu/taoism/images/aic-zodiac-3.gif)\n\n### Do the Zodiacs Influence Aircraft Accidents?\n\nThe Chinese Zodiac is a 12 year cycle, with each year being represented by a different animal from the Chinese lunar calendar. According to ancient superstition, you will have bad luck during the Zodiac year in which you were born. \n\nBut does this bad luck influence aircraft fatalities? Maybe if you're superstitious, but over the years they have fallen into a fairly tight distribution. \n\n- Deadliest Zodiac since 1908: **Ox** - 10,134 Deaths\n- Safest Zodiac since 1908: **Rabbit** - 6,956 Deaths"
 },
 {
  "cell_type": "code",
  "execution_count": null,
  "metadata": {
   "collapsed": false
  },
  "outputs": [],
  "source": "import numpy as np\nimport pandas as pd\nimport datetime\nfrom bokeh.charts import Scatter, Bar, show, output_notebook\noutput_notebook()\ndata = pd.read_csv('../input/3-Airplane_Crashes_Since_1908.txt',sep=',')\ndata.sample()"
 },
 {
  "cell_type": "code",
  "execution_count": null,
  "metadata": {
   "collapsed": false
  },
  "outputs": [],
  "source": "# Return a bunch of tuples with the Zodiac and its Start/End Dates\ndef chinese_zodaics():\n    start_date = pd.to_datetime(\"2/2/1908\")\n    end_date = pd.to_datetime(\"7/1/2009\")\n    animals = ['Monkey', 'Rooster', 'Dog', 'Pig', 'Rat', 'Ox', 'Tiger', 'Rabbit', 'Dragon', 'Snake', 'Horse', 'Goat']\n    zodiacs = []\n    while start_date < end_date:\n        for a in animals:    \n            year_start = start_date\n            year_end = year_start + pd.DateOffset(days=365)\n            z = (a, start_date, year_end)\n            zodiacs.append(z)\n            start_date = year_end\n    return zodiacs \n\nzodiacs = chinese_zodaics()\n\n# Apply the zodiacs to the accident dates\ndef match_zodiac(date):\n    for z in zodiacs: \n        animal, start, end, = z[0], z[1], z[2]\n        if start <= date <= end:\n            return animal\n        \ndata.Date = pd.to_datetime(data.Date)\ndata['Zodiac'] = data.Date.apply(match_zodiac)\ndata['Year'] = pd.DatetimeIndex(data['Date']).year\ndata = data[['Zodiac', 'Year', 'Fatalities', 'Aboard']].dropna()\ndata = data[data.Fatalities > 1]\ndata.sample(5)\n"
 },
 {
  "cell_type": "code",
  "execution_count": null,
  "metadata": {
   "collapsed": false
  },
  "outputs": [],
  "source": "data.describe().astype(int)"
 },
 {
  "cell_type": "code",
  "execution_count": null,
  "metadata": {
   "collapsed": false
  },
  "outputs": [],
  "source": "p = Scatter(data, x='Fatalities', y='Zodiac', marker='Zodiac', color='Zodiac',\n            title=\"Fatalities by Zodiac\", legend=None,\n            xlabel=\"Fatalities\", ylabel=\"Zodiac\")\n\n\nshow(p)"
 },
 {
  "cell_type": "code",
  "execution_count": null,
  "metadata": {
   "collapsed": false
  },
  "outputs": [],
  "source": "# Put key stats into a DataFrame\ndef zodiac_data(data):\n    idx=['Total_Accidents', 'Total_Deaths', 'Mean_Deaths', 'Death_Rate', 'Survival_Rate', 'Deadliest_Accident']\n    df = pd.DataFrame()\n    for z in data.Zodiac.unique(): \n        zodiac = data[data.Zodiac == z]\n        f = zodiac.Fatalities.dropna()\n        a = zodiac.Aboard\n        total_accidents = f.count()\n        total_deaths = f.sum()\n        mean_deaths = f.mean()\n        death_rate = total_deaths / a.sum()\n        survival_rate = 1 - death_rate\n        deadliest = f.max()\n        df[z] = [total_accidents, total_deaths, mean_deaths, death_rate, survival_rate, deadliest]\n    df.index = idx\n    df = df.round(2).T\n    return df\n\nzodiac_comparison = zodiac_data(data)\nzodiac_comparison"
 },
 {
  "cell_type": "code",
  "execution_count": null,
  "metadata": {
   "collapsed": false
  },
  "outputs": [],
  "source": "zodiac_comparison.describe().round(2)"
 },
 {
  "cell_type": "code",
  "execution_count": null,
  "metadata": {
   "collapsed": false
  },
  "outputs": [],
  "source": "p = Bar(data, label='Zodiac', values='Fatalities', agg='mean', stack='Zodiac',\n        title=\"Average Annual Deaths by Zodiac\", legend='top_right')\n\n\n\nshow(p)"
 }
],"metadata":{"kernelspec":{"display_name":"Python 3","language":"python","name":"python3"}}, "nbformat": 4, "nbformat_minor": 0}