{
  "cells": [
    {
      "cell_type": "markdown",
      "metadata": {
        "_cell_guid": "932ebb10-ffd5-4181-52ae-7ed367a85a6e"
      },
      "source": [
        "This notebook shows which user traits make each demographic group more or less likely. It uses the linear model built in the [parent script](https://www.kaggle.com/dvasyukova/talkingdata-mobile-user-demographics/a-linear-model-on-apps-and-labels). What can the coefficients of logistic regression tell us about demographic groups?"
      ]
    },
    {
      "cell_type": "code",
      "execution_count": null,
      "metadata": {
        "_cell_guid": "10e55365-83e8-f7b6-a26e-aaa376cad62a"
      },
      "outputs": [],
      "source": [
        "import pandas as pd\n",
        "import numpy as np\n",
        "%matplotlib inline\n",
        "import seaborn as sns\n",
        "import matplotlib.pyplot as plt\n",
        "import os\n",
        "from sklearn.preprocessing import LabelEncoder\n",
        "from scipy.sparse import csr_matrix, hstack\n",
        "from sklearn.linear_model import LogisticRegression\n",
        "from sklearn.cross_validation import StratifiedKFold\n",
        "from sklearn.metrics import log_loss"
      ]
    },
    {
      "cell_type": "markdown",
      "metadata": {
        "_cell_guid": "29ab3f35-c097-465e-e2a5-4efe1aa836aa"
      },
      "source": [
        "## Load data"
      ]
    },
    {
      "cell_type": "code",
      "execution_count": null,
      "metadata": {
        "_cell_guid": "e76e779c-b6b2-d800-1150-b920c610e9ff"
      },
      "outputs": [],
      "source": [
        "datadir = '../input'\n",
        "gatrain = pd.read_csv(os.path.join(datadir,'gender_age_train.csv'),\n",
        "                      index_col='device_id')\n",
        "gatest = pd.read_csv(os.path.join(datadir,'gender_age_test.csv'),\n",
        "                     index_col = 'device_id')\n",
        "phone = pd.read_csv(os.path.join(datadir,'phone_brand_device_model.csv'))\n",
        "# Get rid of duplicate device ids in phone\n",
        "phone = phone.drop_duplicates('device_id',keep='first').set_index('device_id')\n",
        "events = pd.read_csv(os.path.join(datadir,'events.csv'),\n",
        "                     parse_dates=['timestamp'], index_col='event_id')\n",
        "appevents = pd.read_csv(os.path.join(datadir,'app_events.csv'), \n",
        "                        usecols=['event_id','app_id','is_active'],\n",
        "                        dtype={'is_active':bool})\n",
        "applabels = pd.read_csv(os.path.join(datadir,'app_labels.csv'))\n",
        "labelcats = pd.read_csv(os.path.join(datadir,'label_categories.csv'),\n",
        "                        index_col='label_id',squeeze=True)"
      ]
    },
    {
      "cell_type": "markdown",
      "metadata": {
        "_cell_guid": "bff3d889-5bc9-5182-7e56-bbd9858216ba"
      },
      "source": [
        "## Feature Engineering"
      ]
    },
    {
      "cell_type": "code",
      "execution_count": null,
      "metadata": {
        "_cell_guid": "f81678cf-e762-19b5-0a67-cf6430689886"
      },
      "outputs": [],
      "source": [
        "gatrain['trainrow'] = np.arange(gatrain.shape[0])\n",
        "gatest['testrow'] = np.arange(gatest.shape[0])"
      ]
    },
    {
      "cell_type": "code",
      "execution_count": null,
      "metadata": {
        "_cell_guid": "1e93897e-518c-8ea3-4e55-b204f0d08985"
      },
      "outputs": [],
      "source": [
        "brandencoder = LabelEncoder().fit(phone.phone_brand)\n",
        "phone['brand'] = brandencoder.transform(phone['phone_brand'])\n",
        "gatrain['brand'] = phone['brand']\n",
        "gatest['brand'] = phone['brand']\n",
        "Xtr_brand = csr_matrix((np.ones(gatrain.shape[0]), \n",
        "                       (gatrain.trainrow, gatrain.brand)))\n",
        "Xte_brand = csr_matrix((np.ones(gatest.shape[0]), \n",
        "                       (gatest.testrow, gatest.brand)))\n",
        "print('Brand features: train shape {}, test shape {}'.format(Xtr_brand.shape, Xte_brand.shape))"
      ]
    },
    {
      "cell_type": "code",
      "execution_count": null,
      "metadata": {
        "_cell_guid": "850876c4-f13a-7854-f875-9f68617a6333"
      },
      "outputs": [],
      "source": [
        "m = phone.phone_brand.str.cat(phone.device_model)\n",
        "modelencoder = LabelEncoder().fit(m)\n",
        "phone['model'] = modelencoder.transform(m)\n",
        "gatrain['model'] = phone['model']\n",
        "gatest['model'] = phone['model']\n",
        "Xtr_model = csr_matrix((np.ones(gatrain.shape[0]), \n",
        "                       (gatrain.trainrow, gatrain.model)))\n",
        "Xte_model = csr_matrix((np.ones(gatest.shape[0]), \n",
        "                       (gatest.testrow, gatest.model)))\n",
        "print('Model features: train shape {}, test shape {}'.format(Xtr_model.shape, Xte_model.shape))"
      ]
    },
    {
      "cell_type": "code",
      "execution_count": null,
      "metadata": {
        "_cell_guid": "d4e074f1-a1cd-c69e-f2e1-d2ea6aae8a27"
      },
      "outputs": [],
      "source": [
        "appencoder = LabelEncoder().fit(appevents.app_id)\n",
        "appevents['app'] = appencoder.transform(appevents.app_id)\n",
        "napps = len(appencoder.classes_)\n",
        "deviceapps = (appevents.merge(events[['device_id']], how='left',left_on='event_id',right_index=True)\n",
        "                       .groupby(['device_id','app'])['app'].agg(['size'])\n",
        "                       .merge(gatrain[['trainrow']], how='left', left_index=True, right_index=True)\n",
        "                       .merge(gatest[['testrow']], how='left', left_index=True, right_index=True)\n",
        "                       .reset_index())"
      ]
    },
    {
      "cell_type": "code",
      "execution_count": null,
      "metadata": {
        "_cell_guid": "74a7f87d-6eb8-7553-addb-d32b72382506"
      },
      "outputs": [],
      "source": [
        "d = deviceapps.dropna(subset=['trainrow'])\n",
        "Xtr_app = csr_matrix((np.ones(d.shape[0]), (d.trainrow, d.app)), \n",
        "                      shape=(gatrain.shape[0],napps))\n",
        "d = deviceapps.dropna(subset=['testrow'])\n",
        "Xte_app = csr_matrix((np.ones(d.shape[0]), (d.testrow, d.app)), \n",
        "                      shape=(gatest.shape[0],napps))\n",
        "print('Apps data: train shape {}, test shape {}'.format(Xtr_app.shape, Xte_app.shape))"
      ]
    },
    {
      "cell_type": "code",
      "execution_count": null,
      "metadata": {
        "_cell_guid": "b9bd3b7c-9146-ae81-ef83-e92e5bcd6868"
      },
      "outputs": [],
      "source": [
        "applabels = applabels.loc[applabels.app_id.isin(appevents.app_id.unique())]\n",
        "applabels['app'] = appencoder.transform(applabels.app_id)\n",
        "labelencoder = LabelEncoder().fit(applabels.label_id)\n",
        "applabels['label'] = labelencoder.transform(applabels.label_id)\n",
        "nlabels = len(labelencoder.classes_)"
      ]
    },
    {
      "cell_type": "code",
      "execution_count": null,
      "metadata": {
        "_cell_guid": "a2f082a8-8e42-a914-aa0d-f1b53ca17788"
      },
      "outputs": [],
      "source": [
        "devicelabels = (deviceapps[['device_id','app']]\n",
        "                .merge(applabels[['app','label']])\n",
        "                .groupby(['device_id','label'])['app'].agg(['size'])\n",
        "                .merge(gatrain[['trainrow']], how='left', left_index=True, right_index=True)\n",
        "                .merge(gatest[['testrow']], how='left', left_index=True, right_index=True)\n",
        "                .reset_index())"
      ]
    },
    {
      "cell_type": "code",
      "execution_count": null,
      "metadata": {
        "_cell_guid": "8c4897b6-877a-2dc4-a546-a61dda27eb65"
      },
      "outputs": [],
      "source": [
        "d = devicelabels.dropna(subset=['trainrow'])\n",
        "Xtr_label = csr_matrix((np.ones(d.shape[0]), (d.trainrow, d.label)), \n",
        "                      shape=(gatrain.shape[0],nlabels))\n",
        "d = devicelabels.dropna(subset=['testrow'])\n",
        "Xte_label = csr_matrix((np.ones(d.shape[0]), (d.testrow, d.label)), \n",
        "                      shape=(gatest.shape[0],nlabels))\n",
        "print('Labels data: train shape {}, test shape {}'.format(Xtr_label.shape, Xte_label.shape))"
      ]
    },
    {
      "cell_type": "code",
      "execution_count": null,
      "metadata": {
        "_cell_guid": "31c19090-6cab-8935-c0dd-5dc7af47d5c9"
      },
      "outputs": [],
      "source": [
        "Xtrain = hstack((Xtr_brand, Xtr_model, Xtr_app, Xtr_label), format='csr')\n",
        "Xtest =  hstack((Xte_brand, Xte_model, Xte_app, Xte_label), format='csr')\n",
        "print('All features: train shape {}, test shape {}'.format(Xtrain.shape, Xtest.shape))"
      ]
    },
    {
      "cell_type": "markdown",
      "metadata": {
        "_cell_guid": "bc5e2845-0597-4bab-18c2-75deace40f40"
      },
      "source": [
        "## Build model"
      ]
    },
    {
      "cell_type": "code",
      "execution_count": null,
      "metadata": {
        "_cell_guid": "100a586a-d05b-5c3c-fb80-3cd20f07505e"
      },
      "outputs": [],
      "source": [
        "targetencoder = LabelEncoder().fit(gatrain.group)\n",
        "y = targetencoder.transform(gatrain.group)\n",
        "nclasses = len(targetencoder.classes_)"
      ]
    },
    {
      "cell_type": "code",
      "execution_count": null,
      "metadata": {
        "_cell_guid": "b9a67b06-83ec-cbce-d810-1a4ce78f3a9d"
      },
      "outputs": [],
      "source": [
        "clf = LogisticRegression(C=0.02, multi_class='multinomial',solver='lbfgs')\n",
        "clf.fit(Xtrain, y)"
      ]
    },
    {
      "cell_type": "markdown",
      "metadata": {
        "_cell_guid": "880e5f6e-0191-9833-1d27-b5bc79739e31"
      },
      "source": [
        "## Look at coefficients\n",
        "\n",
        "Logistic regression has a matrix of coefficients of shape (n_classes, n_features). Since all our features are on the same scale we can directly compare coefficients values. Positive coefficients mean that this feature makes this class more likely, negative - less likely."
      ]
    },
    {
      "cell_type": "code",
      "execution_count": null,
      "metadata": {
        "_cell_guid": "45cb26b8-fc84-ddcc-f58f-4eec40059a3d"
      },
      "outputs": [],
      "source": [
        "coef = clf.coef_\n",
        "coef.shape"
      ]
    },
    {
      "cell_type": "code",
      "execution_count": null,
      "metadata": {
        "_cell_guid": "f61f34a4-7169-acac-fbfd-a4945f608c92"
      },
      "outputs": [],
      "source": [
        "# convert feature index to feature name\n",
        "def map_feature(n):\n",
        "    m = n+0\n",
        "    if m < len(brandencoder.classes_):\n",
        "        return 'brand {}'.format(brandencoder.classes_[m])\n",
        "    m -= len(brandencoder.classes_)\n",
        "    if m < len(modelencoder.classes_):\n",
        "        return 'model {}'.format(modelencoder.classes_[m])\n",
        "    m -= len(modelencoder.classes_)\n",
        "    if m < len(appencoder.classes_):\n",
        "        return 'app {}'.format(appencoder.classes_[m])\n",
        "    m -= len(appencoder.classes_)\n",
        "    return 'label {}'.format(labelcats.loc[labelencoder.classes_[m]])"
      ]
    },
    {
      "cell_type": "markdown",
      "metadata": {
        "_cell_guid": "32b0f2b2-ea17-70f7-f644-4c2fe2dd3456"
      },
      "source": [
        "Here is a plot of 10 largest positive (red) and negative (blue) coefficients for each gender-age group."
      ]
    },
    {
      "cell_type": "code",
      "execution_count": null,
      "metadata": {
        "_cell_guid": "a6f5372f-3100-f3fd-22e0-1cc734ea03c1"
      },
      "outputs": [],
      "source": [
        "N = 10 # Number of positive and negative traits to plot\n",
        "fig, ax = plt.subplots(4,3, figsize=(16,32), sharex=True)\n",
        "ax = ax.flatten()\n",
        "for i in range(12):\n",
        "    ax[i].set_title(targetencoder.classes_[i])\n",
        "    ind = np.argsort(coef[i,:])\n",
        "    for n in range(N):\n",
        "        ax[i].barh([-(N-n)-1], [coef[i,ind[n]]], color='b',alpha=0.2)\n",
        "        ax[i].text(0, -(N-n)-0.6, map_feature(ind[n]),\n",
        "                   horizontalalignment='center',\n",
        "                   verticalalignment = 'center')\n",
        "        ax[i].barh([N-n], [coef[i,ind[-n-1]]], color='r',alpha=0.2)\n",
        "        ax[i].text(0, N-n+0.4, map_feature(ind[-n-1]),\n",
        "                   horizontalalignment='center',\n",
        "                   verticalalignment = 'center')\n",
        "        ax[i].set_ylim(-N-1,N+1)\n",
        "    ax[i].set_yticklabels([''])"
      ]
    }
  ],
  "metadata": {
    "_change_revision": 0,
    "_is_fork": false,
    "kernelspec": {
      "display_name": "Python 3",
      "language": "python",
      "name": "python3"
    },
    "language_info": {
      "codemirror_mode": {
        "name": "ipython",
        "version": 3
      },
      "file_extension": ".py",
      "mimetype": "text/x-python",
      "name": "python",
      "nbconvert_exporter": "python",
      "pygments_lexer": "ipython3",
      "version": "3.5.2"
    }
  },
  "nbformat": 4,
  "nbformat_minor": 0
}