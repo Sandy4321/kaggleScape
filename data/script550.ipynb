{
  "cells": [
    {
      "cell_type": "markdown",
      "metadata": {
        "_cell_guid": "1d363e5c-4a4f-9b33-59cd-863cb77ce44a"
      },
      "source": [
        "Quick Introduction to this Dataset\n",
        "==================================\n",
        "\n",
        "**Simple but informative** -- that's the goal of this dataset.  \n",
        "\n",
        "This kernel will demonstrate the following:\n",
        "\n",
        " - Loading the data\n",
        " - Google maps\n",
        " - Pivot table\n",
        " - Simple graphs\n",
        " - Percent change\n",
        " - Seaborn heatmap"
      ]
    },
    {
      "cell_type": "markdown",
      "metadata": {
        "_cell_guid": "0960d80c-9a5b-b0fd-addf-d6ae3fb48947"
      },
      "source": [
        "\n",
        "\n",
        "Loading Data\n",
        "------------\n"
      ]
    },
    {
      "cell_type": "code",
      "execution_count": null,
      "metadata": {
        "_cell_guid": "1631c756-0fad-9c10-0b41-3c5ca3f43f8c"
      },
      "outputs": [],
      "source": [
        "import pandas as pd\n",
        "import numpy as np\n",
        "import datetime\n",
        "\n",
        "\n",
        "import warnings\n",
        "warnings.filterwarnings(\"ignore\")\n",
        "import seaborn as sns\n",
        "import matplotlib.pyplot as plt\n",
        "sns.set(style=\"white\", color_codes=True)\n",
        "\n",
        "\n",
        "dateparse = lambda x: datetime.datetime.strptime(x,'%Y-%m-%d %H:%M:%S')\n",
        "\n",
        "# Read data \n",
        "d=pd.read_csv(\"../input/911.csv\",\n",
        "    header=0,names=['lat', 'lng','desc','zip','title','timeStamp','twp','addr','e'],\n",
        "    dtype={'lat':str,'lng':str,'desc':str,'zip':str,\n",
        "                  'title':str,'timeStamp':str,'twp':str,'addr':str,'e':int}, \n",
        "     parse_dates=['timeStamp'],date_parser=dateparse)\n",
        "\n",
        "\n",
        "# Set index\n",
        "d.index = pd.DatetimeIndex(d.timeStamp)\n",
        "d=d[(d.timeStamp >= \"2016-01-01 00:00:00\")]"
      ]
    },
    {
      "cell_type": "code",
      "execution_count": null,
      "metadata": {
        "_cell_guid": "25504da5-82cd-76cb-9bda-fbd272f9cfef"
      },
      "outputs": [],
      "source": [
        "d.head()"
      ]
    },
    {
      "cell_type": "code",
      "execution_count": null,
      "metadata": {
        "_cell_guid": "f89d71dc-99da-a797-34bc-c3410ab746c6"
      },
      "outputs": [],
      "source": [
        "# Title is the category of the call\n",
        "d[\"title\"].value_counts()"
      ]
    },
    {
      "cell_type": "markdown",
      "metadata": {
        "_cell_guid": "9ea6cb86-f127-451f-c1ec-da9f1dacacc5"
      },
      "source": [
        "## Maps ##\n",
        "\n",
        "If you're interested in making a Google map take a look at this  [kernel][1]\n",
        "\n",
        "Here's the [code][2] to create this map. \n",
        "\n",
        "\n",
        "![Google Maps on Kaggle][3]\n",
        "\n",
        "\n",
        "  [1]: https://www.kaggle.com/mchirico/d/mchirico/montcoalert/map-of-helicopter-landings\n",
        "  [2]: https://www.kaggle.com/mchirico/d/mchirico/montcoalert/map-of-helicopter-landings/code\n",
        "  [3]: https://raw.githubusercontent.com/mchirico/mchirico.github.io/master/p/images/kaggleGoogleMap.png"
      ]
    },
    {
      "cell_type": "markdown",
      "metadata": {
        "_cell_guid": "bca54d22-c1f1-7cb8-bbd9-247d334efe58"
      },
      "source": [
        "## Working with the Data ##"
      ]
    },
    {
      "cell_type": "code",
      "execution_count": null,
      "metadata": {
        "_cell_guid": "eca543bb-69ee-5d42-db7a-b6d32fd41f62"
      },
      "outputs": [],
      "source": [
        "# There are 3 groups -- EMS, Fire, Traffic\n",
        "# We'll call these type.  This type is split on ':'\n",
        "d['type'] = d[\"title\"].apply(lambda x: x.split(':')[0])"
      ]
    },
    {
      "cell_type": "code",
      "execution_count": null,
      "metadata": {
        "_cell_guid": "aec946fd-2dbf-c107-bbca-1cd2158d9b82"
      },
      "outputs": [],
      "source": [
        "d[\"type\"].value_counts()"
      ]
    },
    {
      "cell_type": "markdown",
      "metadata": {
        "_cell_guid": "9c781001-a507-3856-e54a-2f56829e0ab1"
      },
      "source": [
        "\n",
        "\n",
        "Pivot Table\n",
        "-----------\n"
      ]
    },
    {
      "cell_type": "code",
      "execution_count": null,
      "metadata": {
        "_cell_guid": "ef5bd80e-e8ec-33e0-abf2-832852c05793"
      },
      "outputs": [],
      "source": [
        "# Let's create a pivot table with just EMS\n",
        "# It will be stored in a variable 'pp'\n",
        "g=d[d['type'] == 'EMS' ]\n",
        "p=pd.pivot_table(g, values='e', index=['timeStamp'], columns=['title'], aggfunc=np.sum)\n",
        "\n",
        "# Resampling every week 'W'.  This is very powerful\n",
        "pp=p.resample('W', how=[np.sum]).reset_index()\n",
        "pp.head()"
      ]
    },
    {
      "cell_type": "code",
      "execution_count": null,
      "metadata": {
        "_cell_guid": "476fc6c0-d2ad-f68c-b479-cb19b993ad34"
      },
      "outputs": [],
      "source": [
        "# That \"sum\" column is a pain...remove it\n",
        "\n",
        "# Let's flatten the columns \n",
        "pp.columns = pp.columns.get_level_values(0)\n",
        "\n",
        "pp.head()"
      ]
    },
    {
      "cell_type": "markdown",
      "metadata": {
        "_cell_guid": "2c21e049-f7c3-3521-10ff-1e5ababd91ad"
      },
      "source": [
        "\n",
        "\n",
        "Graphs/Plots\n",
        "------\n"
      ]
    },
    {
      "cell_type": "code",
      "execution_count": null,
      "metadata": {
        "_cell_guid": "120a9465-90ec-a0ff-38f0-71ce73f7c61d"
      },
      "outputs": [],
      "source": [
        "# Red dot with Line\n",
        "fig, ax = plt.subplots()\n",
        "\n",
        "ax.spines[\"top\"].set_visible(False)    \n",
        "ax.spines[\"bottom\"].set_visible(False)    \n",
        "ax.spines[\"right\"].set_visible(False)    \n",
        "ax.spines[\"left\"].set_visible(False)  \n",
        "\n",
        "\n",
        "\n",
        "ax.get_xaxis().tick_bottom()    \n",
        "ax.get_yaxis().tick_left() \n",
        "plt.xticks(fontsize=12) \n",
        "\n",
        "\n",
        "\n",
        "ax.plot_date(pp['timeStamp'], pp['EMS: ASSAULT VICTIM'],'k')\n",
        "ax.plot_date(pp['timeStamp'], pp['EMS: ASSAULT VICTIM'],'ro')\n",
        "\n",
        "\n",
        "ax.set_title(\"EMS: ASSAULT VICTIM\")\n",
        "fig.autofmt_xdate()\n",
        "plt.show()\n",
        "\n",
        "# Note, you'll get a drop at the ends...not a complete week"
      ]
    },
    {
      "cell_type": "code",
      "execution_count": null,
      "metadata": {
        "_cell_guid": "598af8f7-5327-3911-1849-0516547c13cc"
      },
      "outputs": [],
      "source": [
        "# Remove the first and last row\n",
        "pp = pp[pp['timeStamp'] < pp['timeStamp'].max()]\n",
        "pp = pp[pp['timeStamp'] > pp['timeStamp'].min()]"
      ]
    },
    {
      "cell_type": "code",
      "execution_count": null,
      "metadata": {
        "_cell_guid": "494d9ab6-9db3-3f6d-5944-2f4ed3dd31db"
      },
      "outputs": [],
      "source": [
        "# Get the best fitting line\n",
        "\n",
        "# Need to import for legend\n",
        "import matplotlib.lines as mlines\n",
        "\n",
        "# For best fit line\n",
        "from sklearn import linear_model\n",
        "\n",
        "# Red dot with Line\n",
        "fig, ax = plt.subplots()\n",
        "\n",
        "ax.spines[\"top\"].set_visible(False)    \n",
        "ax.spines[\"bottom\"].set_visible(False)    \n",
        "ax.spines[\"right\"].set_visible(False)    \n",
        "ax.spines[\"left\"].set_visible(False)  \n",
        "\n",
        "\n",
        "\n",
        "ax.get_xaxis().tick_bottom()    \n",
        "ax.get_yaxis().tick_left() \n",
        "plt.xticks(fontsize=12) \n",
        "\n",
        "\n",
        "\n",
        "# Build Linear Fit\n",
        "Y = pp['EMS: ASSAULT VICTIM'].values.reshape(-1,1)\n",
        "X=np.arange(Y.shape[0]).reshape(-1,1)\n",
        "model = linear_model.LinearRegression()\n",
        "model.fit(X,Y)\n",
        "m = model.coef_[0][0]\n",
        "c = model.intercept_[0]\n",
        "ax.plot(pp['timeStamp'],model.predict(X), color='blue',\n",
        "         linewidth=2)\n",
        "blue_line = mlines.Line2D([], [], color='blue', label='Linear Fit: y = %2.2fx + %2.2f' % (m,c))\n",
        "ax.legend(handles=[blue_line], loc='best')\n",
        "\n",
        "\n",
        "ax.plot_date(pp['timeStamp'], pp['EMS: ASSAULT VICTIM'],'k')\n",
        "ax.plot_date(pp['timeStamp'], pp['EMS: ASSAULT VICTIM'],'ro')\n",
        "\n",
        "\n",
        "ax.set_title(\"EMS: ASSAULT VICTIM\")\n",
        "fig.autofmt_xdate()\n",
        "plt.show()"
      ]
    },
    {
      "cell_type": "code",
      "execution_count": null,
      "metadata": {
        "_cell_guid": "67a659df-0a6d-8bfd-f17e-90ea1fddf981"
      },
      "outputs": [],
      "source": [
        "\n",
        "# Need to import for legend\n",
        "import matplotlib.lines as mlines\n",
        "\n",
        "fig, ax = plt.subplots()\n",
        "\n",
        "ax.spines[\"top\"].set_visible(False)    \n",
        "ax.spines[\"bottom\"].set_visible(False)    \n",
        "ax.spines[\"right\"].set_visible(False)    \n",
        "ax.spines[\"left\"].set_visible(False)  \n",
        "\n",
        "\n",
        "ax.get_xaxis().tick_bottom()    \n",
        "ax.get_yaxis().tick_left() \n",
        "plt.xticks(fontsize=12) \n",
        "\n",
        "\n",
        "ax.plot_date(pp['timeStamp'], pp['EMS: ASSAULT VICTIM'],'k')\n",
        "ax.plot_date(pp['timeStamp'], pp['EMS: ASSAULT VICTIM'],'ro')\n",
        "\n",
        "\n",
        "ax.plot_date(pp['timeStamp'], pp['EMS: VEHICLE ACCIDENT'],'g')\n",
        "ax.plot_date(pp['timeStamp'], pp['EMS: VEHICLE ACCIDENT'],'bo')\n",
        "\n",
        "\n",
        "ax.set_title(\"EMS: ASSAULT VICTIM vs  EMS: VEHICLE ACCIDENT\")\n",
        "\n",
        "\n",
        "# Legend Stuff\n",
        "green_line = mlines.Line2D([], [], color='green', marker='o',markerfacecolor='blue',\n",
        "                          markersize=7, label='EMS: VEHICLE ACCIDENT')\n",
        "black_line = mlines.Line2D([], [], color='black', marker='o',markerfacecolor='darkred',\n",
        "                          markersize=7, label='EMS: ASSAULT VICTIM')\n",
        "\n",
        "ax.legend(handles=[green_line,black_line], loc='best')\n",
        "\n",
        "\n",
        "fig.autofmt_xdate()\n",
        "plt.show()\n",
        "\n",
        "# Note scale hides the assault increase "
      ]
    },
    {
      "cell_type": "markdown",
      "metadata": {
        "_cell_guid": "1504b699-7152-9c63-af25-a0d1179c5896"
      },
      "source": [
        "## Functions -- Probably more useful ##"
      ]
    },
    {
      "cell_type": "code",
      "execution_count": null,
      "metadata": {
        "_cell_guid": "fa8cb1ff-0290-846e-3481-d8a55b4bbbab"
      },
      "outputs": [],
      "source": [
        "from sklearn import linear_model\n",
        "import matplotlib.lines as mlines\n",
        "\n",
        "def plotWLine(category='EMS: ASSAULT VICTIM'):\n",
        "\n",
        "    \n",
        "    fig, ax = plt.subplots()\n",
        "\n",
        "    ax.spines[\"top\"].set_visible(False)    \n",
        "    ax.spines[\"bottom\"].set_visible(False)    \n",
        "    ax.spines[\"right\"].set_visible(False)    \n",
        "    ax.spines[\"left\"].set_visible(False)  \n",
        "\n",
        "\n",
        "\n",
        "    ax.get_xaxis().tick_bottom()    \n",
        "    ax.get_yaxis().tick_left() \n",
        "    plt.xticks(fontsize=12) \n",
        "\n",
        "\n",
        "\n",
        "    # Build Linear Fit\n",
        "    Y = pp[category].values.reshape(-1,1)\n",
        "    X=np.arange(Y.shape[0]).reshape(-1,1)\n",
        "    model = linear_model.LinearRegression()\n",
        "    model.fit(X,Y)\n",
        "    m = model.coef_[0][0]\n",
        "    c = model.intercept_[0]\n",
        "    ax.plot(pp['timeStamp'],model.predict(X), color='blue',\n",
        "             linewidth=2)\n",
        "    blue_line = mlines.Line2D([], [], color='blue', label='Linear Fit: y = %2.2fx + %2.2f' % (m,c))\n",
        "    \n",
        "\n",
        "    \n",
        "    # Robustly fit linear model with RANSAC algorithm\n",
        "    model_ransac = linear_model.RANSACRegressor(linear_model.LinearRegression(),random_state=23)\n",
        "    model_ransac.fit(X, Y)\n",
        "    mr = model_ransac.estimator_.coef_[0][0]\n",
        "    cr = model_ransac.estimator_.intercept_[0]\n",
        "    ax.plot(pp['timeStamp'],model_ransac.predict(X), color='green',\n",
        "             linewidth=2)\n",
        "    green_line = mlines.Line2D([], [], color='green', label='RANSAC Fit: y = %2.2fx + %2.2f' % (mr,cr))\n",
        "\n",
        "\n",
        "    \n",
        "    ax.legend(handles=[blue_line,green_line], loc='best')\n",
        "    \n",
        "\n",
        "    ax.plot_date(pp['timeStamp'], pp[category],'k')\n",
        "    ax.plot_date(pp['timeStamp'], pp[category],'ro')\n",
        "\n",
        "\n",
        "    ax.set_title(category)\n",
        "    fig.autofmt_xdate()\n",
        "    plt.show()\n",
        "    print('\\n')\n",
        "\n",
        "\n",
        "    \n",
        "def plot2WLine(cat1='EMS: ASSAULT VICTIM',cat2='EMS: VEHICLE ACCIDENT'):\n",
        "    \n",
        "    fig, ax = plt.subplots()\n",
        "\n",
        "    ax.spines[\"top\"].set_visible(False)    \n",
        "    ax.spines[\"bottom\"].set_visible(False)    \n",
        "    ax.spines[\"right\"].set_visible(False)    \n",
        "    ax.spines[\"left\"].set_visible(False)  \n",
        "\n",
        "\n",
        "\n",
        "    ax.get_xaxis().tick_bottom()    \n",
        "    ax.get_yaxis().tick_left() \n",
        "    plt.xticks(fontsize=12) \n",
        "\n",
        "    \n",
        "\n",
        "    ax.plot_date(pp['timeStamp'], pp[cat1],'k')\n",
        "    ax.plot_date(pp['timeStamp'], pp[cat1],'ro')\n",
        "\n",
        "\n",
        "    ax.plot_date(pp['timeStamp'], pp[cat2],'g')\n",
        "    ax.plot_date(pp['timeStamp'], pp[cat2],'bo')\n",
        "\n",
        "\n",
        "    \n",
        "    \n",
        "# Build Linear Fit\n",
        "    \n",
        "    # cat 1\n",
        "    Y = pp[cat1].values.reshape(-1,1)\n",
        "    X=np.arange(Y.shape[0]).reshape(-1,1)\n",
        "    model = linear_model.LinearRegression()\n",
        "    model.fit(X,Y)\n",
        "    m = model.coef_[0][0]\n",
        "    c = model.intercept_[0]\n",
        "    ax.plot(pp['timeStamp'],model.predict(X), color='black',\n",
        "             linewidth=2)\n",
        "    \n",
        "    black_line = mlines.Line2D([], [], color='black', marker='o',markerfacecolor='darkred',\n",
        "                               markersize=7,\n",
        "                               label='%s, y = %2.2fx + %2.2f' % (cat1,m,c))\n",
        "  \n",
        "    # cat 2\n",
        "    Y = pp[cat2].values.reshape(-1,1)\n",
        "    X=np.arange(Y.shape[0]).reshape(-1,1)\n",
        "    model = linear_model.LinearRegression()\n",
        "    model.fit(X,Y)\n",
        "    m = model.coef_[0][0]\n",
        "    c = model.intercept_[0]\n",
        "    ax.plot(pp['timeStamp'],model.predict(X), color='green',\n",
        "             linewidth=2)\n",
        "    \n",
        "    green_line = mlines.Line2D([], [], color='green',marker='o',markerfacecolor='blue',\n",
        "                          markersize=7, label='%s, y = %2.2fx + %2.2f' % (cat2,m,c))\n",
        "  \n",
        " \n",
        "    \n",
        "    ax.set_title(cat1 + ' vs ' + cat2)\n",
        "    ax.legend(handles=[green_line,black_line], loc='best')\n",
        "\n",
        "    fig.autofmt_xdate()\n",
        "    plt.show()\n",
        "    print('\\n')\n",
        "       \n",
        "    \n",
        "# Create some plots\n",
        "plotWLine('EMS: RESPIRATORY EMERGENCY')\n",
        "plotWLine('EMS: NAUSEA/VOMITING')\n",
        "plotWLine('EMS: CARDIAC EMERGENCY')\n",
        "plotWLine('EMS: FALL VICTIM')\n",
        "plotWLine('EMS: HEMORRHAGING')\n",
        "plotWLine('EMS: ALLERGIC REACTION')\n",
        "\n",
        "\n",
        "\n",
        "\n",
        "\n",
        "\n",
        "plot2WLine(cat1='EMS: ASSAULT VICTIM',cat2='EMS: VEHICLE ACCIDENT')"
      ]
    },
    {
      "cell_type": "markdown",
      "metadata": {
        "_cell_guid": "515da475-100c-96b8-3f5f-3fc5df666e45"
      },
      "source": [
        "\n",
        "\n",
        "Percent Change\n",
        "--------------\n"
      ]
    },
    {
      "cell_type": "code",
      "execution_count": null,
      "metadata": {
        "_cell_guid": "766b2510-d614-d291-f8be-bb919be5c560"
      },
      "outputs": [],
      "source": [
        "# Get percent change\n",
        "pp['EMS: ASSAULT VICTIM pc']=pp[('EMS: ASSAULT VICTIM')].pct_change(periods=1)\n",
        "\n",
        "pp[['timeStamp','EMS: ASSAULT VICTIM pc','EMS: ASSAULT VICTIM']].head(6)"
      ]
    },
    {
      "cell_type": "markdown",
      "metadata": {
        "_cell_guid": "44bc30ac-e0ac-84ea-1198-7ceaad40333c"
      },
      "source": [
        "## Seaborn Heatmap ##"
      ]
    },
    {
      "cell_type": "code",
      "execution_count": null,
      "metadata": {
        "_cell_guid": "452aa7ff-054f-974f-9485-523adb439283"
      },
      "outputs": [],
      "source": [
        "# Vehicle Accident -- yes, there is FIRE; maybe we should have include?\n",
        "# Put this in a variable 'g'\n",
        "g = d[(d.title.str.match(r'EMS:.*VEHICLE ACCIDENT.*') | d.title.str.match(r'Traffic:.*VEHICLE ACCIDENT.*'))]\n",
        "g['Month'] = g['timeStamp'].apply(lambda x: x.strftime('%m %B'))\n",
        "g['Hour'] = g['timeStamp'].apply(lambda x: x.strftime('%H'))\n",
        "p=pd.pivot_table(g, values='e', index=['Month'] , columns=['Hour'], aggfunc=np.sum)\n",
        "p.head()"
      ]
    },
    {
      "cell_type": "code",
      "execution_count": null,
      "metadata": {
        "_cell_guid": "d5d1055b-c6e5-d1cf-472c-692c09812a27"
      },
      "outputs": [],
      "source": [
        "cmap = sns.cubehelix_palette(light=2, as_cmap=True)\n",
        "ax = sns.heatmap(p,cmap = cmap)\n",
        "ax.set_title('Vehicle  Accidents - All Townships ');"
      ]
    }
  ],
  "metadata": {
    "_change_revision": 0,
    "_is_fork": false,
    "kernelspec": {
      "display_name": "Python 3",
      "language": "python",
      "name": "python3"
    },
    "language_info": {
      "codemirror_mode": {
        "name": "ipython",
        "version": 3
      },
      "file_extension": ".py",
      "mimetype": "text/x-python",
      "name": "python",
      "nbconvert_exporter": "python",
      "pygments_lexer": "ipython3",
      "version": "3.6.0"
    }
  },
  "nbformat": 4,
  "nbformat_minor": 0
}