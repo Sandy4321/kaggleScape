{
  "cells": [
    {
      "cell_type": "markdown",
      "metadata": {
        "_cell_guid": "40d1bd74-2c2a-3053-1a56-7f3de0dc6408"
      },
      "source": [
        "## Global Imports ##"
      ]
    },
    {
      "cell_type": "code",
      "execution_count": null,
      "metadata": {
        "_cell_guid": "78d5fd9d-4ea5-b972-1fb5-84034546f3ce"
      },
      "outputs": [],
      "source": [
        "\n",
        "\n",
        "import pylab\n",
        "import calendar\n",
        "import numpy as np\n",
        "import pandas as pd\n",
        "import seaborn as sn\n",
        "from scipy import stats\n",
        "import missingno as msno\n",
        "from datetime import datetime\n",
        "import matplotlib.pyplot as plt\n",
        "%matplotlib inline"
      ]
    },
    {
      "cell_type": "markdown",
      "metadata": {
        "_cell_guid": "f4177a0c-6004-b20b-0c5d-47cfaf15b170"
      },
      "source": [
        "## Reading Training Dataset ##"
      ]
    },
    {
      "cell_type": "code",
      "execution_count": null,
      "metadata": {
        "_cell_guid": "5c47128f-586b-972b-0296-1b2043abe568"
      },
      "outputs": [],
      "source": [
        "data = pd.read_json(\"../input/train.json\")"
      ]
    },
    {
      "cell_type": "markdown",
      "metadata": {
        "_cell_guid": "6b800b39-b264-7533-8773-4f79987d01c0"
      },
      "source": [
        "## Lets Describe Data A Bit ##"
      ]
    },
    {
      "cell_type": "code",
      "execution_count": null,
      "metadata": {
        "_cell_guid": "7a592cdf-4d47-326b-a52d-08740485e6ab"
      },
      "outputs": [],
      "source": [
        "data.head()"
      ]
    },
    {
      "cell_type": "code",
      "execution_count": null,
      "metadata": {
        "_cell_guid": "dd12bad8-5714-68cc-543d-84834b6c965f"
      },
      "outputs": [],
      "source": [
        "data.describe()"
      ]
    },
    {
      "cell_type": "markdown",
      "metadata": {
        "_cell_guid": "f629773f-b5a5-1348-63f9-f61f43876f1f"
      },
      "source": [
        "## Lets See If We Have Any Missing Values In The Data ##"
      ]
    },
    {
      "cell_type": "code",
      "execution_count": null,
      "metadata": {
        "_cell_guid": "278dfb52-c95d-c4b9-ff40-322bd8162c80"
      },
      "outputs": [],
      "source": [
        "msno.matrix(data,figsize=(13,3))"
      ]
    },
    {
      "cell_type": "markdown",
      "metadata": {
        "_cell_guid": "471e7abe-ef53-44b1-9607-c121e0cf5e7e"
      },
      "source": [
        "The data looks clean as there are no missing values in the any column"
      ]
    },
    {
      "cell_type": "markdown",
      "metadata": {
        "_cell_guid": "21269607-8536-dda6-0c5a-0192d1d86f41"
      },
      "source": [
        "## Visualizing Distribution Of Price Before and After Removing Outliers ##"
      ]
    },
    {
      "cell_type": "code",
      "execution_count": null,
      "metadata": {
        "_cell_guid": "26130e47-ee38-d915-c65f-804deb8960d5"
      },
      "outputs": [],
      "source": [
        "dataPriceLimited = data.copy()\n",
        "upperLimit = np.percentile(dataPriceLimited.price.values, 99)\n",
        "dataPriceLimited['price'].ix[dataPriceLimited['price']>upperLimit] = upperLimit\n",
        "fig,(ax1,ax2)= plt.subplots(ncols=2)\n",
        "fig.set_size_inches(13,5)\n",
        "sn.distplot(data.price.values, bins=50, kde=True,ax=ax1)\n",
        "sn.distplot(dataPriceLimited.price.values, bins=50, kde=True,ax=ax2)"
      ]
    },
    {
      "cell_type": "markdown",
      "metadata": {
        "_cell_guid": "f0cd18fa-c278-64d3-9108-fae4fe5cf296"
      },
      "source": [
        "## Visualizing Outliers In Data ##\n",
        "Lets understand what category of interest level contribute more to outliers in price"
      ]
    },
    {
      "cell_type": "code",
      "execution_count": null,
      "metadata": {
        "_cell_guid": "aea1933a-2f67-f6d5-bbd7-8499bb85db9c"
      },
      "outputs": [],
      "source": [
        "fig, (axes) = plt.subplots(nrows=2,ncols=2)\n",
        "fig.set_size_inches(13, 8)\n",
        "sn.boxplot(data=data,y=\"price\",orient=\"v\",ax=axes[0][0])\n",
        "sn.boxplot(data=data,y=\"price\",x=\"interest_level\",orient=\"v\",ax=axes[0][1])\n",
        "sn.boxplot(data=dataPriceLimited,y=\"price\",orient=\"v\",ax=axes[1][0])\n",
        "sn.boxplot(data=dataPriceLimited,y=\"price\",x=\"interest_level\",orient=\"v\",ax=axes[1][1])"
      ]
    },
    {
      "cell_type": "markdown",
      "metadata": {
        "_cell_guid": "b1af1dcf-2a78-9685-a97c-5f801af81ce4"
      },
      "source": [
        "The price contains few outliers which skews the distribution towards the right. But when we split the data by interest level it is clearly visible the skewness is purely caused by price points in 'Low' interest level."
      ]
    },
    {
      "cell_type": "markdown",
      "metadata": {
        "_cell_guid": "ba547735-9463-cdf4-6a3c-6d5799f383ac"
      },
      "source": [
        "## Visualizing Interest Level Vs Price ##"
      ]
    },
    {
      "cell_type": "code",
      "execution_count": null,
      "metadata": {
        "_cell_guid": "dfc806b8-53b5-aa3a-d3ae-b85afe0aeb59"
      },
      "outputs": [],
      "source": [
        "fig,(ax1,ax2)= plt.subplots(ncols=2)\n",
        "fig.set_size_inches(13,5)\n",
        "\n",
        "interestGroupedData = pd.DataFrame(data.groupby(\"interest_level\")[\"price\"].mean()).reset_index()\n",
        "interestGroupedSortedData = interestGroupedData.sort_values(by=\"price\",ascending=False)\n",
        "sn.barplot(data=interestGroupedSortedData,x=\"interest_level\",y=\"price\",ax=ax1,orient=\"v\")\n",
        "ax1.set(xlabel='Interest Level', ylabel='Average Price',title=\"Average Price Across Interest Level\")\n",
        "\n",
        "interestData = pd.DataFrame(data.interest_level.value_counts())\n",
        "interestData[\"interest_level_original\"] = interestData.index\n",
        "sn.barplot(data=interestData,x=\"interest_level_original\",y=\"interest_level\",ax=ax2,orient=\"v\")\n",
        "ax2.set(xlabel='Interest Level', ylabel='Interest Level Frequency',title= \"Frequency By Interest Level\")"
      ]
    },
    {
      "cell_type": "markdown",
      "metadata": {
        "_cell_guid": "58baea3d-9729-c956-9d3f-71650403dd00"
      },
      "source": [
        "It can be clearly visible from above two graphs\n",
        "\n",
        " 1. People showed low interest to high priced rental Listing and vice versa\n",
        " 2. Distribution of dataset by interest level contains more of interest level \"Low\""
      ]
    },
    {
      "cell_type": "markdown",
      "metadata": {
        "_cell_guid": "3d5142a7-1f87-1ec5-0508-d438e9e35521"
      },
      "source": [
        "## Visuallizing Interest Level Vs Bathroom ##"
      ]
    },
    {
      "cell_type": "code",
      "execution_count": null,
      "metadata": {
        "_cell_guid": "dad93aea-479d-fa83-fbb2-0a485c1a8c08"
      },
      "outputs": [],
      "source": [
        "fig,(ax1,ax2)= plt.subplots(nrows=2)\n",
        "fig.set_size_inches(13,8)\n",
        "\n",
        "sn.countplot(x=\"bathrooms\", data=data,ax=ax1)\n",
        "data1 = data.groupby(['bathrooms', 'interest_level'])['bathrooms'].count().unstack('interest_level').fillna(0)\n",
        "data1[['low','medium',\"high\"]].plot(kind='bar', stacked=True,ax=ax2)\n"
      ]
    },
    {
      "cell_type": "markdown",
      "metadata": {
        "_cell_guid": "732f38a8-5b44-1250-92ab-3fdb5befafd6"
      },
      "source": [
        "## Visualizing Interest Level Vs Bedrooms ##"
      ]
    },
    {
      "cell_type": "code",
      "execution_count": null,
      "metadata": {
        "_cell_guid": "e48ecc97-1a9a-d8f6-7417-8febcfda228b"
      },
      "outputs": [],
      "source": [
        "fig,(ax1,ax2)= plt.subplots(nrows=2)\n",
        "fig.set_size_inches(13,8)\n",
        "\n",
        "sn.countplot(x=\"bedrooms\", data=data,ax=ax1)\n",
        "data1 = data.groupby(['bedrooms', 'interest_level'])['bedrooms'].count().unstack('interest_level').fillna(0)\n",
        "data1[['low','medium',\"high\"]].plot(kind='bar', stacked=True,ax=ax2)"
      ]
    },
    {
      "cell_type": "markdown",
      "metadata": {
        "_cell_guid": "8304cbec-5dde-5261-0189-6e7578c3067b"
      },
      "source": [
        "## Visualizing Interest Level Vs Hour ##"
      ]
    },
    {
      "cell_type": "code",
      "execution_count": null,
      "metadata": {
        "_cell_guid": "f74ae610-9337-67c6-1792-467c8d659408"
      },
      "outputs": [],
      "source": [
        "data[\"created\"] = pd.to_datetime(data[\"created\"])\n",
        "data[\"hour\"] = data[\"created\"].dt.hour\n",
        "fig,(ax1,ax2)= plt.subplots(nrows=2)\n",
        "fig.set_size_inches(13,8)\n",
        "\n",
        "sn.countplot(x=\"hour\", data=data,ax=ax1)\n",
        "\n",
        "data1 = data.groupby(['hour', 'interest_level'])['hour'].count().unstack('interest_level').fillna(0)\n",
        "data1[['low','medium',\"high\"]].plot(kind='bar', stacked=True,ax=ax2,)\n"
      ]
    },
    {
      "cell_type": "markdown",
      "metadata": {
        "_cell_guid": "6fdc6192-bb40-c618-a372-1e21460aea61"
      },
      "source": [
        "## Bedrooms Vs Bathrooms Vs Interest Level ##"
      ]
    },
    {
      "cell_type": "code",
      "execution_count": null,
      "metadata": {
        "_cell_guid": "a387008c-eea0-8b41-7f83-922656d230cf"
      },
      "outputs": [],
      "source": [
        "fig,(ax1)= plt.subplots()\n",
        "fig.set_size_inches(13,8)\n",
        "ax1.scatter(data[data['interest_level']==\"low\"]['bedrooms'],data[data['interest_level']==\"low\"]['bathrooms'],c='green',s=40)\n",
        "ax1.scatter(data[data['interest_level']==\"medium\"]['bedrooms'],data[data['interest_level']==\"medium\"]['bathrooms'],c='red',s=40)\n",
        "ax1.scatter(data[data['interest_level']==\"high\"]['bedrooms'],data[data['interest_level']==\"high\"]['bathrooms'],c='blue',s=80)\n",
        "ax1.set_xlabel('Bedrooms')\n",
        "ax1.set_ylabel('Bathrooms')\n",
        "ax1.legend(('Low','Medium','High'),scatterpoints=1,loc='upper right',fontsize=15,)"
      ]
    },
    {
      "cell_type": "markdown",
      "metadata": {
        "_cell_guid": "02f88dd9-378f-d750-07ab-b83304f3d1a0"
      },
      "source": [
        "It can be visible from the above chart people show \"High\" interest level when the  no of bedrooms are on par with no of bathrooms. The blue diagonal dots gives evidence for it."
      ]
    },
    {
      "cell_type": "markdown",
      "metadata": {
        "_cell_guid": "98a661b7-428a-810f-35a7-9b438df5b477"
      },
      "source": [
        "## Correlation Between Price and Other Features ##\n",
        "\n",
        "Since price has got high impact with Interest Level. It is interesting to understand what other features correlate with price"
      ]
    },
    {
      "cell_type": "code",
      "execution_count": null,
      "metadata": {
        "_cell_guid": "41e1f313-f869-af55-f8ab-7f283c186e69"
      },
      "outputs": [],
      "source": [
        "corrMatt = data[[\"bedrooms\",\"bathrooms\",\"price\"]].corr()\n",
        "mask = np.array(corrMatt)\n",
        "mask[np.tril_indices_from(mask)] = False\n",
        "fig,ax= plt.subplots()\n",
        "fig.set_size_inches(20,10)\n",
        "sn.heatmap(corrMatt, mask=mask,vmax=.8, square=True,annot=True)"
      ]
    },
    {
      "cell_type": "markdown",
      "metadata": {
        "_cell_guid": "abe555a2-ac78-009b-ad0b-2bc98e30e146"
      },
      "source": [
        "Bedroom and Bathroom has got less correlation with price. But it is common than price of the property tend to increase as the no of bathroom and bedroom increases. It looks some other variable like location (latitude and longitude) and feature may got high impact on price than the above features."
      ]
    },
    {
      "cell_type": "markdown",
      "metadata": {
        "_cell_guid": "6da3b9d5-79fa-5131-fed1-0c23c2c0a370"
      },
      "source": [
        "## Kindly Upvote if you like the notebook  ##"
      ]
    },
    {
      "cell_type": "code",
      "execution_count": null,
      "metadata": {
        "_cell_guid": "95aca1d1-744f-8e9f-0a74-9fdf652dd319"
      },
      "outputs": [],
      "source": [
        ""
      ]
    }
  ],
  "metadata": {
    "_change_revision": 0,
    "_is_fork": false,
    "kernelspec": {
      "display_name": "Python 3",
      "language": "python",
      "name": "python3"
    },
    "language_info": {
      "codemirror_mode": {
        "name": "ipython",
        "version": 3
      },
      "file_extension": ".py",
      "mimetype": "text/x-python",
      "name": "python",
      "nbconvert_exporter": "python",
      "pygments_lexer": "ipython3",
      "version": "3.6.0"
    }
  },
  "nbformat": 4,
  "nbformat_minor": 0
}