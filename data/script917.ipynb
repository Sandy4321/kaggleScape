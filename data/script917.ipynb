{
  "cells": [
    {
      "cell_type": "markdown",
      "metadata": {
        "_cell_guid": "5b9a878c-1216-8b4a-043d-f3de9caf11b6"
      },
      "source": [
        "The Standard\n",
        "============\n",
        "\n",
        "[http://dicom.nema.org/standard.html][1]\n",
        "\n",
        "\n",
        "  [1]: http://dicom.nema.org/standard.html"
      ]
    },
    {
      "cell_type": "code",
      "execution_count": null,
      "metadata": {
        "_cell_guid": "09bedc92-5332-b35c-e29d-3f5d60689995"
      },
      "outputs": [],
      "source": [
        "import numpy as np\n",
        "import pandas as pd\n",
        "import dicom, glob\n",
        "import multiprocessing\n",
        "\n",
        "images = sorted(glob.glob('../input/sample_images/**/*.dcm'))\n",
        "#images = glob.glob('../input/stage1/**/*.dcm')\n",
        "images = pd.DataFrame([[i, i.split('/')[3], i.split('/')[4], None, []] for i in images], columns=['path','id','image', 'series_no', 'pixels'])\n",
        "#train = pd.read_csv('../input/stage1_labels.csv')\n",
        "#test = pd.read_csv('../input/stage1_sample_submission.csv')\n",
        "#print(len(images), len(train), len(test))"
      ]
    },
    {
      "cell_type": "code",
      "execution_count": null,
      "metadata": {
        "_cell_guid": "451dd481-8659-a895-2c3a-faf87c98c28c"
      },
      "outputs": [],
      "source": [
        "#https://www.kaggle.com/gzuidhof/data-science-bowl-2017/full-preprocessing-tutorial\n",
        "from skimage import measure, morphology\n",
        "import scipy.ndimage, os\n",
        "import pickle\n",
        "\n",
        "for i in images.id.unique():\n",
        "    i = '0bd0e3056cbf23a1cb7f0f0b18446068' #remove\n",
        "    path = '../input/sample_images/' + i\n",
        "    slices = [dicom.read_file(path + '/' + s) for s in os.listdir(path)]\n",
        "    slices.sort(key = lambda x: int(x.InstanceNumber))\n",
        "    image = np.stack([s.pixel_array for s in slices])\n",
        "    pickle.dump(image, open('' + str(i)+'.pkl', 'wb'))\n",
        "    image = pickle.loads(open('' + str(i)+'.pkl','rb').read())\n",
        "    print(image.shape, i)\n",
        "    break"
      ]
    },
    {
      "cell_type": "code",
      "execution_count": null,
      "metadata": {
        "_cell_guid": "3f9c4e99-7b13-5169-6f0e-92c9f546bc2c"
      },
      "outputs": [],
      "source": [
        "from PIL import Image, ImageDraw\n",
        "from PIL import ImageFont\n",
        "import matplotlib.pyplot as plt\n",
        "%matplotlib inline\n",
        "\n",
        "image = pickle.loads(open('0bd0e3056cbf23a1cb7f0f0b18446068.pkl','rb').read())\n",
        "\n",
        "def set_color(mu):\n",
        "    c = int((550 + mu)/100*255)\n",
        "    return (c,0,c)\n",
        "\n",
        "im = Image.new('RGBA', (int(image.shape[1] + image.shape[0]/10), int(image.shape[2] + image.shape[0]/10)))\n",
        "d = ImageDraw.Draw(im)\n",
        "for z in range(0,image.shape[0], 10):\n",
        "    for x in range(image.shape[2]-10):\n",
        "        for y in range(image.shape[1]-10):\n",
        "            mu = image[z][y][x] -1024\n",
        "            if -550<mu and mu<-450: #lung\n",
        "                im.putpixel((int(x+z/10), int(y+z/10)), set_color(mu))\n",
        "                #fill surrounding\n",
        "                for o1 in range(1,10):\n",
        "                    for o2 in range(1,10):\n",
        "                        mu2 = image[z][y+o1][x+o2] -1024\n",
        "                        if -100<mu2 and mu2<-50: #fat\n",
        "                            im.putpixel((int(x+o1+z/10), int(y+o2+z/10)), (255,182,193))\n",
        "                        if 30<mu2 and mu2<45: #blood\n",
        "                            im.putpixel((int(x+o1+z/10), int(y+o2+z/10)), (255,0,0))\n",
        "                        if -1010<mu2 and mu2<-990: #air\n",
        "                            im.putpixel((int(x+o1+z/10), int(y+o2+z/10)), (135,206,235))\n",
        "            if mu>500: #bone\n",
        "                im.putpixel((int(x+z/10), int(y+z/10)), (35,35,35))\n",
        "plt.imshow(im); plt.axis('off')"
      ]
    }
  ],
  "metadata": {
    "_change_revision": 0,
    "_is_fork": false,
    "kernelspec": {
      "display_name": "Python 3",
      "language": "python",
      "name": "python3"
    },
    "language_info": {
      "codemirror_mode": {
        "name": "ipython",
        "version": 3
      },
      "file_extension": ".py",
      "mimetype": "text/x-python",
      "name": "python",
      "nbconvert_exporter": "python",
      "pygments_lexer": "ipython3",
      "version": "3.6.0"
    }
  },
  "nbformat": 4,
  "nbformat_minor": 0
}