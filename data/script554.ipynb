{
  "cells": [
    {
      "cell_type": "markdown",
      "metadata": {
        "_cell_guid": "8258924a-f7e2-f75b-c757-13b1f443dedf"
      },
      "source": [
        "# Beginners Tutorial: Analyze guns deaths in the US w/ Python\n",
        "## Analyzation Gun Deaths in the US: 2012-2014"
      ]
    },
    {
      "cell_type": "markdown",
      "metadata": {
        "_cell_guid": "ba141c56-4b81-1c0d-6cf1-eec5db0be7d9"
      },
      "source": [
        "This analyzation inspects gun-death in the US in the years 2012-2014. The data originated from the CDC. I came across this thanks to FiveThirtyEight's [Gun Deaths in America][1] project. The data can be found [here][2].\n",
        "\n",
        "  [1]: https://fivethirtyeight.com/features/gun-deaths/\n",
        "  [2]: https://github.com/fivethirtyeight/guns-data\n",
        "\n",
        "This notebook was made for learning purposes. It definitely served its purpuse and I hope others can make use of it. I believe a beginner can learn a lot from it. \n",
        "\n",
        "**If you're here for the visualizations: skip to the \"Visualization\" part. "
      ]
    },
    {
      "cell_type": "markdown",
      "metadata": {
        "_cell_guid": "7513a572-9a5e-bdee-266c-4eb9bdd0d2c9"
      },
      "source": [
        "## 1. Importing, cleaning and getting familiar with the data"
      ]
    },
    {
      "cell_type": "code",
      "execution_count": null,
      "metadata": {
        "_cell_guid": "45cbd274-164d-ef41-d930-038205f557e4"
      },
      "outputs": [],
      "source": [
        "import pandas as pd\n",
        "import numpy as np\n",
        "import warnings\n",
        "warnings.filterwarnings('ignore')"
      ]
    },
    {
      "cell_type": "code",
      "execution_count": null,
      "metadata": {
        "_cell_guid": "15e9cb4c-c7c7-c23d-96c0-c984f23a2886"
      },
      "outputs": [],
      "source": [
        "guns = pd.read_csv('../input/guns.csv', index_col=0)\n",
        "print(guns.shape)\n",
        "guns.head()"
      ]
    },
    {
      "cell_type": "markdown",
      "metadata": {
        "_cell_guid": "b9ec629d-7ab5-928e-5b3f-1b80a85c7ef6"
      },
      "source": [
        "Our data has almost 101,000 rows (gun death incidents) and 10 columns (categories).\n",
        "\n",
        "Here's an explanation of each column:\n",
        "\n",
        "- **' '**: this is an identifier column, which contains the row number. It's common in CSV files to include a unique identifier for each row, but we can ignore it in this analysis.\n",
        "- **year**: the year in which the fatality occurred.\n",
        "- **month**: the month in which the fatality occurred.\n",
        "- **intent**: the intent of the perpetrator of the crime. This can be Suicide, Accidental, NA, Homicide, or Undetermined.\n",
        "- **police**: whether a police officer was involved with the shooting. Either 0 (false) or 1 (true).\n",
        "- **sex**: the gender of the victim. Either M or F.\n",
        "- **age**: the age of the victim.\n",
        "- **race**: the race of the victim. Either Asian/Pacific Islander, Native American/Native Alaskan, Black, Hispanic, or White.\n",
        "- **hispanic**: a code indicating the Hispanic origin of the victim.\n",
        "- **place**: where the shooting occurred. Has several categories, which you're encouraged to explore on your own.\n",
        "- **education**: educational status of the victim. Can be one of the following:\n",
        "    + **1**: Less than High School\n",
        "    + **2**: Graduated from High School or equivalent\n",
        "    + **3**: Some College\n",
        "    + **4**: At least graduated from College\n",
        "    + **5**: Not available\n",
        "\n",
        "It's good practice to get to know our data set before begining to analyze. "
      ]
    },
    {
      "cell_type": "code",
      "execution_count": null,
      "metadata": {
        "_cell_guid": "a7785cee-02f9-247d-aa17-23062b3c0171"
      },
      "outputs": [],
      "source": [
        "guns.index.name = 'Index'\n",
        "guns.head()"
      ]
    },
    {
      "cell_type": "code",
      "execution_count": null,
      "metadata": {
        "_cell_guid": "79907cdc-a192-fb8f-1a08-34c5be6bd6bf"
      },
      "outputs": [],
      "source": [
        "# for readability and concistency - capitalizing column names\n",
        "guns.columns = map(str.capitalize, guns.columns)\n",
        "guns.columns"
      ]
    },
    {
      "cell_type": "code",
      "execution_count": null,
      "metadata": {
        "_cell_guid": "056d18b2-4217-7f85-b679-b6dc983e74f6"
      },
      "outputs": [],
      "source": [
        "guns.dtypes"
      ]
    },
    {
      "cell_type": "markdown",
      "metadata": {
        "_cell_guid": "38d3e797-32b8-9532-cda8-aca8ecb310c5"
      },
      "source": [
        "The float values in the education column could indicate there are NaN valuse, since every category is a whole number [1,2,3,4,5].\n",
        "\n",
        "**Incompeteness/ Completeness**: checking to see how much of the data is NaN is important in order to know if the column is usefull/ useless."
      ]
    },
    {
      "cell_type": "code",
      "execution_count": null,
      "metadata": {
        "_cell_guid": "b47bf8fb-1c5f-b818-eda0-a5a2dc56b49a"
      },
      "outputs": [],
      "source": [
        "guns.notnull().sum()"
      ]
    },
    {
      "cell_type": "code",
      "execution_count": null,
      "metadata": {
        "_cell_guid": "97150759-5979-27ab-b600-2356fc9cc299"
      },
      "outputs": [],
      "source": [
        "# In order to see the percentage of valid data:\n",
        "guns.notnull().sum() * 100.0/guns.shape[0]"
      ]
    },
    {
      "cell_type": "markdown",
      "metadata": {
        "_cell_guid": "18c378cf-6905-7414-4b58-63f8252ca710"
      },
      "source": [
        "It seems that most of the columns have a at least 98.6% of the values - which means the data is close to complete (unlike real world data). That means we could probably delete all rows with NaN values and still not loose that much of our potential insights.\n",
        "\n",
        "Let's try to substitute as many NaN's as we can with real value, and then delete the rows we couldn't fill."
      ]
    },
    {
      "cell_type": "code",
      "execution_count": null,
      "metadata": {
        "_cell_guid": "6b614b40-4714-22c2-dace-c4fba06665a4"
      },
      "outputs": [],
      "source": [
        "# Organizing the data by a column value: first by the year, then by month:\n",
        "guns.sort_values(['Year', 'Month'], inplace=True)\n",
        "guns.head(10)"
      ]
    },
    {
      "cell_type": "markdown",
      "metadata": {
        "_cell_guid": "d275ba59-ffe8-57d7-b0f5-237247bed1d7"
      },
      "source": [
        "For me, the most interesting column is 'Intent'. This is what I would want to predict."
      ]
    },
    {
      "cell_type": "markdown",
      "metadata": {
        "_cell_guid": "449669d7-160f-312a-efc6-aefa67a1d09f"
      },
      "source": [
        "## 2. Exploring and analyzing the data"
      ]
    },
    {
      "cell_type": "code",
      "execution_count": null,
      "metadata": {
        "_cell_guid": "fdc91553-e2b2-cacb-16f4-130fc746131f"
      },
      "outputs": [],
      "source": [
        "guns.Intent.value_counts(ascending=False)"
      ]
    },
    {
      "cell_type": "code",
      "execution_count": null,
      "metadata": {
        "_cell_guid": "2690fc53-fc3d-d7a1-bc49-3f26011a000d"
      },
      "outputs": [],
      "source": [
        "# Looking at the normalized values makes the picture clearer.\n",
        "# Note: 'normalize=False' excludes the 'NaN's where here it includes them\n",
        "guns.Intent.value_counts(ascending=False, dropna=False, normalize=True)"
      ]
    },
    {
      "cell_type": "markdown",
      "metadata": {
        "_cell_guid": "96559359-32b6-bbf0-9185-c2511d817aad"
      },
      "source": [
        "It is interesting that while suicide does not sound like the most common gun death in the US, it amounted to almost 2/3 of the gun deaths in 2012-2014. Yet the media tend to give more coverage to homicides.\n",
        "Off topic: If this interest you, I recommend listening to The suicide paradox on the amazing podcast Freakonomics.\n",
        "The describe() method can give us an overview of numerical columns. Since most columns are categorical, we can use it on the 'age' and 'education' columns."
      ]
    },
    {
      "cell_type": "code",
      "execution_count": null,
      "metadata": {
        "_cell_guid": "2c584327-1394-4f25-7d1b-778c14f8dba1"
      },
      "outputs": [],
      "source": [
        "cols = ['Education', 'Age']\n",
        "for col in cols:\n",
        "    print(col + ':')\n",
        "    print(guns[col].describe())\n",
        "    print('-' * 20 + '\\n')"
      ]
    },
    {
      "cell_type": "code",
      "execution_count": null,
      "metadata": {
        "_cell_guid": "9c62e6ee-9d28-35f6-f9cd-8086d0e949fa"
      },
      "outputs": [],
      "source": [
        "percentiles = np.arange(0.1,1.1,0.1)\n",
        "for col in cols:\n",
        "    print(col + ':')\n",
        "    print(guns[col][guns[col].notnull()].describe(percentiles=percentiles))\n",
        "    print('-' * 20 + '\\n')"
      ]
    },
    {
      "cell_type": "markdown",
      "metadata": {
        "_cell_guid": "5ad02e49-179a-998b-b6da-1c8caea5e205"
      },
      "source": [
        "Cleaning 'Education' column: Notice that the minimum age is 0. Let's check how many of the gun incidents resulted in the deaths of children under the age of 16:"
      ]
    },
    {
      "cell_type": "code",
      "execution_count": null,
      "metadata": {
        "_cell_guid": "4d7b9b1f-4ac3-f93e-4c7a-bb75cf5f7511"
      },
      "outputs": [],
      "source": [
        "guns[guns['Age'] < 16].shape"
      ]
    },
    {
      "cell_type": "code",
      "execution_count": null,
      "metadata": {
        "_cell_guid": "f130fe0d-65ba-e012-6dc4-90e48263a5ff"
      },
      "outputs": [],
      "source": [
        "# We can see more info if we filter only those cases:\n",
        "guns[guns['Age'] < 16].head()"
      ]
    },
    {
      "cell_type": "markdown",
      "metadata": {
        "_cell_guid": "d3dd0e83-3c2b-3216-e61a-c134c69e7ab3"
      },
      "source": [
        "Converting NaN values in 'education' column: Since we have only 11 entries with NaN, we could just throw them away, but for practice - let's try to fill in real data in its place. Note, that if it was a larger proportion (say >5%) and you were using for Machine Learning you might want to figure out a way to fill in the information in some manner.\n",
        "Notice that in the education columns - a lot of these children have 'NaN' or the value 5.0 (= Not available). Let's assume all the children under 16 had education 1.0 (= Less than high school), and fill in this data accordingly:"
      ]
    },
    {
      "cell_type": "code",
      "execution_count": null,
      "metadata": {
        "_cell_guid": "461083d7-02c8-6c08-02a6-549266bc260d"
      },
      "outputs": [],
      "source": [
        "guns[(guns['Age'] < 16) & ((guns['Education'].isnull()) | (guns['Education'] == 5.0))].head()"
      ]
    },
    {
      "cell_type": "code",
      "execution_count": null,
      "metadata": {
        "_cell_guid": "affb3fe6-8ffb-0d75-e706-7eac82defe2f"
      },
      "outputs": [],
      "source": [
        "index_temp = guns[(guns['Age'] < 16) & \n",
        "                  ((guns['Education'].isnull()) | (guns['Education'] == 5.0))].index\n",
        "guns.loc[index_temp, 'Education'] = 1.0\n",
        "guns[guns.Education.isnull()].shape"
      ]
    },
    {
      "cell_type": "markdown",
      "metadata": {
        "_cell_guid": "efde6a13-d640-3988-c294-c208fbfaec08"
      },
      "source": [
        "In fact, having a 2 year old catagorized under the same education level as a 16 year old (1.0= Under high schools) does not make sence. Let's catagorize children under 5 as 0.0 (= Less than elementary school)."
      ]
    },
    {
      "cell_type": "code",
      "execution_count": null,
      "metadata": {
        "_cell_guid": "7b676f1b-8db1-ddbc-31cc-8a93d962efe7"
      },
      "outputs": [],
      "source": [
        "index_temp = guns[(guns['Age'] < 5)].index\n",
        "guns.loc[index_temp, 'Education'] = 0.0\n",
        "guns.Education.describe()"
      ]
    },
    {
      "cell_type": "code",
      "execution_count": null,
      "metadata": {
        "_cell_guid": "c2597916-6b80-5bc4-eeb2-8f8aea9ef771"
      },
      "outputs": [],
      "source": [
        "# Let's get rid of rows that has '5.0' (Not available) and NaN in the 'education' column:\n",
        "# subset = can include a list of column names\n",
        "guns.dropna(inplace=True)\n",
        "guns = guns[guns.Education != 5.0]"
      ]
    },
    {
      "cell_type": "code",
      "execution_count": null,
      "metadata": {
        "_cell_guid": "617ab9d8-ee05-35ff-b8ba-277bfd5805cf"
      },
      "outputs": [],
      "source": [
        "guns.Education.value_counts()"
      ]
    },
    {
      "cell_type": "markdown",
      "metadata": {
        "_cell_guid": "e406b100-c505-dc2c-c727-8d606550e439"
      },
      "source": [
        "Another way to get insights about the DataFrame is to look at the unique() values in the columns. I chose to leave out the columns 'age' and index:"
      ]
    },
    {
      "cell_type": "code",
      "execution_count": null,
      "metadata": {
        "_cell_guid": "6667617e-eb73-b6d1-8fc0-32fee4991106"
      },
      "outputs": [],
      "source": [
        "for col in guns.columns:\n",
        "    if col not in ['Age', '']:\n",
        "        print(col, ': ', guns[col].unique())"
      ]
    },
    {
      "cell_type": "markdown",
      "metadata": {
        "_cell_guid": "c51dd326-6839-9803-89ad-0ea6ed093cde"
      },
      "source": [
        "### Gender numeric comparison\n",
        "This will be easier to see in the visualizations, but here's a first look at the gender distribution of our data."
      ]
    },
    {
      "cell_type": "code",
      "execution_count": null,
      "metadata": {
        "_cell_guid": "94c7d68b-c172-e315-4477-c795bd5ca0bb"
      },
      "outputs": [],
      "source": [
        "guns.Sex.value_counts()"
      ]
    },
    {
      "cell_type": "markdown",
      "metadata": {
        "_cell_guid": "03860c6f-695c-96a5-4318-7c66a1b9e565"
      },
      "source": [
        "We can use this column to split the percentage of Male/Female death cases:"
      ]
    },
    {
      "cell_type": "code",
      "execution_count": null,
      "metadata": {
        "_cell_guid": "fe211461-c724-9509-3693-059f3cf168b4"
      },
      "outputs": [],
      "source": [
        "guns.Sex.value_counts(normalize=True)"
      ]
    },
    {
      "cell_type": "markdown",
      "metadata": {
        "_cell_guid": "53c44e82-a36b-782c-ccb3-9895d9d00f0a"
      },
      "source": [
        "The normalized values and the count values seem similar since there are close to 100,000 rows in the data set.\n",
        "\n",
        "### Here are a few questions to practice basic pandas and numpy methods:\n",
        "\n",
        "**Question:** Compare yearly number of deaths: rising or decending?"
      ]
    },
    {
      "cell_type": "code",
      "execution_count": null,
      "metadata": {
        "_cell_guid": "13bc4740-1a3d-ccde-a12b-d577c09cc9f8"
      },
      "outputs": [],
      "source": [
        "guns.Year.value_counts(sort=False)"
      ]
    },
    {
      "cell_type": "code",
      "execution_count": null,
      "metadata": {
        "_cell_guid": "5acb21c4-0933-94c8-edd2-08766cd4c2e6"
      },
      "outputs": [],
      "source": [
        "# evaluating the percentage change between years\n",
        "n2012 = guns[2012 == guns['Year']].shape[0]\n",
        "(guns.Year.value_counts(sort=False) - n2012) * 100./ n2012"
      ]
    },
    {
      "cell_type": "markdown",
      "metadata": {
        "_cell_guid": "e8ef55bb-689f-8887-070f-30fce699b7a7"
      },
      "source": [
        "**Answer:** Seems like it stays about the same. The change does not look significant (<0.3%) by looking at the values.\n",
        "\n",
        "**Question:** Are there certain months with significally more/less gun deaths than others?"
      ]
    },
    {
      "cell_type": "code",
      "execution_count": null,
      "metadata": {
        "_cell_guid": "1f899ae1-2163-f123-9d65-22da44c7a3c4"
      },
      "outputs": [],
      "source": [
        "guns.Month.value_counts(sort=True)"
      ]
    },
    {
      "cell_type": "code",
      "execution_count": null,
      "metadata": {
        "_cell_guid": "1202c8c4-ecac-7c58-62ec-4cd9d94f21f5"
      },
      "outputs": [],
      "source": [
        "nexpected_month = guns.shape[0]/12.\n",
        "(guns.Month.value_counts(sort=True) - nexpected_month) * 100./nexpected_month"
      ]
    },
    {
      "cell_type": "markdown",
      "metadata": {
        "_cell_guid": "0b350c66-8891-2c4c-1ce8-d21fe9e706c2"
      },
      "source": [
        "**Answer:** It seems February has around 15% less gun deaths than the expected (Is it its length, the weather, a different reason or a combination of all? If we want to further investigate this - we can to look at the 'location' column to see if most gun deaths in certain months occured outside/inside).\n",
        "\n",
        "Also, we see July has 7% more than expected year-wide, way above anything month.\n",
        "This is not accurate since we're not taking in account the number of days in each month. We could devide it by number of days in each month, but 2012 was a leap year which changes the number for february.\n",
        "\n",
        "The best practice is to convert the month values to datetime objects.\n",
        "\n",
        "**Season/Month analysis:** Since we're dealing with dates, let's arrange the data by year and month:"
      ]
    },
    {
      "cell_type": "code",
      "execution_count": null,
      "metadata": {
        "_cell_guid": "1d6054c6-b537-e389-19ac-aa83aebe68d4"
      },
      "outputs": [],
      "source": [
        "guns.sort_values(['Year', 'Month'], inplace=True)\n",
        "guns.head()"
      ]
    },
    {
      "cell_type": "markdown",
      "metadata": {
        "_cell_guid": "b50bff74-5fbb-46d0-a4aa-a5c977ae96f2"
      },
      "source": [
        "A date object implies year, month and day. We cannot create a datetime object without a day, but for the sake of practice - let's combine the 2 date values (of type int64) into one datetime object, and assign '1' in the day value."
      ]
    },
    {
      "cell_type": "code",
      "execution_count": null,
      "metadata": {
        "_cell_guid": "295ab7dc-5456-5def-ec5f-cd60d22b03ef"
      },
      "outputs": [],
      "source": [
        "import datetime\n",
        "# The purpose of *10000 and the *100 are to convert 2012, 01, 01 into 20120101 for readability\n",
        "guns['Date'] = pd.to_datetime((guns.Year * 10000 + guns.Month * 100 + 1).apply(str),format='%Y%m%d')\n",
        "guns.dtypes.tail(1)"
      ]
    },
    {
      "cell_type": "code",
      "execution_count": null,
      "metadata": {
        "_cell_guid": "8df6de23-c32c-a78d-ecc7-fa62aaff12ae"
      },
      "outputs": [],
      "source": [
        "# now that we're done with these columns:\n",
        "del guns['Year']\n",
        "del guns['Month']\n",
        "guns.head()"
      ]
    },
    {
      "cell_type": "code",
      "execution_count": null,
      "metadata": {
        "_cell_guid": "829a376d-e9fd-d7e5-a346-d69fdecf5db4"
      },
      "outputs": [],
      "source": [
        "import calendar\n",
        "monthly_rates = pd.DataFrame(guns.groupby('Date').size(), columns=['Count'])\n",
        "monthly_rates.index.to_datetime\n",
        "print(monthly_rates.index.dtype)\n",
        "print(monthly_rates.shape)\n",
        "monthly_rates.head()"
      ]
    },
    {
      "cell_type": "code",
      "execution_count": null,
      "metadata": {
        "_cell_guid": "8bc0db68-3ed2-4602-a70a-d43b4103603c"
      },
      "outputs": [],
      "source": [
        "days_per_month = []\n",
        "for val in monthly_rates.index:\n",
        "    days_per_month.append(calendar.monthrange(val.year, val.month)[1])\n",
        "monthly_rates['Days_per_month'] = days_per_month\n",
        "monthly_rates.head()"
      ]
    },
    {
      "cell_type": "markdown",
      "metadata": {
        "_cell_guid": "594ab2bd-4994-8700-29db-7bab188b0453"
      },
      "source": [
        "Note: another way to do this is to set the 'day' in each date as the last day of each month [instead of the first day]. This way we have the length of the month in the day field and don't need 'monthrange'. However, having a '01' in each of the datetime objects make it look more consistent and less random, in my view. As long as we remember that the values refer to the whole month."
      ]
    },
    {
      "cell_type": "code",
      "execution_count": null,
      "metadata": {
        "_cell_guid": "a5c91168-92a1-5679-f0f0-1283565c963a"
      },
      "outputs": [],
      "source": [
        "monthly_rates['Average_per_day'] = monthly_rates['Count']*1./monthly_rates['Days_per_month']\n",
        "print(monthly_rates.shape)\n",
        "monthly_rates.tail()"
      ]
    },
    {
      "cell_type": "code",
      "execution_count": null,
      "metadata": {
        "_cell_guid": "e1751f0c-53f5-7c05-04f4-f420f29b8508"
      },
      "outputs": [],
      "source": [
        "month_rate_dict = {}\n",
        "for i in range(1,13):\n",
        "    bool_temp = monthly_rates.index.month == i\n",
        "    month_average = (sum(monthly_rates.loc[bool_temp, 'Average_per_day']))/3.\n",
        "    month_rate_dict[i] = month_average\n",
        "# avg_month_rate = pd.DataFrame.from_dict(month_rate_dict)\n",
        "# python 2: \n",
        "# avg_month_rate = pd.DataFrame(month_rate_dict.items(), columns=['Month', 'Value'])\n",
        "avg_month_rate = pd.DataFrame.from_dict(list(month_rate_dict.items()))\n",
        "avg_month_rate.columns = ['Month', 'Value']\n",
        "avg_month_rate"
      ]
    },
    {
      "cell_type": "code",
      "execution_count": null,
      "metadata": {
        "_cell_guid": "d466322c-cf2f-0b89-4977-7839f09edb6c"
      },
      "outputs": [],
      "source": [
        "# calculating the expected cases for each day [+1. becuase 2012 was a leap year]\n",
        "nexpected_day = guns.shape[0]/(365*3 + 1.)\n",
        "nexpected_day"
      ]
    },
    {
      "cell_type": "code",
      "execution_count": null,
      "metadata": {
        "_cell_guid": "d2e1a32d-6e56-1e1b-f3f0-eff347f8cc43"
      },
      "outputs": [],
      "source": [
        "avg_month_rate['Percent_change'] = (avg_month_rate.Value - nexpected_day) * 100./ nexpected_day\n",
        "print(avg_month_rate.sort('Percent_change'))"
      ]
    },
    {
      "cell_type": "markdown",
      "metadata": {
        "_cell_guid": "b5666d95-2249-b9f8-3f5d-6abcffb9a7eb"
      },
      "source": [
        "Now that we have the daily average, we can say with more certainty that July (~(+5.3%)) and June (~(+4.6%)) have higher gun death rate than the rest of the months, while February (~(-9%)) has significantly lower amount of guns deaths (but not 15% lower as the 'rough analysis' from before showed).\n",
        "\n",
        "**Question:** What percentage of cases were police officers involved in?"
      ]
    },
    {
      "cell_type": "code",
      "execution_count": null,
      "metadata": {
        "_cell_guid": "529a30d2-564c-c263-4ff5-bc73c5550bc4"
      },
      "outputs": [],
      "source": [
        "100 * guns.Police.value_counts(normalize=True)"
      ]
    },
    {
      "cell_type": "markdown",
      "metadata": {
        "_cell_guid": "ef3b1583-815c-cce3-de38-3661ea8c8820"
      },
      "source": [
        "Seeing this kind of distribution means this column does not give us any additional information about the cases and we can remove it all together."
      ]
    },
    {
      "cell_type": "code",
      "execution_count": null,
      "metadata": {
        "_cell_guid": "961d256f-80e8-b8be-1c44-fd1061237252"
      },
      "outputs": [],
      "source": [
        "del guns['Police']\n",
        "print(guns.shape)\n",
        "guns.head()"
      ]
    },
    {
      "cell_type": "markdown",
      "metadata": {
        "_cell_guid": "e2023352-35d0-ea1d-ea35-f71bb6c418e7"
      },
      "source": [
        "**Question:** Which race appears the most in the df and which appears the least?"
      ]
    },
    {
      "cell_type": "code",
      "execution_count": null,
      "metadata": {
        "_cell_guid": "789deb53-d6b3-e447-23a0-3e25d310f3c7"
      },
      "outputs": [],
      "source": [
        "guns.Race.value_counts(sort=True, normalize=True)"
      ]
    },
    {
      "cell_type": "markdown",
      "metadata": {
        "_cell_guid": "556f8b61-049d-d75a-959b-6d24f8cfbd4d"
      },
      "source": [
        "**Answer:** We can not conclude anything by those numbers unless we take in account the distribution of races in the US population.\n",
        "\n",
        "**Question:** How do you sample a dataframe?\n",
        "\n",
        "**Answer:**"
      ]
    },
    {
      "cell_type": "code",
      "execution_count": null,
      "metadata": {
        "_cell_guid": "91b276a5-5186-f87f-1f57-d85d16350c3f"
      },
      "outputs": [],
      "source": [
        "# a sample of about 10% of the data may look like this:\n",
        "sample_guns = guns.sample(n=10000)\n",
        "sample_guns.head()"
      ]
    },
    {
      "cell_type": "code",
      "execution_count": null,
      "metadata": {
        "_cell_guid": "56f83ee2-11e0-9627-732e-38fc79b5c796"
      },
      "outputs": [],
      "source": [
        "# we can look at the M/F distribution, in order to make sure it's similar to the original data\n",
        "sample_guns.Sex.value_counts(normalize=True)"
      ]
    },
    {
      "cell_type": "markdown",
      "metadata": {
        "_cell_guid": "75f08fc8-f6e0-2bb7-fee6-503213b7a5cc"
      },
      "source": [
        "**Question:** How do you define a categorical columns/pd.Series? E.g please order guns['intent'] by this order: 'Homicide','Suicide','Accidental','Undetermined'"
      ]
    },
    {
      "cell_type": "code",
      "execution_count": null,
      "metadata": {
        "_cell_guid": "0f868733-b54f-3c6e-a35e-e175406474be"
      },
      "outputs": [],
      "source": [
        "list_ordered = ['Homicide','Suicide','Accidental','Undetermined']\n",
        "guns['Intent'] = guns['Intent'].astype('category')\n",
        "guns.Intent.cat.set_categories(list_ordered, inplace=True)\n",
        "guns.sort_values(['Intent']).head()"
      ]
    },
    {
      "cell_type": "markdown",
      "metadata": {
        "_cell_guid": "2ee45bda-32a4-05cc-68b3-96500664d3af"
      },
      "source": [
        "We can treat 'Undetermined' values in the 'intent' column as NaN and drop those rows, since these values do not give us any additional info and they are less than 1% of the rows (798/ about 100,000)."
      ]
    },
    {
      "cell_type": "code",
      "execution_count": null,
      "metadata": {
        "_cell_guid": "07625dc1-ad18-8b11-02b5-29944729e1f8"
      },
      "outputs": [],
      "source": [
        "guns.Intent.value_counts()"
      ]
    },
    {
      "cell_type": "markdown",
      "metadata": {
        "_cell_guid": "49435ade-a81d-bfea-a700-e83d9adcd504"
      },
      "source": [
        "Let's take those lines also out of our df.\n",
        "Note: my assumption in dropping these values is that my prediction model would try to predict the 'intent' column, and 'Undetermined' cases have no value for that process. If you're predicting a different column - you may want to leave these values in the df."
      ]
    },
    {
      "cell_type": "code",
      "execution_count": null,
      "metadata": {
        "_cell_guid": "875136af-19cc-25e7-41ee-e0627cef4693"
      },
      "outputs": [],
      "source": [
        "guns = guns[guns.Intent != 'Undetermined']\n",
        "guns.Intent.value_counts()"
      ]
    },
    {
      "cell_type": "markdown",
      "metadata": {
        "_cell_guid": "91732958-50ad-fdbf-d885-fd3d3e3261df"
      },
      "source": [
        "Note: Converting NaNs highly depends on context:\n",
        "It Might (rarely) contain information and hence it's own category\n",
        "Sometimes you want to take it out totally when either plottting or training in machine learning\n",
        "Other times, when machine learning with sparse data you might want to fill the values. That, of course depends on context\n",
        "Question: Why does 'Undetermined' still appears in the value_counts() with 0 count?\n",
        "Answer: We defined labels for the 'intent' column earlier. We need to remove 'Undetermined' from 'list_ordered' for the intent column. Otherwise pandas will keep listing it as if it is part of our DF with 0 counts."
      ]
    },
    {
      "cell_type": "code",
      "execution_count": null,
      "metadata": {
        "_cell_guid": "b18f6b34-a517-27a1-beac-9c534cddaac1"
      },
      "outputs": [],
      "source": [
        "# removing last value in list ordered - which is 'Undetermined'\n",
        "list_ordered = list_ordered[:-1]\n",
        "guns.Intent.cat.set_categories(list_ordered, inplace=True)\n",
        "guns.Intent.value_counts()"
      ]
    },
    {
      "cell_type": "markdown",
      "metadata": {
        "_cell_guid": "a58bdecc-376d-68d1-1dc7-8e6a0385172a"
      },
      "source": [
        "**Question:** Given a Series which contains strings, how do you find the length of each of the strings?"
      ]
    },
    {
      "cell_type": "code",
      "execution_count": null,
      "metadata": {
        "_cell_guid": "6e57d5ce-ebc9-8cfe-e3d9-f447e7b89564"
      },
      "outputs": [],
      "source": [
        "guns.Race.str.len().unique()"
      ]
    },
    {
      "cell_type": "code",
      "execution_count": null,
      "metadata": {
        "_cell_guid": "d3c22971-6392-e2d0-c9f8-ba522ce60e15"
      },
      "outputs": [],
      "source": [
        "guns.Race.unique()"
      ]
    },
    {
      "cell_type": "markdown",
      "metadata": {
        "_cell_guid": "6417fea0-0698-0f6b-2bfb-c1341f4a3fc1"
      },
      "source": [
        "**Question:** For the same series, how do you know if any given entry contains a string segment. E.g: Which entries int the 'intent' column contain the segment 'cide'?"
      ]
    },
    {
      "cell_type": "code",
      "execution_count": null,
      "metadata": {
        "_cell_guid": "dbf5711b-be94-71b5-d50d-62652eddfcc6"
      },
      "outputs": [],
      "source": [
        "guns.Intent.str.contains('cide').sum()"
      ]
    },
    {
      "cell_type": "markdown",
      "metadata": {
        "_cell_guid": "f454d6e5-c508-4487-7c4e-7a355cee7458"
      },
      "source": [
        "**Suggestion for further analysis:** Use census data to get the precentahge of each race name in the population in order to normalize the data."
      ]
    },
    {
      "cell_type": "markdown",
      "metadata": {
        "_cell_guid": "fb8f3e66-e4b4-9343-a351-c86c00f9d84e"
      },
      "source": [
        "## 3. Visualizing the data \n",
        "\n",
        "We can quickly find patterns in the visual information we encounter. However, our ability to quickly process symbolic values (like numbers and words) is very poor. Data visualization focuses on transforming data from table representations visual ones. By noticing visual patterns, we may have a good indication about correlations before moving to our prediction part of the analyzation.\n",
        "\n",
        "Let's import the pyplot library, some extra styles and show the plots inline the Jupyter notebook."
      ]
    },
    {
      "cell_type": "code",
      "execution_count": null,
      "metadata": {
        "_cell_guid": "ef067338-542a-8517-2dde-163d44fade6c"
      },
      "outputs": [],
      "source": [
        "import matplotlib.pyplot as plt\n",
        "import seaborn as sns\n",
        "sns.set(style='white', color_codes=True)\n",
        "%matplotlib inline"
      ]
    },
    {
      "cell_type": "markdown",
      "metadata": {
        "_cell_guid": "5e528343-0b84-6360-afed-a96f767f82c3"
      },
      "source": [
        "### Line Charts / Time analysis\n",
        "\n",
        "**Line charts** work best when there is a logical connection between adjacent points. When dealing with dates, line charts are an appropriate choise for visualizing because the rows had a natural ordering to it. Each row reflected information about an event that occurred after the previous row (if the df is ordered by date).\n",
        "\n",
        "To emphasize how the visual representation of the line chart helps us observe trends easily, let's look at the same 36 data points from 2012 to the end of 2014 as a line chart.\n",
        "\n",
        "To create a line chart of the unemployment data from 2012, we need:\n",
        "- the x-axis to range from 2012-01-01 to 2014-12-01\n",
        "- the y-axis to range from 2357 to 3079 (which correspond to the minimum and maximum death incident values)\n",
        "We don't have to specify the values. we pass in the list of x-values as the first parameter and the list of y-values as the second parameter to plot().\n",
        "\n",
        "Let's begin with a yearly plot:"
      ]
    },
    {
      "cell_type": "code",
      "execution_count": null,
      "metadata": {
        "_cell_guid": "67cd25b2-3109-64f6-fc61-7ba77ba4e629"
      },
      "outputs": [],
      "source": [
        "# 2012\n",
        "plt.plot(monthly_rates.index[:12], monthly_rates['Count'][:12], \n",
        "         linestyle='--', linewidth=3., alpha=0.6)\n",
        "plt.xticks(rotation=70)\n",
        "plt.tick_params(axis='both', which='both',length=0)\n",
        "plt.show()"
      ]
    },
    {
      "cell_type": "code",
      "execution_count": null,
      "metadata": {
        "_cell_guid": "70e40d2d-137b-f758-3f9e-5347216a5f7a"
      },
      "outputs": [],
      "source": [
        "# notice the y column in the previous plot begins at 2200; \n",
        "# Let's look at the real picture from 0 \n",
        "plt.plot(monthly_rates.index[:12], monthly_rates['Count'][:12],\n",
        "        linestyle='--', linewidth=3., alpha=0.6)\n",
        "plt.xticks(rotation=70)\n",
        "plt.ylim(ymin=0, ymax=3500)\n",
        "plt.tick_params(axis='both', which='both',length=0)\n",
        "plt.xlabel('Month', fontsize=14)\n",
        "plt.ylabel('Gun Deaths\\ncount', fontsize=14)\n",
        "plt.title('Monthly Gun Death Count in the US, 2012', fontsize=14, fontweight='bold')\n",
        "sns.despine()\n",
        "plt.show()"
      ]
    },
    {
      "cell_type": "code",
      "execution_count": null,
      "metadata": {
        "_cell_guid": "91b61e17-9d22-e4a9-2c51-8a4b05f4eb37"
      },
      "outputs": [],
      "source": [
        "# year 2013:\n",
        "plt.plot(monthly_rates.index[12:24], monthly_rates['Count'][12:24],\n",
        "        linestyle='--', linewidth=3., alpha=0.6, color='r')\n",
        "plt.xticks(rotation=70)\n",
        "plt.ylim(ymin=0, ymax=3500)\n",
        "plt.tick_params(axis='both', which='both',length=0)\n",
        "plt.xlabel('Month', fontsize=14)\n",
        "plt.ylabel('Gun Death\\ncount', fontsize=14)\n",
        "plt.title('Monthly Gun Death Count in the US, 2013', fontsize=14, fontweight='bold')\n",
        "sns.despine()\n",
        "plt.show()"
      ]
    },
    {
      "cell_type": "code",
      "execution_count": null,
      "metadata": {
        "_cell_guid": "65d7fd3c-df7d-1e51-b94c-4d73b2022feb"
      },
      "outputs": [],
      "source": [
        "# year 2014:\n",
        "plt.plot(monthly_rates.index[24:], monthly_rates['Count'][24:],\n",
        "        linestyle='--', linewidth=3., alpha=0.6, color='g')\n",
        "plt.xticks(rotation=70)\n",
        "plt.ylim(ymin=0, ymax=3500)\n",
        "plt.tick_params(axis='both', which='both',length=0)\n",
        "plt.xlabel('Month', fontsize=14)\n",
        "plt.ylabel('Gun Death\\nCount', fontsize=14)\n",
        "plt.title('Monthly Gun Death Count in the US, 2014', fontsize=14, fontweight='bold')\n",
        "sns.despine()\n",
        "plt.show()"
      ]
    },
    {
      "cell_type": "markdown",
      "metadata": {
        "_cell_guid": "7d0d49fe-7c80-5f6e-ccdb-870cc57ad18c"
      },
      "source": [
        "Let's print them on the same plot in order to compare:"
      ]
    },
    {
      "cell_type": "code",
      "execution_count": null,
      "metadata": {
        "_cell_guid": "a29824d8-93f4-ef76-d4bf-90c26cc2ed1c"
      },
      "outputs": [],
      "source": [
        "# years 2012 - 2014\n",
        "# Changing linestyle to a constant line = seeing intersections more clearly\n",
        "fig = plt.figure()\n",
        "plt.plot(monthly_rates.index.month[0:12], monthly_rates['Count'][0:12], label='2012',\n",
        "        linestyle='-', linewidth=2., alpha=0.6)\n",
        "plt.plot(monthly_rates.index.month[12:24], monthly_rates['Count'][12:24], label='2013',\n",
        "        linestyle='-', linewidth=2., alpha=0.6, color='r')\n",
        "plt.plot(monthly_rates.index.month[24:36], monthly_rates['Count'][24:36], label='2014',\n",
        "        linestyle='-', linewidth=2., alpha=0.6, color='g')\n",
        "plt.xlim(xmin=1, xmax=12)\n",
        "plt.ylim(ymax=max(monthly_rates['Count'])+100)\n",
        "plt.tick_params(axis='both', which='both',length=0)\n",
        "plt.xticks(np.arange(1, 13, 1))\n",
        "plt.legend(loc='upper left', frameon=False)\n",
        "plt.xlabel('Month', fontsize=14)\n",
        "plt.ylabel('Gun Death\\nCount', fontsize=14)\n",
        "plt.title('Monthly Gun Death Count in the US: 2012-2014', fontsize=14, fontweight='bold')\n",
        "sns.despine()\n",
        "plt.show()"
      ]
    },
    {
      "cell_type": "markdown",
      "metadata": {
        "_cell_guid": "27c14a74-8c98-02b2-3f07-526c81524e0a"
      },
      "source": [
        "But this is a distorted look on the data. It's important our axis starts from 0. Also, let's not repeat ourselves and enlarge the plot:"
      ]
    },
    {
      "cell_type": "code",
      "execution_count": null,
      "metadata": {
        "_cell_guid": "85cfc84b-d69f-c886-4064-0944fecc09f5"
      },
      "outputs": [],
      "source": [
        "fig = plt.figure(figsize=(10,6))\n",
        "\n",
        "colors = ['b', 'r', 'g']\n",
        "labels = ['2012', '2013', '2014']\n",
        "\n",
        "for i in range(len(labels)):\n",
        "    start_index = i*12\n",
        "    end_index = (i+1)*12\n",
        "    subset = monthly_rates[start_index:end_index]\n",
        "    plt.plot(subset.index.month, subset['Count'], color=colors[i], label=labels[i],\n",
        "            linestyle='-', linewidth=2., alpha=0.6)\n",
        "\n",
        "plt.xlim(xmin=1, xmax=12)\n",
        "plt.ylim(ymin=0, ymax=max(monthly_rates['Count'])+100)\n",
        "plt.tick_params(axis='both', which='both',length=0)\n",
        "plt.xticks(np.arange(1, 13, 1))\n",
        "plt.legend(loc='center right', frameon=False)\n",
        "plt.xlabel('Month', fontsize=14)\n",
        "plt.ylabel('Number of Gun Death Count', fontsize=14)\n",
        "plt.title('Monthly Gun Death Count in the US: 2012-2014', fontsize=14, fontweight='bold')\n",
        "sns.despine()\n",
        "plt.show()"
      ]
    },
    {
      "cell_type": "markdown",
      "metadata": {
        "_cell_guid": "8236e959-3b53-9232-4446-f07875e57baf"
      },
      "source": [
        "The trend of deaths does not seem to vary significantly over the years. There is a recurring phenomenon of very low number of incidents during february. July has the highest rate of gun deaths in 2012 and 2013, but it is not the case in 2014.\n",
        "\n",
        "### Bar Plots\n",
        "\n",
        "When we need visualization that scales graphical objects to the quantitative values we're interested in comparing - we can use a **bar plot**.\n",
        "\n",
        "Let's look at the 'intent' division with inner gender ['sex'] division."
      ]
    },
    {
      "cell_type": "code",
      "execution_count": null,
      "metadata": {
        "_cell_guid": "8c108f1f-5f42-a9f6-c118-598a6905879b"
      },
      "outputs": [],
      "source": [
        "intent_sex = guns.groupby(['Intent', 'Sex'])['Intent'].count().unstack('Sex')\n",
        "ax = intent_sex.plot(kind='bar', stacked=True, alpha=0.7)\n",
        "ax.set_xlabel('Intent', fontsize=14)\n",
        "ax.set_ylabel('Count', fontsize=14)\n",
        "plt.xticks(rotation=0)\n",
        "plt.tick_params(axis='both', which='both',length=0)\n",
        "ax.legend(labels=['Female', 'Male'], frameon=False, loc=0)\n",
        "plt.title('Gender distribution\\nGun Deaths US: 2012-2014', fontsize=14, fontweight='bold')\n",
        "sns.despine()\n",
        "plt.show()"
      ]
    },
    {
      "cell_type": "markdown",
      "metadata": {
        "_cell_guid": "d2db3e5e-3db0-198e-bfc5-b98497cab823"
      },
      "source": [
        "There are far more male incidents than female. From this visual we can infer that it will be hard to learn from 'Accidental' cases since there is so little of them.\n",
        "\n",
        "We can look at a similar split to get a sence of the education of the victims:"
      ]
    },
    {
      "cell_type": "code",
      "execution_count": null,
      "metadata": {
        "_cell_guid": "d45dad47-9577-ce8f-9c37-2082beef3be5"
      },
      "outputs": [],
      "source": [
        "intent_edu = guns.groupby(['Intent', 'Education'])['Intent'].count().unstack('Education')\n",
        "# creating a range of 5 colors - from light to dark\n",
        "edu_legend_labels = ['Less than\\nElementry school','Less than \\nHigh School', 'Graduated from\\nHigh School\\nor equivalent', \n",
        "                 'Some College', 'At least\\ngraduated\\nfrom College']\n",
        "colors = plt.cm.GnBu(np.linspace(0, 1, 5))\n",
        "ax = intent_edu.plot(kind='bar', stacked=True, color=colors, width=0.5, alpha=0.6)\n",
        "plt.xticks(rotation=0)\n",
        "ax.set_xlabel('Intent', fontsize=14)\n",
        "ax.set_ylabel('Count', fontsize=14)\n",
        "plt.tick_params(axis='both', which='both',length=0)\n",
        "ax.legend(edu_legend_labels, ncol=1, frameon=False, prop={'size':10}, loc=0)\n",
        "plt.ylim(ymin=0, ymax=90000)\n",
        "plt.title('Education distribution\\n in Gun Deaths US: 2012-2014', fontsize=14, fontweight='bold')\n",
        "sns.despine()\n",
        "plt.show()"
      ]
    },
    {
      "cell_type": "markdown",
      "metadata": {
        "_cell_guid": "72dfa1f5-7a42-f052-53ad-c2e61f0cf0f2"
      },
      "source": [
        "But this is too crowded, so let's make it horizontal and spread it out a bit:"
      ]
    },
    {
      "cell_type": "code",
      "execution_count": null,
      "metadata": {
        "_cell_guid": "23548637-988f-e7b3-5e84-8e67271e0a89"
      },
      "outputs": [],
      "source": [
        "intent_edu = guns.groupby(['Intent', 'Education'])['Intent'].count().unstack('Education')\n",
        "ax = intent_edu.plot(kind='barh', figsize=(15,6), stacked=True, color=colors, alpha=0.6)\n",
        "ax.set_xlabel('Count', fontsize=20)\n",
        "ax.set_ylabel('Intent', fontsize=20)\n",
        "ax.legend(edu_legend_labels, loc=0,  prop={'size':12}, frameon=False)\n",
        "plt.xlim(xmin=0, xmax=80000)\n",
        "plt.tick_params(axis='both', which='both',length=0)\n",
        "plt.title('Education distribution\\nin Gun Deaths US: 2012-2014', fontsize=20, fontweight='bold')\n",
        "sns.despine()\n",
        "plt.show()"
      ]
    },
    {
      "cell_type": "code",
      "execution_count": null,
      "metadata": {
        "_cell_guid": "16ee7bc1-ad76-4b68-4e21-591a9a4f0bea"
      },
      "outputs": [],
      "source": [
        "1# the percentage visual is more informative\n",
        "education = pd.crosstab(guns.Education, guns.Intent)\n",
        "education.div(education.sum(1).astype(float), axis=0).plot(kind='bar', stacked=True, alpha=0.6)\n",
        "plt.title('Intent Percentage by Education')\n",
        "plt.xlabel('Education level')\n",
        "plt.ylabel('Percentage')\n",
        "plt.legend(loc='upper center', bbox_to_anchor=(1.1,0.9))\n",
        "sns.despine()"
      ]
    },
    {
      "cell_type": "markdown",
      "metadata": {
        "_cell_guid": "3a01746c-5dcb-5fe2-2778-5c176469c374"
      },
      "source": [
        "Using this split visualization we can see that there is a larger percentage of people with some college education and higher in the suicide gun deaths than in the Homicide incidents. The dark blues are more than a third of the Suicide cases, but only about a quarter of the Homicide cases. This is indication that **'education' could be a helpful variable for our 'intent' prediction.**\n",
        "\n",
        "Again, the Accidental bar does not seem to give us any additional info. It may be useless for our prediction, and we're better off going with binary: 'Suicide' vs. 'Homicide'.\n",
        "\n",
        "Moving on to distribution of location:"
      ]
    },
    {
      "cell_type": "code",
      "execution_count": null,
      "metadata": {
        "_cell_guid": "567708a4-65f1-5847-9e8f-6607817f3d26"
      },
      "outputs": [],
      "source": [
        "intent_place = guns.groupby(['Intent', 'Place'])['Intent'].count().unstack('Place')\n",
        "\n",
        "colors = plt.cm.GnBu(np.linspace(0, 2, 20))\n",
        "ax = intent_place.plot(kind='barh', stacked=True, color=colors, alpha=0.8)\n",
        "ax.set_xlabel('Count', fontsize=14)\n",
        "ax.set_ylabel('Intent', fontsize=14)\n",
        "plt.tick_params(axis='both', which='both', length=0)\n",
        "ax.legend(loc=0, ncol=2, prop={'size':10}, frameon=False)\n",
        "plt.title('Location distribution\\nin Gun Deaths US: 2012-2014', fontsize=14, fontweight='bold')\n",
        "sns.despine()\n",
        "plt.show()"
      ]
    },
    {
      "cell_type": "markdown",
      "metadata": {
        "_cell_guid": "051bf4a5-ff65-cdf0-cda3-a8234ec6b8ba"
      },
      "source": [
        "We can see that most cases of Suicide happen at home. This means that **location could be an important variable when we want to predict intent**. The Accidental column, again, seems too dense to give us any valuble info. \n",
        "\n",
        "It's almost impossible to conclude things about this visualization since there are a lot of values (i.e colors), and this distribution isn't that useful for us. Let's make it better by merging some of the values. "
      ]
    },
    {
      "cell_type": "code",
      "execution_count": null,
      "metadata": {
        "_cell_guid": "32066d7a-a420-a012-6b55-81b1224a5245"
      },
      "outputs": [],
      "source": [
        "guns.Place.value_counts()"
      ]
    },
    {
      "cell_type": "markdown",
      "metadata": {
        "_cell_guid": "649b33d4-e915-440c-bde0-152860a4b4ed"
      },
      "source": [
        "I'm not sure if the values 'other specified' and 'other unspecified' give us any info. We may want to drop this column all together, or chose: Home, Street and other as our 3 values for this."
      ]
    },
    {
      "cell_type": "code",
      "execution_count": null,
      "metadata": {
        "_cell_guid": "35da7819-4e81-b374-ce18-21e5cfb9b4cd"
      },
      "outputs": [],
      "source": [
        "#These are too many categories and it's hard to arrive to conclusions\n",
        "# let's merge 'street' with 'trade/service area' and the rest to 'Other'\n",
        "index_temp = guns[(guns['Place'] == 'Trade/service area') | (guns.Place == 'Industrial/construction')].index\n",
        "guns.loc[index_temp, 'Place'] = 'Street'\n",
        "index_temp = guns[(guns['Place'] != 'Street') & (guns.Place != 'Home')].index\n",
        "guns.loc[index_temp, 'Place'] = 'Other'\n",
        "\n",
        "guns.Place.value_counts()"
      ]
    },
    {
      "cell_type": "code",
      "execution_count": null,
      "metadata": {
        "_cell_guid": "d8d122b8-14a4-dc58-9eb4-a1f7fddadc8d"
      },
      "outputs": [],
      "source": [
        "# Let's take another look:\n",
        "intent_place = guns.groupby(['Intent', 'Place'])['Intent'].count().unstack('Place')\n",
        "colors = plt.cm.GnBu(np.linspace(0,2,6))\n",
        "ax = intent_place.plot(kind='barh', stacked=True, color=colors, alpha=0.6)\n",
        "ax.set_xlabel('Count', fontsize=14)\n",
        "ax.set_ylabel('Intent', fontsize=14)\n",
        "plt.tick_params(axis='both', which='both',length=0)\n",
        "ax.legend(loc='upper right', prop={'size':10}, frameon=False)\n",
        "plt.title('Location distribution\\nin Gun Deaths US: 2012-2014', fontsize=14, fontweight='bold')\n",
        "sns.despine()\n",
        "plt.show()"
      ]
    },
    {
      "cell_type": "code",
      "execution_count": null,
      "metadata": {
        "_cell_guid": "a32c1758-5fc4-6994-297f-7cde91793633"
      },
      "outputs": [],
      "source": [
        "# the percentage visual is more informative\n",
        "place_died = pd.crosstab(guns.Place, guns.Intent)\n",
        "place_died.div(place_died.sum(1).astype(float), axis=0).plot(kind='bar', stacked=True, alpha=0.6)\n",
        "plt.title('Intent Percentage by Place')\n",
        "plt.xlabel('Place of death')\n",
        "plt.ylabel('Percentage')\n",
        "plt.legend(loc='upper center', bbox_to_anchor=(1.1,0.9))\n",
        "sns.despine()"
      ]
    },
    {
      "cell_type": "markdown",
      "metadata": {
        "_cell_guid": "c69d7c3c-9d90-61dc-9793-fd05ddd8ce99"
      },
      "source": [
        "This is far less dense and better for understanding our data. It is not surprising that the minoroty of suicide cases were located in the street, and the majority - at home. Homicide seems to be split 3 ways pretty evenly."
      ]
    },
    {
      "cell_type": "code",
      "execution_count": null,
      "metadata": {
        "_cell_guid": "69a20eea-85cb-99cb-ac17-167078460ad6"
      },
      "outputs": [],
      "source": [
        "# barplot of gender grouped by intent \n",
        "pd.crosstab(guns.Sex, guns.Intent).plot(kind='bar', alpha=0.6)\n",
        "plt.title('Gender Distribution by Intent')\n",
        "plt.xlabel('Gender')\n",
        "plt.ylabel('Frequency')\n",
        "plt.legend(loc=0)\n",
        "sns.despine()\n"
      ]
    },
    {
      "cell_type": "code",
      "execution_count": null,
      "metadata": {
        "_cell_guid": "b6da2335-470f-cb80-74ff-68779517712c"
      },
      "outputs": [],
      "source": [
        "# barplot of education grouped by intent \n",
        "pd.crosstab(guns.Education, guns.Intent).plot(kind='bar', alpha=0.6)\n",
        "plt.title('Education Distribution by Intent')\n",
        "plt.xlabel('Education')\n",
        "plt.ylabel('Frequency')\n",
        "sns.despine()"
      ]
    },
    {
      "cell_type": "markdown",
      "metadata": {
        "_cell_guid": "d21ab7d4-9c17-eabe-5f66-5f7262e2be1c"
      },
      "source": [
        "Let's use a stacked barplot to look at the percentage intent by place of death."
      ]
    },
    {
      "cell_type": "markdown",
      "metadata": {
        "_cell_guid": "e92f7568-f80e-c8ad-520b-6daf279273db"
      },
      "source": [
        "## Histograms\n",
        "\n",
        "We use value counts and **sort_index()** in order to organize the age values according to frequency. "
      ]
    },
    {
      "cell_type": "code",
      "execution_count": null,
      "metadata": {
        "_cell_guid": "c7512040-6af7-7965-624c-90ea089e7bf7"
      },
      "outputs": [],
      "source": [
        "age_freq = guns.Age.value_counts()\n",
        "sorted_age_freq = age_freq.sort_index()\n",
        "sorted_age_freq.head()\n",
        "plt.hist(guns['Age'], range=(0,107), alpha=0.4)\n",
        "plt.tick_params(axis='both', which='both',length=0)\n",
        "plt.xlim(xmin=0, xmax=110)\n",
        "plt.xlabel('Age', fontsize=14)\n",
        "plt.ylabel('Count', fontsize=14)\n",
        "plt.title('Age distribution', fontsize=14, fontweight='bold')\n",
        "sns.despine(bottom=True, left=True)\n",
        "plt.show()"
      ]
    },
    {
      "cell_type": "markdown",
      "metadata": {
        "_cell_guid": "593687a5-969e-be81-68c3-de957c33dcf2"
      },
      "source": [
        "Let's look at the age histogram for the suicide deaths vs. the homicide deaths, and check if there are any evident differences."
      ]
    },
    {
      "cell_type": "code",
      "execution_count": null,
      "metadata": {
        "_cell_guid": "24cbd6a8-dde5-50e5-83bf-2b2eb640284d"
      },
      "outputs": [],
      "source": [
        "fig = plt.figure(figsize=(12,4))\n",
        "ax1 = fig.add_subplot(1,2,1)\n",
        "ax2 = fig.add_subplot(1,2,2)\n",
        "\n",
        "suicide = guns[guns['Intent'] == 'Suicide']\n",
        "homicide = guns[guns['Intent'] == 'Homicide']\n",
        "\n",
        "ax1.hist(suicide.Age, 20, alpha=0.4)\n",
        "ax1.set_title('Suicide gun deaths\\nAge Distribution', fontsize=14, fontweight='bold')\n",
        "ax2.hist(homicide.Age, 20, alpha=0.4)\n",
        "ax2.set_title('Homicide gun deaths\\nAge Distribution', fontsize=14, fontweight='bold')\n",
        "ax1.set_xlabel('Age', fontsize=14)\n",
        "ax2.set_xlabel('Age', fontsize=14)\n",
        "ax1.set_ylabel('Frequency', fontsize=14)\n",
        "ax2.set_ylabel('Frequency', fontsize=14)\n",
        "ax1.tick_params(axis='both', which='both',length=0)\n",
        "ax2.tick_params(axis='both', which='both',length=0)\n",
        "ax1.set_xlim(xmin=0, xmax=110)\n",
        "ax2.set_xlim(xmin=0, xmax=110)\n",
        "sns.despine(bottom=True, left=True)\n",
        "plt.show()"
      ]
    },
    {
      "cell_type": "markdown",
      "metadata": {
        "_cell_guid": "6faa2e26-9173-e4f0-d8e1-737e38de1565"
      },
      "source": [
        "By looking at this we can see that most of the Homicide deaths occured around the age of 20-21, while most suicide cases are circled just under the age of 55-58 (there is also a noticable peak around the age of 20). If we wanted more accurate numbers - we could take a look at the mean and median of these variables. Again, since we have so little incidents of accidental gun deaths, it's hard to infer anything from that part of the data [red dots]."
      ]
    },
    {
      "cell_type": "code",
      "execution_count": null,
      "metadata": {
        "_cell_guid": "1e78ace1-6300-f09e-9581-eb955f1da097"
      },
      "outputs": [],
      "source": [
        "g = sns.FacetGrid(suicide, col='Sex')  \n",
        "g.map(sns.distplot, 'Age')\n",
        "plt.subplots_adjust(top=0.8)\n",
        "g.set(xlim=(0, 110), ylim=(0, 0.05))\n",
        "g.fig.suptitle('Suicide ages: Gender comparison', fontsize=14, fontweight='bold')\n",
        "g = sns.FacetGrid(homicide, col='Sex') \n",
        "g.map(sns.distplot, 'Age')\n",
        "plt.subplots_adjust(top=0.8)\n",
        "g.set(xlim=(0, 110), ylim=(0, 0.05), xlabel='Age', ylabel='Percentage', )\n",
        "g.fig.suptitle('Homicide ages: Gender comparison', fontsize=14, fontweight='bold')"
      ]
    },
    {
      "cell_type": "code",
      "execution_count": null,
      "metadata": {
        "_cell_guid": "5c317fac-8aa3-e32a-0b36-8f18897d869e"
      },
      "outputs": [],
      "source": [
        "g = sns.FacetGrid(suicide, col='Race')  \n",
        "g.map(sns.distplot, 'Age')\n",
        "g.set(xlim=(0, None))\n",
        "plt.subplots_adjust(top=0.8)\n",
        "g.set(xlim=(0, 110), ylim=(0, 0.06), xlabel='Age')\n",
        "g.fig.suptitle('Suicide ages: Race comparison', fontsize=14, fontweight='bold')\n",
        "g = sns.FacetGrid(homicide, col='Race') \n",
        "g.map(sns.distplot, 'Age')\n",
        "g.set(xlim=(0, None))\n",
        "plt.subplots_adjust(top=0.8)\n",
        "g.set(xlim=(0, 110), ylim=(0, 0.06), xlabel='Age')\n",
        "g.fig.suptitle('Homicide ages: Race comparison', fontsize=14, fontweight='bold')"
      ]
    },
    {
      "cell_type": "code",
      "execution_count": null,
      "metadata": {
        "_cell_guid": "df57a46d-beff-8cc8-58f0-5e0aa26b358a"
      },
      "outputs": [],
      "source": [
        "# in order to get in in the same order for better comparison:\n",
        "race_ordered = ['Black', 'White', 'Hispanic', 'Asian/Pacific Islander', 'Native American/Native Alaskan']\n",
        "guns['Race'] = guns['Race'].astype('category')\n",
        "guns.Race.cat.set_categories(race_ordered, inplace=True)\n",
        "\n",
        "suicide = guns[guns['Intent'] == 'Suicide']\n",
        "homicide = guns[guns['Intent'] == 'Homicide']\n",
        "\n",
        "g = sns.FacetGrid(suicide, col='Race')  \n",
        "g.map(sns.distplot, 'Age')\n",
        "plt.subplots_adjust(top=0.8)\n",
        "g.set(xlim=(0, 110), ylim=(0, 0.06), xlabel='Age')\n",
        "g.fig.suptitle('Suicide ages: Race comparison', fontsize=16, fontweight='bold')\n",
        "g = sns.FacetGrid(homicide, col='Race') \n",
        "g.map(sns.distplot, 'Age')\n",
        "plt.subplots_adjust(top=0.8)\n",
        "g.set(xlim=(0, 110), ylim=(0, 0.06), xlabel='Age')\n",
        "g.fig.suptitle('Homicide ages: Race comparison', fontsize=16, fontweight='bold')"
      ]
    },
    {
      "cell_type": "markdown",
      "metadata": {
        "_cell_guid": "81b779cb-f55d-3b24-fa63-93e62a398b02"
      },
      "source": [
        "It's very apperant that the peak in most races in both suicide incidents is around age 20, while the peak in the race 'white' is much higher - around 55 in suicide cases. There is a difference in the homicide cases of this race as well."
      ]
    },
    {
      "cell_type": "code",
      "execution_count": null,
      "metadata": {
        "_cell_guid": "b1f3d01a-068e-9730-fbbd-2220130ab986"
      },
      "outputs": [],
      "source": [
        "# we can ignore education = 0 - since these are all very young ages\n",
        "g = sns.FacetGrid(suicide[suicide.Education > 0], col='Education')\n",
        "g.map(sns.distplot, 'Age')\n",
        "plt.subplots_adjust(top=0.8)\n",
        "g.set(xlim=(0, 110), ylim=(0, 0.06), xlabel='Age')\n",
        "g.fig.suptitle('Suicide ages: Education comparison', fontsize=16, fontweight='bold')\n",
        "g = sns.FacetGrid(homicide[homicide.Education > 0], col='Education') \n",
        "g.map(sns.distplot, 'Age')\n",
        "plt.subplots_adjust(top=0.8)\n",
        "g.set(xlim=(0, 110), ylim=(0, 0.06), xlabel='Age')\n",
        "g.fig.suptitle('Homicide ages: Education comparison', fontsize=16, fontweight='bold')"
      ]
    },
    {
      "cell_type": "markdown",
      "metadata": {
        "_cell_guid": "d55a9491-def7-a6b2-d2cf-75ac547190b8"
      },
      "source": [
        "The peaks show an interesting picture: All of the homicides plot peaks are in the area of 20 years old, and this is similar for suicides in cases where the education was low. However, when the victim was of college university [3.0-4.0] the peak is also around age 60.\n",
        "This may mean that age can also help us predict intent.\n",
        "\n",
        "## KDE Plot\n",
        "\n",
        "This plot is useful for looking at univariate relations. It creates and visualizes a kernel density estimate of the underlying feature.\n",
        "\n",
        "Let's look at the age values:\n",
        "\n",
        "This view will make it look like there are negative ages in our dataset, but that is not the case. The reason for that is that KDE smoothes the lines and thus manipulates the truth. We can limit the x axis."
      ]
    },
    {
      "cell_type": "code",
      "execution_count": null,
      "metadata": {
        "_cell_guid": "8706437e-6e4d-5d15-773a-ff3e473e89ad"
      },
      "outputs": [],
      "source": [
        "# limit the x-axis\n",
        "sns.FacetGrid(guns, hue='Intent', size=4).map(sns.kdeplot, 'Age')\n",
        "plt.legend(loc=9, frameon=False)\n",
        "plt.xlim(xmin=0)\n",
        "plt.xlabel('Age', fontsize=14)\n",
        "plt.ylabel('Density', fontsize=14)\n",
        "sns.despine(left=True)\n",
        "plt.title('Age distribution\\nHomicide vs. Suicide', fontsize=14, fontweight='bold')"
      ]
    },
    {
      "cell_type": "markdown",
      "metadata": {
        "_cell_guid": "35539a95-9fce-54db-5683-7427fdf8502b"
      },
      "source": [
        "This is very similar to the plot we saw before, only seeing it on the same grid makes it easier to see differences."
      ]
    },
    {
      "cell_type": "code",
      "execution_count": null,
      "metadata": {
        "_cell_guid": "43c39760-cc8d-d0d3-d82f-60c40dad89a9"
      },
      "outputs": [],
      "source": [
        "sns.FacetGrid(guns, hue='Sex', size=4).map(sns.kdeplot, 'Age').add_legend()\n",
        "sns.despine(left=True)\n",
        "plt.xlim(xmin=0)\n",
        "plt.title('Age distribution\\nMale vs. Female', fontsize=14, fontweight='bold')"
      ]
    },
    {
      "cell_type": "markdown",
      "metadata": {
        "_cell_guid": "5d7511f8-e6ec-8ae1-5bc3-6ff118cc3913"
      },
      "source": [
        "This is also very useful in seeing differences between the genders. Let's make different KDE plots for each intent:"
      ]
    },
    {
      "cell_type": "code",
      "execution_count": null,
      "metadata": {
        "_cell_guid": "a7842889-496c-4453-83c4-943f309e0185"
      },
      "outputs": [],
      "source": [
        "sns.FacetGrid(suicide, hue='Sex', size=4).map(sns.kdeplot, 'Age').add_legend()\n",
        "plt.xlabel('Age', fontsize=14)\n",
        "sns.despine(left=True)\n",
        "plt.title('Suicide ages: Gender comparison', fontsize=14, fontweight='bold')\n",
        "sns.FacetGrid(homicide, hue='Sex', size=4).map(sns.kdeplot, 'Age').add_legend()\n",
        "plt.xlabel('Age', fontsize=14)\n",
        "sns.despine(left=True)\n",
        "plt.xlim(xmin=0)\n",
        "plt.title('Homicide ages: Gender comparison', fontsize=14, fontweight='bold')"
      ]
    },
    {
      "cell_type": "markdown",
      "metadata": {
        "_cell_guid": "257536df-dd9f-ccd3-df37-669e525f45f9"
      },
      "source": [
        "# Box Plots\n",
        "A box plot consists of box-and-whisker diagrams, which represents the different quartiles in a visual way. It is useful to show differences between different groups in our data."
      ]
    },
    {
      "cell_type": "code",
      "execution_count": null,
      "metadata": {
        "_cell_guid": "f43e1198-42c7-f3c2-e050-504462e4f105"
      },
      "outputs": [],
      "source": [
        "fig, ax = plt.subplots()\n",
        "data_to_plot = [suicide.Age, homicide.Age]\n",
        "plt.xlim(xmin=0, xmax=110)\n",
        "plt.boxplot(data_to_plot)\n",
        "plt.ylim(ymin=-1, ymax=110)\n",
        "plt.xticks([1, 2, 3], ['Suicide', 'Homicide'], fontsize=14)\n",
        "plt.tick_params(axis='both', which='both',length=0)\n",
        "plt.ylabel('Age', fontsize=14)\n",
        "plt.title('Ages in Suicide vs. Homicide',\n",
        "          fontsize=14, fontweight='bold')\n",
        "sns.despine(bottom=True)\n",
        "plt.show()"
      ]
    },
    {
      "cell_type": "markdown",
      "metadata": {
        "_cell_guid": "8df122a1-d882-6691-f65c-8165bc466bc6"
      },
      "source": [
        "Another useful tool is the ability to split column by their value. Here we are doing a gender comparison of age in each 'intent' value:"
      ]
    },
    {
      "cell_type": "code",
      "execution_count": null,
      "metadata": {
        "_cell_guid": "b821825e-9108-70b0-6457-b1ee04c5f95c"
      },
      "outputs": [],
      "source": [
        "#sns.set(style='ticks')\n",
        "sns.boxplot(x='Intent', y='Age', hue='Sex', data=guns, palette='PRGn', width=0.6)\n",
        "sns.despine(bottom=True)"
      ]
    },
    {
      "cell_type": "markdown",
      "metadata": {
        "_cell_guid": "0141c968-f1d5-093e-2846-a656912a3cc6"
      },
      "source": [
        "Again we see that Accidental does not give us any additional info.\n",
        "We see the ages in suicides among women varies more than men. However, there is a smaller variation in the ages of females that are murderd in homicide cases.\n",
        "\n",
        "## Violin plots"
      ]
    },
    {
      "cell_type": "code",
      "execution_count": null,
      "metadata": {
        "_cell_guid": "3532632c-c891-7756-42ed-ec6e714930ba"
      },
      "outputs": [],
      "source": [
        "sns.violinplot(x='Intent', y='Age', hue='Sex', split=True, data=guns, size=4, inner='quart')\n",
        "sns.despine(bottom=True)"
      ]
    },
    {
      "cell_type": "markdown",
      "metadata": {
        "_cell_guid": "20a4023d-6b9d-2d7f-8552-f7f7238e8a5e"
      },
      "source": [
        "This visualization of the variance in each gender help us to better understand the numbers: Again, the accidental column does not give us much info since the distribution and quartiles are very similar between genders. However, we see the distribution between male and female in homicide differs in quartiles and in the range of the quarters. This may mean that combining age and gender can be a helpful predictor.\n",
        "\n",
        "**Note:** Since most of our variables are categorical, **scatter plots** would not give us much information (believe me, I tried). The same applies to **scatter matrix plot**.\n",
        "\n",
        "## Main Takeaways\n",
        "- Age, education, place and age~gender may be helpful in predicting intent.\n",
        "- Place variable should be used carefuly since some of the values were combined.\n",
        "- There is a large number of gun deaths during July and June, and a smaller number on February.\n",
        "- To do: Prediction!\n",
        "\n",
        "Would love to get your feedback!"
      ]
    }
  ],
  "metadata": {
    "_change_revision": 0,
    "_is_fork": false,
    "kernelspec": {
      "display_name": "Python 3",
      "language": "python",
      "name": "python3"
    },
    "language_info": {
      "codemirror_mode": {
        "name": "ipython",
        "version": 3
      },
      "file_extension": ".py",
      "mimetype": "text/x-python",
      "name": "python",
      "nbconvert_exporter": "python",
      "pygments_lexer": "ipython3",
      "version": "3.5.2"
    }
  },
  "nbformat": 4,
  "nbformat_minor": 0
}