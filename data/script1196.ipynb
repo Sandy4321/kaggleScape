{
  "cells": [
    {
      "cell_type": "code",
      "execution_count": null,
      "metadata": {
        "_cell_guid": "16df1af0-5aea-419b-bc62-9848e21a2628"
      },
      "outputs": [],
      "source": [
        "%matplotlib inline\n",
        "import pandas as pd\n",
        "import numpy as np\n",
        "import seaborn as sns\n",
        "import matplotlib.pyplot as plt\n",
        "import matplotlib.cm as cm"
      ]
    },
    {
      "cell_type": "markdown",
      "metadata": {
        "_cell_guid": "c74c90a0-a293-4817-90a5-fc9ec07e1fff"
      },
      "source": [
        "# Scripty Medals\n",
        "\n",
        "This notebook continues the analysis done in \"[Scripty McScriptface the Lazy Kaggler](https://www.kaggle.com/dvasyukova/d/kaggle/meta-kaggle/scripty-mcscriptface-the-lazy-kaggler)\".\n",
        "\n",
        "The purpose is to calculate how many competitions medals can be earned by using public script submissions. \n",
        "\n",
        "Criteria for medals: [Kaggle Progression System](https://www.kaggle.com/progression).\n",
        "\n",
        "## Load data"
      ]
    },
    {
      "cell_type": "code",
      "execution_count": null,
      "metadata": {
        "_cell_guid": "b4c18a55-ccf8-4f78-84c4-eab072299763"
      },
      "outputs": [],
      "source": [
        "# Competitions - use only those that award points\n",
        "competitions = (pd.read_csv('../input/Competitions.csv')\n",
        "                .rename(columns={'Id':'CompetitionId'}))\n",
        "competitions = competitions[(competitions.UserRankMultiplier > 0)]\n",
        "# Scriptprojects to link scripts to competitions\n",
        "scriptprojects = (pd.read_csv('../input/ScriptProjects.csv')\n",
        "                    .rename(columns={'Id':'ScriptProjectId'}))\n",
        "# Evaluation algorithms\n",
        "evaluationalgorithms = (pd.read_csv('../input/EvaluationAlgorithms.csv')\n",
        "                          .rename(columns={'Id':'EvaluationAlgorithmId'}))\n",
        "competitions = (competitions.merge(scriptprojects[['ScriptProjectId','CompetitionId']],\n",
        "                                   on='CompetitionId',how='left')\n",
        "                            .merge(evaluationalgorithms[['IsMax','EvaluationAlgorithmId']],\n",
        "                                   on='EvaluationAlgorithmId',how='left')\n",
        "                            .dropna(subset = ['ScriptProjectId'])\n",
        "                            .set_index('CompetitionId'))\n",
        "competitions['ScriptProjectId'] = competitions['ScriptProjectId'].astype(int)\n",
        "# Fill missing values for two competitions\n",
        "competitions.loc[4488,'IsMax'] = True # Flavours of physics\n",
        "competitions.loc[4704,'IsMax'] = False # Santa's Stolen Sleigh\n",
        "# Teams\n",
        "teams = (pd.read_csv('../input/Teams.csv')\n",
        "         .rename(columns={'Id':'TeamId'}))\n",
        "teams = teams[teams.CompetitionId.isin(competitions.index)]\n",
        "teams['Score'] = teams.Score.astype(float)\n",
        "# Submissions\n",
        "submissions = pd.read_csv('../input/Submissions.csv')\n",
        "submissions = submissions.dropna(subset=['Id','DateSubmitted','PublicScore'])\n",
        "submissions.DateSubmitted = pd.to_datetime(submissions.DateSubmitted)\n",
        "submissions = submissions[(submissions.TeamId.isin(teams.TeamId))\n",
        "                         &(submissions.IsAfterDeadline==False)\n",
        "                         &(~(submissions.PublicScore.isnull()))]\n",
        "submissions = submissions.merge(teams[['TeamId','CompetitionId']],\n",
        "                                how='left',on='TeamId')\n",
        "submissions = submissions.merge(competitions[['IsMax']],\n",
        "                                how='left',left_on='CompetitionId', right_index=True)"
      ]
    },
    {
      "cell_type": "markdown",
      "metadata": {
        "_cell_guid": "f12cd980-be87-4c17-bd52-228f1c177408"
      },
      "source": [
        "Find ranks sufficient for medals."
      ]
    },
    {
      "cell_type": "code",
      "execution_count": null,
      "metadata": {
        "_cell_guid": "d34125d5-4365-4998-8f3b-038aa1ff4bef"
      },
      "outputs": [],
      "source": [
        "competitions['Nteams'] = teams.groupby('CompetitionId').size()\n",
        "#competitions[['Bronze','Silver','Gold']] = np.zeros((competitions.shape[0],3),dtype=int)\n",
        "t = competitions.Nteams\n",
        "competitions.loc[t <= 99, 'Bronze'] = np.floor(0.4*t)\n",
        "competitions.loc[t <= 99, 'Silver'] = np.floor(0.2*t)\n",
        "competitions.loc[t <= 99, 'Gold'] = np.floor(0.1*t)\n",
        "\n",
        "competitions.loc[(100<=t)&(t<=249),'Bronze'] = np.floor(0.4*t)\n",
        "competitions.loc[(100<=t)&(t<=249),'Silver'] = np.floor(0.2*t)\n",
        "competitions.loc[(100<=t)&(t<=249), 'Gold'] = 10\n",
        "\n",
        "competitions.loc[(250<=t)&(t<=999),'Bronze'] = 100\n",
        "competitions.loc[(250<=t)&(t<=999),'Silver'] = 50\n",
        "competitions.loc[(250<=t)&(t<=999), 'Gold'] = 10 + np.floor(0.002*t)\n",
        "\n",
        "competitions.loc[t >= 1000, 'Bronze'] = np.floor(0.1*t)\n",
        "competitions.loc[t >= 1000, 'Silver'] = np.floor(0.05*t)\n",
        "competitions.loc[t >= 1000, 'Gold'] = 10 + np.floor(0.002*t)\n",
        "\n",
        "#competitions[['Nteams','Gold','Silver','Bronze','Title']]"
      ]
    },
    {
      "cell_type": "code",
      "execution_count": null,
      "metadata": {
        "_cell_guid": "bfcb1f86-dfa0-4719-a7fd-711be35e2b2d"
      },
      "outputs": [],
      "source": [
        "def isscored(group):\n",
        "    # if two or less submissions select all\n",
        "    if group.shape[0] <= 2:\n",
        "        pd.Series(np.ones(group.shape[0],dtype=np.bool),index=group.index)\n",
        "    nsel = group.IsSelected.sum()\n",
        "    # if two selected return them\n",
        "    if nsel == 2:\n",
        "        return group.IsSelected\n",
        "    # if need to select more - choose by highest public score\n",
        "    toselect = list(group.IsSelected.values.nonzero()[0])\n",
        "    ismax = group['IsMax'].iloc[0]\n",
        "    ind = np.argsort(group['PublicScore'].values)\n",
        "    scored = group.IsSelected.copy()\n",
        "    if ismax:\n",
        "        ind = ind[::-1]\n",
        "    for i in ind:\n",
        "        if i not in toselect:\n",
        "            toselect.append(i)\n",
        "        if len(toselect)==2:\n",
        "            break\n",
        "    scored.iloc[toselect] = True\n",
        "    return scored\n",
        "submissions['PublicScore'] = submissions['PublicScore'].astype(float)\n",
        "submissions['PrivateScore'] = submissions['PrivateScore'].astype(float)\n",
        "scored = submissions.groupby('TeamId',sort=False).apply(isscored)\n",
        "scored.index = scored.index.droplevel()\n",
        "submissions['IsScored'] = scored"
      ]
    },
    {
      "cell_type": "markdown",
      "metadata": {
        "_cell_guid": "7084be6e-ded2-4055-bfd7-6d9fb4da8377"
      },
      "source": [
        "## Submit two best public scripts"
      ]
    },
    {
      "cell_type": "code",
      "execution_count": null,
      "metadata": {
        "_cell_guid": "5b6a30e3-d493-49d5-96d4-8323d24c031a"
      },
      "outputs": [],
      "source": [
        "competitions[\"NScriptSubs\"] = (submissions\n",
        "                               [~(submissions.SourceScriptVersionId.isnull())]\n",
        "                               .groupby('CompetitionId')['Id'].count())\n",
        "scriptycomps = competitions[competitions.NScriptSubs > 0].copy()\n",
        "scriptycomps.shape"
      ]
    },
    {
      "cell_type": "code",
      "execution_count": null,
      "metadata": {
        "_cell_guid": "26397af7-796f-4b9a-a8f4-6c92e17c8f60"
      },
      "outputs": [],
      "source": [
        "def find_private_score(df):\n",
        "    if df.SourceScriptVersionId.isnull().all():\n",
        "        # no scripts\n",
        "        return\n",
        "    ismax = df.IsMax.iloc[0]\n",
        "    submit = (df.loc[~(df.SourceScriptVersionId.isnull())]\n",
        "                .groupby('SourceScriptVersionId')\n",
        "                [['PublicScore','PrivateScore']]\n",
        "                .agg('first')\n",
        "                .sort_values(by='PublicScore',ascending = not ismax)\n",
        "                .iloc[:2])\n",
        "    score = submit.PrivateScore.max() if ismax else submit.PrivateScore.min()\n",
        "    # Find scores from all teams\n",
        "    results = (df.loc[df.IsScored]\n",
        "                 .groupby('TeamId')\n",
        "                 ['PrivateScore']\n",
        "                 .agg('max' if ismax else 'min')\n",
        "                 .sort_values(ascending = not ismax)\n",
        "                 .values)\n",
        "    if ismax:\n",
        "        ranktail = (results <  score).nonzero()[0][0] + 1\n",
        "        rankhead = (results <= score).nonzero()[0][0] + 1\n",
        "    else:\n",
        "        ranktail = (results >  score).nonzero()[0][0] + 1\n",
        "        rankhead = (results >= score).nonzero()[0][0] + 1\n",
        "    rank = int(0.5*(ranktail+rankhead))\n",
        "    return pd.Series({'Rank':rank,'Score':score})\n",
        "\n",
        "scriptycomps[['Rank','Score']] = (submissions.groupby('CompetitionId')\n",
        "                                             .apply(find_private_score))\n",
        "# Fix Liberty Mutual result\n",
        "scriptycomps.loc[4471,'Rank'] = 150"
      ]
    },
    {
      "cell_type": "code",
      "execution_count": null,
      "metadata": {
        "_cell_guid": "b26f9f5d-4bb7-4943-9f97-a7f3682f871a"
      },
      "outputs": [],
      "source": [
        "scriptycomps = scriptycomps.sort_values(by='Nteams')\n",
        "fig, ax = plt.subplots(figsize=(10,8))\n",
        "h = np.arange(len(scriptycomps))\n",
        "ax.barh(h, scriptycomps.Nteams,color='white')\n",
        "ax.barh(h, scriptycomps.Bronze,color='#F0BA7C')\n",
        "ax.barh(h, scriptycomps.Silver,color='#E9E9E9')\n",
        "ax.barh(h, scriptycomps.Gold,color='#FFD448')\n",
        "ax.set_yticks(h+0.4)\n",
        "ax.set_yticklabels(scriptycomps.Title.values);\n",
        "ax.set_ylabel('');\n",
        "ax.scatter(scriptycomps.Rank,h + 0.4,s=40,c='b',zorder=100,marker='d',alpha=0.6)\n",
        "ax.set_xlim(0,1000)\n",
        "ax.legend(['Scripty\\'s rank','None',\n",
        "           'Bronze','Silver','Gold'],loc=4,fontsize='large');\n",
        "ax.set_title('Medals from submitting the best public script');\n",
        "ax.set_xlabel('Rank')\n",
        "ax.set_ylim(0,h.max()+1);"
      ]
    },
    {
      "cell_type": "markdown",
      "metadata": {
        "_cell_guid": "0393a8a5-1612-4b35-82a2-0e4cb7beb2de"
      },
      "source": [
        "## Submit most popular script versions"
      ]
    },
    {
      "cell_type": "code",
      "execution_count": null,
      "metadata": {
        "_cell_guid": "697ff495-5f33-4a8a-8b77-40e29be5980b"
      },
      "outputs": [],
      "source": [
        "def find_private_score(df):\n",
        "    if df.SourceScriptVersionId.isnull().all():\n",
        "        # no scripts\n",
        "        return\n",
        "    ismax = df.IsMax.iloc[0]\n",
        "    competition = df.name\n",
        "    submit = (df.loc[~(df.SourceScriptVersionId.isnull())\n",
        "                     &(df.IsScored)]\n",
        "                .groupby('SourceScriptVersionId')\n",
        "                .agg({'PublicScore':'first','PrivateScore':'first','Id':'size'})\n",
        "                .rename(columns={'Id':'Nteams'})\n",
        "                .sort_values(by='Nteams',ascending = False)\n",
        "                .iloc[:2])\n",
        "    score = submit.PrivateScore.max() if ismax else submit.PrivateScore.min()\n",
        "    # Find scores from all teams\n",
        "    results = (df.loc[df.IsScored]\n",
        "                 .groupby('TeamId')\n",
        "                 ['PrivateScore']\n",
        "                 .agg('max' if ismax else 'min')\n",
        "                 .sort_values(ascending = not ismax)\n",
        "                 .values)\n",
        "    rank = int(np.median((results==score).nonzero()[0])) + 1\n",
        "    return pd.Series({'Rank':rank,'Score':score})\n",
        "\n",
        "scriptycomps[['Rank','Score']] = (submissions.groupby('CompetitionId')\n",
        "                                             .apply(find_private_score))"
      ]
    },
    {
      "cell_type": "code",
      "execution_count": null,
      "metadata": {
        "_cell_guid": "cf5f709f-0fb2-4f41-b99e-57719cb989b2"
      },
      "outputs": [],
      "source": [
        "#scriptycomps = scriptycomps.sort_values(by='Nteams')\n",
        "fig, ax = plt.subplots(figsize=(10,8))\n",
        "h = np.arange(len(scriptycomps))\n",
        "ax.barh(h, scriptycomps.Nteams,color='white')\n",
        "ax.barh(h, scriptycomps.Bronze,color='#F0BA7C')\n",
        "ax.barh(h, scriptycomps.Silver,color='#E9E9E9')\n",
        "ax.barh(h, scriptycomps.Gold,color='#FFD448')\n",
        "ax.set_yticks(h+0.4)\n",
        "ax.set_yticklabels(scriptycomps.Title.values);\n",
        "ax.set_ylabel('');\n",
        "ax.scatter(scriptycomps.Rank,h + 0.4,s=40,c='b',zorder=100,marker='d',alpha=0.6)\n",
        "ax.set_xlim(0,1000)\n",
        "ax.legend(['Scripty\\'s rank','None',\n",
        "           'Bronze','Silver','Gold'],loc=4,fontsize='large');\n",
        "ax.set_title('Medals from submitting most popular script versions');\n",
        "ax.set_xlabel('Rank')\n",
        "ax.set_ylim(0,h.max()+1);"
      ]
    },
    {
      "cell_type": "markdown",
      "metadata": {
        "_cell_guid": "9090ed05-f7aa-464c-9834-fec52090dab5"
      },
      "source": [
        "It looks like submitting most popular script versions gets you no medals at all, while chasing the best scoring scripts on public LB could bring some bronze medals. "
      ]
    }
  ],
  "metadata": {
    "_change_revision": 0,
    "_is_fork": false,
    "kernelspec": {
      "display_name": "Python 3",
      "language": "python",
      "name": "python3"
    },
    "language_info": {
      "codemirror_mode": {
        "name": "ipython",
        "version": 3
      },
      "file_extension": ".py",
      "mimetype": "text/x-python",
      "name": "python",
      "nbconvert_exporter": "python",
      "pygments_lexer": "ipython3",
      "version": "3.5.2"
    }
  },
  "nbformat": 4,
  "nbformat_minor": 0
}