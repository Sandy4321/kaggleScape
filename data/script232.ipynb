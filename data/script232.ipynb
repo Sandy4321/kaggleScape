{
  "cells": [
    {
      "cell_type": "markdown",
      "metadata": {
        "_cell_guid": "27a9a86b-f7dc-7812-5cb7-055d81851583"
      },
      "source": [
        "## Yoann Boj\n",
        "### 8th November 2016"
      ]
    },
    {
      "cell_type": "code",
      "execution_count": null,
      "metadata": {
        "_cell_guid": "c61d38c6-ff97-2f23-2c05-09e683020f93"
      },
      "outputs": [],
      "source": [
        "# This Python 3 environment comes with many helpful analytics libraries installed\n",
        "# It is defined by the kaggle/python docker image: https://github.com/kaggle/docker-python\n",
        "# For example, here's several helpful packages to load in \n",
        "\n",
        "import numpy as np # linear algebra\n",
        "import pandas as pd # data processing, CSV file I/O (e.g. pd.read_csv)\n",
        "\n",
        "# Input data files are available in the \"../input/\" directory.\n",
        "# For example, running this (by clicking run or pressing Shift+Enter) will list the files in the input directory\n",
        "\n",
        "from subprocess import check_output\n",
        "print(check_output([\"ls\", \"../input\"]).decode(\"utf8\"))\n",
        "\n",
        "# Any results you write to the current directory are saved as output."
      ]
    },
    {
      "cell_type": "code",
      "execution_count": null,
      "metadata": {
        "_cell_guid": "c7f87abd-7d48-1a5b-1f05-99f798f41e8c"
      },
      "outputs": [],
      "source": [
        "df = pd.read_csv(\"../input/train.csv\")\n",
        "print(df.describe())"
      ]
    },
    {
      "cell_type": "code",
      "execution_count": null,
      "metadata": {
        "_cell_guid": "e1f7bfae-244e-02bf-1987-fba008a551c5"
      },
      "outputs": [],
      "source": [
        "df_test = pd.read_csv(\"../input/test.csv\")\n",
        "print(df_test.describe())"
      ]
    },
    {
      "cell_type": "code",
      "execution_count": null,
      "metadata": {
        "_cell_guid": "7aefc78d-bfaf-4657-b7fe-d67e11d5acfd"
      },
      "outputs": [],
      "source": [
        "import seaborn as sns\n",
        "sns.set()\n",
        "\n",
        "sns.pairplot(df,hue=\"type\")"
      ]
    },
    {
      "cell_type": "code",
      "execution_count": null,
      "metadata": {
        "_cell_guid": "bc5da094-8539-fde5-d969-aecd54b96045"
      },
      "outputs": [],
      "source": [
        "y = df[\"type\"]\n",
        "indexes_test = df_test[\"id\"]\n",
        "\n",
        "df = df.drop([\"type\",\"color\",\"id\"],axis=1)\n",
        "df_test = df_test.drop([\"color\",\"id\"],axis=1)"
      ]
    },
    {
      "cell_type": "code",
      "execution_count": null,
      "metadata": {
        "_cell_guid": "f35e7d8c-1b78-7073-c0e0-d54a63eaf363"
      },
      "outputs": [],
      "source": [
        "df = pd.get_dummies(df)\n",
        "df_test = pd.get_dummies(df_test)"
      ]
    },
    {
      "cell_type": "code",
      "execution_count": null,
      "metadata": {
        "_cell_guid": "0bb10969-7dcf-2620-6967-5f96207b454c"
      },
      "outputs": [],
      "source": [
        "from sklearn.ensemble import RandomForestClassifier\n",
        "from sklearn.metrics import classification_report\n",
        "from sklearn.model_selection import train_test_split\n",
        "\n",
        "X_train, X_test, y_train, y_test = train_test_split(df, y, test_size=0.3, random_state=0)"
      ]
    },
    {
      "cell_type": "code",
      "execution_count": null,
      "metadata": {
        "_cell_guid": "3c8f8e36-7df4-9268-9a04-9321ddb2c7dd"
      },
      "outputs": [],
      "source": [
        "from sklearn.linear_model import LogisticRegression\n",
        "\n",
        "lr = LogisticRegression(penalty='l2',C=1000000)\n",
        "lr.fit(X_train,y_train)\n",
        "y_pred= lr.predict(X_test) \n",
        "\n",
        "print(classification_report(y_pred,y_test))"
      ]
    },
    {
      "cell_type": "code",
      "execution_count": null,
      "metadata": {
        "_cell_guid": "012ff719-a12a-4ef0-9296-aa82299aaa66"
      },
      "outputs": [],
      "source": [
        "y_pred = lr.predict(df_test)\n",
        "\n",
        "Y = pd.DataFrame()\n",
        "Y[\"id\"] = indexes_test\n",
        "Y[\"type\"] = y_pred\n",
        "Y.to_csv(\"submission.csv\",index=False)"
      ]
    }
  ],
  "metadata": {
    "_change_revision": 0,
    "_is_fork": false,
    "kernelspec": {
      "display_name": "Python 3",
      "language": "python",
      "name": "python3"
    },
    "language_info": {
      "codemirror_mode": {
        "name": "ipython",
        "version": 3
      },
      "file_extension": ".py",
      "mimetype": "text/x-python",
      "name": "python",
      "nbconvert_exporter": "python",
      "pygments_lexer": "ipython3",
      "version": "3.5.2"
    }
  },
  "nbformat": 4,
  "nbformat_minor": 0
}