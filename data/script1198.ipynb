{
  "cells": [
    {
      "cell_type": "markdown",
      "metadata": {
        "_cell_guid": "91cb9fc8-0e34-17e3-3b43-abc3d610feab"
      },
      "source": [
        "- \"I want candy.\"\n",
        "- \"What's the magic word?\"\n",
        "- \"Pleeaaaaase!\"\n",
        "\n",
        "This is what many parents teach to their children. But is this really the best way to get what you want? Is \"please\" really the magic word?\n",
        "\n",
        "More precisely, we are going to look at forum messages and try to answer 2 questions:\n",
        " - What are the best words to use in order to get replies?\n",
        " - What are the best words to use in order to have +1s?\n",
        " \n"
      ]
    },
    {
      "cell_type": "code",
      "execution_count": null,
      "metadata": {
        "_cell_guid": "737cfed9-8c9b-fbe6-9cd0-7fd411db5c0f"
      },
      "outputs": [],
      "source": [
        "# We select messages that have gotten replies\n",
        "import pandas as pd\n",
        "import warnings\n",
        "warnings.filterwarnings(\"ignore\")\n",
        "fm = pd.read_csv('../input/ForumMessages.csv')\n",
        "rep_ids = fm['ReplyToForumMessageId'].unique().tolist()\n",
        "rep_fm = fm[fm['Id'].isin(rep_ids)]\n",
        "\n",
        "# We store the number of replies for each message\n",
        "nb_replies = fm['ReplyToForumMessageId'].value_counts()\n",
        "rep_fm['NbReplies'] = rep_fm['Id'].map(nb_replies)\n",
        "\n",
        "# We keep the words that are not quotes from other messages\n",
        "import re\n",
        "def words_wo_quotes(mes):\n",
        "    mes_wo_q = re.sub(r'\\[quote=.*\\[/quote\\]', '', mes, flags=re.DOTALL)\n",
        "    return set([w for w in re.split('[^a-z]', mes_wo_q.lower()) if len(w)>=2])\n",
        "rep_fm['Message'] = rep_fm['Message'].astype(str).apply(words_wo_quotes)\n",
        "\n",
        "# For each word, we store in a dict the number of replies to messages where this word appears\n",
        "from collections import defaultdict\n",
        "dict_rep = defaultdict(int)\n",
        "def fill_dict_rep(x):\n",
        "    for w in x[0]:\n",
        "        dict_rep[w] += x[1]\n",
        "rep_fm[['Message', 'NbReplies']].apply(fill_dict_rep, axis=1)\n",
        "\n",
        "# For each word, we count the number of messages where it appears\n",
        "all_messages = fm['Message'].astype(str).apply(words_wo_quotes)\n",
        "dict_all = dict.fromkeys(dict_rep.keys(), 0)\n",
        "def fill_dict_all(x):\n",
        "    for w in x:\n",
        "        if w in dict_rep:\n",
        "            dict_all[w] += 1\n",
        "all_messages.apply(fill_dict_all)\n",
        "\n",
        "# We will only consider words that appear in at least 1% of the messages\n",
        "min_proportion = fm.shape[0]/100\n",
        "\n",
        "# We sort the words according to the ratio (number of replies)/(number of messages where it appears)\n",
        "lwords = []\n",
        "for w in dict_all:\n",
        "    if dict_all[w]>min_proportion:\n",
        "        lwords.append([w, dict_rep[w]/dict_all[w]])\n",
        "lwords = sorted(lwords, key=lambda h:h[1], reverse=True)\n",
        "\n",
        "# We plot the 20 \"best\" words\n",
        "import matplotlib.pyplot as plt\n",
        "import numpy as np\n",
        "plt.rcParams[\"figure.figsize\"] = (10, 12)\n",
        "x_axis = [wx[1] for wx in lwords[:20]]\n",
        "y_axis = [wx[0] for wx in lwords[:20]]\n",
        "plt.barh(range(60, 0, -3), [1]*20, height=1.5, alpha=0.4)\n",
        "plt.barh(range(60, 0, -3), x_axis, height=1.5, alpha=0.4)\n",
        "plt.yticks(np.arange(60.5, 0.5, -3), y_axis, fontsize=20)\n",
        "plt.xlabel('Proportion of replies', fontsize=16)\n",
        "plt.ylabel('Word used', fontsize=16)\n",
        "plt.title('The 20 best words to use to get replies', fontsize=22)\n",
        "plt.show()"
      ]
    },
    {
      "cell_type": "markdown",
      "metadata": {
        "_cell_guid": "b88cfe77-611b-2149-8874-46f5316d06ef"
      },
      "source": [
        "Some remarks:\n",
        "- Meta informations like \"prize\", \"rules\", \"leaderboard\" or \"contest\" have good success.\n",
        "- \"Feeling curious\" seems to be a good idea :)\n",
        "\n",
        "The word \"please\" ranks only 509th of 640!!\n",
        "\n",
        "Now what about the relationship between the words we use and the score we get for a message?\n",
        "\n"
      ]
    },
    {
      "cell_type": "code",
      "execution_count": null,
      "metadata": {
        "_cell_guid": "5cb3af1f-669f-6ea8-0210-afc7d0ebd481"
      },
      "outputs": [],
      "source": [
        "# We reload the csv\n",
        "fm = pd.read_csv('../input/ForumMessages.csv')\n",
        "fm = fm[['Message', 'Score']]\n",
        "fm['Message'] = fm['Message'].astype(str).apply(words_wo_quotes)\n",
        "\n",
        "# For each word, we count the number of messages where it appears and the corresponding scores \n",
        "score_dict = defaultdict(int)\n",
        "count_dict = defaultdict(int)\n",
        "def fill_dict(x):\n",
        "    for w in x[0]:\n",
        "        score_dict[w] += x[1]\n",
        "        count_dict[w] += 1\n",
        "fm.apply(fill_dict, axis=1)\n",
        "\n",
        "# We sort the words according to the ratio (scores of the messages where it appears)/(number of messages where it appears)\n",
        "lwords = []\n",
        "for de in score_dict:\n",
        "    if count_dict[de]>min_proportion:\n",
        "        lwords.append([de, score_dict[de]/count_dict[de]])\n",
        "lwords = sorted(lwords, key=lambda h:h[1], reverse=True)\n",
        "\n",
        "# Once again, we plot the 20 \"best\" words\n",
        "plt.rcParams[\"figure.figsize\"] = (10, 12)\n",
        "x_axis = [wx[1] for wx in lwords[:20]]\n",
        "y_axis = [wx[0] for wx in lwords[:20]]\n",
        "plt.barh(range(60, 0, -3), x_axis, height=1.5, alpha=0.6)\n",
        "plt.yticks(np.arange(60.5, 0.5, -3), y_axis, fontsize=20)\n",
        "plt.xlabel('Average score', fontsize=16)\n",
        "plt.ylabel('Word used', fontsize=16)\n",
        "plt.title('The 20 best words to use to have a good score', fontsize=22)\n",
        "plt.show()"
      ]
    },
    {
      "cell_type": "markdown",
      "metadata": {
        "_cell_guid": "05d0bffa-f4fa-30c0-19d4-e9ecca18110e"
      },
      "source": [
        "Some remarks:\n",
        "- Since I did not drop HTML tags, we can see that it is very good practice to use unordered lists!\n",
        "- It seems that people like to see github repos.\n",
        "- Several words attracting interest are about the techniques that are used: engineering, linear, tree, ensemble, neural, logistic...\n",
        "\n",
        "And to answer our former question, with a rank of 620th of 640, the word \"please\" does not appear to be the magic word!! \n",
        "\n",
        "- \"So what's the magic word?\"\n",
        "- \"uuuuuuuuuul!\"\n",
        "\n",
        ":)\n",
        "\n"
      ]
    }
  ],
  "metadata": {
    "_change_revision": 0,
    "_is_fork": false,
    "kernelspec": {
      "display_name": "Python 3",
      "language": "python",
      "name": "python3"
    },
    "language_info": {
      "codemirror_mode": {
        "name": "ipython",
        "version": 3
      },
      "file_extension": ".py",
      "mimetype": "text/x-python",
      "name": "python",
      "nbconvert_exporter": "python",
      "pygments_lexer": "ipython3",
      "version": "3.5.2"
    }
  },
  "nbformat": 4,
  "nbformat_minor": 0
}