{
  "cells": [
    {
      "cell_type": "markdown",
      "metadata": {
        "_cell_guid": "834ab97f-6a89-72d5-5c8b-5be1f49a5807"
      },
      "source": [
        "As a serving U.S. Army infantry officer I want to briefly demonstrate the burden of casualties that infantry forces bore in Vietnam (as they do in every conflict)."
      ]
    },
    {
      "cell_type": "code",
      "execution_count": null,
      "metadata": {
        "_cell_guid": "ca205f2b-52b6-73a9-14c0-fd5c6dfd7032"
      },
      "outputs": [],
      "source": [
        "# This Python 3 environment comes with many helpful analytics libraries installed\n",
        "# It is defined by the kaggle/python docker image: https://github.com/kaggle/docker-python\n",
        "# For example, here's several helpful packages to load in \n",
        "\n",
        "import numpy as np # linear algebra\n",
        "import pandas as pd # data processing, CSV file I/O (e.g. pd.read_csv)\n",
        "\n",
        "# Input data files are available in the \"../input/\" directory.\n",
        "# For example, running this (by clicking run or pressing Shift+Enter) will list the files in the input directory\n",
        "\n",
        "from subprocess import check_output\n",
        "print(check_output([\"ls\", \"../input\"]).decode(\"utf8\"))\n",
        "\n",
        "# Any results you write to the current directory are saved as output."
      ]
    },
    {
      "cell_type": "code",
      "execution_count": null,
      "metadata": {
        "_cell_guid": "6fdff055-db8e-8af8-84db-aef608eda0c4"
      },
      "outputs": [],
      "source": [
        "import numpy as np\n",
        "import matplotlib.pyplot as plt\n",
        "import seaborn as sns\n",
        "import pandas as pd\n",
        "\n",
        "data = pd.read_csv('../input/VietnamConflict.csv')\n",
        "data1 = data[data['BRANCH'].isin(['ARMY', 'MARINE CORPS'])]"
      ]
    },
    {
      "cell_type": "markdown",
      "metadata": {
        "_cell_guid": "806a4b6b-a196-6940-ebaf-fd4c76018f53"
      },
      "source": [
        "Now we come to the part that requires specific domain knowledge. How many of these positions are infantry? Hint: not just the ones that specifically have 'infantry' in the title. Of course, I have to exercise some judgement here since job titles have changed over the years. In general I will not include Rangers and Special Forces in this list, even though the majority of those fine folks are infantry."
      ]
    },
    {
      "cell_type": "code",
      "execution_count": null,
      "metadata": {
        "_cell_guid": "b15801df-b69a-9160-9035-f6e0fe681fbb"
      },
      "outputs": [],
      "source": [
        "infantry_MOS = ['INFANTRY OPERATIONS AND INTELLIGENCE SPECIALIST', 'INDIRECT FIRE INFANTRYMAN', 'INFANTRY UNIT LEADER', 'PARACHUTIST, INFANTRY UNIT COMMANDER', 'INFANTRYMAN', 'RIFLEMAN', 'MACHINEGUNNER', 'INFANTRY OFFICER (I)', 'ASSAULTMAN', 'HEAVY ANTI-ARMOR WEAPONS INFANTRYMAN', 'MORTARMAN', 'INFANTRY UNIT COMMANDER', 'BASIC INFANTRY OFFICER', 'RANGER, OPERATIONS AND TRAINING STAFF OFFICER (G3,A3,S3)', 'INFANTRY SENIOR SERGEANT', 'BASIC INFANTRYMAN', 'RANGER, UNIT OFFICER, TRAINING CENTER', 'RANGER, INFANTRY UNIT COMMANDER', 'RANGER', 'INFANTRY UNIT COMMANDER, (MECHANIZED)', 'LAV ASSAULTMAN', 'SCOUT-SNIPER']\n",
        "infantry = data1[data1['POSITION'].isin(infantry_MOS)]\n",
        "# What proportion of Vietnam casualties were infantrymen?\n",
        "infantry_cas = infantry.FATALITY_YEAR.count()\n",
        "total_cas = data.FATALITY_YEAR.count()\n",
        "infantry_portion = infantry_cas / total_cas * 100\n",
        "print('Infantrymen sustained {}% of total casualties in the Vietnam war.'.format(infantry_portion))"
      ]
    },
    {
      "cell_type": "markdown",
      "metadata": {
        "_cell_guid": "2d0e7326-ff44-7b94-4ef6-cdca5d493c13"
      },
      "source": [
        "No surprises here. Actually it is probable that this number is abnormally low because of the nature of the conflict. Unconventional (i.e. guerilla) wars tend to cause greater casualties among non-infantry troops because guerilla fighters deliberately attempt to attack 'soft' (i.e. not combat) targets. This has certainly been true throughout the Global War on Terror.\n",
        "\n",
        "Incidentally, this is not meant as a veiled criticism of guerilla tactics. It is good sense to attack non-combat units because they are easier to successfully hurt."
      ]
    },
    {
      "cell_type": "markdown",
      "metadata": {
        "_cell_guid": "6d384163-8d9b-6ecf-ab9c-83088f6df2be"
      },
      "source": [
        "Now let's take a look at infantry casualties by rank as compared to the remainder of the war's casualties. I expect to see that infantry casualties tend to be both lower ranking and younger than the remainder. I don't know that this will necessarily be true, however. I just know that infantrymen tend to be young and that infantry structure has proportionately more lower-ranking individuals than other unit types."
      ]
    },
    {
      "cell_type": "code",
      "execution_count": null,
      "metadata": {
        "_cell_guid": "e9b61873-5462-a301-ca5e-d3402689f129"
      },
      "outputs": [],
      "source": [
        "non_infantry = data1[-data1['POSITION'].isin(infantry_MOS)]\n",
        "navy_af = data[data['BRANCH'].isin(['NAVY', 'AIR FORCE'])]\n",
        "by_grade = ['E01', 'E02', 'E03', 'E04', 'E05', 'E06', 'E07', 'E08', 'E09', 'W01', 'W02', 'W03','W04', 'W05', 'O01', 'O02', 'O03', 'O04', 'O05', 'O06', 'O07']\n",
        "plt.subplot(3,1,1)\n",
        "_ = sns.countplot(x='PAY_GRADE', data=infantry, order=by_grade)\n",
        "_ = plt.title('Infantry Casualties (Army & Marine Corps)')\n",
        "_ = plt.xlabel('Pay Grade')\n",
        "_ = plt.ylabel('Number of Casualties')\n",
        "plt.subplot(3,1,2)\n",
        "_ = sns.countplot(x='PAY_GRADE', data=non_infantry, order=by_grade)\n",
        "_ = plt.title('Non-Infantry Casualties (Army & Marine Corps)')\n",
        "_ = plt.xlabel('Pay Grade')\n",
        "_ = plt.ylabel('Number of Casualties')\n",
        "plt.subplot(3,1,3)\n",
        "_ = sns.countplot(x='PAY_GRADE', data=navy_af, order=by_grade)\n",
        "_ = plt.title('Navy & Air Force Casualties')\n",
        "_ = plt.xlabel('Pay Grade')\n",
        "_ = plt.ylabel('Number of Casualties')\n",
        "plt.tight_layout()\n",
        "plt.show()    "
      ]
    },
    {
      "cell_type": "markdown",
      "metadata": {
        "_cell_guid": "74e2fc85-9c1e-c9fe-a507-e10812735f36"
      },
      "source": [
        "As expected, infantry casualties tend to occur at lower pay grades than non-infantry casualties. There is an immediately noticeable increase in the proportional number of officer casualties among non-infantry service-members (SMs) within the Army and Marine Corps. I expect this would become considerably more pronounced if I had seperated out all combat arms troops (i.e. cavalry, armor, special forces, rangers) instead of just infantry.\n",
        "\n",
        "Within the Navy and Air Force the casualty structure is significantly different, with nearly as many deaths in the officer as in the enlisted ranks. This is likely because fixed-wing aircraft pilots are officers and the Navy and Air Force both lost good numbers of aircraft during the war. It is possible with this dataset to look into this more closely by seperating out the pilots in these two services, but for now I'm going to move on. If I get distracted I'll never finish, after all."
      ]
    },
    {
      "cell_type": "code",
      "execution_count": null,
      "metadata": {
        "_cell_guid": "6a043076-d768-d4bf-1469-46e54a98ce6e"
      },
      "outputs": [],
      "source": [
        "# I have to disable a chained assignment warning here because it keeps popping up but has not value\n",
        "# to what I am actually doing here (as far as I can tell)\n",
        "pd.options.mode.chained_assignment = None\n",
        "# Infantry ages first...\n",
        "birth = pd.Series(infantry.loc[:,'BIRTH_YEAR'].floordiv(10000), index=infantry.index)\n",
        "infantry.loc[:,'BIRTH_YR'] = birth\n",
        "for row in infantry:\n",
        "    age_at_death = []\n",
        "    birth = infantry.BIRTH_YR\n",
        "    death = infantry.FATALITY_YEAR\n",
        "    age = death - birth\n",
        "    age_at_death.extend(age)\n",
        "age = pd.Series(age_at_death, index=infantry.index)\n",
        "infantry.loc[:,'AGE'] = age\n",
        "# then non-infantry...\n",
        "birth = pd.Series(non_infantry.loc[:,'BIRTH_YEAR'].floordiv(10000), index=non_infantry.index)\n",
        "non_infantry.loc[:,'BIRTH_YR'] = birth\n",
        "for row in non_infantry:    \n",
        "    age_at_death2 = []\n",
        "    birth = non_infantry.BIRTH_YR\n",
        "    death = non_infantry.FATALITY_YEAR\n",
        "    age = death - birth\n",
        "    age_at_death2.extend(age)\n",
        "age = pd.Series(age_at_death2, index=non_infantry.index)\n",
        "non_infantry.loc[:,'AGE'] = age\n",
        "# and lastly my sister services...\n",
        "birth = pd.Series(navy_af.loc[:,'BIRTH_YEAR'].floordiv(10000), index=navy_af.index)\n",
        "navy_af.loc[:,'BIRTH_YR'] = birth\n",
        "for row in navy_af:    \n",
        "    age_at_death3 = []\n",
        "    birth = navy_af.BIRTH_YR\n",
        "    death = navy_af.FATALITY_YEAR\n",
        "    age = death - birth\n",
        "    age_at_death3.extend(age)\n",
        "age = pd.Series(age_at_death3, index=navy_af.index)\n",
        "navy_af.loc[:,'AGE'] = age\n",
        "\n",
        "plt.subplot(3,1,1)\n",
        "_ = sns.countplot(x='AGE', data=infantry)\n",
        "_ = plt.title('Infantry Age at Death')\n",
        "_ = plt.xlabel('Age')\n",
        "_ = plt.ylabel('Number of Fatalities')\n",
        "plt.subplot(3,1,2)\n",
        "_ = sns.countplot(x='AGE', data=non_infantry)\n",
        "_ = plt.title('Non-Infantry Age at Death (Army & Marine Corps)')\n",
        "_ = plt.xlabel('Age')\n",
        "_ = plt.ylabel('Number of Fatalities')\n",
        "plt.subplot(3,1,3)\n",
        "_ = sns.countplot(x='AGE', data=navy_af)\n",
        "_ = plt.title('Navy & Air Force Ages at Death')\n",
        "_ = plt.xlabel('Age')\n",
        "_ = plt.ylabel('Number of Fatalities')\n",
        "plt.tight_layout()\n",
        "plt.show()   \n",
        "\n",
        "inf_mean = infantry.AGE.mean()\n",
        "inf_median = infantry.AGE.median()\n",
        "non_inf_mean = non_infantry.AGE.mean()\n",
        "non_inf_median = non_infantry.AGE.median()\n",
        "oth_svc_mean = navy_af.AGE.mean()\n",
        "oth_svc_median = navy_af.AGE.median()\n",
        "print('Infantry mean and median age at death are ' + str(inf_mean) + ' and ' + str(inf_median) + ' , respectively.')\n",
        "print('Non-Infantry mean and median age at death are ' + str(non_inf_mean) + ' and ' + str(non_inf_median) + ' , respectively.')\n",
        "print('AF/Navy mean and median age at death are ' + str(oth_svc_mean) + ' and ' + str(oth_svc_median) + ' , respectively.')"
      ]
    },
    {
      "cell_type": "markdown",
      "metadata": {
        "_cell_guid": "237e0c25-8c4f-ffe0-7a97-42188dcdf8aa"
      },
      "source": [
        "Looks like there is little difference between the infantry and non-infantry ages at death for the Army and Marine Corps. There is a quite significant difference between those two services and the Navy and Air Force, however. It is quite clear from this analysis that the burden of bleeding for one's country falls quite disproportionately on the young in the Army and Marine Corps, but this hardly comes as a surprise.\n",
        "\n",
        "Now I'll see how hostile and non-hostile deaths stack up between my categories of service-members."
      ]
    },
    {
      "cell_type": "code",
      "execution_count": null,
      "metadata": {
        "_cell_guid": "e729d33a-1968-405e-3640-44ce8284021f"
      },
      "outputs": [],
      "source": [
        "infantry['HOSTILITY_CONDITIONS'] = infantry['HOSTILITY_CONDITIONS'].replace(['H', 'NH'], ['Hostile', 'Non-hostile'])\n",
        "_ = sns.countplot(x='HOSTILITY_CONDITIONS', data=infantry)\n",
        "_ = plt.title('Casualty Breakdown, Infantry')\n",
        "_ = plt.xlabel('Hostility Conditions')\n",
        "_ = plt.ylabel('Number of Fatalities')\n",
        "plt.show()\n",
        "\n",
        "total_deaths = infantry['HOSTILITY_CONDITIONS'].count()\n",
        "hostile = infantry[infantry['HOSTILITY_CONDITIONS'] == 'Hostile']\n",
        "hostile_death = hostile['HOSTILITY_CONDITIONS'].count()\n",
        "non_hostile = infantry[infantry['HOSTILITY_CONDITIONS'] == 'Non-hostile']\n",
        "non_hostile_death = non_hostile['HOSTILITY_CONDITIONS'].count()\n",
        "non_hostile_ratio = non_hostile_death / total_deaths * 100\n",
        "hostile_ratio = hostile_death / total_deaths * 100\n",
        "print('Infantry SMs sustained {}% hostile casualties and {}% non-hostile casualties.'.format(hostile_ratio, non_hostile_ratio))"
      ]
    },
    {
      "cell_type": "code",
      "execution_count": null,
      "metadata": {
        "_cell_guid": "80aecae1-de4e-3276-ff4d-74e865475e1b"
      },
      "outputs": [],
      "source": [
        "non_infantry['HOSTILITY_CONDITIONS'] = non_infantry['HOSTILITY_CONDITIONS'].replace(['H', 'NH'], ['Hostile', 'Non-hostile'])\n",
        "_ = sns.countplot(x='HOSTILITY_CONDITIONS', data=non_infantry)\n",
        "_ = plt.title('Casualty Breakdown, Non-Infantry')\n",
        "_ = plt.xlabel('Hostility Conditions')\n",
        "_ = plt.ylabel('Number of Fatalities')\n",
        "plt.show()\n",
        "\n",
        "total_deaths = non_infantry['HOSTILITY_CONDITIONS'].count()\n",
        "ninf_hostile = non_infantry[non_infantry['HOSTILITY_CONDITIONS'] == 'Hostile']\n",
        "hostile_death = ninf_hostile['HOSTILITY_CONDITIONS'].count()\n",
        "ninf_non_hostile = non_infantry[non_infantry['HOSTILITY_CONDITIONS'] == 'Non-hostile']\n",
        "ninf_non_hostile_death = ninf_non_hostile['HOSTILITY_CONDITIONS'].count()\n",
        "non_hostile_ratio = ninf_non_hostile_death / total_deaths * 100\n",
        "hostile_ratio = hostile_death / total_deaths * 100\n",
        "print('Non-infantry SMs sustained {}% hostile casualties and {}% non-hostile casualties.'.format(hostile_ratio, non_hostile_ratio))"
      ]
    },
    {
      "cell_type": "code",
      "execution_count": null,
      "metadata": {
        "_cell_guid": "c0b0a7dd-daad-17a7-f434-625a3fbb9dd6"
      },
      "outputs": [],
      "source": [
        "navy_af['HOSTILITY_CONDITIONS'] = navy_af['HOSTILITY_CONDITIONS'].replace(['H', 'NH'], ['Hostile', 'Non-hostile'])\n",
        "_ = sns.countplot(x='HOSTILITY_CONDITIONS', data=navy_af, order=['Hostile', 'Non-hostile'])\n",
        "_ = plt.title('Casualty Breakdown, Navy & Air Force')\n",
        "_ = plt.xlabel('Hostility Conditions')\n",
        "_ = plt.ylabel('Number of Fatalities')\n",
        "plt.show()\n",
        "\n",
        "total_deaths = navy_af['HOSTILITY_CONDITIONS'].count()\n",
        "naf_hostile = navy_af[navy_af['HOSTILITY_CONDITIONS'] == 'Hostile']\n",
        "hostile_death = naf_hostile['HOSTILITY_CONDITIONS'].count()\n",
        "naf_non_hostile = navy_af[navy_af['HOSTILITY_CONDITIONS'] == 'Non-hostile']\n",
        "naf_non_hostile_death = naf_non_hostile['HOSTILITY_CONDITIONS'].count()\n",
        "naf_non_hostile_ratio = naf_non_hostile_death / total_deaths * 100\n",
        "hostile_ratio = hostile_death / total_deaths * 100\n",
        "print('Navy & Air Force SMs sustained {}% hostile casualties and {}% non-hostile casualties.'.format(hostile_ratio, non_hostile_ratio))"
      ]
    },
    {
      "cell_type": "markdown",
      "metadata": {
        "_cell_guid": "bec13cfa-acc2-89c1-5b22-7b3bc7898d69"
      },
      "source": [
        "It is interesting to note that non-infantry casualties are roughly similiar proportionately to Navy/Air Force casualties over the course of the conflict. This might indicate that there are more similarities between the experience of war between Navy/Air Force personnel and non-infantry Soldiers and Marines than there are between non-infantry Soldiers/Marines and their infantry brethren. One way to shed a little additional light on this thought is to see if there are similarities in the way in which these folks perished."
      ]
    },
    {
      "cell_type": "code",
      "execution_count": null,
      "metadata": {
        "_cell_guid": "a6af0f42-0324-6d0a-f795-4cf8623d6499"
      },
      "outputs": [],
      "source": [
        "order = ['ACCIDENT', 'ILLNESS', 'HOMICIDE', 'SELF-INFLICTED', 'PRESUMED DEAD']\n",
        "plt.subplot(2,1,1)\n",
        "_ = sns.countplot(x='FATALITY', data=ninf_non_hostile, order=order)\n",
        "_ = plt.title('Army/Marine Corps Non-infantry Non-hostile Fatalities by Category')\n",
        "_ = plt.xlabel('Fatality Category')\n",
        "_ = plt.ylabel('Number of Fatalities')\n",
        "\n",
        "plt.subplot(2,1,2)\n",
        "_ = sns.countplot(x='FATALITY', data=naf_non_hostile, order=order)\n",
        "_ = plt.title('Navy/Air Force Non-hostile Fatalities by Category')\n",
        "_ = plt.xlabel('Fatality Category')\n",
        "_ = plt.ylabel('Number of Fatalities')\n",
        "plt.tight_layout()\n",
        "plt.show()"
      ]
    },
    {
      "cell_type": "markdown",
      "metadata": {
        "_cell_guid": "2613561b-b111-e93a-82c2-66bfe6e3701d"
      },
      "source": [
        "Overall quite similiar profiles for non-hostile fatalities. So what about hostile ones? For this we'll have to drill a little deeper and look at actual cause of death."
      ]
    },
    {
      "cell_type": "code",
      "execution_count": null,
      "metadata": {
        "_cell_guid": "ea9e9c90-f8e1-1ec8-c4ab-7963e56c0064"
      },
      "outputs": [],
      "source": [
        "plt.subplot(2,1,1)\n",
        "_ = sns.countplot(x='FATALITY_2', data=ninf_hostile)\n",
        "_ = plt.title('Army/Marine Corps Non-infantry Non-hostile Fatalities by Category')\n",
        "_ = plt.xlabel('Fatality Category')\n",
        "_ = plt.xticks(rotation=15)\n",
        "_ = plt.ylabel('Number of Fatalities')\n",
        "\n",
        "plt.subplot(2,1,2)\n",
        "_ = sns.countplot(x='FATALITY_2', data=naf_hostile)\n",
        "_ = plt.title('Navy/Air Force Non-hostile Fatalities by Category')\n",
        "_ = plt.xlabel('Fatality Category')\n",
        "_ = plt.xticks(rotation=15)\n",
        "_ = plt.ylabel('Number of Fatalities')\n",
        "plt.tight_layout()\n",
        "plt.show()"
      ]
    },
    {
      "cell_type": "code",
      "execution_count": null,
      "metadata": {
        "_cell_guid": "1edefbae-60bb-f289-308e-44ef88d9ce19"
      },
      "outputs": [],
      "source": [
        "words = ninf_hostile['FATALITY_2'].tolist()\n",
        "words = str(words)\n",
        "\n",
        "from wordcloud import WordCloud\n",
        "\n",
        "wordcloud = WordCloud(width=1200, height=1000).generate(text=words)\n",
        "plt.title('Non-infantry Hostile Fatality WordCloud')\n",
        "plt.imshow(wordcloud)\n",
        "plt.show()"
      ]
    },
    {
      "cell_type": "code",
      "execution_count": null,
      "metadata": {
        "_cell_guid": "a4add476-9a67-50a1-5b11-e004784a1241"
      },
      "outputs": [],
      "source": [
        "\n",
        "words2 = naf_hostile['FATALITY_2'].tolist()\n",
        "words2 = str(words2)\n",
        "wordcloud2 = WordCloud(width=1200, height=1000).generate(text=words2)\n",
        "plt.title('Navy/Air Force Hostile Fatality WordCloud')\n",
        "plt.imshow(wordcloud2)\n",
        "plt.show()"
      ]
    },
    {
      "cell_type": "markdown",
      "metadata": {
        "_cell_guid": "ec6787ae-5016-737b-ae49-1120cf9dcb4c"
      },
      "source": [
        "I think this does a much better job of illustrating the difference in the way hostile casualties were inflicted on these forces. Clearly Navy and Air Force casualties mostly involved aircraft crashing or getting shot down while non-infantry Marine and Army casualties were more likely to be inflicted by small arms fire.\n",
        "\n",
        "Another interesting thing to look at in this dataset might be *when* these SMs died. If we can divide deaths between the rainy and dry seasons in Vietnam we might be able to illustrate whether or not there was a 'fighting season' during this conflict. As an example, in Afghanistan today most fighting occurs during the spring and summer months. Warmer temperatures are more conducive to ill-equipped troops maneuvering and attacking U.S. and coalition forces. I am curious to know if the same was true in Vietnam. If it was it ought to be indicated pretty clearly by the distribution of hostile infantry casualties by month. So let's take a look and see what we can discover.\n",
        "\n",
        "First I'll just look at how casualties are dispersed across the duration of the conflict. I have seen in some of the other kernels done on this dataset that there are casualties in the 2000s, which are obviously incorrect. I assume that these represent casualties that were discovered during the recent recovery efforts in Vietnam. If this is true I will have to remove these to make my analysis meaningful (since clearly I won't know which year/month these fine Americans died)."
      ]
    },
    {
      "cell_type": "code",
      "execution_count": null,
      "metadata": {
        "_cell_guid": "72b82f40-b915-1e1a-4888-b5c01e86878b"
      },
      "outputs": [],
      "source": [
        "hostile['FATALITY_DATE'] = hostile['FATALITY_DATE'].floordiv(100)\n",
        "\n",
        "_ = sns.distplot(hostile['FATALITY_DATE'])\n",
        "_ = plt.title('Infantry Hostile Fire Casualties by Date')\n",
        "plt.show()"
      ]
    },
    {
      "cell_type": "markdown",
      "metadata": {
        "_cell_guid": "b46136e0-54e8-972c-6db9-aa2de613fce4"
      },
      "source": [
        "As expected."
      ]
    },
    {
      "cell_type": "code",
      "execution_count": null,
      "metadata": {
        "_cell_guid": "ed070d97-31f9-3b95-b4bd-0f41b50538b2"
      },
      "outputs": [],
      "source": [
        "hostile = hostile[hostile['FATALITY_DATE'] < 197505]\n",
        "\n",
        "hostile['FATALITY_MONTH'] = hostile['FATALITY_DATE'] - 190000"
      ]
    },
    {
      "cell_type": "code",
      "execution_count": null,
      "metadata": {
        "_cell_guid": "2eb5ddb9-9a28-cba0-8331-0722a841c756"
      },
      "outputs": [],
      "source": [
        "hostile['FATALITY_MONTH'] = 0\n",
        "hostile['FATALITY_MONTH'][hostile['FATALITY_DATE'].isin([196201, 196301, 196401, 196501, 196601, 196701, 196801, 196901, 197001, 197101, 197201, 197301, 197401, 197501])] = 'January'\n",
        "hostile['FATALITY_MONTH'][hostile['FATALITY_DATE'].isin([196202, 196302, 196402, 196502, 196602, 196702, 196802, 196902, 197002, 197102, 197202, 197302, 197402, 197502])] = 'February'\n",
        "hostile['FATALITY_MONTH'][hostile['FATALITY_DATE'].isin([196203, 196303, 196403, 196503, 196603, 196703, 196803, 196903, 197003, 197103, 197203, 197303, 197403, 197503])] = 'March'\n",
        "hostile['FATALITY_MONTH'][hostile['FATALITY_DATE'].isin([196204, 196304, 196404, 196504, 196604, 196704, 196804, 196904, 197004, 197104, 197204, 197304, 197404, 197504])] = 'April'\n",
        "hostile['FATALITY_MONTH'][hostile['FATALITY_DATE'].isin([196205, 196305, 196405, 196505, 196605, 196705, 196805, 196905, 197005, 197105, 197205, 197305, 197405, 197505])] = 'May'\n",
        "hostile['FATALITY_MONTH'][hostile['FATALITY_DATE'].isin([196206, 196306, 196406, 196506, 196606, 196706, 196806, 196906, 197006, 197106, 197206, 197306, 197406, 197506])] = 'June'\n",
        "hostile['FATALITY_MONTH'][hostile['FATALITY_DATE'].isin([196207, 196307, 196407, 196507, 196607, 196707, 196807, 196907, 197007, 197107, 197207, 197307, 197407, 197507])] = 'July'\n",
        "hostile['FATALITY_MONTH'][hostile['FATALITY_DATE'].isin([196208, 196308, 196408, 196508, 196608, 196708, 196808, 196908, 197008, 197108, 197208, 197308, 197408, 197508])] = 'August'\n",
        "hostile['FATALITY_MONTH'][hostile['FATALITY_DATE'].isin([196209, 196309, 196409, 196509, 196609, 196709, 196809, 196909, 197009, 197109, 197209, 197309, 197409, 197509])] = 'September'\n",
        "hostile['FATALITY_MONTH'][hostile['FATALITY_DATE'].isin([196210, 196310, 196410, 196510, 196610, 196710, 196810, 196910, 197010, 197110, 197210, 197310, 197410, 197510])] = 'October'\n",
        "hostile['FATALITY_MONTH'][hostile['FATALITY_DATE'].isin([196211, 196311, 196411, 196511, 196611, 196711, 196811, 196911, 197011, 197111, 197211, 197311, 197411, 197511])] = 'November'\n",
        "hostile['FATALITY_MONTH'][hostile['FATALITY_DATE'].isin([196212, 196312, 196412, 196512, 196612, 196712, 196812, 196912, 197012, 197112, 197212, 197312, 197412, 197512])] = 'December'"
      ]
    },
    {
      "cell_type": "code",
      "execution_count": null,
      "metadata": {
        "_cell_guid": "75809628-3ce7-12ee-2cb2-0b7a46f56f42"
      },
      "outputs": [],
      "source": [
        "hostile['season'] = 0\n",
        "\n",
        "hostile['season'][hostile['FATALITY_MONTH'].isin(['October', 'November', 'December'])] = 'rainy'\n",
        "hostile['season'][-hostile['FATALITY_MONTH'].isin(['October', 'November', 'December'])] = 'dry'"
      ]
    },
    {
      "cell_type": "code",
      "execution_count": null,
      "metadata": {
        "_cell_guid": "53402a5f-8ff5-92f8-b7f2-12846d05aaf3"
      },
      "outputs": [],
      "source": [
        "order = ['January', 'February', 'March', 'April', 'May', 'June', 'July', 'August', 'September', 'October', 'November', 'December']\n",
        "_ = sns.countplot(x='FATALITY_MONTH', hue='season', data=hostile, order=order, hue_order=['rainy', 'dry'])\n",
        "_ = plt.title('Infantry Fatalities by Hostile Fire (by month)')\n",
        "_ = plt.xlabel('Month')\n",
        "_ = plt.ylabel('Number of Casualties')\n",
        "plt.xticks(rotation=40)\n",
        "plt.show()"
      ]
    },
    {
      "cell_type": "code",
      "execution_count": null,
      "metadata": {
        "_cell_guid": "0ffd5282-84d8-20a6-0122-423472033315"
      },
      "outputs": [],
      "source": [
        "plt.subplot(2,1,1)\n",
        "_ = sns.countplot(x='FATALITY_YEAR', data=hostile)\n",
        "_ = plt.title('Infantry Hostile Casualties by Year')\n",
        "_ = plt.xlabel('Fatality Year')\n",
        "_ = plt.ylabel('Number of Casualties')\n",
        "plt.xticks(rotation=45)\n",
        "plt.subplot(2,1,2)\n",
        "_ = sns.countplot(x='FATALITY_YEAR', data=data)\n",
        "_ = plt.title('Total Fatalities by Year')\n",
        "_ = plt.xlabel('Fatality Year')\n",
        "_ = plt.ylabel('Number of Casualties')\n",
        "plt.xticks(rotation=45)\n",
        "plt.tight_layout()\n",
        "plt.show()"
      ]
    },
    {
      "cell_type": "markdown",
      "metadata": {
        "_cell_guid": "b9d74828-dff9-4aca-25da-8cf7524e1dd1"
      },
      "source": [
        "All right, looks like my hypothesis was correct. Casualties were lower during the rainy season months than during the dry season. The highest casualties over the course of the conflict occurred during the dry season and gradually trailed off as the rainy season approached. Apparently the 'fighting season' during the Vietnam conflict occurred during the dry season, which is not particularly surprising.\n",
        "\n",
        "I also plotted casualties by year for Infantry and the total force just for fun. Evidently 1968 was a bad year.\n",
        "\n",
        "Well, I think that answers all of my questions for this dataset. It's been fun exploring it.  Please feel free to upvote or comment as you see fit. \n",
        "\n",
        "Upvotes are always appreciated!\n",
        "==============================="
      ]
    }
  ],
  "metadata": {
    "_change_revision": 0,
    "_is_fork": false,
    "kernelspec": {
      "display_name": "Python 3",
      "language": "python",
      "name": "python3"
    },
    "language_info": {
      "codemirror_mode": {
        "name": "ipython",
        "version": 3
      },
      "file_extension": ".py",
      "mimetype": "text/x-python",
      "name": "python",
      "nbconvert_exporter": "python",
      "pygments_lexer": "ipython3",
      "version": "3.6.0"
    }
  },
  "nbformat": 4,
  "nbformat_minor": 0
}