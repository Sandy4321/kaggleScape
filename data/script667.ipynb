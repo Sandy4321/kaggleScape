{
  "cells": [
    {
      "cell_type": "markdown",
      "metadata": {
        "_cell_guid": "42bd3d11-972a-5842-77f3-99a44ef409a6"
      },
      "source": [
        "\u8fd9\u662f\u6211\u7b2c\u4e00\u6b21\u53c2\u52a0kaggle\u6bd4\u8d5b\uff0c\u6536\u83b7\u5f88\u5927\uff0c\u63d0\u4ea4\u4e86\u5f88\u591a\u6b21\uff0c\u6700\u540e\u7684\u7ed3\u679c\u505c\u7559\u57280.12\uff0c\u6700\u8fd1\u6bd4\u8f83\u5fd9\uff0c\u4e0d\u80fd\u518d\u96c6\u4e2d\u7cbe\u529b\u641ekaggle\u4e86\uff0c\u5199\u4e00\u7bc7kernels\uff0c\u548c\u5927\u5bb6\u5206\u4eab\u4e00\u4e0b\u7ecf\u9a8c\u3002\n",
        "\u8bf4\u660e\uff1a\u672c\u7bc7kernel\u53c2\u8003\u4e86\u5f88\u591a\u5176\u4ed6kernel\u7684\u4ee3\u7801\u548c\u7ecf\u9a8c\uff0c\u7a0d\u540e\u4f1a\u7ed9\u51fa\u76f8\u5e94\u7684\u94fe\u63a5\u3002\n",
        "\n",
        "Thanks to:\n",
        "https://www.kaggle.com/pmarcelino/house-prices-advanced-regression-techniques/comprehensive-data-exploration-with-python\n",
        "\n",
        "https://www.kaggle.com/meikegw/house-prices-advanced-regression-techniques/filling-up-missing-values\n",
        "\n",
        "https://www.kaggle.com/apapiu/house-prices-advanced-regression-techniques/regularized-linear-models"
      ]
    },
    {
      "cell_type": "code",
      "execution_count": null,
      "metadata": {
        "_cell_guid": "7a489dac-01a6-5c0c-230e-4c61bc86edcb"
      },
      "outputs": [],
      "source": [
        "# This Python 3 environment comes with many helpful analytics libraries installed\n",
        "# It is defined by the kaggle/python docker image: https://github.com/kaggle/docker-python\n",
        "# For example, here's several helpful packages to load in \n",
        "\n",
        "import numpy as np # linear algebra\n",
        "import pandas as pd # data processing, CSV file I/O (e.g. pd.read_csv)\n",
        "\n",
        "# Input data files are available in the \"../input/\" directory.\n",
        "# For example, running this (by clicking run or pressing Shift+Enter) will list the files in the input directory\n",
        "\n",
        "from subprocess import check_output\n",
        "print(check_output([\"ls\", \"../input\"]).decode(\"utf8\"))\n",
        "\n",
        "# Any results you write to the current directory are saved as output."
      ]
    },
    {
      "cell_type": "code",
      "execution_count": null,
      "metadata": {
        "_cell_guid": "ad2039cc-ed5b-a583-fff8-8cf4935e45ea"
      },
      "outputs": [],
      "source": [
        "import pandas as pd\n",
        "import matplotlib.pyplot as plt\n",
        "import numpy as np\n",
        "\n",
        "from sklearn.linear_model import Lasso\n",
        "from sklearn.ensemble import RandomForestRegressor\n",
        "from sklearn.ensemble import GradientBoostingRegressor\n",
        "from sklearn.grid_search import GridSearchCV\n",
        "from sklearn.ensemble import GradientBoostingRegressor"
      ]
    },
    {
      "cell_type": "markdown",
      "metadata": {
        "_cell_guid": "6a0fb685-cab5-fe35-1800-53101dcb1f90"
      },
      "source": [
        "\u52a0\u8f7d\u6570\u636e\u5230\u5185\u5b58"
      ]
    },
    {
      "cell_type": "code",
      "execution_count": null,
      "metadata": {
        "_cell_guid": "6ed8fe4e-5698-de97-eab8-1af588655231"
      },
      "outputs": [],
      "source": [
        "# \u52a0\u8f7d\u6570\u636e\n",
        "train_data = pd.read_csv(\"../input/train.csv\")\n",
        "test_data = pd.read_csv(\"../input/train.csv\")"
      ]
    },
    {
      "cell_type": "code",
      "execution_count": null,
      "metadata": {
        "_cell_guid": "3273fde3-89ea-2c85-d466-e47911834528"
      },
      "outputs": [],
      "source": [
        "# \u5b9a\u4e49\u82e5\u5e72\u4e2a\u5bf9\u6570\u636e\u8fdb\u884c\u6e05\u7406\u7684\u51fd\u6570\uff0c\u8fd9\u4e9b\u51fd\u6570\u4e3b\u8981\u4f5c\u7528\u5728pandas\u7684DataFrame\u6570\u636e\u7c7b\u578b\u4e0a\n",
        "# \u67e5\u770b\u6570\u636e\u96c6\u5c5e\u6027\u503c\u5f97\u786e\u5b9e\u60c5\u51b5\n",
        "def show_missing(houseprice):\n",
        "    missing = houseprice.columns[houseprice.isnull().any()].tolist()\n",
        "    return missing\n",
        "\n",
        "# \u67e5\u770b categorical \u7279\u5f81\u7684\u503c\u60c5\u51b5\n",
        "def cat_exploration(houseprice, column):\n",
        "    print(houseprice[column].value_counts())\n",
        "\n",
        "# \u5bf9\u6570\u636e\u96c6\u4e2d\u67d0\u4e00\u5217\u7684\u7f3a\u5931\u503c\u8fdb\u884ctia\n",
        "def cat_imputation(houseprice, column, value):\n",
        "    houseprice.loc[houseprice[column].isnull(), column] = value\n"
      ]
    },
    {
      "cell_type": "markdown",
      "metadata": {
        "_cell_guid": "201d8af6-f0ac-ace8-cd6d-15eae96573cf"
      },
      "source": [
        "\u51c6\u5907\u5de5\u4f5c\u5b8c\u4e8b\u4e4b\u540e\uff0c\u5f00\u59cb\u5bf9shu'ju'ji"
      ]
    },
    {
      "cell_type": "code",
      "execution_count": null,
      "metadata": {
        "_cell_guid": "577e5407-b30e-7997-f3bf-6061f2c778ee"
      },
      "outputs": [],
      "source": [
        "# LotFrontage\n",
        "# check correlation with LotArea\n",
        "# print(test_data['LotFrontage'].corr(test_data['LotArea']))  # 0.64\n",
        "# print(train_data['LotFrontage'].corr(train_data['LotArea']))  # 0.42\n",
        "test_data['SqrtLotArea'] = np.sqrt(test_data['LotArea'])\n",
        "train_data['SqrtLotArea'] = np.sqrt(train_data['LotArea'])\n",
        "\n",
        "# print(test_data['LotFrontage'].corr(test_data['SqrtLotArea']))\n",
        "# print(train_data['LotFrontage'].corr(train_data['SqrtLotArea']))\n",
        "\n",
        "cond = test_data['LotFrontage'].isnull()\n",
        "test_data.LotFrontage[cond] = test_data.SqrtLotArea[cond]\n",
        "cond = train_data['LotFrontage'].isnull()\n",
        "train_data.LotFrontage[cond] = train_data.SqrtLotArea[cond]\n",
        "\n",
        "del test_data['SqrtLotArea']\n",
        "del train_data['SqrtLotArea']"
      ]
    },
    {
      "cell_type": "code",
      "execution_count": null,
      "metadata": {
        "_cell_guid": "8494a2b6-63e8-1cd6-ea19-7a9cba1e8ad3"
      },
      "outputs": [],
      "source": [
        "# MSZoning\n",
        "# \u5728test\u6d4b\u8bd5\u96c6\u4e2d\u6709\u7f3a\u5931, train\u4e2d\u6ca1\u6709\n",
        "# cat_exploration(test_data, 'MSZoning')\n",
        "# print(test_data[test_data['MSZoning'].isnull() == True])\n",
        "# MSSubClass  MSZoning\n",
        "# print(pd.crosstab(test_data.MSSubClass, test_data.MSZoning))\n",
        "# 30:RM 20:RL 70:RM\n",
        "test_data.loc[test_data['MSSubClass'] == 20, 'MSZoning'] = 'RL'\n",
        "test_data.loc[test_data['MSSubClass'] == 30, 'MSZoning'] = 'RM'\n",
        "test_data.loc[test_data['MSSubClass'] == 70, 'MSZoning'] = 'RM'"
      ]
    },
    {
      "cell_type": "code",
      "execution_count": null,
      "metadata": {
        "_cell_guid": "7603f72a-8830-fa05-4ad1-f213fcb93079"
      },
      "outputs": [],
      "source": [
        "# Alley\n",
        "# print(cat_exploration(test_data, 'Alley'))\n",
        "# print(cat_exploration(train_data, 'Alley'))\n",
        "# Alley\u8fd9\u4e2a\u7279\u5f81\u6709\u592a\u591a\u7684nans,\u8fd9\u91cc\u586b\u5145None\uff0c\u4e5f\u53ef\u4ee5\u76f4\u63a5\u5220\u9664\uff0c\u4e0d\u4f7f\u7528\u3002\u540e\u9762\u5728\u6839\u636e\u7279\u5f81\u7684\u91cd\u8981\u6027\u9009\u62e9\u7279\u5f81\u662f\uff0c\u4e5f\u53ef\u4ee5\u820d\u53bb\n",
        "cat_imputation(test_data, 'Alley', 'None')\n",
        "cat_imputation(train_data, 'Alley', 'None')"
      ]
    },
    {
      "cell_type": "code",
      "execution_count": null,
      "metadata": {
        "_cell_guid": "cde777a4-bea3-0a01-955d-345e23c8dd4a"
      },
      "outputs": [],
      "source": [
        "# Utilities\n",
        "# \u53ea\u6709test\u6709\u7f3a\u5931\u503c, train\u4e2d\u6ca1\u6709\n",
        "# \u5e76\u4e14\u8fd9\u4e2acolumn\u4e2d\u503c\u5f97\u5206\u5e03\u6781\u4e3a\u4e0d\u5747\u5300\n",
        "# drop\n",
        "# print(cat_exploration(test_data, 'Utilities'))\n",
        "# print(cat_exploration(train_data, 'Utilities'))\n",
        "# print(test_data.loc[test_data['Utilities'].isnull() == True])\n",
        "test_data = test_data.drop(['Utilities'], axis=1)\n",
        "train_data = train_data.drop(['Utilities'], axis=1)\n"
      ]
    },
    {
      "cell_type": "code",
      "execution_count": null,
      "metadata": {
        "_cell_guid": "8e22315f-668a-9877-3aa5-84b002756e90"
      },
      "outputs": [],
      "source": [
        "# Exterior1st & Exterior2nd\n",
        "# \u53ea\u5728test\u4e2d\u51fa\u73b0\u7f3a\u5931\u503c(nans only appear in test set)\n",
        "# \u68c0\u67e5Exterior1st \u548c Exterior2nd \u662f\u5426\u5b58\u5728\u7f3a\u5931\u503c\u5171\u73b0\u7684\u60c5\u51b5\n",
        "# cat_exploration(test_data, 'Exterior1st')\n",
        "# cat_exploration(train_data, 'Exterior1st')\n",
        "# print(test_data[['Exterior1st', 'Exterior2nd']][test_data['Exterior1st'].isnull() == True])\n",
        "# print(pd.crosstab(test_data.Exterior1st, test_data.ExterQual))\n",
        "test_data.loc[test_data['Exterior1st'].isnull(), 'Exterior1st'] = 'VinylSd'\n",
        "test_data.loc[test_data['Exterior2nd'].isnull(), 'Exterior2nd'] = 'VinylSd'\n",
        "\n"
      ]
    },
    {
      "cell_type": "code",
      "execution_count": null,
      "metadata": {
        "_cell_guid": "dcaa4c93-9e67-f492-e52e-cedf31e88e26"
      },
      "outputs": [],
      "source": [
        "# MasVnrType & MasVnrArea\n",
        "# print(test_data[['MasVnrType', 'MasVnrArea']][test_data['MasVnrType'].isnull() == True])\n",
        "# print(train_data[['MasVnrType', 'MasVnrArea']][train_data['MasVnrType'].isnull() == True])\n",
        "# So the missing values for the \"MasVnr...\" Variables are in the same rows.\n",
        "# cat_exploration(test_data, 'MasVnrType')\n",
        "# cat_exploration(train_data, 'MasVnrType')\n",
        "cat_imputation(test_data, 'MasVnrType', 'None')\n",
        "cat_imputation(train_data, 'MasVnrType', 'None')\n",
        "cat_imputation(test_data, 'MasVnrArea', 0.0)\n",
        "cat_imputation(train_data, 'MasVnrArea', 0.0)"
      ]
    },
    {
      "cell_type": "code",
      "execution_count": null,
      "metadata": {
        "_cell_guid": "3a302ff3-1a05-d144-f307-69c727d55838"
      },
      "outputs": [],
      "source": [
        "# basement\n",
        "# train\n",
        "basement_cols = ['BsmtQual', 'BsmtCond', 'BsmtExposure', 'BsmtFinType1', 'BsmtFinType2', 'BsmtFinSF1', 'BsmtFinSF2']\n",
        "# print(train_data[basement_cols][train_data['BsmtQual'].isnull() == True])\n",
        "for cols in basement_cols:\n",
        "    if 'FinFS' not in cols:\n",
        "        cat_imputation(train_data, cols, 'None')\n",
        "\n",
        "# test\n",
        "basement_cols = ['Id', 'BsmtQual', 'BsmtCond', 'BsmtExposure', 'BsmtFinType1', 'BsmtFinType2']\n",
        "# print(test_data[basement_cols][test_data['BsmtCond'].isnull() == True])\n",
        "# \u5176\u4e2d,\u6709\u4e09\u884c\u53ea\u6709BsmtCond\u4e3aNaN,\u8be5\u4e09\u884c\u7684\u5176\u4ed6\u5217\u5747\u6709\u503c  580  725  1064\n",
        "# print(pd.crosstab(test_data.BsmtCond, test_data.BsmtQual))\n",
        "\"\"\"\n",
        "BsmtQual   Ex  Fa   Gd   TA\n",
        "BsmtCond\n",
        "Fa          0  14    7   37\n",
        "Gd         12   2   30   13\n",
        "Po          1   1    0    1\n",
        "TA        124  36  553  581\n",
        "\"\"\"\n",
        "test_data.loc[test_data['Id'] == 580, 'BsmtCond'] = 'TA'\n",
        "test_data.loc[test_data['Id'] == 725, 'BsmtCond'] = 'TA'\n",
        "test_data.loc[test_data['Id'] == 1064, 'BsmtCond'] = 'TA'\n",
        "# \u9664\u4e86\u4e0a\u8ff0\u4e09\u884c\u4e4b\u5916, \u5176\u4ed6\u884c\u7684NaN\u90fd\u662f\u4e00\u6837\u7684\n",
        "for cols in basement_cols:\n",
        "    if cols not in 'SF' and cols not in 'Bath':\n",
        "        test_data.loc[test_data['BsmtFinSF1'] == 0.0, cols] = 'None'\n",
        "for cols in basement_cols:\n",
        "    if test_data[cols].dtype == np.object:\n",
        "        cat_imputation(test_data, cols, 'None')\n",
        "    else:\n",
        "        cat_imputation(test_data, cols, 0.0)\n",
        "cat_imputation(test_data, 'BsmtFinSF1', '0')\n",
        "cat_imputation(test_data, 'BsmtFinSF2', '0')\n",
        "cat_imputation(test_data, 'BsmtUnfSF', '0')\n",
        "cat_imputation(test_data, 'TotalBsmtSF', '0')\n",
        "cat_imputation(test_data, 'BsmtFullBath', '0')\n",
        "cat_imputation(test_data, 'BsmtHalfBath', '0')"
      ]
    },
    {
      "cell_type": "markdown",
      "metadata": {
        "_cell_guid": "999c4d29-12c5-dcce-3d7c-8cd5d2db3a96"
      },
      "source": [
        "\u5bf9\u4e8eBsmtQual\u8fd9\u4e2a\u7279\u5f81\uff0c\u53d6\u503c\u6709 Ex\uff0cGd\uff0cTA\uff0cFa\uff0cPo. \u4ece\u6570\u636e\u7684\u8bf4\u660e\u4e2d\u53ef\u4ee5\u770b\u51fa\uff0c\u8fd9\u4f9d\u6b21\u662f\u4f18\u79c0\uff0c\u597d\uff0c\u6b21\u597d\uff0c\u4e00\u822c\uff0c\u5dee\u51e0\u4e2a\u7b49\u7ea7\uff0c\u8fd9\u5177\u6709\u660e\u663e\u7684\u53ef\u6bd4\u8f83\u6027\uff0c\u53ef\u4ee5\u4f7f\u7528map\u7f16\u7801\u3002\u5982\u4e0b\uff1a"
      ]
    },
    {
      "cell_type": "code",
      "execution_count": null,
      "metadata": {
        "_cell_guid": "fb4eb3f6-0da1-61ed-d593-c89f82a96d87"
      },
      "outputs": [],
      "source": [
        "train_data = train_data.replace({'BsmtQual': {'Ex': 5, 'Gd': 4, 'TA': 3, 'Fa': 2, 'Po': 1, np.NaN: 0}})\n",
        "test_data = test_data.replace({'BsmtQual': {'Ex': 5, 'Gd': 4, 'TA': 3, 'Fa': 2, 'Po': 1, np.NaN: 0}})"
      ]
    },
    {
      "cell_type": "markdown",
      "metadata": {
        "_cell_guid": "76991460-e553-8dac-25ec-6502a1a15426"
      },
      "source": [
        "\u6211\u611f\u89c9\uff0c\u9664\u4e86BsmtQual\u8fd9\u4e2a\u7279\u5f81\u4ee5\u5916\uff0c\u5176\u4ed6\u51e0\u4e2a\u7279\u5f81\uff0c\u6bd4\u5982BsmtCond\uff0cHeatingQC\u7b49\u90fd\u53ef\u4ee5\u5c1d\u8bd5\u7c7b\u4f3c\u7684\u7f16\u7801\u65b9\u5f0f\u3002\u907f\u514d\u4f7f\u7528one-hot\u7f16\u7801\u3002"
      ]
    },
    {
      "cell_type": "code",
      "execution_count": null,
      "metadata": {
        "_cell_guid": "25e8ffcc-c111-35d9-fc02-5c7fba572565"
      },
      "outputs": [],
      "source": [
        "# KitchenQual\n",
        "# \u53ea\u5728\u6d4b\u8bd5\u96c6\u4e2d\u6709\u7f3a\u5931\u503c\n",
        "# cat_exploration(test_data, 'KitchenQual')\n",
        "# cat_exploration(train_data, 'KitchenQual')\n",
        "# print(test_data[['KitchenQual', 'KitchenAbvGr']][test_data['KitchenQual'].isnull() == True])\n",
        "# print(pd.crosstab(test_data.KitchenQual, test_data.KitchenAbvGr))\n",
        "cat_imputation(test_data, 'KitchenQual', 'TA')"
      ]
    },
    {
      "cell_type": "code",
      "execution_count": null,
      "metadata": {
        "_cell_guid": "cb970d56-a2d7-4e6b-0b62-b674c379f073"
      },
      "outputs": [],
      "source": [
        "# Functional\n",
        "# \u53ea\u5728\u6d4b\u8bd5\u96c6\u4e2d\u6709\u7f3a\u5931\u503c\n",
        "# \u586b\u5145\u4e00\u4e2a\u6700\u5e38\u89c1\u7684\u503c\n",
        "# cat_exploration(test_data, 'Functional')\n",
        "cat_imputation(test_data, 'Functional', 'Typ')"
      ]
    },
    {
      "cell_type": "code",
      "execution_count": null,
      "metadata": {
        "_cell_guid": "165fe779-4967-fe35-8023-8dcda981adca"
      },
      "outputs": [],
      "source": [
        "# FireplaceQu & Fireplaces\n",
        "# cat_exploration(test_data, 'FireplaceQu')\n",
        "# cat_exploration(train_data, 'FireplaceQu')\n",
        "# print(test_data['Fireplaces'][test_data['FireplaceQu'].isnull()==True].describe())\n",
        "# print(train_data['Fireplaces'][train_data['FireplaceQu'].isnull() == True].describe())\n",
        "cat_imputation(test_data, 'FireplaceQu', 'None')\n",
        "cat_imputation(train_data, 'FireplaceQu', 'None')"
      ]
    },
    {
      "cell_type": "code",
      "execution_count": null,
      "metadata": {
        "_cell_guid": "af7f5151-55ee-e9e3-e228-d7eecec9ba4a"
      },
      "outputs": [],
      "source": [
        "# Garage\n",
        "# train set\n",
        "garage_cols = ['GarageType', 'GarageQual', 'GarageCond', 'GarageYrBlt', 'GarageFinish', 'GarageCars', 'GarageArea']\n",
        "# print(train_data[garage_cols][train_data['GarageType'].isnull() == True])\n",
        "for cols in garage_cols:\n",
        "    if train_data[cols].dtype == np.object:\n",
        "        cat_imputation(train_data, cols, 'None')\n",
        "    else:\n",
        "        cat_imputation(train_data, cols, 0)\n",
        "\n",
        "# test set\n",
        "garage_cols = ['GarageType', 'GarageQual', 'GarageCond', 'GarageYrBlt', 'GarageFinish', 'GarageCars', 'GarageArea']\n",
        "# print(test_data[garage_cols][test_data['GarageType'].isnull() == True])\n",
        "for cols in garage_cols:\n",
        "    if test_data[cols].dtype == np.object:\n",
        "        cat_imputation(test_data, cols, 'None')\n",
        "    else:\n",
        "        cat_imputation(test_data, cols, 0)"
      ]
    },
    {
      "cell_type": "code",
      "execution_count": null,
      "metadata": {
        "_cell_guid": "619ce0da-23b8-981d-d248-e81d16acf354"
      },
      "outputs": [],
      "source": [
        "# PoolQC\n",
        "# \u4e0d\u6613\u5904\u7406, \u5e76\u4e14\u5206\u5e03\u504f\u5dee\u5927, drop\n",
        "test_data = test_data.drop(['PoolQC'], axis=1)\n",
        "train_data = train_data.drop(['PoolQC'], axis=1)\n",
        "test_data = test_data.drop(['PoolArea'], axis=1)\n",
        "train_data = train_data.drop(['PoolArea'], axis=1)\n"
      ]
    },
    {
      "cell_type": "code",
      "execution_count": null,
      "metadata": {
        "_cell_guid": "225853d6-e60f-e051-8327-7bdef7422a59"
      },
      "outputs": [],
      "source": [
        "# Fence\n",
        "# cat_exploration(test_data, 'Fence')\n",
        "# cat_exploration(train_data, 'Fence')\n",
        "cat_imputation(test_data, 'Fence', 'None')\n",
        "cat_imputation(train_data, 'Fence', 'None')\n",
        "\n",
        "# MiscFeature\n",
        "cat_imputation(test_data, 'MiscFeature', 'None')\n",
        "cat_imputation(train_data, 'MiscFeature', 'None')\n",
        "\n",
        "# SaleType\n",
        "# nans only appear in test set\n",
        "# cat_exploration(test_data, 'SaleType')\n",
        "cat_imputation(test_data, 'SaleType', 'WD')\n",
        "\n",
        "# Electrical\n",
        "# nans only appear in train set\n",
        "# cat_exploration(train_data, 'Electrical')\n",
        "cat_imputation(train_data, 'Electrical', 'SBrkr')\n"
      ]
    },
    {
      "cell_type": "markdown",
      "metadata": {
        "_cell_guid": "d9702022-1469-26c7-b059-9c71758e4ac4"
      },
      "source": [
        "\u5230\u6b64\u4e3a\u6b62\uff0c\u6211\u4eec\u57fa\u672c\u628a\u6240\u6709\u7684\u7f3a\u5931\u503c\u90fd\u586b\u8865\u5b8c\u6574\u4e86\uff0c\u4f46\u662f\u8fd8\u6709\u4e00\u5217MSSubClass\uff0c\u539f\u59cb\u6570\u636e\u7c7b\u578b\u662fint64,\u6211\u5e76\u4e0d\u8ba4\u4e3a\u8fd9\u4e00\u5217\u5177\u6709\u53ef\u6bd4\u6027\uff0c\u6240\u4ee5\u628aMSSubClass\u6620\u5c04\u6210object"
      ]
    },
    {
      "cell_type": "code",
      "execution_count": null,
      "metadata": {
        "_cell_guid": "55e365a9-41f1-b048-ce6b-5bb2132597f6"
      },
      "outputs": [],
      "source": [
        "# convert MSSubClass to object\n",
        "train_data = train_data.replace({\"MSSubClass\": {20: \"A\", 30: \"B\", 40: \"C\", 45: \"D\", 50: \"E\",\n",
        "                                                60: \"F\", 70: \"G\", 75: \"H\", 80: \"I\", 85: \"J\",\n",
        "                                                90: \"K\", 120: \"L\", 150: \"M\", 160: \"N\", 180: \"O\", 190: \"P\"}})\n",
        "test_data = test_data.replace({\"MSSubClass\": {20: \"A\", 30: \"B\", 40: \"C\", 45: \"D\", 50: \"E\",\n",
        "                                              60: \"F\", 70: \"G\", 75: \"H\", 80: \"I\", 85: \"J\",\n",
        "                                              90: \"K\", 120: \"L\", 150: \"M\", 160: \"N\", 180: \"O\", 190: \"P\"}})"
      ]
    },
    {
      "cell_type": "markdown",
      "metadata": {
        "_cell_guid": "33033242-ce72-8e35-f87b-7e972e42d3ea"
      },
      "source": [
        "\u4e4b\u540e\uff0c\u5c06\u6240\u6709categorical\u7c7b\u578b\u7684\u7279\u5f81\u8fdb\u884cone-hot\u7f16\u7801\u3002\u9700\u8981\u6ce8\u610f\u7684\u662f\uff1a\u8bad\u7ec3\u96c6\u548c\u6d4b\u8bd5\u96c6\u4e2d\uff0c\u76f8\u540c\u7684\u5217\u53ef\u80fd\u4f1a\u6709\u4e0d\u540c\u7684\u7c7b\u578b\u9700\u8981\u7edf\u4e00\uff1a\n"
      ]
    },
    {
      "cell_type": "code",
      "execution_count": null,
      "metadata": {
        "_cell_guid": "5f27fcc7-f222-bb28-f295-1eda01956ddc"
      },
      "outputs": [],
      "source": [
        "for col in test_data.columns:\n",
        "    t1 = test_data[col].dtype\n",
        "    t2 = train_data[col].dtype\n",
        "    if t1 != t2:\n",
        "        print(col, t1, t2)\n",
        "\"\"\"\n",
        "Id object int64\n",
        "BsmtFinSF1 object int64\n",
        "BsmtFinSF2 float64 int64\n",
        "BsmtUnfSF float64 int64\n",
        "TotalBsmtSF float64 int64\n",
        "BsmtFullBath float64 int64\n",
        "BsmtHalfBath float64 int64\n",
        "GarageCars float64 int64\n",
        "GarageArea float64 int64\n",
        "\"\"\""
      ]
    },
    {
      "cell_type": "code",
      "execution_count": null,
      "metadata": {
        "_cell_guid": "55542bda-58fe-dfeb-3327-0a25f5fc91ca"
      },
      "outputs": [],
      "source": [
        "# convert to type of int64\n",
        "c = ['BsmtFinSF1', 'BsmtFinSF2', 'BsmtUnfSF', 'TotalBsmtSF', 'BsmtFullBath', 'BsmtHalfBath']\n",
        "for cols in c:\n",
        "    tmp_col = test_data[cols].astype(pd.np.float64)\n",
        "    tmp_col = pd.DataFrame({cols: tmp_col})\n",
        "    del test_data[cols]\n",
        "    test_data = pd.concat((test_data, tmp_col), axis=1)"
      ]
    },
    {
      "cell_type": "markdown",
      "metadata": {
        "_cell_guid": "e16570e2-960b-ccad-7901-4f31f886d2c9"
      },
      "source": [
        "one-hot\u7f16\u7801\uff0cpandas  get_dummies"
      ]
    },
    {
      "cell_type": "code",
      "execution_count": null,
      "metadata": {
        "_cell_guid": "7b596516-60c6-cd01-8d23-5f28a570eeb3"
      },
      "outputs": [],
      "source": [
        "for cols in train_data.columns:\n",
        "    if train_data[cols].dtype == np.object:\n",
        "        train_data = pd.concat((train_data, pd.get_dummies(train_data[cols], prefix=cols)), axis=1)\n",
        "        del train_data[cols]\n",
        "\n",
        "for cols in test_data.columns:\n",
        "    if test_data[cols].dtype == np.object:\n",
        "        test_data = pd.concat((test_data, pd.get_dummies(test_data[cols], prefix=cols)), axis=1)\n",
        "        del test_data[cols]"
      ]
    },
    {
      "cell_type": "markdown",
      "metadata": {
        "_cell_guid": "4dee619e-3550-dc8e-1612-5aea69ad4577"
      },
      "source": [
        "\u8fdb\u884cone-hot\u7f16\u7801\u540e\uff0c\u4f1a\u51fa\u73b0\u4e00\u79cd\u60c5\u51b5\u5c31\u662f\uff1a\u67d0\u4e2a\u7279\u5f81\u7684\u67d0\u4e00\u4e2a\u53d6\u503c\u53ea\u51fa\u73b0\u5728\u8bad\u7ec3\u96c6\u4e2d\uff0c\u6ca1\u6709\u51fa\u73b0\u5728\u6d4b\u8bd5\u96c6\u4e2d\uff0c\u6216\u8005\u76f8\u53cd\uff0c\u8fd9\u4e2a\u65f6\u5019\u9700\u8981\u7279\u5f81\u5bf9\u9f50"
      ]
    },
    {
      "cell_type": "code",
      "execution_count": null,
      "metadata": {
        "_cell_guid": "058773ce-b6a6-7708-f4bb-368cca283682"
      },
      "outputs": [],
      "source": [
        "# \u7279\u5f81\u5bf9\u9f50\n",
        "col_train = train_data.columns\n",
        "col_test = test_data.columns\n",
        "for index in col_train:\n",
        "    if index in col_test:\n",
        "        pass\n",
        "    else:\n",
        "        del train_data[index]\n",
        "\n",
        "col_train = train_data.columns\n",
        "col_test = test_data.columns\n",
        "for index in col_test:\n",
        "    if index in col_train:\n",
        "        pass\n",
        "    else:\n",
        "        del test_data[index]"
      ]
    },
    {
      "cell_type": "markdown",
      "metadata": {
        "_cell_guid": "898b53e1-8aa0-7796-b1a6-cf4a5ed496e8"
      },
      "source": [
        "\u5bf9\u9f50\u540e\u6570\u636e\u6709294\u4e2a\u7279\u5f81\uff0c\u800c\u8bad\u7ec3\u6837\u672c\u53ea\u67091460\u4e2a\uff0c\u76f8\u5bf9\u800c\u8a00\uff0c\u6837\u672c\u6570\u76ee\u504f\u5c11\u3002\u53ef\u901a\u8fc7\u968f\u673a\u68ee\u6797\u7b49\u7b97\u6cd5\uff0c\u5bf9\u7279\u5f81\u505a\u4e00\u6b21\u521d\u6b65\u7684\u9009\u62e9\uff0c\u53d6\u524d100\u5373\u53ef"
      ]
    },
    {
      "cell_type": "code",
      "execution_count": null,
      "metadata": {
        "_cell_guid": "061cf348-4922-9c1e-d380-30956015c1c0"
      },
      "outputs": [],
      "source": [
        "\"\"\"\n",
        "\u7279\u5f81\u91cd\u8981\u6027\u9009\u62e9\n",
        "\"\"\"\n",
        "etr = RandomForestRegressor(n_estimators=400)\n",
        "train_y = train_training_set['SalePrice']\n",
        "train_x = train_training_set.drop(['SalePrice', 'Id'], axis=1)\n",
        "etr.fit(train_x, train_y)\n",
        "# print(etr.feature_importances_)\n",
        "imp = etr.feature_importances_\n",
        "imp = pd.DataFrame({'feature': train_x.columns, 'score': imp})\n",
        "print(imp.sort(['score'], ascending=[0]))  # \u6309\u7167\u7279\u5f81\u91cd\u8981\u6027, \u8fdb\u884c\u964d\u5e8f\u6392\u5217, \u6700\u91cd\u8981\u7684\u7279\u5f81\u5728\u6700\u524d\u9762\n",
        "imp = imp.sort(['score'], ascending=[0])\n",
        "imp.to_csv(\"../feature_importances2.csv\", index=False)"
      ]
    },
    {
      "cell_type": "markdown",
      "metadata": {
        "_cell_guid": "257e8ece-1b92-11f2-0b73-712e31066094"
      },
      "source": [
        "\u9009\u62e9\u51fa\u7684\u7279\u5f81\u91cd\u8981\u6027\u5982\u4e0b\uff1a\n",
        "feature\tscore\n",
        "OverallQual\t0.5799000743690015\n",
        "GrLivArea\t0.10820875312650209\n",
        "TotalBsmtSF\t0.03837705846167602\n",
        "2ndFlrSF\t0.03592784725614217\n",
        "BsmtFinSF1\t0.02883734771640305\n",
        "1stFlrSF\t        0.02209390770590623\n",
        "GarageCars\t0.01957845181770064\n",
        "GarageArea\t0.015546817280099282\n",
        "LotArea\t        0.01343009949254447\n",
        "YearBuilt\t0.010665744211930665\n",
        "TotRmsAbvGrd\t0.007997881761944894\n",
        "YearRemodAdd\t0.007490734554926266\n",
        "LotFrontage\t0.006723088430274712\n",
        "FullBath\t        0.005806831944580276\n",
        "MasVnrArea\t0.00546035892325319\n",
        "BsmtUnfSF\t0.005047811295259738\n",
        "WoodDeckSF\t0.004557271424397398\n",
        "OpenPorchSF\t0.00449570144260445\n",
        "OverallCond\t0.0043676484943912545\n",
        "BsmtQual_5\t0.004270097611559787\n",
        "\n",
        "\u4f7f\u7528GBDT\u9009\u62e9\u51fa\u7684\u7279\u5f81\u91cd\u8981\u6027\u7cfb\u6570\u548cRF\u76f8\u5dee\u4e0d\u5927\uff0c\u603b\u4f53\u8d8b\u52bf\u662f\u4e00\u6837\u7684\u3002\n",
        "\u6a21\u578b\u9009\u62e9\u4f7f\u7528\u7684GBDT\uff0c\u53c2\u6570\u662f\u7ecf\u8fc7\u5f88\u591a\u6b21\u8c03\u8bd5\u5f97\u5230\u7684"
      ]
    },
    {
      "cell_type": "code",
      "execution_count": null,
      "metadata": {
        "_cell_guid": "ae98e984-7d89-c697-aaef-10c87331ad22"
      },
      "outputs": [],
      "source": [
        "gbrt = GradientBoostingRegressor(\n",
        "                random_state=1,\n",
        "                learning_rate=0.015, \n",
        "                min_samples_split=2,\n",
        "                max_features='sqrt',   # \u5206\u88c2\u7684feature\u662f\u968f\u673a\u6311\u9009\u7684\n",
        "                n_estimators=it,\n",
        "                min_samples_leaf=1,\n",
        "                subsample=0.2,\n",
        "                max_depth=3,\n",
        "            )"
      ]
    },
    {
      "cell_type": "markdown",
      "metadata": {
        "_cell_guid": "9555102f-1843-77b8-47b5-6d23fe43a78e"
      },
      "source": [
        "\u76ee\u524d\u6700\u597d\u7684\u6d4b\u8bd5\u7ed3\u679c\u662f0.12207\n",
        "\n"
      ]
    }
  ],
  "metadata": {
    "_change_revision": 0,
    "_is_fork": false,
    "kernelspec": {
      "display_name": "Python 3",
      "language": "python",
      "name": "python3"
    },
    "language_info": {
      "codemirror_mode": {
        "name": "ipython",
        "version": 3
      },
      "file_extension": ".py",
      "mimetype": "text/x-python",
      "name": "python",
      "nbconvert_exporter": "python",
      "pygments_lexer": "ipython3",
      "version": "3.6.0"
    }
  },
  "nbformat": 4,
  "nbformat_minor": 0
}