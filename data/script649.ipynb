{"cells":[
 {
  "cell_type": "markdown",
  "metadata": {},
  "source": "# Exploring Player Stats\n\n> * Author: Eric Couto\n> * Date: 17 July 2016\n\n-------------------\n### Topics:\n> 1. Loading Data\n> 2. Player Tables\n> 3. t-SNE of Players (FIFA Stats)\n> 4. Evolution of the Best Players (top 20)\n"
 },
 {
  "cell_type": "markdown",
  "metadata": {},
  "source": "## 1. Loading Data\n\n>* Connecting to the database and looking at the available tables"
 },
 {
  "cell_type": "code",
  "execution_count": null,
  "metadata": {
   "collapsed": false
  },
  "outputs": [],
  "source": "import sqlite3\nimport pandas as pd\nfrom sklearn.manifold import TSNE\nfrom sklearn.preprocessing import StandardScaler\nfrom bokeh.plotting import figure, ColumnDataSource, show\nfrom bokeh.models import HoverTool\nfrom bokeh.io import output_notebook\nimport matplotlib.pyplot as plt\nimport seaborn as sns\n\n%matplotlib inline\noutput_notebook()\n\ndatabase = '../input/database.sqlite'\nconn = sqlite3.connect(database)\n\nquery = \"SELECT name FROM sqlite_master WHERE type='table';\"\npd.read_sql(query, conn)"
 },
 {
  "cell_type": "markdown",
  "metadata": {},
  "source": "## 2. Player Tables\n\n> * Checking what kind of data are available"
 },
 {
  "cell_type": "code",
  "execution_count": null,
  "metadata": {
   "collapsed": false
  },
  "outputs": [],
  "source": "query = \"SELECT * FROM Player;\"\na = pd.read_sql(query, conn)\na.head()"
 },
 {
  "cell_type": "code",
  "execution_count": null,
  "metadata": {
   "collapsed": false
  },
  "outputs": [],
  "source": "query = \"SELECT * FROM Player_Stats;\"\na = pd.read_sql(query, conn)\na.head()"
 },
 {
  "cell_type": "code",
  "execution_count": null,
  "metadata": {
   "collapsed": false
  },
  "outputs": [],
  "source": "query = \"\"\"SELECT * FROM Player_Stats a\n           INNER JOIN (SELECT player_name, player_api_id AS p_id FROM Player) b ON a.player_api_id = b.p_id;\"\"\"\n\ndrop_cols = ['id','player_fifa_api_id','date_stat','preferred_foot',\n             'attacking_work_rate','defensive_work_rate']\n\nplayers = pd.read_sql(query, conn)\nplayers['date_stat'] = pd.to_datetime(players['date_stat'])\nplayers = players[players.date_stat > pd.datetime(2015,1,1)]\nplayers = players[~players.overall_rating.isnull()].sort_values('date_stat', ascending=False)\nplayers = players.drop_duplicates(subset='player_api_id', keep='first')\nplayers = players.drop(drop_cols, axis=1)\n\nplayers.info()"
 },
 {
  "cell_type": "markdown",
  "metadata": {},
  "source": "## 3. t-SNE of Players (FIFA Stats)\n\n> * Standardization of stats\n> * Dimensionality Reduction using t-SNE: 2 components\n> * Plotting the best players (Overall Rating >=80) in the new space (interactive plots)\n> * Best Players were grouped by attributes -> well separated in clusters of positions: GK, FW, etc"
 },
 {
  "cell_type": "code",
  "execution_count": null,
  "metadata": {
   "collapsed": false
  },
  "outputs": [],
  "source": "players = players.fillna(0)\n\ncols = ['player_api_id','player_name','overall_rating','potential']\nstats_cols = [col for col in players.columns if col not in (cols)]\n\nss = StandardScaler()\ntmp = ss.fit_transform(players[stats_cols])\nmodel = TSNE(n_components=2, random_state=0)\ntsne_comp = model.fit_transform(tmp)"
 },
 {
  "cell_type": "code",
  "execution_count": null,
  "metadata": {
   "collapsed": false
  },
  "outputs": [],
  "source": "tmp = players[cols]\ntmp['comp1'], tmp['comp2'] = tsne_comp[:,0], tsne_comp[:,1]\ntmp = tmp[tmp.overall_rating >= 80]\n\n_tools = 'box_zoom,pan,save,resize,reset,tap,wheel_zoom'\nfig = figure(tools=_tools, title='t-SNE of Players (FIFA stats)', responsive=True,\n             x_axis_label='Component 1', y_axis_label='Component 2')\n\nsource = ColumnDataSource(tmp)\nhover = HoverTool()\nhover.tooltips=[('Jogador','@player_name'),]\nfig.scatter(tmp['comp1'], tmp['comp2'], source=source, size=8, alpha=0.6,\n            line_color='red', fill_color='red')\n\nfig.add_tools(hover)\n\nshow(fig)"
 },
 {
  "cell_type": "markdown",
  "metadata": {},
  "source": "### Distribution of Overall Rating, Potential and Potential Growth\n> * Checking distributions\n> * Plotting potential top players in the new space (interactive plots)"
 },
 {
  "cell_type": "code",
  "execution_count": null,
  "metadata": {
   "collapsed": false
  },
  "outputs": [],
  "source": "sns.kdeplot(players.overall_rating, shade=True, color=\"r\")"
 },
 {
  "cell_type": "code",
  "execution_count": null,
  "metadata": {
   "collapsed": false
  },
  "outputs": [],
  "source": "sns.kdeplot(players.potential, shade=True, color=\"r\")"
 },
 {
  "cell_type": "code",
  "execution_count": null,
  "metadata": {
   "collapsed": false
  },
  "outputs": [],
  "source": "players['potential_growth'] = players.potential - players.overall_rating\nsns.kdeplot(players.potential_growth, shade=True, color=\"r\")"
 },
 {
  "cell_type": "code",
  "execution_count": null,
  "metadata": {
   "collapsed": false
  },
  "outputs": [],
  "source": "tmp = players[cols]\ntmp['comp1'], tmp['comp2'] = tsne_comp[:,0], tsne_comp[:,1]\ntmp['potential_growth'] = tmp.potential - tmp.overall_rating\ntmp = tmp[(tmp.potential_growth >= 5) & (tmp.overall_rating >= 75)]\n\n_tools = 'box_zoom,pan,save,resize,reset,tap,wheel_zoom'\nfig = figure(tools=_tools, title='t-SNE of Potential Top Players (FIFA stats)', responsive=True,\n             x_axis_label='Component 1', y_axis_label='Component 2')\n\nsource = ColumnDataSource(tmp)\nhover = HoverTool()\nhover.tooltips=[('Jogador','@player_name'),]\nfig.scatter(tmp['comp1'], tmp['comp2'], source=source, size=8, alpha=0.6,\n            line_color='red', fill_color='red')\n\nfig.add_tools(hover)\n\nshow(fig)"
 },
 {
  "cell_type": "markdown",
  "metadata": {},
  "source": "## 3. Evolution of the Best Players (top20)\n\n> * How was the evolution of the best players?"
 },
 {
  "cell_type": "code",
  "execution_count": null,
  "metadata": {
   "collapsed": false
  },
  "outputs": [],
  "source": "players = players.sort_values('overall_rating', ascending=False)\nbest_players = players[['player_api_id','player_name']].head(20)\nids = tuple(best_players.player_api_id.unique())\n\nquery = '''SELECT player_api_id, date_stat, overall_rating, potential\n           FROM Player_Stats WHERE player_api_id in %s''' % (ids,)\n\nevolution = pd.read_sql(query, conn)\nevolution = pd.merge(evolution, best_players)\nevolution['year'] = evolution.date_stat.str[:4].apply(int)\nevolution = evolution.groupby(['year','player_api_id','player_name']).overall_rating.mean()\nevolution = evolution.reset_index()\n\nevolution.head()"
 },
 {
  "cell_type": "code",
  "execution_count": null,
  "metadata": {
   "collapsed": false
  },
  "outputs": [],
  "source": "a = sns.factorplot(data=evolution[evolution.player_api_id.isin(ids[0:5])], x='year',\n                   y='overall_rating', hue='player_name', size=6, aspect=2)"
 },
 {
  "cell_type": "code",
  "execution_count": null,
  "metadata": {
   "collapsed": false
  },
  "outputs": [],
  "source": "a = sns.factorplot(data=evolution[evolution.player_api_id.isin(ids[5:10])], x='year',\n                   y='overall_rating', hue='player_name', size=6, aspect=2)"
 },
 {
  "cell_type": "code",
  "execution_count": null,
  "metadata": {
   "collapsed": false
  },
  "outputs": [],
  "source": "a = sns.factorplot(data=evolution[evolution.player_api_id.isin(ids[10:15])], x='year',\n                   y='overall_rating', hue='player_name', size=6, aspect=2)"
 },
 {
  "cell_type": "code",
  "execution_count": null,
  "metadata": {
   "collapsed": false
  },
  "outputs": [],
  "source": "a = sns.factorplot(data=evolution[evolution.player_api_id.isin(ids[15:20])], x='year',\n                   y='overall_rating', hue='player_name', size=6, aspect=2)"
 }
],"metadata":{"kernelspec":{"display_name":"Python 3","language":"python","name":"python3"}}, "nbformat": 4, "nbformat_minor": 0}