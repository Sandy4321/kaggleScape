{
 "cells": [
  {
   "cell_type": "code",
   "execution_count": 26,
   "metadata": {},
   "outputs": [],
   "source": [
    "from bs4 import BeautifulSoup\n",
    "import requests\n",
    "from urllib.request import urlopen, urlretrieve\n",
    "from selenium import webdriver\n",
    "from tqdm import tqdm\n",
    "import os, re, time, random\n",
    "from multiprocessing.dummy import Pool as ThreadPool\n",
    "import multiprocessing\n",
    "import pandas as pd"
   ]
  },
  {
   "cell_type": "markdown",
   "metadata": {},
   "source": [
    "# Analyze Pandas usage in Kaggle Kernels"
   ]
  },
  {
   "cell_type": "markdown",
   "metadata": {},
   "source": [
    "## 1. Get urls of top kernels by vote"
   ]
  },
  {
   "cell_type": "code",
   "execution_count": 2,
   "metadata": {},
   "outputs": [],
   "source": [
    "soup = BeautifulSoup(open(\"site/Kernels _ Kaggle.htm\"), \"html.parser\")"
   ]
  },
  {
   "cell_type": "code",
   "execution_count": 3,
   "metadata": {},
   "outputs": [],
   "source": [
    "kernel_links = [a['href'] + '/code' for a in soup.find_all(\"a\", class_=\"block-link__anchor\")]"
   ]
  },
  {
   "cell_type": "markdown",
   "metadata": {},
   "source": [
    "## 2. Get url of code files from kernels page"
   ]
  },
  {
   "cell_type": "code",
   "execution_count": 4,
   "metadata": {},
   "outputs": [],
   "source": [
    "THREADS = 1\n",
    "browsers = [webdriver.Chrome('/Users/adithya/Documents/university/research/scrapingKaggle/chromedriver') for _ in range(THREADS)]\n",
    "pool = ThreadPool(THREADS)\n",
    "blacklist = ['https://www.kaggle.com/stkbailey/teaching-notebook-for-total-imaging-newbies/code']"
   ]
  },
  {
   "cell_type": "code",
   "execution_count": 5,
   "metadata": {},
   "outputs": [],
   "source": [
    "def get_code_from_kernel(kernel_link):\n",
    "    if kernel_link in blacklist:\n",
    "        return None\n",
    "    browser = browsers[random.randint(0, THREADS - 1)]\n",
    "    try:\n",
    "        browser.get(kernel_link)\n",
    "        innerHTML = browser.execute_script(\"return document.body.innerHTML\")\n",
    "        soup = BeautifulSoup(innerHTML, 'html.parser')\n",
    "\n",
    "        link = soup.find_all(\"a\", class_=\"script-code-pane__download\")[0]['href']\n",
    "\n",
    "        print(\"S\")\n",
    "        \n",
    "        return link\n",
    "    except Exception as e:\n",
    "        print(\"E\", e)\n",
    "        return None"
   ]
  },
  {
   "cell_type": "code",
   "execution_count": 6,
   "metadata": {
    "scrolled": false
   },
   "outputs": [
    {
     "name": "stdout",
     "output_type": "stream",
     "text": [
      "S\n",
      "S\n",
      "S\n",
      "S\n",
      "S\n"
     ]
    }
   ],
   "source": [
    "#code_links_write = pool.map(get_code_from_kernel, kernel_links)\n",
    "code_links_write = [get_code_from_kernel(kl) for kl in kernel_links[:5]]"
   ]
  },
  {
   "cell_type": "code",
   "execution_count": 7,
   "metadata": {},
   "outputs": [
    {
     "data": {
      "text/plain": [
       "['/kernels/scriptcontent/2020416/download',\n",
       " '/kernels/scriptcontent/3123055/download',\n",
       " '/kernels/scriptcontent/2368078/download',\n",
       " '/kernels/scriptcontent/928737/download',\n",
       " '/kernels/scriptcontent/3205416/download']"
      ]
     },
     "execution_count": 7,
     "metadata": {},
     "output_type": "execute_result"
    }
   ],
   "source": [
    "code_links_write"
   ]
  },
  {
   "cell_type": "code",
   "execution_count": 11,
   "metadata": {},
   "outputs": [],
   "source": [
    "code_file_write = open('code_links.txt', 'w')\n",
    "for code_link in code_links_write:\n",
    "    code_file_write.write(\"%s\\n\" % code_link)"
   ]
  },
  {
   "cell_type": "code",
   "execution_count": 18,
   "metadata": {},
   "outputs": [],
   "source": [
    "code_links_read = []\n",
    "with open('code_links.txt', 'r') as code_file_read:\n",
    "    code_links_read = code_file_read.read().splitlines()"
   ]
  },
  {
   "cell_type": "code",
   "execution_count": 19,
   "metadata": {},
   "outputs": [
    {
     "data": {
      "text/plain": [
       "['https://www.kaggle.com/kernels/scriptcontent/2020416/download',\n",
       " 'https://www.kaggle.com/kernels/scriptcontent/3123055/download',\n",
       " 'https://www.kaggle.com/kernels/scriptcontent/2368078/download',\n",
       " 'https://www.kaggle.com/kernels/scriptcontent/928737/download',\n",
       " 'https://www.kaggle.com/kernels/scriptcontent/3205416/download']"
      ]
     },
     "execution_count": 19,
     "metadata": {},
     "output_type": "execute_result"
    }
   ],
   "source": [
    "code_links = ['https://www.kaggle.com' + cl for cl in code_links_read]\n",
    "code_links[:5]"
   ]
  },
  {
   "cell_type": "markdown",
   "metadata": {},
   "source": [
    "## 3. Pull raw code file to local dir"
   ]
  },
  {
   "cell_type": "code",
   "execution_count": 20,
   "metadata": {
    "scrolled": true
   },
   "outputs": [
    {
     "name": "stderr",
     "output_type": "stream",
     "text": [
      "\r",
      "  0%|          | 0/5 [00:00<?, ?it/s]"
     ]
    },
    {
     "name": "stdout",
     "output_type": "stream",
     "text": [
      "--2018-04-14 11:47:23--  https://www.kaggle.com/kernels/scriptcontent/2020416/download\n",
      "Resolving www.kaggle.com (www.kaggle.com)... 168.62.224.124\n",
      "Connecting to www.kaggle.com (www.kaggle.com)|168.62.224.124|:443... connected.\n",
      "HTTP request sent, awaiting response... 200 OK\n",
      "Length: 16932 (17K) [application/octet-stream]\n",
      "Saving to: ‘data/script.Rmd’\n",
      "\n",
      "script.Rmd          100%[===================>]  16.54K  --.-KB/s    in 0.06s   \n",
      "\n",
      "2018-04-14 11:47:25 (298 KB/s) - ‘data/script.Rmd’ saved [16932/16932]\n",
      "\n"
     ]
    },
    {
     "name": "stderr",
     "output_type": "stream",
     "text": [
      "\r",
      " 20%|██        | 1/5 [00:01<00:07,  1.97s/it]"
     ]
    },
    {
     "name": "stdout",
     "output_type": "stream",
     "text": [
      "--2018-04-14 11:47:25--  https://www.kaggle.com/kernels/scriptcontent/3123055/download\n",
      "Resolving www.kaggle.com (www.kaggle.com)... 168.62.224.124\n",
      "Connecting to www.kaggle.com (www.kaggle.com)|168.62.224.124|:443... connected.\n",
      "HTTP request sent, awaiting response... 200 OK\n",
      "Length: 48677 (48K) [application/octet-stream]\n",
      "Saving to: ‘data/script.ipynb’\n",
      "\n",
      "script.ipynb        100%[===================>]  47.54K  --.-KB/s    in 0.06s   \n",
      "\n",
      "2018-04-14 11:47:26 (754 KB/s) - ‘data/script.ipynb’ saved [48677/48677]\n",
      "\n"
     ]
    },
    {
     "name": "stderr",
     "output_type": "stream",
     "text": [
      "\r",
      " 40%|████      | 2/5 [00:02<00:03,  1.24s/it]"
     ]
    },
    {
     "name": "stdout",
     "output_type": "stream",
     "text": [
      "--2018-04-14 11:47:26--  https://www.kaggle.com/kernels/scriptcontent/2368078/download\n",
      "Resolving www.kaggle.com (www.kaggle.com)... 168.62.224.124\n",
      "Connecting to www.kaggle.com (www.kaggle.com)|168.62.224.124|:443... connected.\n",
      "HTTP request sent, awaiting response... 200 OK\n",
      "Length: 237024 (231K) [application/octet-stream]\n",
      "Saving to: ‘data/script.ipynb.1’\n",
      "\n",
      "script.ipynb.1      100%[===================>] 231.47K  1.18MB/s    in 0.2s    \n",
      "\n",
      "2018-04-14 11:47:27 (1.18 MB/s) - ‘data/script.ipynb.1’ saved [237024/237024]\n",
      "\n"
     ]
    },
    {
     "name": "stderr",
     "output_type": "stream",
     "text": [
      "\r",
      " 60%|██████    | 3/5 [00:03<00:02,  1.14s/it]"
     ]
    },
    {
     "name": "stdout",
     "output_type": "stream",
     "text": [
      "--2018-04-14 11:47:27--  https://www.kaggle.com/kernels/scriptcontent/928737/download\n",
      "Resolving www.kaggle.com (www.kaggle.com)... 168.62.224.124\n",
      "Connecting to www.kaggle.com (www.kaggle.com)|168.62.224.124|:443... connected.\n",
      "HTTP request sent, awaiting response... 200 OK\n",
      "Length: 23763 (23K) [application/octet-stream]\n",
      "Saving to: ‘data/script.ipynb.2’\n",
      "\n",
      "script.ipynb.2      100%[===================>]  23.21K  --.-KB/s    in 0.06s   \n",
      "\n",
      "2018-04-14 11:47:27 (402 KB/s) - ‘data/script.ipynb.2’ saved [23763/23763]\n",
      "\n"
     ]
    },
    {
     "name": "stderr",
     "output_type": "stream",
     "text": [
      "\r",
      " 80%|████████  | 4/5 [00:03<00:00,  1.02it/s]"
     ]
    },
    {
     "name": "stdout",
     "output_type": "stream",
     "text": [
      "--2018-04-14 11:47:27--  https://www.kaggle.com/kernels/scriptcontent/3205416/download\n",
      "Resolving www.kaggle.com (www.kaggle.com)... 168.62.224.124\n",
      "Connecting to www.kaggle.com (www.kaggle.com)|168.62.224.124|:443... connected.\n",
      "HTTP request sent, awaiting response... 200 OK\n",
      "Length: 60456 (59K) [application/octet-stream]\n",
      "Saving to: ‘data/script.ipynb.3’\n",
      "\n",
      "script.ipynb.3      100%[===================>]  59.04K  --.-KB/s    in 0.1s    \n",
      "\n",
      "2018-04-14 11:47:28 (511 KB/s) - ‘data/script.ipynb.3’ saved [60456/60456]\n",
      "\n"
     ]
    },
    {
     "name": "stderr",
     "output_type": "stream",
     "text": [
      "100%|██████████| 5/5 [00:04<00:00,  1.10it/s]\n"
     ]
    }
   ],
   "source": [
    "for code_link in tqdm(code_links):\n",
    "    !wget --content-disposition $code_link -P data"
   ]
  },
  {
   "cell_type": "markdown",
   "metadata": {},
   "source": [
    "## 4. Clean non-Python files from downloaded"
   ]
  },
  {
   "cell_type": "code",
   "execution_count": 21,
   "metadata": {},
   "outputs": [],
   "source": [
    "for filename in os.listdir(\"data\"):\n",
    "    if filename == \".DS_Store\":\n",
    "        pass\n",
    "    \n",
    "    name_parts = filename.split(\".\")\n",
    "    if len(name_parts) == 2:\n",
    "        name_parts.append(\"0\")\n",
    "        \n",
    "    if name_parts[1] in ['ipynb', 'py']:\n",
    "        new_name = name_parts[0] + name_parts[2] + \".\" + name_parts[1]\n",
    "        new_name = 'r' + new_name if name_parts[1] == 'py' else new_name\n",
    "        os.rename('data/' + filename, 'data/' + new_name)\n",
    "\n",
    "    else:\n",
    "        os.remove('data/' + filename)"
   ]
  },
  {
   "cell_type": "markdown",
   "metadata": {},
   "source": [
    "## Tokenize Notebooks and Scripts"
   ]
  },
  {
   "cell_type": "code",
   "execution_count": 22,
   "metadata": {},
   "outputs": [],
   "source": [
    "# Analyze python script\n",
    "def parse_script(script_name):\n",
    "    with open(script_name) as script_file:\n",
    "        code = script_file.read().splitlines()\n",
    "\n",
    "    ps = []\n",
    "    for line in code:\n",
    "        p = [word for word in line.split(\" \") if word.startswith(\"pd\")]\n",
    "        ps += p\n",
    "\n",
    "    cleaned_ps = []\n",
    "    for occ in ps:\n",
    "        if occ != 'pd' and '(' in occ:\n",
    "            cleaned_ps.append(occ[:occ.index('(')])\n",
    "            \n",
    "    # (TODO) Add modules from import\n",
    "    return cleaned_ps"
   ]
  },
  {
   "cell_type": "code",
   "execution_count": 23,
   "metadata": {},
   "outputs": [
    {
     "name": "stdout",
     "output_type": "stream",
     "text": [
      "[NbConvertApp] Converting notebook data/script0.ipynb to python\n",
      "[NbConvertApp] Writing 32874 bytes to data/script0.py\n",
      "[NbConvertApp] Converting notebook data/script1.ipynb to python\n",
      "[NbConvertApp] Writing 29921 bytes to data/script1.py\n",
      "[NbConvertApp] Converting notebook data/script2.ipynb to python\n",
      "[NbConvertApp] Writing 14727 bytes to data/script2.py\n",
      "[NbConvertApp] Converting notebook data/script3.ipynb to python\n",
      "[NbConvertApp] Writing 29733 bytes to data/script3.py\n"
     ]
    }
   ],
   "source": [
    "all_methods = []\n",
    "for filename in os.listdir(\"data\"):\n",
    "    if filename.split(\".\")[1] == 'py':\n",
    "        all_methods += parse_script('data/' + filename)\n",
    "    else:\n",
    "        pfilename = 'data/' + filename\n",
    "        cfilename = filename.split(\".\")[0] + '.py'\n",
    "        !jupyter nbconvert --to=python $pfilename\n",
    "        time.sleep(1)\n",
    "        try:\n",
    "            all_methods += parse_script('data/' + cfilename)\n",
    "        except:\n",
    "            pass"
   ]
  },
  {
   "cell_type": "code",
   "execution_count": 24,
   "metadata": {},
   "outputs": [],
   "source": [
    "methodFreq = {}\n",
    "methods_write = open('methods.txt', 'w')\n",
    "for method in all_methods:\n",
    "    if method not in methodFreq:\n",
    "        methodFreq[method] = 0\n",
    "    methodFreq[method] += 1\n",
    "        \n",
    "    methods_write.write(\"%s\\n\" % method)"
   ]
  },
  {
   "cell_type": "code",
   "execution_count": 29,
   "metadata": {},
   "outputs": [
    {
     "data": {
      "text/html": [
       "<div>\n",
       "<style scoped>\n",
       "    .dataframe tbody tr th:only-of-type {\n",
       "        vertical-align: middle;\n",
       "    }\n",
       "\n",
       "    .dataframe tbody tr th {\n",
       "        vertical-align: top;\n",
       "    }\n",
       "\n",
       "    .dataframe thead th {\n",
       "        text-align: right;\n",
       "    }\n",
       "</style>\n",
       "<table border=\"1\" class=\"dataframe\">\n",
       "  <thead>\n",
       "    <tr style=\"text-align: right;\">\n",
       "      <th></th>\n",
       "      <th>0</th>\n",
       "    </tr>\n",
       "  </thead>\n",
       "  <tbody>\n",
       "    <tr>\n",
       "      <th>pd.read_csv</th>\n",
       "      <td>8</td>\n",
       "    </tr>\n",
       "    <tr>\n",
       "      <th>pd.concat</th>\n",
       "      <td>9</td>\n",
       "    </tr>\n",
       "    <tr>\n",
       "      <th>pd.Series</th>\n",
       "      <td>1</td>\n",
       "    </tr>\n",
       "    <tr>\n",
       "      <th>pd.get_dummies</th>\n",
       "      <td>1</td>\n",
       "    </tr>\n",
       "    <tr>\n",
       "      <th>pd.qcut</th>\n",
       "      <td>1</td>\n",
       "    </tr>\n",
       "    <tr>\n",
       "      <th>pd.cut</th>\n",
       "      <td>1</td>\n",
       "    </tr>\n",
       "    <tr>\n",
       "      <th>pd.DataFrame</th>\n",
       "      <td>5</td>\n",
       "    </tr>\n",
       "    <tr>\n",
       "      <th>pd.melt</th>\n",
       "      <td>2</td>\n",
       "    </tr>\n",
       "    <tr>\n",
       "      <th>pd.to_datetime</th>\n",
       "      <td>2</td>\n",
       "    </tr>\n",
       "  </tbody>\n",
       "</table>\n",
       "</div>"
      ],
      "text/plain": [
       "                0\n",
       "pd.read_csv     8\n",
       "pd.concat       9\n",
       "pd.Series       1\n",
       "pd.get_dummies  1\n",
       "pd.qcut         1\n",
       "pd.cut          1\n",
       "pd.DataFrame    5\n",
       "pd.melt         2\n",
       "pd.to_datetime  2"
      ]
     },
     "execution_count": 29,
     "metadata": {},
     "output_type": "execute_result"
    }
   ],
   "source": [
    "mFreq = pd.DataFrame.from_dict(methodFreq, 'index')\n",
    "mFreq"
   ]
  },
  {
   "cell_type": "code",
   "execution_count": null,
   "metadata": {},
   "outputs": [],
   "source": []
  }
 ],
 "metadata": {
  "kernelspec": {
   "display_name": "Python 3",
   "language": "python",
   "name": "python3"
  },
  "language_info": {
   "codemirror_mode": {
    "name": "ipython",
    "version": 3
   },
   "file_extension": ".py",
   "mimetype": "text/x-python",
   "name": "python",
   "nbconvert_exporter": "python",
   "pygments_lexer": "ipython3",
   "version": "3.6.4"
  }
 },
 "nbformat": 4,
 "nbformat_minor": 2
}
